{
  "cells": [
    {
      "cell_type": "markdown",
      "metadata": {
        "id": "1atQIthOqnop"
      },
      "source": [
        "# Train a model with Classical Training\n",
        "\n",
        "Although episodic training has attracted a lot of interest in the early years of Few-Shot Learning research, more recent works suggest that competitive results can be achieved with a simple cross entropy loss across all training classes. Therefore, it is becoming more and more common to use this classical process to train the backbone, that will be common to all methods compared at test time.\n",
        "\n",
        "This is in fact more representative of real use cases: episodic training assumes that, at training time, you have access to the shape of the few-shot tasks that will be encountered at test time (indeed you choose a specific number of ways for episodic training). You also \"force\" your inference method into the training of the network. Switching the few-shot learning logic to inference (i.e. no episodic training) allows methods to be agnostic of the backbone.\n",
        "\n",
        "Nonetheless, if you need to perform episodic training, we also provide [an example notebook](episodic_training.ipynb) for that."
      ]
    },
    {
      "cell_type": "markdown",
      "metadata": {
        "id": "axL7cV71qnoz"
      },
      "source": [
        "## Getting started\n",
        "First we're going to do some imports (this is not the interesting part)."
      ]
    },
    {
      "cell_type": "code",
      "execution_count": 1,
      "metadata": {
        "id": "MwkBm5_5tKw7"
      },
      "outputs": [],
      "source": [
        "try:\n",
        "    import google.colab\n",
        "    colab = True\n",
        "except:\n",
        "    colab = False"
      ]
    },
    {
      "cell_type": "code",
      "execution_count": 2,
      "metadata": {
        "colab": {
          "base_uri": "https://localhost:8080/"
        },
        "id": "-fnXeQdysyXW",
        "outputId": "5e780417-3d9b-4d29-ad12-9d7e2008b267"
      },
      "outputs": [
        {
          "name": "stdout",
          "output_type": "stream",
          "text": [
            "Cloning into 'easy-few-shot-learning'...\n",
            "remote: Enumerating objects: 827, done.\u001b[K\n",
            "remote: Counting objects: 100% (288/288), done.\u001b[K\n",
            "remote: Compressing objects: 100% (162/162), done.\u001b[K\n",
            "remote: Total 827 (delta 165), reused 169 (delta 123), pack-reused 539\u001b[K\n",
            "Receiving objects: 100% (827/827), 2.21 MiB | 3.21 MiB/s, done.\n",
            "Resolving deltas: 100% (455/455), done.\n",
            "/content/easy-few-shot-learning\n",
            "Looking in indexes: https://pypi.org/simple, https://us-python.pkg.dev/colab-wheels/public/simple/\n",
            "Processing /content/easy-few-shot-learning\n",
            "\u001b[33m  DEPRECATION: A future pip version will change local packages to be built in-place without first copying to a temporary directory. We recommend you use --use-feature=in-tree-build to test your packages with this new behavior before it becomes the default.\n",
            "   pip 21.3 will remove support for this functionality. You can find discussion regarding this at https://github.com/pypa/pip/issues/7555.\u001b[0m\n",
            "Requirement already satisfied: matplotlib>=3.0.0 in /usr/local/lib/python3.7/dist-packages (from easyfsl==1.0.1) (3.2.2)\n",
            "Requirement already satisfied: pandas>=1.1.0 in /usr/local/lib/python3.7/dist-packages (from easyfsl==1.0.1) (1.3.5)\n",
            "Requirement already satisfied: torch>=1.4.0 in /usr/local/lib/python3.7/dist-packages (from easyfsl==1.0.1) (1.12.1+cu113)\n",
            "Requirement already satisfied: torchvision>=0.7.0 in /usr/local/lib/python3.7/dist-packages (from easyfsl==1.0.1) (0.13.1+cu113)\n",
            "Requirement already satisfied: tqdm>=4.1.0 in /usr/local/lib/python3.7/dist-packages (from easyfsl==1.0.1) (4.64.0)\n",
            "Requirement already satisfied: cycler>=0.10 in /usr/local/lib/python3.7/dist-packages (from matplotlib>=3.0.0->easyfsl==1.0.1) (0.11.0)\n",
            "Requirement already satisfied: python-dateutil>=2.1 in /usr/local/lib/python3.7/dist-packages (from matplotlib>=3.0.0->easyfsl==1.0.1) (2.8.2)\n",
            "Requirement already satisfied: pyparsing!=2.0.4,!=2.1.2,!=2.1.6,>=2.0.1 in /usr/local/lib/python3.7/dist-packages (from matplotlib>=3.0.0->easyfsl==1.0.1) (3.0.9)\n",
            "Requirement already satisfied: kiwisolver>=1.0.1 in /usr/local/lib/python3.7/dist-packages (from matplotlib>=3.0.0->easyfsl==1.0.1) (1.4.4)\n",
            "Requirement already satisfied: numpy>=1.11 in /usr/local/lib/python3.7/dist-packages (from matplotlib>=3.0.0->easyfsl==1.0.1) (1.21.6)\n",
            "Requirement already satisfied: typing-extensions in /usr/local/lib/python3.7/dist-packages (from kiwisolver>=1.0.1->matplotlib>=3.0.0->easyfsl==1.0.1) (4.1.1)\n",
            "Requirement already satisfied: pytz>=2017.3 in /usr/local/lib/python3.7/dist-packages (from pandas>=1.1.0->easyfsl==1.0.1) (2022.2.1)\n",
            "Requirement already satisfied: six>=1.5 in /usr/local/lib/python3.7/dist-packages (from python-dateutil>=2.1->matplotlib>=3.0.0->easyfsl==1.0.1) (1.15.0)\n",
            "Requirement already satisfied: pillow!=8.3.*,>=5.3.0 in /usr/local/lib/python3.7/dist-packages (from torchvision>=0.7.0->easyfsl==1.0.1) (7.1.2)\n",
            "Requirement already satisfied: requests in /usr/local/lib/python3.7/dist-packages (from torchvision>=0.7.0->easyfsl==1.0.1) (2.23.0)\n",
            "Requirement already satisfied: certifi>=2017.4.17 in /usr/local/lib/python3.7/dist-packages (from requests->torchvision>=0.7.0->easyfsl==1.0.1) (2022.6.15)\n",
            "Requirement already satisfied: urllib3!=1.25.0,!=1.25.1,<1.26,>=1.21.1 in /usr/local/lib/python3.7/dist-packages (from requests->torchvision>=0.7.0->easyfsl==1.0.1) (1.24.3)\n",
            "Requirement already satisfied: chardet<4,>=3.0.2 in /usr/local/lib/python3.7/dist-packages (from requests->torchvision>=0.7.0->easyfsl==1.0.1) (3.0.4)\n",
            "Requirement already satisfied: idna<3,>=2.5 in /usr/local/lib/python3.7/dist-packages (from requests->torchvision>=0.7.0->easyfsl==1.0.1) (2.10)\n",
            "Building wheels for collected packages: easyfsl\n",
            "  Building wheel for easyfsl (setup.py) ... \u001b[?25l\u001b[?25hdone\n",
            "  Created wheel for easyfsl: filename=easyfsl-1.0.1-py3-none-any.whl size=45218 sha256=48ff8bd3f83a19d1c8b44e3d7448f97978e7c2b6adf35c5b3284d2e5d5b69c44\n",
            "  Stored in directory: /root/.cache/pip/wheels/5e/de/0e/7603c726fee560b68de2eda4a57b311a71a4a25f586c5cebd5\n",
            "Successfully built easyfsl\n",
            "Installing collected packages: easyfsl\n",
            "Successfully installed easyfsl-1.0.1\n"
          ]
        }
      ],
      "source": [
        "if colab is True:\n",
        "    # Running in Google Colab\n",
        "    # Clone the repo\n",
        "    !git clone https://github.com/sicara/easy-few-shot-learning\n",
        "    %cd easy-few-shot-learning\n",
        "    !pip install .\n",
        "else:\n",
        "    # Run locally\n",
        "    # Ensure working directory is the project's root\n",
        "    # Make sure easyfsl is installed!\n",
        "    %cd .."
      ]
    },
    {
      "cell_type": "code",
      "execution_count": 3,
      "metadata": {
        "id": "gZ8bXCqpqno0",
        "pycharm": {
          "name": "#%%\n"
        }
      },
      "outputs": [],
      "source": [
        "from pathlib import Path\n",
        "import random\n",
        "from statistics import mean\n",
        "\n",
        "import numpy as np\n",
        "import torch\n",
        "from torch import nn\n",
        "from tqdm import tqdm"
      ]
    },
    {
      "cell_type": "markdown",
      "metadata": {
        "id": "50xGcwMrqno3"
      },
      "source": [
        "Then we're gonna do the most important thing in Machine Learning research: ensuring reproducibility by setting the random seed. We're going to set the seed for all random packages that we could possibly use, plus some other stuff to make CUDA deterministic (see [here](https://pytorch.org/docs/stable/notes/randomness.html)).\n",
        "\n",
        "I strongly encourage that you do this in **all your scripts**."
      ]
    },
    {
      "cell_type": "code",
      "execution_count": 4,
      "metadata": {
        "id": "vpqXEWt8qno4",
        "pycharm": {
          "name": "#%%\n"
        }
      },
      "outputs": [],
      "source": [
        "random_seed = 0\n",
        "np.random.seed(random_seed)\n",
        "torch.manual_seed(random_seed)\n",
        "random.seed(random_seed)\n",
        "torch.backends.cudnn.deterministic = True\n",
        "torch.backends.cudnn.benchmark = False"
      ]
    },
    {
      "cell_type": "markdown",
      "metadata": {
        "id": "xW257QB4qno5",
        "pycharm": {
          "name": "#%% md\n"
        }
      },
      "source": [
        "Then we're gonna create our data loader for the training set. You can see that I chose tu use CUB in this notebook, because it’s a small dataset, so we can have good results quite quickly. I set a batch size of 128 but feel free to adapt it to your constraints.\n",
        "\n",
        "Note that we're not using the `TaskSampler` for the train data loader, because we won't be sampling training data in the shape of tasks as we would have in episodic training. We do it **normally**."
      ]
    },
    {
      "cell_type": "code",
      "execution_count": 5,
      "metadata": {
        "colab": {
          "base_uri": "https://localhost:8080/"
        },
        "id": "L0qMlS_at91K",
        "outputId": "bc3d202b-cf61-4dcf-a2e3-45bdf205b79b"
      },
      "outputs": [
        {
          "name": "stdout",
          "output_type": "stream",
          "text": [
            "\u001b[1;30;43mStreaming output truncated to the last 5000 lines.\u001b[0m\n",
            "images/167.Hooded_Warbler/Hooded_Warbler_0024_2654633686.jpg\n",
            "images/167.Hooded_Warbler/Hooded_Warbler_0025_2690306769.jpg\n",
            "images/167.Hooded_Warbler/Hooded_Warbler_0026_2817738193.jpg\n",
            "images/166.Golden_winged_Warbler/Golden_winged_Warbler_0001_495149583.jpg\n",
            "images/166.Golden_winged_Warbler/Golden_winged_Warbler_0002_2471636465.jpg\n",
            "images/166.Golden_winged_Warbler/Golden_winged_Warbler_0003_2540117270.jpg\n",
            "images/166.Golden_winged_Warbler/Golden_winged_Warbler_0004_2301685839.jpg\n",
            "images/166.Golden_winged_Warbler/Golden_winged_Warbler_0005_498814033.jpg\n",
            "images/166.Golden_winged_Warbler/Golden_winged_Warbler_0006_2519317376.jpg\n",
            "images/166.Golden_winged_Warbler/Golden_winged_Warbler_0007_2468962218.jpg\n",
            "images/166.Golden_winged_Warbler/Golden_winged_Warbler_0008_2464457843.jpg\n",
            "images/166.Golden_winged_Warbler/Golden_winged_Warbler_0009_2591413864.jpg\n",
            "images/166.Golden_winged_Warbler/Golden_winged_Warbler_0010_2316599673.jpg\n",
            "images/166.Golden_winged_Warbler/Golden_winged_Warbler_0011_2317407918.jpg\n",
            "images/166.Golden_winged_Warbler/Golden_winged_Warbler_0012_2316598975.jpg\n",
            "images/166.Golden_winged_Warbler/Golden_winged_Warbler_0013_392418672.jpg\n",
            "images/166.Golden_winged_Warbler/Golden_winged_Warbler_0014_2896481930.jpg\n",
            "images/166.Golden_winged_Warbler/Golden_winged_Warbler_0015_2895642459.jpg\n",
            "images/166.Golden_winged_Warbler/Golden_winged_Warbler_0016_2895643579.jpg\n",
            "images/166.Golden_winged_Warbler/Golden_winged_Warbler_0017_2895643009.jpg\n",
            "images/166.Golden_winged_Warbler/Golden_winged_Warbler_0018_2507666617.jpg\n",
            "images/166.Golden_winged_Warbler/Golden_winged_Warbler_0019_2654634804.jpg\n",
            "images/166.Golden_winged_Warbler/Golden_winged_Warbler_0020_2508494492.jpg\n",
            "images/166.Golden_winged_Warbler/Golden_winged_Warbler_0021_2507666467.jpg\n",
            "images/166.Golden_winged_Warbler/Golden_winged_Warbler_0022_2507667229.jpg\n",
            "images/166.Golden_winged_Warbler/Golden_winged_Warbler_0023_2489764877.jpg\n",
            "images/166.Golden_winged_Warbler/Golden_winged_Warbler_0024_2501123056.jpg\n",
            "images/166.Golden_winged_Warbler/Golden_winged_Warbler_0025_2501121376.jpg\n",
            "images/166.Golden_winged_Warbler/Golden_winged_Warbler_0026_1348631442.jpg\n",
            "images/166.Golden_winged_Warbler/Golden_winged_Warbler_0027_2494039215.jpg\n",
            "images/166.Golden_winged_Warbler/Golden_winged_Warbler_0028_1236870078.jpg\n",
            "images/166.Golden_winged_Warbler/Golden_winged_Warbler_0029_495530911.jpg\n",
            "images/166.Golden_winged_Warbler/Golden_winged_Warbler_0030_520345206.jpg\n",
            "images/166.Golden_winged_Warbler/Golden_winged_Warbler_0031_2554720574.jpg\n",
            "images/166.Golden_winged_Warbler/Golden_winged_Warbler_0032_520358253.jpg\n",
            "images/166.Golden_winged_Warbler/Golden_winged_Warbler_0033_2494038833.jpg\n",
            "images/166.Golden_winged_Warbler/Golden_winged_Warbler_0034_1347737145.jpg\n",
            "images/165.Chestnut_sided_Warbler/Chestnut_sided_Warbler_0001_266484882.jpg\n",
            "images/165.Chestnut_sided_Warbler/Chestnut_sided_Warbler_0002_2461934072.jpg\n",
            "images/165.Chestnut_sided_Warbler/Chestnut_sided_Warbler_0003_29499504.jpg\n",
            "images/165.Chestnut_sided_Warbler/Chestnut_sided_Warbler_0004_2146684073.jpg\n",
            "images/165.Chestnut_sided_Warbler/Chestnut_sided_Warbler_0005_2534880954.jpg\n",
            "images/165.Chestnut_sided_Warbler/Chestnut_sided_Warbler_0006_141303976.jpg\n",
            "images/165.Chestnut_sided_Warbler/Chestnut_sided_Warbler_0007_xxx.jpg\n",
            "images/165.Chestnut_sided_Warbler/Chestnut_sided_Warbler_0008_2500150635.jpg\n",
            "images/165.Chestnut_sided_Warbler/Chestnut_sided_Warbler_0009_2502856863.jpg\n",
            "images/165.Chestnut_sided_Warbler/Chestnut_sided_Warbler_0010_211439670.jpg\n",
            "images/165.Chestnut_sided_Warbler/Chestnut_sided_Warbler_0011_2574836742.jpg\n",
            "images/165.Chestnut_sided_Warbler/Chestnut_sided_Warbler_0012_2503688492.jpg\n",
            "images/165.Chestnut_sided_Warbler/Chestnut_sided_Warbler_0013_1288239984.jpg\n",
            "images/165.Chestnut_sided_Warbler/Chestnut_sided_Warbler_0014_2515061386.jpg\n",
            "images/165.Chestnut_sided_Warbler/Chestnut_sided_Warbler_0015_2523239162.jpg\n",
            "images/165.Chestnut_sided_Warbler/Chestnut_sided_Warbler_0016_2561065240.jpg\n",
            "images/165.Chestnut_sided_Warbler/Chestnut_sided_Warbler_0017_2526112636.jpg\n",
            "images/165.Chestnut_sided_Warbler/Chestnut_sided_Warbler_0018_1755798667.jpg\n",
            "images/165.Chestnut_sided_Warbler/Chestnut_sided_Warbler_0019_2479640066.jpg\n",
            "images/165.Chestnut_sided_Warbler/Chestnut_sided_Warbler_0020_2492580874.jpg\n",
            "images/165.Chestnut_sided_Warbler/Chestnut_sided_Warbler_0021_2563446454.jpg\n",
            "images/165.Chestnut_sided_Warbler/Chestnut_sided_Warbler_0022_2492962265.jpg\n",
            "images/165.Chestnut_sided_Warbler/Chestnut_sided_Warbler_0023_1988396803.jpg\n",
            "images/165.Chestnut_sided_Warbler/Chestnut_sided_Warbler_0024_506683687.jpg\n",
            "images/165.Chestnut_sided_Warbler/Chestnut_sided_Warbler_0025_899770693.jpg\n",
            "images/165.Chestnut_sided_Warbler/Chestnut_sided_Warbler_0026_497210450.jpg\n",
            "images/165.Chestnut_sided_Warbler/Chestnut_sided_Warbler_0027_497237807.jpg\n",
            "images/165.Chestnut_sided_Warbler/Chestnut_sided_Warbler_0028_2531121516.jpg\n",
            "images/165.Chestnut_sided_Warbler/Chestnut_sided_Warbler_0029_150759811.jpg\n",
            "images/164.Cerulean_Warbler/Cerulean_Warbler_0001_526668322.jpg\n",
            "images/164.Cerulean_Warbler/Cerulean_Warbler_0002_2575525044.jpg\n",
            "images/164.Cerulean_Warbler/Cerulean_Warbler_0003_2540118076.jpg\n",
            "images/164.Cerulean_Warbler/Cerulean_Warbler_0004_2103896579.jpg\n",
            "images/164.Cerulean_Warbler/Cerulean_Warbler_0005_xxx.jpg\n",
            "images/164.Cerulean_Warbler/Cerulean_Warbler_0006_xxx.jpg\n",
            "images/164.Cerulean_Warbler/Cerulean_Warbler_0007_518557488.jpg\n",
            "images/164.Cerulean_Warbler/Cerulean_Warbler_0008_2513907655.jpg\n",
            "images/164.Cerulean_Warbler/Cerulean_Warbler_0009_906444639.jpg\n",
            "images/164.Cerulean_Warbler/Cerulean_Warbler_0010_162160468.jpg\n",
            "images/164.Cerulean_Warbler/Cerulean_Warbler_0011_69462946.jpg\n",
            "images/164.Cerulean_Warbler/Cerulean_Warbler_0012_506658371.jpg\n",
            "images/164.Cerulean_Warbler/Cerulean_Warbler_0013_323630026.jpg\n",
            "images/164.Cerulean_Warbler/Cerulean_Warbler_0014_69462944.jpg\n",
            "images/164.Cerulean_Warbler/Cerulean_Warbler_0015_2512980662.jpg\n",
            "images/164.Cerulean_Warbler/Cerulean_Warbler_0016_xxx.jpg\n",
            "images/164.Cerulean_Warbler/Cerulean_Warbler_0017_xxx.jpg\n",
            "images/164.Cerulean_Warbler/Cerulean_Warbler_0018_2497310429.jpg\n",
            "images/164.Cerulean_Warbler/Cerulean_Warbler_0019_xxx.jpg\n",
            "images/164.Cerulean_Warbler/Cerulean_Warbler_0020_2548783516.jpg\n",
            "images/164.Cerulean_Warbler/Cerulean_Warbler_0021_2701321087.jpg\n",
            "images/164.Cerulean_Warbler/Cerulean_Warbler_0022_2658928684.jpg\n",
            "images/164.Cerulean_Warbler/Cerulean_Warbler_0023_2658102093.jpg\n",
            "images/164.Cerulean_Warbler/Cerulean_Warbler_0024_2654638614.jpg\n",
            "images/164.Cerulean_Warbler/Cerulean_Warbler_0025_xxx.jpg\n",
            "images/164.Cerulean_Warbler/Cerulean_Warbler_0026_2488286646.jpg\n",
            "images/163.Cape_May_Warbler/Cape_May_Warbler_0001_2502157181.jpg\n",
            "images/163.Cape_May_Warbler/Cape_May_Warbler_0002_2502157193.jpg\n",
            "images/163.Cape_May_Warbler/Cape_May_Warbler_0003_24833741.jpg\n",
            "images/163.Cape_May_Warbler/Cape_May_Warbler_0004_512726047.jpg\n",
            "images/163.Cape_May_Warbler/Cape_May_Warbler_0005_2472005896.jpg\n",
            "images/163.Cape_May_Warbler/Cape_May_Warbler_0006_149565710.jpg\n",
            "images/163.Cape_May_Warbler/Cape_May_Warbler_0007_1356152020.jpg\n",
            "images/163.Cape_May_Warbler/Cape_May_Warbler_0008_2755203071.jpg\n",
            "images/163.Cape_May_Warbler/Cape_May_Warbler_0009_2756042702.jpg\n",
            "images/163.Cape_May_Warbler/Cape_May_Warbler_0010_2481131307.jpg\n",
            "images/163.Cape_May_Warbler/Cape_May_Warbler_0011_3083234917.jpg\n",
            "images/163.Cape_May_Warbler/Cape_May_Warbler_0012_2409542690.jpg\n",
            "images/163.Cape_May_Warbler/Cape_May_Warbler_0013_59210379.jpg\n",
            "images/163.Cape_May_Warbler/Cape_May_Warbler_0014_502722102.jpg\n",
            "images/163.Cape_May_Warbler/Cape_May_Warbler_0015_xxx.jpg\n",
            "images/163.Cape_May_Warbler/Cape_May_Warbler_0016_1473111503.jpg\n",
            "images/163.Cape_May_Warbler/Cape_May_Warbler_0017_480588814.jpg\n",
            "images/163.Cape_May_Warbler/Cape_May_Warbler_0018_2469638982.jpg\n",
            "images/163.Cape_May_Warbler/Cape_May_Warbler_0019_1143436395.jpg\n",
            "images/163.Cape_May_Warbler/Cape_May_Warbler_0020_2671586517.jpg\n",
            "images/163.Cape_May_Warbler/Cape_May_Warbler_0021_2654627258.jpg\n",
            "images/163.Cape_May_Warbler/Cape_May_Warbler_0022_2653801085.jpg\n",
            "images/163.Cape_May_Warbler/Cape_May_Warbler_0023_59210520.jpg\n",
            "images/163.Cape_May_Warbler/Cape_May_Warbler_0024_150760578.jpg\n",
            "images/163.Cape_May_Warbler/Cape_May_Warbler_0025_2484403649.jpg\n",
            "images/163.Cape_May_Warbler/Cape_May_Warbler_0026_xxx.jpg\n",
            "images/163.Cape_May_Warbler/Cape_May_Warbler_0027_xxx.jpg\n",
            "images/163.Cape_May_Warbler/Cape_May_Warbler_0028_xxx.jpg\n",
            "images/163.Cape_May_Warbler/Cape_May_Warbler_0029_601216780.jpg\n",
            "images/163.Cape_May_Warbler/Cape_May_Warbler_0030_2460503684.jpg\n",
            "images/163.Cape_May_Warbler/Cape_May_Warbler_0031_2592812748.jpg\n",
            "images/163.Cape_May_Warbler/Cape_May_Warbler_0032_600807075.jpg\n",
            "images/163.Cape_May_Warbler/Cape_May_Warbler_0033_xxx.jpg\n",
            "images/163.Cape_May_Warbler/Cape_May_Warbler_0034_2460503628.jpg\n",
            "images/163.Cape_May_Warbler/Cape_May_Warbler_0035_2508656935.jpg\n",
            "images/162.Canada_Warbler/Canada_Warbler_0001_2495535649.jpg\n",
            "images/162.Canada_Warbler/Canada_Warbler_0002_2529931098.jpg\n",
            "images/162.Canada_Warbler/Canada_Warbler_0003_2509806963.jpg\n",
            "images/162.Canada_Warbler/Canada_Warbler_0004_2530218943.jpg\n",
            "images/162.Canada_Warbler/Canada_Warbler_0005_887179386.jpg\n",
            "images/162.Canada_Warbler/Canada_Warbler_0006_2693948200.jpg\n",
            "images/162.Canada_Warbler/Canada_Warbler_0007_2693139833.jpg\n",
            "images/162.Canada_Warbler/Canada_Warbler_0008_506852385.jpg\n",
            "images/162.Canada_Warbler/Canada_Warbler_0009_2223655173.jpg\n",
            "images/162.Canada_Warbler/Canada_Warbler_0010_2554294781.jpg\n",
            "images/162.Canada_Warbler/Canada_Warbler_0011_xxx.jpg\n",
            "images/162.Canada_Warbler/Canada_Warbler_0012_2895708513.jpg\n",
            "images/162.Canada_Warbler/Canada_Warbler_0013_333114491.jpg\n",
            "images/162.Canada_Warbler/Canada_Warbler_0014_2693136273.jpg\n",
            "images/162.Canada_Warbler/Canada_Warbler_0015_2693135953.jpg\n",
            "images/162.Canada_Warbler/Canada_Warbler_0016_xxx.jpg\n",
            "images/162.Canada_Warbler/Canada_Warbler_0017_2693134325.jpg\n",
            "images/162.Canada_Warbler/Canada_Warbler_0018_3046314747.jpg\n",
            "images/162.Canada_Warbler/Canada_Warbler_0019_3046311673.jpg\n",
            "images/162.Canada_Warbler/Canada_Warbler_0020_2529196345.jpg\n",
            "images/162.Canada_Warbler/Canada_Warbler_0021_2529199697.jpg\n",
            "images/162.Canada_Warbler/Canada_Warbler_0022_538698268.jpg\n",
            "images/162.Canada_Warbler/Canada_Warbler_0023_24833740.jpg\n",
            "images/162.Canada_Warbler/Canada_Warbler_0024_508687587.jpg\n",
            "images/162.Canada_Warbler/Canada_Warbler_0025_500338214.jpg\n",
            "images/162.Canada_Warbler/Canada_Warbler_0026_166213100.jpg\n",
            "images/162.Canada_Warbler/Canada_Warbler_0027_528973155.jpg\n",
            "images/162.Canada_Warbler/Canada_Warbler_0028_2888534298.jpg\n",
            "images/162.Canada_Warbler/Canada_Warbler_0029_154761982.jpg\n",
            "images/162.Canada_Warbler/Canada_Warbler_0030_2504254028.jpg\n",
            "images/162.Canada_Warbler/Canada_Warbler_0031_248527892.jpg\n",
            "images/162.Canada_Warbler/Canada_Warbler_0032_508686135.jpg\n",
            "images/162.Canada_Warbler/Canada_Warbler_0033_689000063.jpg\n",
            "images/162.Canada_Warbler/Canada_Warbler_0034_2506498949.jpg\n",
            "images/162.Canada_Warbler/Canada_Warbler_0035_510042365.jpg\n",
            "images/162.Canada_Warbler/Canada_Warbler_0036_539553932.jpg\n",
            "images/161.Blue_winged_Warbler/Blue_winged_Warbler_0001_2820542218.jpg\n",
            "images/161.Blue_winged_Warbler/Blue_winged_Warbler_0002_2545961769.jpg\n",
            "images/161.Blue_winged_Warbler/Blue_winged_Warbler_0003_2819695775.jpg\n",
            "images/161.Blue_winged_Warbler/Blue_winged_Warbler_0004_116551219.jpg\n",
            "images/161.Blue_winged_Warbler/Blue_winged_Warbler_0005_1465332379.jpg\n",
            "images/161.Blue_winged_Warbler/Blue_winged_Warbler_0006_2966091434.jpg\n",
            "images/161.Blue_winged_Warbler/Blue_winged_Warbler_0007_2468916855.jpg\n",
            "images/161.Blue_winged_Warbler/Blue_winged_Warbler_0008_2541534432.jpg\n",
            "images/161.Blue_winged_Warbler/Blue_winged_Warbler_0009_2541534434.jpg\n",
            "images/161.Blue_winged_Warbler/Blue_winged_Warbler_0010_3097145338.jpg\n",
            "images/161.Blue_winged_Warbler/Blue_winged_Warbler_0011_2521539056.jpg\n",
            "images/161.Blue_winged_Warbler/Blue_winged_Warbler_0012_3009077537.jpg\n",
            "images/161.Blue_winged_Warbler/Blue_winged_Warbler_0013_1305564305.jpg\n",
            "images/161.Blue_winged_Warbler/Blue_winged_Warbler_0014_503989136.jpg\n",
            "images/161.Blue_winged_Warbler/Blue_winged_Warbler_0015_2522401883.jpg\n",
            "images/161.Blue_winged_Warbler/Blue_winged_Warbler_0016_493024382.jpg\n",
            "images/161.Blue_winged_Warbler/Blue_winged_Warbler_0017_856129539.jpg\n",
            "images/161.Blue_winged_Warbler/Blue_winged_Warbler_0018_533326627.jpg\n",
            "images/161.Blue_winged_Warbler/Blue_winged_Warbler_0019_2487986396.jpg\n",
            "images/161.Blue_winged_Warbler/Blue_winged_Warbler_0020_534943371.jpg\n",
            "images/161.Blue_winged_Warbler/Blue_winged_Warbler_0021_859531950.jpg\n",
            "images/161.Blue_winged_Warbler/Blue_winged_Warbler_0022_494751942.jpg\n",
            "images/161.Blue_winged_Warbler/Blue_winged_Warbler_0023_2529088798.jpg\n",
            "images/161.Blue_winged_Warbler/Blue_winged_Warbler_0024_147710414.jpg\n",
            "images/161.Blue_winged_Warbler/Blue_winged_Warbler_0025_859531940.jpg\n",
            "images/161.Blue_winged_Warbler/Blue_winged_Warbler_0026_2833833434.jpg\n",
            "images/161.Blue_winged_Warbler/Blue_winged_Warbler_0027_2927621347.jpg\n",
            "images/161.Blue_winged_Warbler/Blue_winged_Warbler_0028_1988388399.jpg\n",
            "images/161.Blue_winged_Warbler/Blue_winged_Warbler_0029_483777253.jpg\n",
            "images/161.Blue_winged_Warbler/Blue_winged_Warbler_0030_443032909.jpg\n",
            "images/161.Blue_winged_Warbler/Blue_winged_Warbler_0031_1989197116.jpg\n",
            "images/161.Blue_winged_Warbler/Blue_winged_Warbler_0032_2512152591.jpg\n",
            "images/161.Blue_winged_Warbler/Blue_winged_Warbler_0033_509938634.jpg\n",
            "images/161.Blue_winged_Warbler/Blue_winged_Warbler_0034_1544543765.jpg\n",
            "images/161.Blue_winged_Warbler/Blue_winged_Warbler_0035_2522401451.jpg\n",
            "images/160.Black_throated_Blue_Warbler/Black_throated_Blue_Warbler_0001_2809000710.jpg\n",
            "images/160.Black_throated_Blue_Warbler/Black_throated_Blue_Warbler_0002_227789431.jpg\n",
            "images/160.Black_throated_Blue_Warbler/Black_throated_Blue_Warbler_0003_2917544598.jpg\n",
            "images/160.Black_throated_Blue_Warbler/Black_throated_Blue_Warbler_0004_2473110810.jpg\n",
            "images/160.Black_throated_Blue_Warbler/Black_throated_Blue_Warbler_0005_2879183445.jpg\n",
            "images/160.Black_throated_Blue_Warbler/Black_throated_Blue_Warbler_0006_2979151433.jpg\n",
            "images/160.Black_throated_Blue_Warbler/Black_throated_Blue_Warbler_0007_2916700989.jpg\n",
            "images/160.Black_throated_Blue_Warbler/Black_throated_Blue_Warbler_0008_2966090836.jpg\n",
            "images/160.Black_throated_Blue_Warbler/Black_throated_Blue_Warbler_0009_2880017654.jpg\n",
            "images/160.Black_throated_Blue_Warbler/Black_throated_Blue_Warbler_0010_xxx.jpg\n",
            "images/160.Black_throated_Blue_Warbler/Black_throated_Blue_Warbler_0011_2880014334.jpg\n",
            "images/160.Black_throated_Blue_Warbler/Black_throated_Blue_Warbler_0012_2917543822.jpg\n",
            "images/160.Black_throated_Blue_Warbler/Black_throated_Blue_Warbler_0013_190366889.jpg\n",
            "images/160.Black_throated_Blue_Warbler/Black_throated_Blue_Warbler_0014_1172779899.jpg\n",
            "images/160.Black_throated_Blue_Warbler/Black_throated_Blue_Warbler_0015_xxx.jpg\n",
            "images/160.Black_throated_Blue_Warbler/Black_throated_Blue_Warbler_0016_xxx.jpg\n",
            "images/160.Black_throated_Blue_Warbler/Black_throated_Blue_Warbler_0017_688075025.jpg\n",
            "images/160.Black_throated_Blue_Warbler/Black_throated_Blue_Warbler_0018_2884043593.jpg\n",
            "images/160.Black_throated_Blue_Warbler/Black_throated_Blue_Warbler_0019_2302453262.jpg\n",
            "images/160.Black_throated_Blue_Warbler/Black_throated_Blue_Warbler_0020_2952055886.jpg\n",
            "images/160.Black_throated_Blue_Warbler/Black_throated_Blue_Warbler_0021_480647302.jpg\n",
            "images/160.Black_throated_Blue_Warbler/Black_throated_Blue_Warbler_0022_2724460457.jpg\n",
            "images/159.Black_and_white_Warbler/Black_and_white_Warbler_0001_xxx.jpg\n",
            "images/159.Black_and_white_Warbler/Black_and_white_Warbler_0002_1562071549.jpg\n",
            "images/159.Black_and_white_Warbler/Black_and_white_Warbler_0003_2983861619.jpg\n",
            "images/159.Black_and_white_Warbler/Black_and_white_Warbler_0004_274275455.jpg\n",
            "images/159.Black_and_white_Warbler/Black_and_white_Warbler_0005_2616009617.jpg\n",
            "images/159.Black_and_white_Warbler/Black_and_white_Warbler_0006_2616835922.jpg\n",
            "images/159.Black_and_white_Warbler/Black_and_white_Warbler_0007_2616836094.jpg\n",
            "images/159.Black_and_white_Warbler/Black_and_white_Warbler_0008_29497275.jpg\n",
            "images/159.Black_and_white_Warbler/Black_and_white_Warbler_0009_2381890645.jpg\n",
            "images/159.Black_and_white_Warbler/Black_and_white_Warbler_0010_2227561440.jpg\n",
            "images/159.Black_and_white_Warbler/Black_and_white_Warbler_0011_2806628914.jpg\n",
            "images/159.Black_and_white_Warbler/Black_and_white_Warbler_0012_2880019066.jpg\n",
            "images/159.Black_and_white_Warbler/Black_and_white_Warbler_0013_2502712427.jpg\n",
            "images/159.Black_and_white_Warbler/Black_and_white_Warbler_0014_1358356600.jpg\n",
            "images/159.Black_and_white_Warbler/Black_and_white_Warbler_0015_2481704096.jpg\n",
            "images/159.Black_and_white_Warbler/Black_and_white_Warbler_0016_532383488.jpg\n",
            "images/159.Black_and_white_Warbler/Black_and_white_Warbler_0017_3029645867.jpg\n",
            "images/159.Black_and_white_Warbler/Black_and_white_Warbler_0018_2880018054.jpg\n",
            "images/159.Black_and_white_Warbler/Black_and_white_Warbler_0019_2805778923.jpg\n",
            "images/159.Black_and_white_Warbler/Black_and_white_Warbler_0020_2880016658.jpg\n",
            "images/159.Black_and_white_Warbler/Black_and_white_Warbler_0021_532383480.jpg\n",
            "images/159.Black_and_white_Warbler/Black_and_white_Warbler_0022_2805778699.jpg\n",
            "images/159.Black_and_white_Warbler/Black_and_white_Warbler_0023_532383478.jpg\n",
            "images/159.Black_and_white_Warbler/Black_and_white_Warbler_0024_2880015246.jpg\n",
            "images/159.Black_and_white_Warbler/Black_and_white_Warbler_0025_2880016252.jpg\n",
            "images/159.Black_and_white_Warbler/Black_and_white_Warbler_0026_2502711631.jpg\n",
            "images/159.Black_and_white_Warbler/Black_and_white_Warbler_0027_2502712121.jpg\n",
            "images/159.Black_and_white_Warbler/Black_and_white_Warbler_0028_2431565259.jpg\n",
            "images/159.Black_and_white_Warbler/Black_and_white_Warbler_0029_498765940.jpg\n",
            "images/159.Black_and_white_Warbler/Black_and_white_Warbler_0030_2879180513.jpg\n",
            "images/159.Black_and_white_Warbler/Black_and_white_Warbler_0031_2227548998.jpg\n",
            "images/159.Black_and_white_Warbler/Black_and_white_Warbler_0032_140031851.jpg\n",
            "images/159.Black_and_white_Warbler/Black_and_white_Warbler_0033_2811562119.jpg\n",
            "images/159.Black_and_white_Warbler/Black_and_white_Warbler_0034_2513137677.jpg\n",
            "images/159.Black_and_white_Warbler/Black_and_white_Warbler_0035_2863180151.jpg\n",
            "images/158.Bay_breasted_Warbler/Bay_breasted_Warbler_0001_2538221803.jpg\n",
            "images/158.Bay_breasted_Warbler/Bay_breasted_Warbler_0002_146587823.jpg\n",
            "images/158.Bay_breasted_Warbler/Bay_breasted_Warbler_0003_496057333.jpg\n",
            "images/158.Bay_breasted_Warbler/Bay_breasted_Warbler_0004_496025312.jpg\n",
            "images/158.Bay_breasted_Warbler/Bay_breasted_Warbler_0005_2528291944.jpg\n",
            "images/158.Bay_breasted_Warbler/Bay_breasted_Warbler_0006_2558964359.jpg\n",
            "images/158.Bay_breasted_Warbler/Bay_breasted_Warbler_0007_2527477687.jpg\n",
            "images/158.Bay_breasted_Warbler/Bay_breasted_Warbler_0008_2240883636.jpg\n",
            "images/158.Bay_breasted_Warbler/Bay_breasted_Warbler_0009_500315598.jpg\n",
            "images/158.Bay_breasted_Warbler/Bay_breasted_Warbler_0010_3099365442.jpg\n",
            "images/158.Bay_breasted_Warbler/Bay_breasted_Warbler_0011_511504279.jpg\n",
            "images/158.Bay_breasted_Warbler/Bay_breasted_Warbler_0012_507721763.jpg\n",
            "images/158.Bay_breasted_Warbler/Bay_breasted_Warbler_0013_497079368.jpg\n",
            "images/158.Bay_breasted_Warbler/Bay_breasted_Warbler_0014_497079362.jpg\n",
            "images/158.Bay_breasted_Warbler/Bay_breasted_Warbler_0015_2401724494.jpg\n",
            "images/158.Bay_breasted_Warbler/Bay_breasted_Warbler_0016_506708330.jpg\n",
            "images/158.Bay_breasted_Warbler/Bay_breasted_Warbler_0017_509973578.jpg\n",
            "images/158.Bay_breasted_Warbler/Bay_breasted_Warbler_0018_500314630.jpg\n",
            "images/158.Bay_breasted_Warbler/Bay_breasted_Warbler_0019_2537142964.jpg\n",
            "images/158.Bay_breasted_Warbler/Bay_breasted_Warbler_0020_149614921.jpg\n",
            "images/158.Bay_breasted_Warbler/Bay_breasted_Warbler_0021_2494702973.jpg\n",
            "images/158.Bay_breasted_Warbler/Bay_breasted_Warbler_0022_505090264.jpg\n",
            "images/158.Bay_breasted_Warbler/Bay_breasted_Warbler_0023_328077730.jpg\n",
            "images/158.Bay_breasted_Warbler/Bay_breasted_Warbler_0024_2515193698.jpg\n",
            "images/158.Bay_breasted_Warbler/Bay_breasted_Warbler_0025_211976112.jpg\n",
            "images/158.Bay_breasted_Warbler/Bay_breasted_Warbler_0026_1269052108.jpg\n",
            "images/158.Bay_breasted_Warbler/Bay_breasted_Warbler_0027_2536784649.jpg\n",
            "images/158.Bay_breasted_Warbler/Bay_breasted_Warbler_0028_152328928.jpg\n",
            "images/158.Bay_breasted_Warbler/Bay_breasted_Warbler_0029_3046266176.jpg\n",
            "images/158.Bay_breasted_Warbler/Bay_breasted_Warbler_0030_2465487083.jpg\n",
            "images/158.Bay_breasted_Warbler/Bay_breasted_Warbler_0031_3045429863.jpg\n",
            "images/158.Bay_breasted_Warbler/Bay_breasted_Warbler_0032_2465493337.jpg\n",
            "images/157.Yellow_throated_Vireo/Yellow_throated_Vireo_0001_2203180324.jpg\n",
            "images/157.Yellow_throated_Vireo/Yellow_throated_Vireo_0002_2204209504.jpg\n",
            "images/157.Yellow_throated_Vireo/Yellow_throated_Vireo_0003_59209019.jpg\n",
            "images/157.Yellow_throated_Vireo/Yellow_throated_Vireo_0004_451848729.jpg\n",
            "images/157.Yellow_throated_Vireo/Yellow_throated_Vireo_0005_2487545363.jpg\n",
            "images/157.Yellow_throated_Vireo/Yellow_throated_Vireo_0006_2868434609.jpg\n",
            "images/157.Yellow_throated_Vireo/Yellow_throated_Vireo_0007_147252880.jpg\n",
            "images/157.Yellow_throated_Vireo/Yellow_throated_Vireo_0008_1427906123.jpg\n",
            "images/157.Yellow_throated_Vireo/Yellow_throated_Vireo_0009_145356122.jpg\n",
            "images/157.Yellow_throated_Vireo/Yellow_throated_Vireo_0010_1403836833.jpg\n",
            "images/157.Yellow_throated_Vireo/Yellow_throated_Vireo_0011_2652052295.jpg\n",
            "images/157.Yellow_throated_Vireo/Yellow_throated_Vireo_0012_2974826690.jpg\n",
            "images/157.Yellow_throated_Vireo/Yellow_throated_Vireo_0013_59214895.jpg\n",
            "images/157.Yellow_throated_Vireo/Yellow_throated_Vireo_0014_2490159607.jpg\n",
            "images/157.Yellow_throated_Vireo/Yellow_throated_Vireo_0015_310535492.jpg\n",
            "images/157.Yellow_throated_Vireo/Yellow_throated_Vireo_0016_59214900.jpg\n",
            "images/157.Yellow_throated_Vireo/Yellow_throated_Vireo_0017_2490159421.jpg\n",
            "images/157.Yellow_throated_Vireo/Yellow_throated_Vireo_0018_2490976788.jpg\n",
            "images/157.Yellow_throated_Vireo/Yellow_throated_Vireo_0019_2292498228.jpg\n",
            "images/157.Yellow_throated_Vireo/Yellow_throated_Vireo_0020_2291714043.jpg\n",
            "images/157.Yellow_throated_Vireo/Yellow_throated_Vireo_0021_2515346125.jpg\n",
            "images/157.Yellow_throated_Vireo/Yellow_throated_Vireo_0022_2496136378.jpg\n",
            "images/157.Yellow_throated_Vireo/Yellow_throated_Vireo_0023_2493745826.jpg\n",
            "images/157.Yellow_throated_Vireo/Yellow_throated_Vireo_0024_141589030.jpg\n",
            "images/157.Yellow_throated_Vireo/Yellow_throated_Vireo_0025_2627877897.jpg\n",
            "images/157.Yellow_throated_Vireo/Yellow_throated_Vireo_0026_1799401970.jpg\n",
            "images/157.Yellow_throated_Vireo/Yellow_throated_Vireo_0027_1798559999.jpg\n",
            "images/157.Yellow_throated_Vireo/Yellow_throated_Vireo_0028_2495485933.jpg\n",
            "images/157.Yellow_throated_Vireo/Yellow_throated_Vireo_0029_2495485493.jpg\n",
            "images/157.Yellow_throated_Vireo/Yellow_throated_Vireo_0030_134378733.jpg\n",
            "images/157.Yellow_throated_Vireo/Yellow_throated_Vireo_0031_2496310376.jpg\n",
            "images/156.White_eyed_Vireo/White_eyed_Vireo_0001_2264348087.jpg\n",
            "images/156.White_eyed_Vireo/White_eyed_Vireo_0002_2946629241.jpg\n",
            "images/156.White_eyed_Vireo/White_eyed_Vireo_0003_xxx.jpg\n",
            "images/156.White_eyed_Vireo/White_eyed_Vireo_0004_2453288754.jpg\n",
            "images/156.White_eyed_Vireo/White_eyed_Vireo_0005_2480481563.jpg\n",
            "images/156.White_eyed_Vireo/White_eyed_Vireo_0006_464021485.jpg\n",
            "images/156.White_eyed_Vireo/White_eyed_Vireo_0007_2530183262.jpg\n",
            "images/156.White_eyed_Vireo/White_eyed_Vireo_0008_2452441667.jpg\n",
            "images/156.White_eyed_Vireo/White_eyed_Vireo_0009_2471638203.jpg\n",
            "images/156.White_eyed_Vireo/White_eyed_Vireo_0010_2193256659.jpg\n",
            "images/156.White_eyed_Vireo/White_eyed_Vireo_0011_2935036502.jpg\n",
            "images/156.White_eyed_Vireo/White_eyed_Vireo_0012_469066899.jpg\n",
            "images/156.White_eyed_Vireo/White_eyed_Vireo_0013_2191468922.jpg\n",
            "images/156.White_eyed_Vireo/White_eyed_Vireo_0014_163976129.jpg\n",
            "images/156.White_eyed_Vireo/White_eyed_Vireo_0015_2453270354.jpg\n",
            "images/156.White_eyed_Vireo/White_eyed_Vireo_0016_2531439217.jpg\n",
            "images/156.White_eyed_Vireo/White_eyed_Vireo_0017_2576116854.jpg\n",
            "images/156.White_eyed_Vireo/White_eyed_Vireo_0018_2838008750.jpg\n",
            "images/156.White_eyed_Vireo/White_eyed_Vireo_0019_156824638.jpg\n",
            "images/156.White_eyed_Vireo/White_eyed_Vireo_0020_3083009361.jpg\n",
            "images/156.White_eyed_Vireo/White_eyed_Vireo_0021_2530597342.jpg\n",
            "images/156.White_eyed_Vireo/White_eyed_Vireo_0022_451686549.jpg\n",
            "images/156.White_eyed_Vireo/White_eyed_Vireo_0023_453359282.jpg\n",
            "images/156.White_eyed_Vireo/White_eyed_Vireo_0024_2926988216.jpg\n",
            "images/156.White_eyed_Vireo/White_eyed_Vireo_0025_2130549219.jpg\n",
            "images/156.White_eyed_Vireo/White_eyed_Vireo_0026_2377420062.jpg\n",
            "images/156.White_eyed_Vireo/White_eyed_Vireo_0027_480407852.jpg\n",
            "images/156.White_eyed_Vireo/White_eyed_Vireo_0028_1141456152.jpg\n",
            "images/156.White_eyed_Vireo/White_eyed_Vireo_0029_2936284046.jpg\n",
            "images/156.White_eyed_Vireo/White_eyed_Vireo_0030_2532003115.jpg\n",
            "images/156.White_eyed_Vireo/White_eyed_Vireo_0031_333089705.jpg\n",
            "images/156.White_eyed_Vireo/White_eyed_Vireo_0032_2439903710.jpg\n",
            "images/156.White_eyed_Vireo/White_eyed_Vireo_0033_118532927.jpg\n",
            "images/156.White_eyed_Vireo/White_eyed_Vireo_0034_2088680594.jpg\n",
            "images/155.Warbling_Vireo/Warbling_Vireo_0001_2519611472.jpg\n",
            "images/155.Warbling_Vireo/Warbling_Vireo_0002_2777154293.jpg\n",
            "images/155.Warbling_Vireo/Warbling_Vireo_0003_2758311403.jpg\n",
            "images/155.Warbling_Vireo/Warbling_Vireo_0004_59215684.jpg\n",
            "images/155.Warbling_Vireo/Warbling_Vireo_0005_2481609409.jpg\n",
            "images/155.Warbling_Vireo/Warbling_Vireo_0006_2804509868.jpg\n",
            "images/155.Warbling_Vireo/Warbling_Vireo_0007_957598140.jpg\n",
            "images/155.Warbling_Vireo/Warbling_Vireo_0008_2803662861.jpg\n",
            "images/155.Warbling_Vireo/Warbling_Vireo_0009_2486308971.jpg\n",
            "images/155.Warbling_Vireo/Warbling_Vireo_0010_2485797658.jpg\n",
            "images/155.Warbling_Vireo/Warbling_Vireo_0011_2038099782.jpg\n",
            "images/155.Warbling_Vireo/Warbling_Vireo_0012_1454577665.jpg\n",
            "images/155.Warbling_Vireo/Warbling_Vireo_0013_2412869215.jpg\n",
            "images/155.Warbling_Vireo/Warbling_Vireo_0014_2816326898.jpg\n",
            "images/155.Warbling_Vireo/Warbling_Vireo_0015_2412886533.jpg\n",
            "images/155.Warbling_Vireo/Warbling_Vireo_0016_2412866967.jpg\n",
            "images/155.Warbling_Vireo/Warbling_Vireo_0017_1483495375.jpg\n",
            "images/155.Warbling_Vireo/Warbling_Vireo_0018_2816323698.jpg\n",
            "images/155.Warbling_Vireo/Warbling_Vireo_0019_1463413381.jpg\n",
            "images/155.Warbling_Vireo/Warbling_Vireo_0020_2081455009.jpg\n",
            "images/155.Warbling_Vireo/Warbling_Vireo_0021_2530281369.jpg\n",
            "images/155.Warbling_Vireo/Warbling_Vireo_0022_2412871087.jpg\n",
            "images/155.Warbling_Vireo/Warbling_Vireo_0023_2816323998.jpg\n",
            "images/155.Warbling_Vireo/Warbling_Vireo_0024_2576291176.jpg\n",
            "images/155.Warbling_Vireo/Warbling_Vireo_0025_2500358564.jpg\n",
            "images/155.Warbling_Vireo/Warbling_Vireo_0026_2815645116.jpg\n",
            "images/155.Warbling_Vireo/Warbling_Vireo_0027_2837334653.jpg\n",
            "images/155.Warbling_Vireo/Warbling_Vireo_0028_2837334253.jpg\n",
            "images/155.Warbling_Vireo/Warbling_Vireo_0029_2838167774.jpg\n",
            "images/155.Warbling_Vireo/Warbling_Vireo_0030_480731523.jpg\n",
            "images/155.Warbling_Vireo/Warbling_Vireo_0031_185767451.jpg\n",
            "images/155.Warbling_Vireo/Warbling_Vireo_0032_204363633.jpg\n",
            "images/155.Warbling_Vireo/Warbling_Vireo_0033_59215693.jpg\n",
            "images/155.Warbling_Vireo/Warbling_Vireo_0034_455463333.jpg\n",
            "images/155.Warbling_Vireo/Warbling_Vireo_0035_2512693574.jpg\n",
            "images/154.Red_eyed_Vireo/Red_eyed_Vireo_0001_2879184061.jpg\n",
            "images/154.Red_eyed_Vireo/Red_eyed_Vireo_0002_2697832838.jpg\n",
            "images/154.Red_eyed_Vireo/Red_eyed_Vireo_0003_59210336.jpg\n",
            "images/154.Red_eyed_Vireo/Red_eyed_Vireo_0004_2805679283.jpg\n",
            "images/154.Red_eyed_Vireo/Red_eyed_Vireo_0005_2850972890.jpg\n",
            "images/154.Red_eyed_Vireo/Red_eyed_Vireo_0006_2928288319.jpg\n",
            "images/154.Red_eyed_Vireo/Red_eyed_Vireo_0007_2545288204.jpg\n",
            "images/154.Red_eyed_Vireo/Red_eyed_Vireo_0008_2693140149.jpg\n",
            "images/154.Red_eyed_Vireo/Red_eyed_Vireo_0009_2748298992.jpg\n",
            "images/154.Red_eyed_Vireo/Red_eyed_Vireo_0010_2224604942.jpg\n",
            "images/154.Red_eyed_Vireo/Red_eyed_Vireo_0011_2224577638.jpg\n",
            "images/154.Red_eyed_Vireo/Red_eyed_Vireo_0012_531934627.jpg\n",
            "images/154.Red_eyed_Vireo/Red_eyed_Vireo_0013_2880017344.jpg\n",
            "images/154.Red_eyed_Vireo/Red_eyed_Vireo_0014_18090319.jpg\n",
            "images/154.Red_eyed_Vireo/Red_eyed_Vireo_0015_2916506313.jpg\n",
            "images/154.Red_eyed_Vireo/Red_eyed_Vireo_0016_2917350638.jpg\n",
            "images/154.Red_eyed_Vireo/Red_eyed_Vireo_0017_2693952976.jpg\n",
            "images/154.Red_eyed_Vireo/Red_eyed_Vireo_0018_525553976.jpg\n",
            "images/154.Red_eyed_Vireo/Red_eyed_Vireo_0019_504726670.jpg\n",
            "images/154.Red_eyed_Vireo/Red_eyed_Vireo_0020_2693135269.jpg\n",
            "images/154.Red_eyed_Vireo/Red_eyed_Vireo_0021_2693953672.jpg\n",
            "images/154.Red_eyed_Vireo/Red_eyed_Vireo_0022_2693134681.jpg\n",
            "images/154.Red_eyed_Vireo/Red_eyed_Vireo_0023_2880018380.jpg\n",
            "images/154.Red_eyed_Vireo/Red_eyed_Vireo_0024_2879181819.jpg\n",
            "images/154.Red_eyed_Vireo/Red_eyed_Vireo_0025_2502711037.jpg\n",
            "images/154.Red_eyed_Vireo/Red_eyed_Vireo_0026_2502710393.jpg\n",
            "images/154.Red_eyed_Vireo/Red_eyed_Vireo_0027_2503540454.jpg\n",
            "images/154.Red_eyed_Vireo/Red_eyed_Vireo_0028_2502711347.jpg\n",
            "images/154.Red_eyed_Vireo/Red_eyed_Vireo_0029_59210443.jpg\n",
            "images/154.Red_eyed_Vireo/Red_eyed_Vireo_0030_305729945.jpg\n",
            "images/154.Red_eyed_Vireo/Red_eyed_Vireo_0031_2740243174.jpg\n",
            "images/154.Red_eyed_Vireo/Red_eyed_Vireo_0032_2851633441.jpg\n",
            "images/154.Red_eyed_Vireo/Red_eyed_Vireo_0033_2495509969.jpg\n",
            "images/154.Red_eyed_Vireo/Red_eyed_Vireo_0034_500254638.jpg\n",
            "images/153.Philadelphia_Vireo/Philadelphia_Vireo_0001_1386850614.jpg\n",
            "images/153.Philadelphia_Vireo/Philadelphia_Vireo_0002_59215684.jpg\n",
            "images/153.Philadelphia_Vireo/Philadelphia_Vireo_0003_2997535711.jpg\n",
            "images/153.Philadelphia_Vireo/Philadelphia_Vireo_0004_3018490634.jpg\n",
            "images/153.Philadelphia_Vireo/Philadelphia_Vireo_0005_2998376982.jpg\n",
            "images/153.Philadelphia_Vireo/Philadelphia_Vireo_0006_2997535791.jpg\n",
            "images/153.Philadelphia_Vireo/Philadelphia_Vireo_0007_2998376900.jpg\n",
            "images/153.Philadelphia_Vireo/Philadelphia_Vireo_0008_2536401505.jpg\n",
            "images/153.Philadelphia_Vireo/Philadelphia_Vireo_0009_2751935732.jpg\n",
            "images/153.Philadelphia_Vireo/Philadelphia_Vireo_0010_2677609837.jpg\n",
            "images/153.Philadelphia_Vireo/Philadelphia_Vireo_0011_3018502752.jpg\n",
            "images/153.Philadelphia_Vireo/Philadelphia_Vireo_0012_2280322903.jpg\n",
            "images/153.Philadelphia_Vireo/Philadelphia_Vireo_0013_146577812.jpg\n",
            "images/153.Philadelphia_Vireo/Philadelphia_Vireo_0014_59216347.jpg\n",
            "images/153.Philadelphia_Vireo/Philadelphia_Vireo_0015_2498250696.jpg\n",
            "images/153.Philadelphia_Vireo/Philadelphia_Vireo_0016_1344666580.jpg\n",
            "images/153.Philadelphia_Vireo/Philadelphia_Vireo_0017_2915715535.jpg\n",
            "images/153.Philadelphia_Vireo/Philadelphia_Vireo_0018_2874253460.jpg\n",
            "images/153.Philadelphia_Vireo/Philadelphia_Vireo_0019_2521781003.jpg\n",
            "images/153.Philadelphia_Vireo/Philadelphia_Vireo_0020_2998377370.jpg\n",
            "images/153.Philadelphia_Vireo/Philadelphia_Vireo_0021_59213650.jpg\n",
            "images/153.Philadelphia_Vireo/Philadelphia_Vireo_0022_144825526.jpg\n",
            "images/153.Philadelphia_Vireo/Philadelphia_Vireo_0023_2874252614.jpg\n",
            "images/153.Philadelphia_Vireo/Philadelphia_Vireo_0024_2874252890.jpg\n",
            "images/153.Philadelphia_Vireo/Philadelphia_Vireo_0025_2303752076.jpg\n",
            "images/153.Philadelphia_Vireo/Philadelphia_Vireo_0026_237380178.jpg\n",
            "images/153.Philadelphia_Vireo/Philadelphia_Vireo_0027_2889358328.jpg\n",
            "images/153.Philadelphia_Vireo/Philadelphia_Vireo_0028_1734437080.jpg\n",
            "images/153.Philadelphia_Vireo/Philadelphia_Vireo_0029_59210138.jpg\n",
            "images/153.Philadelphia_Vireo/Philadelphia_Vireo_0030_2383575021.jpg\n",
            "images/153.Philadelphia_Vireo/Philadelphia_Vireo_0031_2969853985.jpg\n",
            "images/153.Philadelphia_Vireo/Philadelphia_Vireo_0032_239356975.jpg\n",
            "images/153.Philadelphia_Vireo/Philadelphia_Vireo_0033_2133482682.jpg\n",
            "images/153.Philadelphia_Vireo/Philadelphia_Vireo_0034_239356970.jpg\n",
            "images/153.Philadelphia_Vireo/Philadelphia_Vireo_0035_2929146717.jpg\n",
            "images/153.Philadelphia_Vireo/Philadelphia_Vireo_0036_1389105255.jpg\n",
            "images/153.Philadelphia_Vireo/Philadelphia_Vireo_0037_1360461286.jpg\n",
            "images/152.Blue_headed_Vireo/Blue_headed_Vireo_0001_3057218592.jpg\n",
            "images/152.Blue_headed_Vireo/Blue_headed_Vireo_0002_xxx.jpg\n",
            "images/152.Blue_headed_Vireo/Blue_headed_Vireo_0003_2403810957.jpg\n",
            "images/152.Blue_headed_Vireo/Blue_headed_Vireo_0004_261315463.jpg\n",
            "images/152.Blue_headed_Vireo/Blue_headed_Vireo_0005_2371579165.jpg\n",
            "images/152.Blue_headed_Vireo/Blue_headed_Vireo_0006_2901927112.jpg\n",
            "images/152.Blue_headed_Vireo/Blue_headed_Vireo_0007_59208729.jpg\n",
            "images/152.Blue_headed_Vireo/Blue_headed_Vireo_0008_2372359048.jpg\n",
            "images/152.Blue_headed_Vireo/Blue_headed_Vireo_0009_2484454863.jpg\n",
            "images/152.Blue_headed_Vireo/Blue_headed_Vireo_0010_85053176.jpg\n",
            "images/152.Blue_headed_Vireo/Blue_headed_Vireo_0011_2691052618.jpg\n",
            "images/152.Blue_headed_Vireo/Blue_headed_Vireo_0012_492700644.jpg\n",
            "images/152.Blue_headed_Vireo/Blue_headed_Vireo_0013_59208715.jpg\n",
            "images/152.Blue_headed_Vireo/Blue_headed_Vireo_0014_451681288.jpg\n",
            "images/152.Blue_headed_Vireo/Blue_headed_Vireo_0015_451681300.jpg\n",
            "images/152.Blue_headed_Vireo/Blue_headed_Vireo_0016_2846234634.jpg\n",
            "images/152.Blue_headed_Vireo/Blue_headed_Vireo_0017_2846234840.jpg\n",
            "images/152.Blue_headed_Vireo/Blue_headed_Vireo_0018_2524368586.jpg\n",
            "images/152.Blue_headed_Vireo/Blue_headed_Vireo_0019_2490695980.jpg\n",
            "images/152.Blue_headed_Vireo/Blue_headed_Vireo_0020_2517847398.jpg\n",
            "images/152.Blue_headed_Vireo/Blue_headed_Vireo_0021_277549532.jpg\n",
            "images/152.Blue_headed_Vireo/Blue_headed_Vireo_0022_1445270876.jpg\n",
            "images/152.Blue_headed_Vireo/Blue_headed_Vireo_0023_2913359984.jpg\n",
            "images/152.Blue_headed_Vireo/Blue_headed_Vireo_0024_2912245805.jpg\n",
            "images/152.Blue_headed_Vireo/Blue_headed_Vireo_0025_1557914378.jpg\n",
            "images/152.Blue_headed_Vireo/Blue_headed_Vireo_0026_507580600.jpg\n",
            "images/152.Blue_headed_Vireo/Blue_headed_Vireo_0027_2942936544.jpg\n",
            "images/152.Blue_headed_Vireo/Blue_headed_Vireo_0028_2691214888.jpg\n",
            "images/152.Blue_headed_Vireo/Blue_headed_Vireo_0029_1445270560.jpg\n",
            "images/152.Blue_headed_Vireo/Blue_headed_Vireo_0030_477725632.jpg\n",
            "images/152.Blue_headed_Vireo/Blue_headed_Vireo_0031_2690660569.jpg\n",
            "images/152.Blue_headed_Vireo/Blue_headed_Vireo_0032_2691052162.jpg\n",
            "images/152.Blue_headed_Vireo/Blue_headed_Vireo_0033_3040371709.jpg\n",
            "images/152.Blue_headed_Vireo/Blue_headed_Vireo_0034_2691472948.jpg\n",
            "images/151.Black_capped_Vireo/Black_capped_Vireo_0001_xxx.jpg\n",
            "images/151.Black_capped_Vireo/Black_capped_Vireo_0002_147958721.jpg\n",
            "images/151.Black_capped_Vireo/Black_capped_Vireo_0003_2425788169.jpg\n",
            "images/151.Black_capped_Vireo/Black_capped_Vireo_0004_467561522.jpg\n",
            "images/151.Black_capped_Vireo/Black_capped_Vireo_0005_1977446818.jpg\n",
            "images/151.Black_capped_Vireo/Black_capped_Vireo_0006_2651638478.jpg\n",
            "images/151.Black_capped_Vireo/Black_capped_Vireo_0007_2587830631.jpg\n",
            "images/151.Black_capped_Vireo/Black_capped_Vireo_0008_2576203500.jpg\n",
            "images/151.Black_capped_Vireo/Black_capped_Vireo_0009_2575328527.jpg\n",
            "images/151.Black_capped_Vireo/Black_capped_Vireo_0010_238846344.jpg\n",
            "images/151.Black_capped_Vireo/Black_capped_Vireo_0011_448785137.jpg\n",
            "images/151.Black_capped_Vireo/Black_capped_Vireo_0012_2292170973.jpg\n",
            "images/151.Black_capped_Vireo/Black_capped_Vireo_0013_1817883231.jpg\n",
            "images/151.Black_capped_Vireo/Black_capped_Vireo_0014_2514410268.jpg\n",
            "images/151.Black_capped_Vireo/Black_capped_Vireo_0015_31592243.jpg\n",
            "images/151.Black_capped_Vireo/Black_capped_Vireo_0016_2726081233.jpg\n",
            "images/151.Black_capped_Vireo/Black_capped_Vireo_0017_898113920.jpg\n",
            "images/151.Black_capped_Vireo/Black_capped_Vireo_0018_2726906478.jpg\n",
            "images/151.Black_capped_Vireo/Black_capped_Vireo_0019_1818734092.jpg\n",
            "images/151.Black_capped_Vireo/Black_capped_Vireo_0020_1817884247.jpg\n",
            "images/151.Black_capped_Vireo/Black_capped_Vireo_0021_1817900467.jpg\n",
            "images/151.Black_capped_Vireo/Black_capped_Vireo_0022_1817882369.jpg\n",
            "images/151.Black_capped_Vireo/Black_capped_Vireo_0023_2726080707.jpg\n",
            "images/151.Black_capped_Vireo/Black_capped_Vireo_0024_2726906176.jpg\n",
            "images/151.Black_capped_Vireo/Black_capped_Vireo_0025_897297617.jpg\n",
            "images/151.Black_capped_Vireo/Black_capped_Vireo_0026_2726906340.jpg\n",
            "images/151.Black_capped_Vireo/Black_capped_Vireo_0027_1398183532.jpg\n",
            "images/150.Sage_Thrasher/Sage_Thrasher_0001_158468315.jpg\n",
            "images/150.Sage_Thrasher/Sage_Thrasher_0002_2532542571.jpg\n",
            "images/150.Sage_Thrasher/Sage_Thrasher_0003_745274894.jpg\n",
            "images/150.Sage_Thrasher/Sage_Thrasher_0004_2240091503.jpg\n",
            "images/150.Sage_Thrasher/Sage_Thrasher_0005_133924622.jpg\n",
            "images/150.Sage_Thrasher/Sage_Thrasher_0006_133924623.jpg\n",
            "images/150.Sage_Thrasher/Sage_Thrasher_0007_2520508677.jpg\n",
            "images/150.Sage_Thrasher/Sage_Thrasher_0008_544553739.jpg\n",
            "images/150.Sage_Thrasher/Sage_Thrasher_0009_2616266535.jpg\n",
            "images/150.Sage_Thrasher/Sage_Thrasher_0010_132633997.jpg\n",
            "images/150.Sage_Thrasher/Sage_Thrasher_0011_527120780.jpg\n",
            "images/150.Sage_Thrasher/Sage_Thrasher_0012_1343979675.jpg\n",
            "images/150.Sage_Thrasher/Sage_Thrasher_0013_502651409.jpg\n",
            "images/150.Sage_Thrasher/Sage_Thrasher_0014_418817495.jpg\n",
            "images/150.Sage_Thrasher/Sage_Thrasher_0015_502636212.jpg\n",
            "images/150.Sage_Thrasher/Sage_Thrasher_0016_459478479.jpg\n",
            "images/150.Sage_Thrasher/Sage_Thrasher_0017_1325544124.jpg\n",
            "images/150.Sage_Thrasher/Sage_Thrasher_0018_161319569.jpg\n",
            "images/150.Sage_Thrasher/Sage_Thrasher_0019_2556697009.jpg\n",
            "images/150.Sage_Thrasher/Sage_Thrasher_0020_1516672927.jpg\n",
            "images/150.Sage_Thrasher/Sage_Thrasher_0021_1517524868.jpg\n",
            "images/150.Sage_Thrasher/Sage_Thrasher_0022_459478483.jpg\n",
            "images/150.Sage_Thrasher/Sage_Thrasher_0023_1391660920.jpg\n",
            "images/150.Sage_Thrasher/Sage_Thrasher_0024_2292497410.jpg\n",
            "images/150.Sage_Thrasher/Sage_Thrasher_0025_2291713227.jpg\n",
            "images/150.Sage_Thrasher/Sage_Thrasher_0026_992596188.jpg\n",
            "images/150.Sage_Thrasher/Sage_Thrasher_0027_2701048732.jpg\n",
            "images/149.Brown_Thrasher/Brown_Thrasher_0001_530624670.jpg\n",
            "images/149.Brown_Thrasher/Brown_Thrasher_0002_2976313489.jpg\n",
            "images/149.Brown_Thrasher/Brown_Thrasher_0003_xxx.jpg\n",
            "images/149.Brown_Thrasher/Brown_Thrasher_0004_200248849.jpg\n",
            "images/149.Brown_Thrasher/Brown_Thrasher_0005_2508921558.jpg\n",
            "images/149.Brown_Thrasher/Brown_Thrasher_0006_2262365152.jpg\n",
            "images/149.Brown_Thrasher/Brown_Thrasher_0007_1464213009.jpg\n",
            "images/149.Brown_Thrasher/Brown_Thrasher_0008_2690457046.jpg\n",
            "images/149.Brown_Thrasher/Brown_Thrasher_0009_251469850.jpg\n",
            "images/149.Brown_Thrasher/Brown_Thrasher_0010_2537602439.jpg\n",
            "images/149.Brown_Thrasher/Brown_Thrasher_0011_2538421270.jpg\n",
            "images/149.Brown_Thrasher/Brown_Thrasher_0012_2468349206.jpg\n",
            "images/149.Brown_Thrasher/Brown_Thrasher_0013_2482859877.jpg\n",
            "images/149.Brown_Thrasher/Brown_Thrasher_0014_2459246128.jpg\n",
            "images/149.Brown_Thrasher/Brown_Thrasher_0015_2459245492.jpg\n",
            "images/149.Brown_Thrasher/Brown_Thrasher_0016_2483674980.jpg\n",
            "images/149.Brown_Thrasher/Brown_Thrasher_0017_2538420700.jpg\n",
            "images/149.Brown_Thrasher/Brown_Thrasher_0018_2537602985.jpg\n",
            "images/149.Brown_Thrasher/Brown_Thrasher_0019_172583186.jpg\n",
            "images/149.Brown_Thrasher/Brown_Thrasher_0020_2429151753.jpg\n",
            "images/149.Brown_Thrasher/Brown_Thrasher_0021_484176243.jpg\n",
            "images/149.Brown_Thrasher/Brown_Thrasher_0022_2070265130.jpg\n",
            "images/149.Brown_Thrasher/Brown_Thrasher_0023_2706949846.jpg\n",
            "images/149.Brown_Thrasher/Brown_Thrasher_0024_2911473491.jpg\n",
            "images/149.Brown_Thrasher/Brown_Thrasher_0025_149224288.jpg\n",
            "images/149.Brown_Thrasher/Brown_Thrasher_0026_527519456.jpg\n",
            "images/149.Brown_Thrasher/Brown_Thrasher_0027_1953338078.jpg\n",
            "images/149.Brown_Thrasher/Brown_Thrasher_0028_176724840.jpg\n",
            "images/149.Brown_Thrasher/Brown_Thrasher_0029_515150025.jpg\n",
            "images/149.Brown_Thrasher/Brown_Thrasher_0030_160032075.jpg\n",
            "images/149.Brown_Thrasher/Brown_Thrasher_0031_268139718.jpg\n",
            "images/149.Brown_Thrasher/Brown_Thrasher_0032_xxx.jpg\n",
            "images/148.Green_tailed_Towhee/Green_tailed_Towhee_0001_2201100778.jpg\n",
            "images/148.Green_tailed_Towhee/Green_tailed_Towhee_0002_3047580332.jpg\n",
            "images/148.Green_tailed_Towhee/Green_tailed_Towhee_0003_2950881652.jpg\n",
            "images/148.Green_tailed_Towhee/Green_tailed_Towhee_0004_2948557942.jpg\n",
            "images/148.Green_tailed_Towhee/Green_tailed_Towhee_0005_2423344222.jpg\n",
            "images/148.Green_tailed_Towhee/Green_tailed_Towhee_0006_1022019525.jpg\n",
            "images/148.Green_tailed_Towhee/Green_tailed_Towhee_0007_200535228.jpg\n",
            "images/148.Green_tailed_Towhee/Green_tailed_Towhee_0008_550024168.jpg\n",
            "images/148.Green_tailed_Towhee/Green_tailed_Towhee_0009_2540015850.jpg\n",
            "images/148.Green_tailed_Towhee/Green_tailed_Towhee_0010_136678398.jpg\n",
            "images/148.Green_tailed_Towhee/Green_tailed_Towhee_0011_117938965.jpg\n",
            "images/148.Green_tailed_Towhee/Green_tailed_Towhee_0012_117938968.jpg\n",
            "images/148.Green_tailed_Towhee/Green_tailed_Towhee_0013_184430669.jpg\n",
            "images/148.Green_tailed_Towhee/Green_tailed_Towhee_0014_184430670.jpg\n",
            "images/148.Green_tailed_Towhee/Green_tailed_Towhee_0015_136678400.jpg\n",
            "images/148.Green_tailed_Towhee/Green_tailed_Towhee_0016_16400796.jpg\n",
            "images/148.Green_tailed_Towhee/Green_tailed_Towhee_0017_22766565.jpg\n",
            "images/148.Green_tailed_Towhee/Green_tailed_Towhee_0018_567449096.jpg\n",
            "images/148.Green_tailed_Towhee/Green_tailed_Towhee_0019_404162240.jpg\n",
            "images/148.Green_tailed_Towhee/Green_tailed_Towhee_0020_22766551.jpg\n",
            "images/148.Green_tailed_Towhee/Green_tailed_Towhee_0021_149577903.jpg\n",
            "images/148.Green_tailed_Towhee/Green_tailed_Towhee_0022_468326839.jpg\n",
            "images/148.Green_tailed_Towhee/Green_tailed_Towhee_0023_121586071.jpg\n",
            "images/148.Green_tailed_Towhee/Green_tailed_Towhee_0024_2660589322.jpg\n",
            "images/148.Green_tailed_Towhee/Green_tailed_Towhee_0025_2663079834.jpg\n",
            "images/148.Green_tailed_Towhee/Green_tailed_Towhee_0026_3079106432.jpg\n",
            "images/148.Green_tailed_Towhee/Green_tailed_Towhee_0027_2586589128.jpg\n",
            "images/148.Green_tailed_Towhee/Green_tailed_Towhee_0028_2585753661.jpg\n",
            "images/148.Green_tailed_Towhee/Green_tailed_Towhee_0029_2585746290.jpg\n",
            "images/148.Green_tailed_Towhee/Green_tailed_Towhee_0030_2585752576.jpg\n",
            "images/148.Green_tailed_Towhee/Green_tailed_Towhee_0031_155934246.jpg\n",
            "images/148.Green_tailed_Towhee/Green_tailed_Towhee_0032_2602420030.jpg\n",
            "images/148.Green_tailed_Towhee/Green_tailed_Towhee_0033_2645209352.jpg\n",
            "images/148.Green_tailed_Towhee/Green_tailed_Towhee_0034_2056851125.jpg\n",
            "images/147.Least_Tern/Least_Tern_0001_808535227.jpg\n",
            "images/147.Least_Tern/Least_Tern_0002_2616327368.jpg\n",
            "images/147.Least_Tern/Least_Tern_0003_561267502.jpg\n",
            "images/147.Least_Tern/Least_Tern_0004_2533221524.jpg\n",
            "images/147.Least_Tern/Least_Tern_0005_560525199.jpg\n",
            "images/147.Least_Tern/Least_Tern_0006_50425240.jpg\n",
            "images/147.Least_Tern/Least_Tern_0007_656029819.jpg\n",
            "images/147.Least_Tern/Least_Tern_0008_1095373838.jpg\n",
            "images/147.Least_Tern/Least_Tern_0009_2659820797.jpg\n",
            "images/147.Least_Tern/Least_Tern_0010_584031363.jpg\n",
            "images/147.Least_Tern/Least_Tern_0011_2582750916.jpg\n",
            "images/147.Least_Tern/Least_Tern_0012_576192827.jpg\n",
            "images/147.Least_Tern/Least_Tern_0013_2619456065.jpg\n",
            "images/147.Least_Tern/Least_Tern_0014_2573775605.jpg\n",
            "images/147.Least_Tern/Least_Tern_0015_19025965.jpg\n",
            "images/147.Least_Tern/Least_Tern_0016_2581929933.jpg\n",
            "images/147.Least_Tern/Least_Tern_0017_881037263.jpg\n",
            "images/147.Least_Tern/Least_Tern_0018_638946443.jpg\n",
            "images/147.Least_Tern/Least_Tern_0019_2460893804.jpg\n",
            "images/147.Least_Tern/Least_Tern_0020_739677493.jpg\n",
            "images/147.Least_Tern/Least_Tern_0021_2662601108.jpg\n",
            "images/147.Least_Tern/Least_Tern_0022_2393534649.jpg\n",
            "images/147.Least_Tern/Least_Tern_0023_2474350317.jpg\n",
            "images/147.Least_Tern/Least_Tern_0024_2619622790.jpg\n",
            "images/147.Least_Tern/Least_Tern_0025_2219361840.jpg\n",
            "images/146.Forsters_Tern/Forsters_Tern_0001_2785441587.jpg\n",
            "images/146.Forsters_Tern/Forsters_Tern_0002_294035898.jpg\n",
            "images/146.Forsters_Tern/Forsters_Tern_0003_398105324.jpg\n",
            "images/146.Forsters_Tern/Forsters_Tern_0004_294035839.jpg\n",
            "images/146.Forsters_Tern/Forsters_Tern_0005_294035938.jpg\n",
            "images/146.Forsters_Tern/Forsters_Tern_0006_1479833566.jpg\n",
            "images/146.Forsters_Tern/Forsters_Tern_0007_308527199.jpg\n",
            "images/146.Forsters_Tern/Forsters_Tern_0008_1501120971.jpg\n",
            "images/146.Forsters_Tern/Forsters_Tern_0009_2779665089.jpg\n",
            "images/146.Forsters_Tern/Forsters_Tern_0010_1604267510.jpg\n",
            "images/146.Forsters_Tern/Forsters_Tern_0011_2234274249.jpg\n",
            "images/146.Forsters_Tern/Forsters_Tern_0012_2208266536.jpg\n",
            "images/146.Forsters_Tern/Forsters_Tern_0013_2083114719.jpg\n",
            "images/146.Forsters_Tern/Forsters_Tern_0014_2803159992.jpg\n",
            "images/146.Forsters_Tern/Forsters_Tern_0015_2857554307.jpg\n",
            "images/146.Forsters_Tern/Forsters_Tern_0016_2718730358.jpg\n",
            "images/146.Forsters_Tern/Forsters_Tern_0017_1013968744.jpg\n",
            "images/146.Forsters_Tern/Forsters_Tern_0018_1288270890.jpg\n",
            "images/146.Forsters_Tern/Forsters_Tern_0019_2899106005.jpg\n",
            "images/146.Forsters_Tern/Forsters_Tern_0020_1415544260.jpg\n",
            "images/146.Forsters_Tern/Forsters_Tern_0021_2141229140.jpg\n",
            "images/146.Forsters_Tern/Forsters_Tern_0022_2816515926.jpg\n",
            "images/146.Forsters_Tern/Forsters_Tern_0023_2815664833.jpg\n",
            "images/146.Forsters_Tern/Forsters_Tern_0024_2811950699.jpg\n",
            "images/146.Forsters_Tern/Forsters_Tern_0025_2154718566.jpg\n",
            "images/146.Forsters_Tern/Forsters_Tern_0026_1352773504.jpg\n",
            "images/145.Elegant_Tern/Elegant_Tern_0001_2800524137.jpg\n",
            "images/145.Elegant_Tern/Elegant_Tern_0002_2822361979.jpg\n",
            "images/145.Elegant_Tern/Elegant_Tern_0003_2800523347.jpg\n",
            "images/145.Elegant_Tern/Elegant_Tern_0004_2801373070.jpg\n",
            "images/145.Elegant_Tern/Elegant_Tern_0005_2926101344.jpg\n",
            "images/145.Elegant_Tern/Elegant_Tern_0006_2790917589.jpg\n",
            "images/145.Elegant_Tern/Elegant_Tern_0007_2790427963.jpg\n",
            "images/145.Elegant_Tern/Elegant_Tern_0008_2829066321.jpg\n",
            "images/145.Elegant_Tern/Elegant_Tern_0009_2900261407.jpg\n",
            "images/145.Elegant_Tern/Elegant_Tern_0010_2901109698.jpg\n",
            "images/145.Elegant_Tern/Elegant_Tern_0011_2925248079.jpg\n",
            "images/145.Elegant_Tern/Elegant_Tern_0012_2903115523.jpg\n",
            "images/145.Elegant_Tern/Elegant_Tern_0013_2900264063.jpg\n",
            "images/145.Elegant_Tern/Elegant_Tern_0014_2764982592.jpg\n",
            "images/145.Elegant_Tern/Elegant_Tern_0015_2900262061.jpg\n",
            "images/145.Elegant_Tern/Elegant_Tern_0016_2830978550.jpg\n",
            "images/145.Elegant_Tern/Elegant_Tern_0017_2764150817.jpg\n",
            "images/145.Elegant_Tern/Elegant_Tern_0018_2654123838.jpg\n",
            "images/145.Elegant_Tern/Elegant_Tern_0019_2779934570.jpg\n",
            "images/145.Elegant_Tern/Elegant_Tern_0020_2819782382.jpg\n",
            "images/145.Elegant_Tern/Elegant_Tern_0021_2712184106.jpg\n",
            "images/145.Elegant_Tern/Elegant_Tern_0022_2903960188.jpg\n",
            "images/145.Elegant_Tern/Elegant_Tern_0023_2779933874.jpg\n",
            "images/145.Elegant_Tern/Elegant_Tern_0024_2779075787.jpg\n",
            "images/145.Elegant_Tern/Elegant_Tern_0025_2779076187.jpg\n",
            "images/145.Elegant_Tern/Elegant_Tern_0026_2903116227.jpg\n",
            "images/144.Common_Tern/Common_Tern_0001_2775923931.jpg\n",
            "images/144.Common_Tern/Common_Tern_0002_854908874.jpg\n",
            "images/144.Common_Tern/Common_Tern_0003_20959709.jpg\n",
            "images/144.Common_Tern/Common_Tern_0004_452473160.jpg\n",
            "images/144.Common_Tern/Common_Tern_0005_333320996.jpg\n",
            "images/144.Common_Tern/Common_Tern_0006_530786984.jpg\n",
            "images/144.Common_Tern/Common_Tern_0007_15570531.jpg\n",
            "images/144.Common_Tern/Common_Tern_0008_24422653.jpg\n",
            "images/144.Common_Tern/Common_Tern_0009_143279554.jpg\n",
            "images/144.Common_Tern/Common_Tern_0010_2679027405.jpg\n",
            "images/144.Common_Tern/Common_Tern_0011_1081838940.jpg\n",
            "images/144.Common_Tern/Common_Tern_0012_2704762904.jpg\n",
            "images/144.Common_Tern/Common_Tern_0013_2677898010.jpg\n",
            "images/144.Common_Tern/Common_Tern_0014_168232767.jpg\n",
            "images/144.Common_Tern/Common_Tern_0015_2359608334.jpg\n",
            "images/144.Common_Tern/Common_Tern_0016_479047337.jpg\n",
            "images/144.Common_Tern/Common_Tern_0017_2404920757.jpg\n",
            "images/144.Common_Tern/Common_Tern_0018_299887093.jpg\n",
            "images/144.Common_Tern/Common_Tern_0019_2940538706.jpg\n",
            "images/144.Common_Tern/Common_Tern_0020_2536654701.jpg\n",
            "images/144.Common_Tern/Common_Tern_0021_2425848359.jpg\n",
            "images/144.Common_Tern/Common_Tern_0022_2404224537.jpg\n",
            "images/144.Common_Tern/Common_Tern_0023_503584439.jpg\n",
            "images/144.Common_Tern/Common_Tern_0024_2470537163.jpg\n",
            "images/144.Common_Tern/Common_Tern_0025_2186659124.jpg\n",
            "images/144.Common_Tern/Common_Tern_0026_2426663808.jpg\n",
            "images/144.Common_Tern/Common_Tern_0027_2426663712.jpg\n",
            "images/144.Common_Tern/Common_Tern_0028_2425849369.jpg\n",
            "images/144.Common_Tern/Common_Tern_0029_2426662720.jpg\n",
            "images/144.Common_Tern/Common_Tern_0030_493974598.jpg\n",
            "images/144.Common_Tern/Common_Tern_0031_2425849461.jpg\n",
            "images/144.Common_Tern/Common_Tern_0032_2425848193.jpg\n",
            "images/144.Common_Tern/Common_Tern_0033_2425848121.jpg\n",
            "images/143.Caspian_Tern/Caspian_Tern_0001_2691041631.jpg\n",
            "images/143.Caspian_Tern/Caspian_Tern_0002_790679330.jpg\n",
            "images/143.Caspian_Tern/Caspian_Tern_0003_2129705920.jpg\n",
            "images/143.Caspian_Tern/Caspian_Tern_0004_2677709318.jpg\n",
            "images/143.Caspian_Tern/Caspian_Tern_0005_557846327.jpg\n",
            "images/143.Caspian_Tern/Caspian_Tern_0006_2626687088.jpg\n",
            "images/143.Caspian_Tern/Caspian_Tern_0007_557373290.jpg\n",
            "images/143.Caspian_Tern/Caspian_Tern_0008_993513402.jpg\n",
            "images/143.Caspian_Tern/Caspian_Tern_0009_511200141.jpg\n",
            "images/143.Caspian_Tern/Caspian_Tern_0010_1263217503.jpg\n",
            "images/143.Caspian_Tern/Caspian_Tern_0011_2446295424.jpg\n",
            "images/143.Caspian_Tern/Caspian_Tern_0012_2446293962.jpg\n",
            "images/143.Caspian_Tern/Caspian_Tern_0013_2511772909.jpg\n",
            "images/143.Caspian_Tern/Caspian_Tern_0014_873691032.jpg\n",
            "images/143.Caspian_Tern/Caspian_Tern_0015_2655461135.jpg\n",
            "images/143.Caspian_Tern/Caspian_Tern_0016_1554264438.jpg\n",
            "images/143.Caspian_Tern/Caspian_Tern_0017_2484770834.jpg\n",
            "images/143.Caspian_Tern/Caspian_Tern_0018_2216921819.jpg\n",
            "images/143.Caspian_Tern/Caspian_Tern_0019_1254363457.jpg\n",
            "images/143.Caspian_Tern/Caspian_Tern_0020_880811651.jpg\n",
            "images/143.Caspian_Tern/Caspian_Tern_0021_990776443.jpg\n",
            "images/143.Caspian_Tern/Caspian_Tern_0022_557380120.jpg\n",
            "images/143.Caspian_Tern/Caspian_Tern_0023_2637433926.jpg\n",
            "images/143.Caspian_Tern/Caspian_Tern_0024_1395029074.jpg\n",
            "images/143.Caspian_Tern/Caspian_Tern_0025_873688154.jpg\n",
            "images/143.Caspian_Tern/Caspian_Tern_0026_2457496225.jpg\n",
            "images/143.Caspian_Tern/Caspian_Tern_0027_2146025295.jpg\n",
            "images/143.Caspian_Tern/Caspian_Tern_0028_2637444780.jpg\n",
            "images/143.Caspian_Tern/Caspian_Tern_0029_881659512.jpg\n",
            "images/143.Caspian_Tern/Caspian_Tern_0030_2111436997.jpg\n",
            "images/143.Caspian_Tern/Caspian_Tern_0031_2807036491.jpg\n",
            "images/143.Caspian_Tern/Caspian_Tern_0032_824330322.jpg\n",
            "images/143.Caspian_Tern/Caspian_Tern_0033_2986776813.jpg\n",
            "images/143.Caspian_Tern/Caspian_Tern_0034_443147048.jpg\n",
            "images/143.Caspian_Tern/Caspian_Tern_0035_2458325474.jpg\n",
            "images/143.Caspian_Tern/Caspian_Tern_0036_2194949371.jpg\n",
            "images/143.Caspian_Tern/Caspian_Tern_0037_209227142.jpg\n",
            "images/143.Caspian_Tern/Caspian_Tern_0038_881665726.jpg\n",
            "images/142.Black_Tern/Black_Tern_0001_17649521.jpg\n",
            "images/142.Black_Tern/Black_Tern_0002_2571011872.jpg\n",
            "images/142.Black_Tern/Black_Tern_0003_560242888.jpg\n",
            "images/142.Black_Tern/Black_Tern_0004_243333817.jpg\n",
            "images/142.Black_Tern/Black_Tern_0005_242529377.jpg\n",
            "images/142.Black_Tern/Black_Tern_0006_222283944.jpg\n",
            "images/142.Black_Tern/Black_Tern_0007_2528345987.jpg\n",
            "images/142.Black_Tern/Black_Tern_0008_613253741.jpg\n",
            "images/142.Black_Tern/Black_Tern_0009_699812845.jpg\n",
            "images/142.Black_Tern/Black_Tern_0010_2516828071.jpg\n",
            "images/142.Black_Tern/Black_Tern_0011_2521725737.jpg\n",
            "images/142.Black_Tern/Black_Tern_0012_242529381.jpg\n",
            "images/142.Black_Tern/Black_Tern_0013_219598607.jpg\n",
            "images/142.Black_Tern/Black_Tern_0014_xxx.jpg\n",
            "images/142.Black_Tern/Black_Tern_0015_509914121.jpg\n",
            "images/142.Black_Tern/Black_Tern_0016_2532372850.jpg\n",
            "images/142.Black_Tern/Black_Tern_0017_293184218.jpg\n",
            "images/142.Black_Tern/Black_Tern_0018_542832097.jpg\n",
            "images/142.Black_Tern/Black_Tern_0019_2622837173.jpg\n",
            "images/142.Black_Tern/Black_Tern_0020_530483321.jpg\n",
            "images/142.Black_Tern/Black_Tern_0021_2531768714.jpg\n",
            "images/141.Artic_Tern/Artic_Tern_0001_938838592.jpg\n",
            "images/141.Artic_Tern/Artic_Tern_0002_228965064.jpg\n",
            "images/141.Artic_Tern/Artic_Tern_0003_2572547634.jpg\n",
            "images/141.Artic_Tern/Artic_Tern_0004_2574219906.jpg\n",
            "images/141.Artic_Tern/Artic_Tern_0005_2573396817.jpg\n",
            "images/141.Artic_Tern/Artic_Tern_0006_235286408.jpg\n",
            "images/141.Artic_Tern/Artic_Tern_0007_2947910147.jpg\n",
            "images/141.Artic_Tern/Artic_Tern_0008_749633251.jpg\n",
            "images/141.Artic_Tern/Artic_Tern_0009_1572647757.jpg\n",
            "images/141.Artic_Tern/Artic_Tern_0010_1129265728.jpg\n",
            "images/141.Artic_Tern/Artic_Tern_0011_349370649.jpg\n",
            "images/141.Artic_Tern/Artic_Tern_0012_1081311027.jpg\n",
            "images/141.Artic_Tern/Artic_Tern_0013_2647278391.jpg\n",
            "images/141.Artic_Tern/Artic_Tern_0014_2674895310.jpg\n",
            "images/141.Artic_Tern/Artic_Tern_0015_2584281156.jpg\n",
            "images/141.Artic_Tern/Artic_Tern_0016_2674073789.jpg\n",
            "images/141.Artic_Tern/Artic_Tern_0017_2781091081.jpg\n",
            "images/141.Artic_Tern/Artic_Tern_0018_2128035103.jpg\n",
            "images/141.Artic_Tern/Artic_Tern_0019_2674892838.jpg\n",
            "images/141.Artic_Tern/Artic_Tern_0020_68981377.jpg\n",
            "images/141.Artic_Tern/Artic_Tern_0021_2584282160.jpg\n",
            "images/141.Artic_Tern/Artic_Tern_0022_906393403.jpg\n",
            "images/141.Artic_Tern/Artic_Tern_0023_2695301955.jpg\n",
            "images/141.Artic_Tern/Artic_Tern_0024_2990784343.jpg\n",
            "images/141.Artic_Tern/Artic_Tern_0025_2695301965.jpg\n",
            "images/141.Artic_Tern/Artic_Tern_0026_2583453781.jpg\n",
            "images/141.Artic_Tern/Artic_Tern_0027_2583452833.jpg\n",
            "images/141.Artic_Tern/Artic_Tern_0028_879755980.jpg\n",
            "images/141.Artic_Tern/Artic_Tern_0029_2583486621.jpg\n",
            "images/141.Artic_Tern/Artic_Tern_0030_2441979722.jpg\n",
            "images/141.Artic_Tern/Artic_Tern_0031_2583452319.jpg\n",
            "images/141.Artic_Tern/Artic_Tern_0032_368286416.jpg\n",
            "images/141.Artic_Tern/Artic_Tern_0033_2584281960.jpg\n",
            "images/141.Artic_Tern/Artic_Tern_0034_2584280442.jpg\n",
            "images/140.Summer_Tanager/Summer_Tanager_0001_2819113097.jpg\n",
            "images/140.Summer_Tanager/Summer_Tanager_0002_2496846985.jpg\n",
            "images/140.Summer_Tanager/Summer_Tanager_0003_2783422298.jpg\n",
            "images/140.Summer_Tanager/Summer_Tanager_0004_2612740025.jpg\n",
            "images/140.Summer_Tanager/Summer_Tanager_0005_2490169829.jpg\n",
            "images/140.Summer_Tanager/Summer_Tanager_0006_2838871803.jpg\n",
            "images/140.Summer_Tanager/Summer_Tanager_0007_11384540.jpg\n",
            "images/140.Summer_Tanager/Summer_Tanager_0008_2615109890.jpg\n",
            "images/140.Summer_Tanager/Summer_Tanager_0009_2984718428.jpg\n",
            "images/140.Summer_Tanager/Summer_Tanager_0010_2497762604.jpg\n",
            "images/140.Summer_Tanager/Summer_Tanager_0011_2513433935.jpg\n",
            "images/140.Summer_Tanager/Summer_Tanager_0012_2615111860.jpg\n",
            "images/140.Summer_Tanager/Summer_Tanager_0013_2530659658.jpg\n",
            "images/140.Summer_Tanager/Summer_Tanager_0014_414287134.jpg\n",
            "images/140.Summer_Tanager/Summer_Tanager_0015_2730013508.jpg\n",
            "images/140.Summer_Tanager/Summer_Tanager_0016_2469883712.jpg\n",
            "images/140.Summer_Tanager/Summer_Tanager_0017_2204655180.jpg\n",
            "images/140.Summer_Tanager/Summer_Tanager_0018_2152073372.jpg\n",
            "images/140.Summer_Tanager/Summer_Tanager_0019_2449389789.jpg\n",
            "images/140.Summer_Tanager/Summer_Tanager_0020_2491327066.jpg\n",
            "images/139.Scarlet_Tanager/Scarlet_Tanager_0001_490272582.jpg\n",
            "images/139.Scarlet_Tanager/Scarlet_Tanager_0002_486825300.jpg\n",
            "images/139.Scarlet_Tanager/Scarlet_Tanager_0003_2486092815.jpg\n",
            "images/139.Scarlet_Tanager/Scarlet_Tanager_0004_3993751.jpg\n",
            "images/139.Scarlet_Tanager/Scarlet_Tanager_0005_480752456.jpg\n",
            "images/139.Scarlet_Tanager/Scarlet_Tanager_0006_274275459.jpg\n",
            "images/139.Scarlet_Tanager/Scarlet_Tanager_0007_2541205213.jpg\n",
            "images/139.Scarlet_Tanager/Scarlet_Tanager_0008_2525728973.jpg\n",
            "images/139.Scarlet_Tanager/Scarlet_Tanager_0009_158678486.jpg\n",
            "images/139.Scarlet_Tanager/Scarlet_Tanager_0010_2503616512.jpg\n",
            "images/139.Scarlet_Tanager/Scarlet_Tanager_0011_288725500.jpg\n",
            "images/139.Scarlet_Tanager/Scarlet_Tanager_0012_2525255166.jpg\n",
            "images/139.Scarlet_Tanager/Scarlet_Tanager_0013_50213768.jpg\n",
            "images/139.Scarlet_Tanager/Scarlet_Tanager_0014_1983492045.jpg\n",
            "images/139.Scarlet_Tanager/Scarlet_Tanager_0015_485738193.jpg\n",
            "images/139.Scarlet_Tanager/Scarlet_Tanager_0016_2226844761.jpg\n",
            "images/139.Scarlet_Tanager/Scarlet_Tanager_0017_2502786079.jpg\n",
            "images/139.Scarlet_Tanager/Scarlet_Tanager_0018_2434694044.jpg\n",
            "images/139.Scarlet_Tanager/Scarlet_Tanager_0019_2641973756.jpg\n",
            "images/139.Scarlet_Tanager/Scarlet_Tanager_0020_2641120767.jpg\n",
            "images/139.Scarlet_Tanager/Scarlet_Tanager_0021_2541250671.jpg\n",
            "images/139.Scarlet_Tanager/Scarlet_Tanager_0022_2227619316.jpg\n",
            "images/139.Scarlet_Tanager/Scarlet_Tanager_0023_2641956192.jpg\n",
            "images/139.Scarlet_Tanager/Scarlet_Tanager_0024_156826600.jpg\n",
            "images/139.Scarlet_Tanager/Scarlet_Tanager_0025_2476850676.jpg\n",
            "images/139.Scarlet_Tanager/Scarlet_Tanager_0026_2466286020.jpg\n",
            "images/138.Tree_Swallow/Tree_Swallow_0001_498071587.jpg\n",
            "images/138.Tree_Swallow/Tree_Swallow_0002_227609515.jpg\n",
            "images/138.Tree_Swallow/Tree_Swallow_0003_2459482329.jpg\n",
            "images/138.Tree_Swallow/Tree_Swallow_0004_501449196.jpg\n",
            "images/138.Tree_Swallow/Tree_Swallow_0005_2482519152.jpg\n",
            "images/138.Tree_Swallow/Tree_Swallow_0006_455799243.jpg\n",
            "images/138.Tree_Swallow/Tree_Swallow_0007_133236408.jpg\n",
            "images/138.Tree_Swallow/Tree_Swallow_0008_538674240.jpg\n",
            "images/138.Tree_Swallow/Tree_Swallow_0009_165347175.jpg\n",
            "images/138.Tree_Swallow/Tree_Swallow_0010_455799247.jpg\n",
            "images/138.Tree_Swallow/Tree_Swallow_0011_171927390.jpg\n",
            "images/138.Tree_Swallow/Tree_Swallow_0012_227609514.jpg\n",
            "images/138.Tree_Swallow/Tree_Swallow_0013_418209968.jpg\n",
            "images/138.Tree_Swallow/Tree_Swallow_0014_2437906017.jpg\n",
            "images/138.Tree_Swallow/Tree_Swallow_0015_2533473346.jpg\n",
            "images/138.Tree_Swallow/Tree_Swallow_0016_160032077.jpg\n",
            "images/138.Tree_Swallow/Tree_Swallow_0017_2841381515.jpg\n",
            "images/138.Tree_Swallow/Tree_Swallow_0018_466617874.jpg\n",
            "images/138.Tree_Swallow/Tree_Swallow_0019_497217532.jpg\n",
            "images/138.Tree_Swallow/Tree_Swallow_0020_155617388.jpg\n",
            "images/138.Tree_Swallow/Tree_Swallow_0021_2563593740.jpg\n",
            "images/138.Tree_Swallow/Tree_Swallow_0022_540977448.jpg\n",
            "images/138.Tree_Swallow/Tree_Swallow_0023_227609516.jpg\n",
            "images/138.Tree_Swallow/Tree_Swallow_0024_2403341380.jpg\n",
            "images/138.Tree_Swallow/Tree_Swallow_0025_143361083.jpg\n",
            "images/138.Tree_Swallow/Tree_Swallow_0026_412936388.jpg\n",
            "images/138.Tree_Swallow/Tree_Swallow_0027_160032078.jpg\n",
            "images/138.Tree_Swallow/Tree_Swallow_0028_741770964.jpg\n",
            "images/138.Tree_Swallow/Tree_Swallow_0029_139508432.jpg\n",
            "images/138.Tree_Swallow/Tree_Swallow_0030_135878145.jpg\n",
            "images/138.Tree_Swallow/Tree_Swallow_0031_2509049387.jpg\n",
            "images/138.Tree_Swallow/Tree_Swallow_0032_761368301.jpg\n",
            "images/138.Tree_Swallow/Tree_Swallow_0033_2554324973.jpg\n",
            "images/137.Cliff_Swallow/Cliff_Swallow_0001_1199523234.jpg\n",
            "images/137.Cliff_Swallow/Cliff_Swallow_0002_179398411.jpg\n",
            "images/137.Cliff_Swallow/Cliff_Swallow_0003_2606019691.jpg\n",
            "images/137.Cliff_Swallow/Cliff_Swallow_0004_2516799789.jpg\n",
            "images/137.Cliff_Swallow/Cliff_Swallow_0005_493091581.jpg\n",
            "images/137.Cliff_Swallow/Cliff_Swallow_0006_2028340958.jpg\n",
            "images/137.Cliff_Swallow/Cliff_Swallow_0007_131572778.jpg\n",
            "images/137.Cliff_Swallow/Cliff_Swallow_0008_2475295022.jpg\n",
            "images/137.Cliff_Swallow/Cliff_Swallow_0009_535289093.jpg\n",
            "images/137.Cliff_Swallow/Cliff_Swallow_0010_2439269027.jpg\n",
            "images/137.Cliff_Swallow/Cliff_Swallow_0011_2446385997.jpg\n",
            "images/137.Cliff_Swallow/Cliff_Swallow_0012_2577747185.jpg\n",
            "images/137.Cliff_Swallow/Cliff_Swallow_0013_2578580392.jpg\n",
            "images/137.Cliff_Swallow/Cliff_Swallow_0014_2517620738.jpg\n",
            "images/137.Cliff_Swallow/Cliff_Swallow_0015_2616937730.jpg\n",
            "images/137.Cliff_Swallow/Cliff_Swallow_0016_2616098515.jpg\n",
            "images/137.Cliff_Swallow/Cliff_Swallow_0017_2548235315.jpg\n",
            "images/137.Cliff_Swallow/Cliff_Swallow_0018_2890238370.jpg\n",
            "images/137.Cliff_Swallow/Cliff_Swallow_0019_2448145154.jpg\n",
            "images/137.Cliff_Swallow/Cliff_Swallow_0020_2439269023.jpg\n",
            "images/137.Cliff_Swallow/Cliff_Swallow_0021_2439269019.jpg\n",
            "images/137.Cliff_Swallow/Cliff_Swallow_0022_2044912569.jpg\n",
            "images/137.Cliff_Swallow/Cliff_Swallow_0023_1195006259.jpg\n",
            "images/137.Cliff_Swallow/Cliff_Swallow_0024_300459970.jpg\n",
            "images/137.Cliff_Swallow/Cliff_Swallow_0025_1288207122.jpg\n",
            "images/137.Cliff_Swallow/Cliff_Swallow_0026_131574715.jpg\n",
            "images/137.Cliff_Swallow/Cliff_Swallow_0027_924529134.jpg\n",
            "images/137.Cliff_Swallow/Cliff_Swallow_0028_131572746.jpg\n",
            "images/137.Cliff_Swallow/Cliff_Swallow_0029_2514295561.jpg\n",
            "images/137.Cliff_Swallow/Cliff_Swallow_0030_505132356.jpg\n",
            "images/137.Cliff_Swallow/Cliff_Swallow_0031_2601703522.jpg\n",
            "images/136.Barn_Swallow/Barn_Swallow_0001_376860835.jpg\n",
            "images/136.Barn_Swallow/Barn_Swallow_0002_2664040010.jpg\n",
            "images/136.Barn_Swallow/Barn_Swallow_0003_853081023.jpg\n",
            "images/136.Barn_Swallow/Barn_Swallow_0004_2795578171.jpg\n",
            "images/136.Barn_Swallow/Barn_Swallow_0005_771020286.jpg\n",
            "images/136.Barn_Swallow/Barn_Swallow_0006_273208273.jpg\n",
            "images/136.Barn_Swallow/Barn_Swallow_0007_2702748251.jpg\n",
            "images/136.Barn_Swallow/Barn_Swallow_0008_2591942576.jpg\n",
            "images/136.Barn_Swallow/Barn_Swallow_0009_253051166.jpg\n",
            "images/136.Barn_Swallow/Barn_Swallow_0010_2677764808.jpg\n",
            "images/136.Barn_Swallow/Barn_Swallow_0011_136821627.jpg\n",
            "images/136.Barn_Swallow/Barn_Swallow_0012_881789010.jpg\n",
            "images/136.Barn_Swallow/Barn_Swallow_0013_2726956454.jpg\n",
            "images/136.Barn_Swallow/Barn_Swallow_0014_484185866.jpg\n",
            "images/136.Barn_Swallow/Barn_Swallow_0015_335625657.jpg\n",
            "images/136.Barn_Swallow/Barn_Swallow_0016_2745365054.jpg\n",
            "images/136.Barn_Swallow/Barn_Swallow_0017_260261219.jpg\n",
            "images/136.Barn_Swallow/Barn_Swallow_0018_2648002634.jpg\n",
            "images/136.Barn_Swallow/Barn_Swallow_0019_2601271334.jpg\n",
            "images/136.Barn_Swallow/Barn_Swallow_0020_2380146927.jpg\n",
            "images/136.Barn_Swallow/Barn_Swallow_0021_2501553993.jpg\n",
            "images/136.Barn_Swallow/Barn_Swallow_0022_2488011310.jpg\n",
            "images/136.Barn_Swallow/Barn_Swallow_0023_253049834.jpg\n",
            "images/136.Barn_Swallow/Barn_Swallow_0024_820423004.jpg\n",
            "images/135.Bank_Swallow/Bank_Swallow_0001_485480050.jpg\n",
            "images/135.Bank_Swallow/Bank_Swallow_0002_485480058.jpg\n",
            "images/135.Bank_Swallow/Bank_Swallow_0003_2495682793.jpg\n",
            "images/135.Bank_Swallow/Bank_Swallow_0004_2749791122.jpg\n",
            "images/135.Bank_Swallow/Bank_Swallow_0005_2301621613.jpg\n",
            "images/135.Bank_Swallow/Bank_Swallow_0006_543566786.jpg\n",
            "images/135.Bank_Swallow/Bank_Swallow_0007_543566776.jpg\n",
            "images/135.Bank_Swallow/Bank_Swallow_0008_2587719859.jpg\n",
            "images/135.Bank_Swallow/Bank_Swallow_0009_2834590050.jpg\n",
            "images/135.Bank_Swallow/Bank_Swallow_0010_221503774.jpg\n",
            "images/135.Bank_Swallow/Bank_Swallow_0011_471468216.jpg\n",
            "images/135.Bank_Swallow/Bank_Swallow_0012_2775637859.jpg\n",
            "images/135.Bank_Swallow/Bank_Swallow_0013_2545719473.jpg\n",
            "images/135.Bank_Swallow/Bank_Swallow_0014_2534994029.jpg\n",
            "images/135.Bank_Swallow/Bank_Swallow_0015_2490996434.jpg\n",
            "images/135.Bank_Swallow/Bank_Swallow_0016_221502764.jpg\n",
            "images/135.Bank_Swallow/Bank_Swallow_0017_2704702757.jpg\n",
            "images/135.Bank_Swallow/Bank_Swallow_0018_2775643471.jpg\n",
            "images/135.Bank_Swallow/Bank_Swallow_0019_2615988067.jpg\n",
            "images/135.Bank_Swallow/Bank_Swallow_0020_2441168233.jpg\n",
            "images/135.Bank_Swallow/Bank_Swallow_0021_310601911.jpg\n",
            "images/135.Bank_Swallow/Bank_Swallow_0022_987303653.jpg\n",
            "images/135.Bank_Swallow/Bank_Swallow_0023_2647552341.jpg\n",
            "images/134.Cape_Glossy_Starling/Cape_Glossy_Starling_0001_2946382397.jpg\n",
            "images/134.Cape_Glossy_Starling/Cape_Glossy_Starling_0002_3021677625.jpg\n",
            "images/134.Cape_Glossy_Starling/Cape_Glossy_Starling_0003_1266705889.jpg\n",
            "images/134.Cape_Glossy_Starling/Cape_Glossy_Starling_0004_2970296856.jpg\n",
            "images/134.Cape_Glossy_Starling/Cape_Glossy_Starling_0005_289731608.jpg\n",
            "images/134.Cape_Glossy_Starling/Cape_Glossy_Starling_0006_3008594182.jpg\n",
            "images/134.Cape_Glossy_Starling/Cape_Glossy_Starling_0007_3006025316.jpg\n",
            "images/134.Cape_Glossy_Starling/Cape_Glossy_Starling_0008_1423783258.jpg\n",
            "images/134.Cape_Glossy_Starling/Cape_Glossy_Starling_0009_1422901799.jpg\n",
            "images/134.Cape_Glossy_Starling/Cape_Glossy_Starling_0010_2710064439.jpg\n",
            "images/134.Cape_Glossy_Starling/Cape_Glossy_Starling_0011_3240979609.jpg\n",
            "images/134.Cape_Glossy_Starling/Cape_Glossy_Starling_0012_2715636445.jpg\n",
            "images/134.Cape_Glossy_Starling/Cape_Glossy_Starling_0013_383491936.jpg\n",
            "images/134.Cape_Glossy_Starling/Cape_Glossy_Starling_0014_3253469514.jpg\n",
            "images/134.Cape_Glossy_Starling/Cape_Glossy_Starling_0015_2006367232.jpg\n",
            "images/134.Cape_Glossy_Starling/Cape_Glossy_Starling_0016_539852866.jpg\n",
            "images/134.Cape_Glossy_Starling/Cape_Glossy_Starling_0017_256745870.jpg\n",
            "images/134.Cape_Glossy_Starling/Cape_Glossy_Starling_0018_461243273.jpg\n",
            "images/134.Cape_Glossy_Starling/Cape_Glossy_Starling_0019_43942619.jpg\n",
            "images/134.Cape_Glossy_Starling/Cape_Glossy_Starling_0020_2500538955.jpg\n",
            "images/134.Cape_Glossy_Starling/Cape_Glossy_Starling_0021_2183151845.jpg\n",
            "images/134.Cape_Glossy_Starling/Cape_Glossy_Starling_0022_2342119434.jpg\n",
            "images/134.Cape_Glossy_Starling/Cape_Glossy_Starling_0023_74827999.jpg\n",
            "images/134.Cape_Glossy_Starling/Cape_Glossy_Starling_0024_2406998037.jpg\n",
            "images/134.Cape_Glossy_Starling/Cape_Glossy_Starling_0025_2768334163.jpg\n",
            "images/134.Cape_Glossy_Starling/Cape_Glossy_Starling_0026_331125301.jpg\n",
            "images/134.Cape_Glossy_Starling/Cape_Glossy_Starling_0027_1266300536.jpg\n",
            "images/134.Cape_Glossy_Starling/Cape_Glossy_Starling_0028_3084579201.jpg\n",
            "images/134.Cape_Glossy_Starling/Cape_Glossy_Starling_0029_331125391.jpg\n",
            "images/134.Cape_Glossy_Starling/Cape_Glossy_Starling_0030_3187175183.jpg\n",
            "images/134.Cape_Glossy_Starling/Cape_Glossy_Starling_0031_3302148059.jpg\n",
            "images/134.Cape_Glossy_Starling/Cape_Glossy_Starling_0032_3188892648.jpg\n",
            "images/134.Cape_Glossy_Starling/Cape_Glossy_Starling_0033_2991381883.jpg\n",
            "images/134.Cape_Glossy_Starling/Cape_Glossy_Starling_0034_2384676381.jpg\n",
            "images/134.Cape_Glossy_Starling/Cape_Glossy_Starling_0035_1521224737.jpg\n",
            "images/134.Cape_Glossy_Starling/Cape_Glossy_Starling_0036_3040385533.jpg\n",
            "images/134.Cape_Glossy_Starling/Cape_Glossy_Starling_0037_2393299977.jpg\n",
            "images/133.White_throated_Sparrow/White_throated_Sparrow_0001_3031856535.jpg\n",
            "images/133.White_throated_Sparrow/White_throated_Sparrow_0002_1796334009.jpg\n",
            "images/133.White_throated_Sparrow/White_throated_Sparrow_0003_2174626603.jpg\n",
            "images/133.White_throated_Sparrow/White_throated_Sparrow_0004_2992274289.jpg\n",
            "images/133.White_throated_Sparrow/White_throated_Sparrow_0005_2886858731.jpg\n",
            "images/133.White_throated_Sparrow/White_throated_Sparrow_0006_2314795913.jpg\n",
            "images/133.White_throated_Sparrow/White_throated_Sparrow_0007_2292752318.jpg\n",
            "images/133.White_throated_Sparrow/White_throated_Sparrow_0008_397127094.jpg\n",
            "images/133.White_throated_Sparrow/White_throated_Sparrow_0009_2958793460.jpg\n",
            "images/133.White_throated_Sparrow/White_throated_Sparrow_0010_2925041123.jpg\n",
            "images/133.White_throated_Sparrow/White_throated_Sparrow_0011_141278213.jpg\n",
            "images/133.White_throated_Sparrow/White_throated_Sparrow_0012_2660677462.jpg\n",
            "images/133.White_throated_Sparrow/White_throated_Sparrow_0013_2322281482.jpg\n",
            "images/133.White_throated_Sparrow/White_throated_Sparrow_0014_2887691822.jpg\n",
            "images/133.White_throated_Sparrow/White_throated_Sparrow_0015_2458656639.jpg\n",
            "images/133.White_throated_Sparrow/White_throated_Sparrow_0016_2467785238.jpg\n",
            "images/133.White_throated_Sparrow/White_throated_Sparrow_0017_3022524040.jpg\n",
            "images/133.White_throated_Sparrow/White_throated_Sparrow_0018_2444478542.jpg\n",
            "images/133.White_throated_Sparrow/White_throated_Sparrow_0019_3073844487.jpg\n",
            "images/133.White_throated_Sparrow/White_throated_Sparrow_0020_2946163771.jpg\n",
            "images/133.White_throated_Sparrow/White_throated_Sparrow_0021_477666734.jpg\n",
            "images/133.White_throated_Sparrow/White_throated_Sparrow_0022_2940657898.jpg\n",
            "images/133.White_throated_Sparrow/White_throated_Sparrow_0023_3042338675.jpg\n",
            "images/133.White_throated_Sparrow/White_throated_Sparrow_0024_243829537.jpg\n",
            "images/133.White_throated_Sparrow/White_throated_Sparrow_0025_2384953183.jpg\n",
            "images/133.White_throated_Sparrow/White_throated_Sparrow_0026_353188919.jpg\n",
            "images/133.White_throated_Sparrow/White_throated_Sparrow_0027_2223727461.jpg\n",
            "images/133.White_throated_Sparrow/White_throated_Sparrow_0028_2796497722.jpg\n",
            "images/133.White_throated_Sparrow/White_throated_Sparrow_0029_3103467816.jpg\n",
            "images/133.White_throated_Sparrow/White_throated_Sparrow_0030_153904817.jpg\n",
            "images/133.White_throated_Sparrow/White_throated_Sparrow_0031_2317406640.jpg\n",
            "images/133.White_throated_Sparrow/White_throated_Sparrow_0032_2059696089.jpg\n",
            "images/133.White_throated_Sparrow/White_throated_Sparrow_0033_2432665669.jpg\n",
            "images/133.White_throated_Sparrow/White_throated_Sparrow_0034_2480891035.jpg\n",
            "images/133.White_throated_Sparrow/White_throated_Sparrow_0035_2462905996.jpg\n",
            "images/132.White_crowned_Sparrow/White_crowned_Sparrow_0001_2474971113.jpg\n",
            "images/132.White_crowned_Sparrow/White_crowned_Sparrow_0002_121247040.jpg\n",
            "images/132.White_crowned_Sparrow/White_crowned_Sparrow_0003_115744779.jpg\n",
            "images/132.White_crowned_Sparrow/White_crowned_Sparrow_0004_2232004154.jpg\n",
            "images/132.White_crowned_Sparrow/White_crowned_Sparrow_0005_352279625.jpg\n",
            "images/132.White_crowned_Sparrow/White_crowned_Sparrow_0006_2671941553.jpg\n",
            "images/132.White_crowned_Sparrow/White_crowned_Sparrow_0007_2938820313.jpg\n",
            "images/132.White_crowned_Sparrow/White_crowned_Sparrow_0008_2229271003.jpg\n",
            "images/132.White_crowned_Sparrow/White_crowned_Sparrow_0009_444466313.jpg\n",
            "images/132.White_crowned_Sparrow/White_crowned_Sparrow_0010_268039933.jpg\n",
            "images/132.White_crowned_Sparrow/White_crowned_Sparrow_0011_349646923.jpg\n",
            "images/132.White_crowned_Sparrow/White_crowned_Sparrow_0012_xxx.jpg\n",
            "images/132.White_crowned_Sparrow/White_crowned_Sparrow_0013_795582815.jpg\n",
            "images/132.White_crowned_Sparrow/White_crowned_Sparrow_0014_2298723869.jpg\n",
            "images/132.White_crowned_Sparrow/White_crowned_Sparrow_0015_2473980671.jpg\n",
            "images/132.White_crowned_Sparrow/White_crowned_Sparrow_0016_2501553875.jpg\n",
            "images/132.White_crowned_Sparrow/White_crowned_Sparrow_0017_3040625222.jpg\n",
            "images/132.White_crowned_Sparrow/White_crowned_Sparrow_0018_2348507049.jpg\n",
            "images/132.White_crowned_Sparrow/White_crowned_Sparrow_0019_xxx.jpg\n",
            "images/132.White_crowned_Sparrow/White_crowned_Sparrow_0020_2327623753.jpg\n",
            "images/132.White_crowned_Sparrow/White_crowned_Sparrow_0021_xxx.jpg\n",
            "images/132.White_crowned_Sparrow/White_crowned_Sparrow_0022_2472817511.jpg\n",
            "images/132.White_crowned_Sparrow/White_crowned_Sparrow_0023_2225913204.jpg\n",
            "images/132.White_crowned_Sparrow/White_crowned_Sparrow_0024_521882124.jpg\n",
            "images/132.White_crowned_Sparrow/White_crowned_Sparrow_0025_2413956917.jpg\n",
            "images/131.Vesper_Sparrow/Vesper_Sparrow_0001_2655074586.jpg\n",
            "images/131.Vesper_Sparrow/Vesper_Sparrow_0002_2676566230.jpg\n",
            "images/131.Vesper_Sparrow/Vesper_Sparrow_0003_2975199769.jpg\n",
            "images/131.Vesper_Sparrow/Vesper_Sparrow_0004_1769798864.jpg\n",
            "images/131.Vesper_Sparrow/Vesper_Sparrow_0005_507200201.jpg\n",
            "images/131.Vesper_Sparrow/Vesper_Sparrow_0006_2902349669.jpg\n",
            "images/131.Vesper_Sparrow/Vesper_Sparrow_0007_404162345.jpg\n",
            "images/131.Vesper_Sparrow/Vesper_Sparrow_0008_3024123594.jpg\n",
            "images/131.Vesper_Sparrow/Vesper_Sparrow_0009_474096170.jpg\n",
            "images/131.Vesper_Sparrow/Vesper_Sparrow_0010_144879272.jpg\n",
            "images/131.Vesper_Sparrow/Vesper_Sparrow_0011_1768952163.jpg\n",
            "images/131.Vesper_Sparrow/Vesper_Sparrow_0012_1769798260.jpg\n",
            "images/131.Vesper_Sparrow/Vesper_Sparrow_0013_2930106572.jpg\n",
            "images/131.Vesper_Sparrow/Vesper_Sparrow_0014_2929246967.jpg\n",
            "images/131.Vesper_Sparrow/Vesper_Sparrow_0015_223617946.jpg\n",
            "images/131.Vesper_Sparrow/Vesper_Sparrow_0016_1561167379.jpg\n",
            "images/131.Vesper_Sparrow/Vesper_Sparrow_0017_2549337769.jpg\n",
            "images/131.Vesper_Sparrow/Vesper_Sparrow_0018_2606067375.jpg\n",
            "images/131.Vesper_Sparrow/Vesper_Sparrow_0019_2123679005.jpg\n",
            "images/131.Vesper_Sparrow/Vesper_Sparrow_0020_177390924.jpg\n",
            "images/131.Vesper_Sparrow/Vesper_Sparrow_0021_149448089.jpg\n",
            "images/131.Vesper_Sparrow/Vesper_Sparrow_0022_152212633.jpg\n",
            "images/131.Vesper_Sparrow/Vesper_Sparrow_0023_152212629.jpg\n",
            "images/131.Vesper_Sparrow/Vesper_Sparrow_0024_3006983248.jpg\n",
            "images/131.Vesper_Sparrow/Vesper_Sparrow_0025_3006146567.jpg\n",
            "images/131.Vesper_Sparrow/Vesper_Sparrow_0026_2589289404.jpg\n",
            "images/131.Vesper_Sparrow/Vesper_Sparrow_0027_3093796544.jpg\n",
            "images/131.Vesper_Sparrow/Vesper_Sparrow_0028_2503181272.jpg\n",
            "images/131.Vesper_Sparrow/Vesper_Sparrow_0029_2537117646.jpg\n",
            "images/131.Vesper_Sparrow/Vesper_Sparrow_0030_2491055566.jpg\n",
            "images/131.Vesper_Sparrow/Vesper_Sparrow_0031_2490239339.jpg\n",
            "images/131.Vesper_Sparrow/Vesper_Sparrow_0032_144879271.jpg\n",
            "images/131.Vesper_Sparrow/Vesper_Sparrow_0033_144879270.jpg\n",
            "images/131.Vesper_Sparrow/Vesper_Sparrow_0034_59200319.jpg\n",
            "images/131.Vesper_Sparrow/Vesper_Sparrow_0035_525042903.jpg\n",
            "images/131.Vesper_Sparrow/Vesper_Sparrow_0036_1296793534.jpg\n",
            "images/131.Vesper_Sparrow/Vesper_Sparrow_0037_2651489536.jpg\n",
            "images/131.Vesper_Sparrow/Vesper_Sparrow_0038_2418154276.jpg\n",
            "images/130.Tree_Sparrow/Tree_Sparrow_0001_229419502.jpg\n",
            "images/130.Tree_Sparrow/Tree_Sparrow_0002_2395530362.jpg\n",
            "images/130.Tree_Sparrow/Tree_Sparrow_0003_221186835.jpg\n",
            "images/130.Tree_Sparrow/Tree_Sparrow_0004_3056316761.jpg\n",
            "images/130.Tree_Sparrow/Tree_Sparrow_0005_2323220029.jpg\n",
            "images/130.Tree_Sparrow/Tree_Sparrow_0006_115786212.jpg\n",
            "images/130.Tree_Sparrow/Tree_Sparrow_0007_107828931.jpg\n",
            "images/130.Tree_Sparrow/Tree_Sparrow_0008_262761949.jpg\n",
            "images/130.Tree_Sparrow/Tree_Sparrow_0009_2881935555.jpg\n",
            "images/130.Tree_Sparrow/Tree_Sparrow_0010_6908084.jpg\n",
            "images/130.Tree_Sparrow/Tree_Sparrow_0011_257398370.jpg\n",
            "images/130.Tree_Sparrow/Tree_Sparrow_0012_399266733.jpg\n",
            "images/130.Tree_Sparrow/Tree_Sparrow_0013_415954881.jpg\n",
            "images/130.Tree_Sparrow/Tree_Sparrow_0014_2901875212.jpg\n",
            "images/130.Tree_Sparrow/Tree_Sparrow_0015_116433378.jpg\n",
            "images/130.Tree_Sparrow/Tree_Sparrow_0016_227402964.jpg\n",
            "images/130.Tree_Sparrow/Tree_Sparrow_0017_2561785181.jpg\n",
            "images/130.Tree_Sparrow/Tree_Sparrow_0018_241643763.jpg\n",
            "images/130.Tree_Sparrow/Tree_Sparrow_0019_412869748.jpg\n",
            "images/130.Tree_Sparrow/Tree_Sparrow_0020_1284115096.jpg\n",
            "images/129.Song_Sparrow/Song_Sparrow_0001_1731394623.jpg\n",
            "images/129.Song_Sparrow/Song_Sparrow_0002_430713524.jpg\n",
            "images/129.Song_Sparrow/Song_Sparrow_0003_295074024.jpg\n",
            "images/129.Song_Sparrow/Song_Sparrow_0004_2338128915.jpg\n",
            "images/129.Song_Sparrow/Song_Sparrow_0005_1133224871.jpg\n",
            "images/129.Song_Sparrow/Song_Sparrow_0006_2075202921.jpg\n",
            "images/129.Song_Sparrow/Song_Sparrow_0007_2768136660.jpg\n",
            "images/129.Song_Sparrow/Song_Sparrow_0008_2786128046.jpg\n",
            "images/129.Song_Sparrow/Song_Sparrow_0009_2345592522.jpg\n",
            "images/129.Song_Sparrow/Song_Sparrow_0010_635571988.jpg\n",
            "images/129.Song_Sparrow/Song_Sparrow_0011_2503939936.jpg\n",
            "images/129.Song_Sparrow/Song_Sparrow_0012_35477465.jpg\n",
            "images/129.Song_Sparrow/Song_Sparrow_0013_444794389.jpg\n",
            "images/129.Song_Sparrow/Song_Sparrow_0014_2697116669.jpg\n",
            "images/129.Song_Sparrow/Song_Sparrow_0015_2339823786.jpg\n",
            "images/129.Song_Sparrow/Song_Sparrow_0016_188443689.jpg\n",
            "images/129.Song_Sparrow/Song_Sparrow_0017_103261749.jpg\n",
            "images/129.Song_Sparrow/Song_Sparrow_0018_466727756.jpg\n",
            "images/129.Song_Sparrow/Song_Sparrow_0019_131303097.jpg\n",
            "images/129.Song_Sparrow/Song_Sparrow_0020_377930762.jpg\n",
            "images/129.Song_Sparrow/Song_Sparrow_0021_15006626.jpg\n",
            "images/129.Song_Sparrow/Song_Sparrow_0022_419967613.jpg\n",
            "images/129.Song_Sparrow/Song_Sparrow_0023_2489532836.jpg\n",
            "images/129.Song_Sparrow/Song_Sparrow_0024_127063426.jpg\n",
            "images/129.Song_Sparrow/Song_Sparrow_0025_184535833.jpg\n",
            "images/129.Song_Sparrow/Song_Sparrow_0026_2366262277.jpg\n",
            "images/129.Song_Sparrow/Song_Sparrow_0027_2481939188.jpg\n",
            "images/129.Song_Sparrow/Song_Sparrow_0028_2697116121.jpg\n",
            "images/129.Song_Sparrow/Song_Sparrow_0029_2387028139.jpg\n",
            "images/129.Song_Sparrow/Song_Sparrow_0030_2612345165.jpg\n",
            "images/129.Song_Sparrow/Song_Sparrow_0031_2441859484.jpg\n",
            "images/129.Song_Sparrow/Song_Sparrow_0032_2237580089.jpg\n",
            "images/129.Song_Sparrow/Song_Sparrow_0033_29798518.jpg\n",
            "images/129.Song_Sparrow/Song_Sparrow_0034_166614633.jpg\n",
            "images/129.Song_Sparrow/Song_Sparrow_0035_359740332.jpg\n",
            "images/129.Song_Sparrow/Song_Sparrow_0036_2542105428.jpg\n",
            "images/129.Song_Sparrow/Song_Sparrow_0037_112629877.jpg\n",
            "images/129.Song_Sparrow/Song_Sparrow_0038_459215584.jpg\n",
            "images/129.Song_Sparrow/Song_Sparrow_0039_2060877415.jpg\n",
            "images/128.Seaside_Sparrow/Seaside_Sparrow_0001_2457934523.jpg\n",
            "images/128.Seaside_Sparrow/Seaside_Sparrow_0002_xxx.jpg\n",
            "images/128.Seaside_Sparrow/Seaside_Sparrow_0003_84110094.jpg\n",
            "images/128.Seaside_Sparrow/Seaside_Sparrow_0004_147710679.jpg\n",
            "images/128.Seaside_Sparrow/Seaside_Sparrow_0005_2571017879.jpg\n",
            "images/128.Seaside_Sparrow/Seaside_Sparrow_0006_2671966118.jpg\n",
            "images/128.Seaside_Sparrow/Seaside_Sparrow_0007_2534637322.jpg\n",
            "images/128.Seaside_Sparrow/Seaside_Sparrow_0008_270636967.jpg\n",
            "images/128.Seaside_Sparrow/Seaside_Sparrow_0009_2535932236.jpg\n",
            "images/128.Seaside_Sparrow/Seaside_Sparrow_0010_2533836741.jpg\n",
            "images/128.Seaside_Sparrow/Seaside_Sparrow_0011_270637000.jpg\n",
            "images/128.Seaside_Sparrow/Seaside_Sparrow_0012_270633600.jpg\n",
            "images/128.Seaside_Sparrow/Seaside_Sparrow_0013_532519918.jpg\n",
            "images/128.Seaside_Sparrow/Seaside_Sparrow_0014_2838128393.jpg\n",
            "images/128.Seaside_Sparrow/Seaside_Sparrow_0015_2636539368.jpg\n",
            "images/128.Seaside_Sparrow/Seaside_Sparrow_0016_2635714515.jpg\n",
            "images/128.Seaside_Sparrow/Seaside_Sparrow_0017_2838127511.jpg\n",
            "images/128.Seaside_Sparrow/Seaside_Sparrow_0018_2838962726.jpg\n",
            "images/128.Seaside_Sparrow/Seaside_Sparrow_0019_2511462553.jpg\n",
            "images/128.Seaside_Sparrow/Seaside_Sparrow_0020_2141415204.jpg\n",
            "images/128.Seaside_Sparrow/Seaside_Sparrow_0021_2141415510.jpg\n",
            "images/128.Seaside_Sparrow/Seaside_Sparrow_0022_1173917391.jpg\n",
            "images/128.Seaside_Sparrow/Seaside_Sparrow_0023_2511462635.jpg\n",
            "images/127.Savannah_Sparrow/Savannah_Sparrow_0001_2998791187.jpg\n",
            "images/127.Savannah_Sparrow/Savannah_Sparrow_0002_358158578.jpg\n",
            "images/127.Savannah_Sparrow/Savannah_Sparrow_0003_478434728.jpg\n",
            "images/127.Savannah_Sparrow/Savannah_Sparrow_0004_2560880594.jpg\n",
            "images/127.Savannah_Sparrow/Savannah_Sparrow_0005_3054818893.jpg\n",
            "images/127.Savannah_Sparrow/Savannah_Sparrow_0006_2747488801.jpg\n",
            "images/127.Savannah_Sparrow/Savannah_Sparrow_0007_2540661828.jpg\n",
            "images/127.Savannah_Sparrow/Savannah_Sparrow_0008_2738151401.jpg\n",
            "images/127.Savannah_Sparrow/Savannah_Sparrow_0009_271670351.jpg\n",
            "images/127.Savannah_Sparrow/Savannah_Sparrow_0010_3055653846.jpg\n",
            "images/127.Savannah_Sparrow/Savannah_Sparrow_0011_390636219.jpg\n",
            "images/127.Savannah_Sparrow/Savannah_Sparrow_0012_2846235014.jpg\n",
            "images/127.Savannah_Sparrow/Savannah_Sparrow_0013_3011075412.jpg\n",
            "images/127.Savannah_Sparrow/Savannah_Sparrow_0014_308254957.jpg\n",
            "images/127.Savannah_Sparrow/Savannah_Sparrow_0015_394485346.jpg\n",
            "images/127.Savannah_Sparrow/Savannah_Sparrow_0016_3101357630.jpg\n",
            "images/127.Savannah_Sparrow/Savannah_Sparrow_0017_394483541.jpg\n",
            "images/127.Savannah_Sparrow/Savannah_Sparrow_0018_2411280405.jpg\n",
            "images/127.Savannah_Sparrow/Savannah_Sparrow_0019_226627793.jpg\n",
            "images/127.Savannah_Sparrow/Savannah_Sparrow_0020_2457599417.jpg\n",
            "images/127.Savannah_Sparrow/Savannah_Sparrow_0021_2412106756.jpg\n",
            "images/127.Savannah_Sparrow/Savannah_Sparrow_0022_2261738735.jpg\n",
            "images/127.Savannah_Sparrow/Savannah_Sparrow_0023_2994668423.jpg\n",
            "images/127.Savannah_Sparrow/Savannah_Sparrow_0024_3010238173.jpg\n",
            "images/127.Savannah_Sparrow/Savannah_Sparrow_0025_1577205964.jpg\n",
            "images/127.Savannah_Sparrow/Savannah_Sparrow_0026_59207488.jpg\n",
            "images/127.Savannah_Sparrow/Savannah_Sparrow_0027_1013983382.jpg\n",
            "images/127.Savannah_Sparrow/Savannah_Sparrow_0028_2446492306.jpg\n",
            "images/127.Savannah_Sparrow/Savannah_Sparrow_0029_3010234903.jpg\n",
            "images/127.Savannah_Sparrow/Savannah_Sparrow_0030_776788474.jpg\n",
            "images/127.Savannah_Sparrow/Savannah_Sparrow_0031_163936200.jpg\n",
            "images/127.Savannah_Sparrow/Savannah_Sparrow_0032_477227043.jpg\n",
            "images/127.Savannah_Sparrow/Savannah_Sparrow_0033_253051185.jpg\n",
            "images/127.Savannah_Sparrow/Savannah_Sparrow_0034_313738481.jpg\n",
            "images/126.Nelson_Sharp_tailed_Sparrow/Nelson_Sharp_tailed_Sparrow_0001_276178390.jpg\n",
            "images/126.Nelson_Sharp_tailed_Sparrow/Nelson_Sharp_tailed_Sparrow_0002_286466391.jpg\n",
            "images/126.Nelson_Sharp_tailed_Sparrow/Nelson_Sharp_tailed_Sparrow_0003_1557008020.jpg\n",
            "images/126.Nelson_Sharp_tailed_Sparrow/Nelson_Sharp_tailed_Sparrow_0004_152204610.jpg\n",
            "images/126.Nelson_Sharp_tailed_Sparrow/Nelson_Sharp_tailed_Sparrow_0005_152204609.jpg\n",
            "images/126.Nelson_Sharp_tailed_Sparrow/Nelson_Sharp_tailed_Sparrow_0006_1557008862.jpg\n",
            "images/126.Nelson_Sharp_tailed_Sparrow/Nelson_Sharp_tailed_Sparrow_0007_1557009642.jpg\n",
            "images/126.Nelson_Sharp_tailed_Sparrow/Nelson_Sharp_tailed_Sparrow_0008_2984833743.jpg\n",
            "images/126.Nelson_Sharp_tailed_Sparrow/Nelson_Sharp_tailed_Sparrow_0009_314414007.jpg\n",
            "images/126.Nelson_Sharp_tailed_Sparrow/Nelson_Sharp_tailed_Sparrow_0010_59212512.jpg\n",
            "images/126.Nelson_Sharp_tailed_Sparrow/Nelson_Sharp_tailed_Sparrow_0011_280211134.jpg\n",
            "images/126.Nelson_Sharp_tailed_Sparrow/Nelson_Sharp_tailed_Sparrow_0012_70630705.jpg\n",
            "images/126.Nelson_Sharp_tailed_Sparrow/Nelson_Sharp_tailed_Sparrow_0013_59212125.jpg\n",
            "images/126.Nelson_Sharp_tailed_Sparrow/Nelson_Sharp_tailed_Sparrow_0014_2976949390.jpg\n",
            "images/126.Nelson_Sharp_tailed_Sparrow/Nelson_Sharp_tailed_Sparrow_0015_299852330.jpg\n",
            "images/126.Nelson_Sharp_tailed_Sparrow/Nelson_Sharp_tailed_Sparrow_0016_280211137.jpg\n",
            "images/126.Nelson_Sharp_tailed_Sparrow/Nelson_Sharp_tailed_Sparrow_0017_1450736219.jpg\n",
            "images/126.Nelson_Sharp_tailed_Sparrow/Nelson_Sharp_tailed_Sparrow_0018_920737981.jpg\n",
            "images/126.Nelson_Sharp_tailed_Sparrow/Nelson_Sharp_tailed_Sparrow_0019_59216488.jpg\n",
            "images/126.Nelson_Sharp_tailed_Sparrow/Nelson_Sharp_tailed_Sparrow_0020_2539670555.jpg\n",
            "images/126.Nelson_Sharp_tailed_Sparrow/Nelson_Sharp_tailed_Sparrow_0021_59216504.jpg\n",
            "images/126.Nelson_Sharp_tailed_Sparrow/Nelson_Sharp_tailed_Sparrow_0022_59212134.jpg\n",
            "images/126.Nelson_Sharp_tailed_Sparrow/Nelson_Sharp_tailed_Sparrow_0023_2303725660.jpg\n",
            "images/126.Nelson_Sharp_tailed_Sparrow/Nelson_Sharp_tailed_Sparrow_0024_2303725742.jpg\n",
            "images/126.Nelson_Sharp_tailed_Sparrow/Nelson_Sharp_tailed_Sparrow_0025_2930533404.jpg\n",
            "images/126.Nelson_Sharp_tailed_Sparrow/Nelson_Sharp_tailed_Sparrow_0026_3003999509.jpg\n",
            "images/126.Nelson_Sharp_tailed_Sparrow/Nelson_Sharp_tailed_Sparrow_0027_3081942608.jpg\n",
            "images/126.Nelson_Sharp_tailed_Sparrow/Nelson_Sharp_tailed_Sparrow_0028_2890254400.jpg\n",
            "images/125.Lincoln_Sparrow/Lincoln_Sparrow_0001_2253303900.jpg\n",
            "images/125.Lincoln_Sparrow/Lincoln_Sparrow_0002_274992480.jpg\n",
            "images/125.Lincoln_Sparrow/Lincoln_Sparrow_0003_1775747803.jpg\n",
            "images/125.Lincoln_Sparrow/Lincoln_Sparrow_0004_336786273.jpg\n",
            "images/125.Lincoln_Sparrow/Lincoln_Sparrow_0005_2592115770.jpg\n",
            "images/125.Lincoln_Sparrow/Lincoln_Sparrow_0006_2939840780.jpg\n",
            "images/125.Lincoln_Sparrow/Lincoln_Sparrow_0007_3051554860.jpg\n",
            "images/125.Lincoln_Sparrow/Lincoln_Sparrow_0008_2116860860.jpg\n",
            "images/125.Lincoln_Sparrow/Lincoln_Sparrow_0009_313505957.jpg\n",
            "images/125.Lincoln_Sparrow/Lincoln_Sparrow_0010_2433106398.jpg\n",
            "images/125.Lincoln_Sparrow/Lincoln_Sparrow_0011_83727226.jpg\n",
            "images/125.Lincoln_Sparrow/Lincoln_Sparrow_0012_313506025.jpg\n",
            "images/125.Lincoln_Sparrow/Lincoln_Sparrow_0013_2497080577.jpg\n",
            "images/125.Lincoln_Sparrow/Lincoln_Sparrow_0014_313506084.jpg\n",
            "images/125.Lincoln_Sparrow/Lincoln_Sparrow_0015_2877616094.jpg\n",
            "images/125.Lincoln_Sparrow/Lincoln_Sparrow_0016_2116080365.jpg\n",
            "images/125.Lincoln_Sparrow/Lincoln_Sparrow_0017_2116081403.jpg\n",
            "images/125.Lincoln_Sparrow/Lincoln_Sparrow_0018_2116079801.jpg\n",
            "images/125.Lincoln_Sparrow/Lincoln_Sparrow_0019_2090651516.jpg\n",
            "images/125.Lincoln_Sparrow/Lincoln_Sparrow_0020_2887692720.jpg\n",
            "images/125.Lincoln_Sparrow/Lincoln_Sparrow_0021_3003280941.jpg\n",
            "images/125.Lincoln_Sparrow/Lincoln_Sparrow_0022_3004110048.jpg\n",
            "images/125.Lincoln_Sparrow/Lincoln_Sparrow_0023_2887691144.jpg\n",
            "images/125.Lincoln_Sparrow/Lincoln_Sparrow_0024_1659299813.jpg\n",
            "images/125.Lincoln_Sparrow/Lincoln_Sparrow_0025_2887690902.jpg\n",
            "images/125.Lincoln_Sparrow/Lincoln_Sparrow_0026_316024310.jpg\n",
            "images/125.Lincoln_Sparrow/Lincoln_Sparrow_0027_316027418.jpg\n",
            "images/125.Lincoln_Sparrow/Lincoln_Sparrow_0028_2886855253.jpg\n",
            "images/125.Lincoln_Sparrow/Lincoln_Sparrow_0029_2136286295.jpg\n",
            "images/125.Lincoln_Sparrow/Lincoln_Sparrow_0030_2742523201.jpg\n",
            "images/125.Lincoln_Sparrow/Lincoln_Sparrow_0031_2789285683.jpg\n",
            "images/125.Lincoln_Sparrow/Lincoln_Sparrow_0032_59208093.jpg\n",
            "images/125.Lincoln_Sparrow/Lincoln_Sparrow_0033_1592143422.jpg\n",
            "images/124.Le_Conte_Sparrow/Le_Conte_Sparrow_0001_254627831.jpg\n",
            "images/124.Le_Conte_Sparrow/Le_Conte_Sparrow_0002_2626936840.jpg\n",
            "images/124.Le_Conte_Sparrow/Le_Conte_Sparrow_0003_xxx.jpg\n",
            "images/124.Le_Conte_Sparrow/Le_Conte_Sparrow_0004_2463152544.jpg\n",
            "images/124.Le_Conte_Sparrow/Le_Conte_Sparrow_0005_2463153164.jpg\n",
            "images/124.Le_Conte_Sparrow/Le_Conte_Sparrow_0006_2906223538.jpg\n",
            "images/124.Le_Conte_Sparrow/Le_Conte_Sparrow_0007_59204851.jpg\n",
            "images/124.Le_Conte_Sparrow/Le_Conte_Sparrow_0008_450136735.jpg\n",
            "images/124.Le_Conte_Sparrow/Le_Conte_Sparrow_0009_450136733.jpg\n",
            "images/124.Le_Conte_Sparrow/Le_Conte_Sparrow_0010_1343624657.jpg\n",
            "images/124.Le_Conte_Sparrow/Le_Conte_Sparrow_0011_1344523108.jpg\n",
            "images/124.Le_Conte_Sparrow/Le_Conte_Sparrow_0012_2213868006.jpg\n",
            "images/124.Le_Conte_Sparrow/Le_Conte_Sparrow_0013_2124444640.jpg\n",
            "images/124.Le_Conte_Sparrow/Le_Conte_Sparrow_0014_2928308298.jpg\n",
            "images/124.Le_Conte_Sparrow/Le_Conte_Sparrow_0015_2123672857.jpg\n",
            "images/124.Le_Conte_Sparrow/Le_Conte_Sparrow_0016_2715451691.jpg\n",
            "images/124.Le_Conte_Sparrow/Le_Conte_Sparrow_0017_105408822.jpg\n",
            "images/124.Le_Conte_Sparrow/Le_Conte_Sparrow_0018_59204846.jpg\n",
            "images/124.Le_Conte_Sparrow/Le_Conte_Sparrow_0019_2121758267.jpg\n",
            "images/124.Le_Conte_Sparrow/Le_Conte_Sparrow_0020_3047468050.jpg\n",
            "images/124.Le_Conte_Sparrow/Le_Conte_Sparrow_0021_3047471462.jpg\n",
            "images/124.Le_Conte_Sparrow/Le_Conte_Sparrow_0022_3047469388.jpg\n",
            "images/124.Le_Conte_Sparrow/Le_Conte_Sparrow_0023_3047470704.jpg\n",
            "images/124.Le_Conte_Sparrow/Le_Conte_Sparrow_0024_3047471796.jpg\n",
            "images/124.Le_Conte_Sparrow/Le_Conte_Sparrow_0025_3047468964.jpg\n",
            "images/124.Le_Conte_Sparrow/Le_Conte_Sparrow_0026_3046635781.jpg\n",
            "images/124.Le_Conte_Sparrow/Le_Conte_Sparrow_0027_2963509623.jpg\n",
            "images/124.Le_Conte_Sparrow/Le_Conte_Sparrow_0028_428244372.jpg\n",
            "images/124.Le_Conte_Sparrow/Le_Conte_Sparrow_0029_2459533575.jpg\n",
            "images/124.Le_Conte_Sparrow/Le_Conte_Sparrow_0030_2121761826.jpg\n",
            "images/124.Le_Conte_Sparrow/Le_Conte_Sparrow_0031_3046634605.jpg\n",
            "images/124.Le_Conte_Sparrow/Le_Conte_Sparrow_0032_348145672.jpg\n",
            "images/124.Le_Conte_Sparrow/Le_Conte_Sparrow_0033_3046633299.jpg\n",
            "images/124.Le_Conte_Sparrow/Le_Conte_Sparrow_0034_3048669507.jpg\n",
            "images/123.Henslow_Sparrow/Henslow_Sparrow_0001_2557782105.jpg\n",
            "images/123.Henslow_Sparrow/Henslow_Sparrow_0002_274992483.jpg\n",
            "images/123.Henslow_Sparrow/Henslow_Sparrow_0003_59215267.jpg\n",
            "images/123.Henslow_Sparrow/Henslow_Sparrow_0004_59215262.jpg\n",
            "images/123.Henslow_Sparrow/Henslow_Sparrow_0005_59215273.jpg\n",
            "images/123.Henslow_Sparrow/Henslow_Sparrow_0006_421780750.jpg\n",
            "images/123.Henslow_Sparrow/Henslow_Sparrow_0007_305387503.jpg\n",
            "images/123.Henslow_Sparrow/Henslow_Sparrow_0008_2193799162.jpg\n",
            "images/123.Henslow_Sparrow/Henslow_Sparrow_0009_274943910.jpg\n",
            "images/123.Henslow_Sparrow/Henslow_Sparrow_0010_24833737.jpg\n",
            "images/123.Henslow_Sparrow/Henslow_Sparrow_0011_274943908.jpg\n",
            "images/123.Henslow_Sparrow/Henslow_Sparrow_0012_153321893.jpg\n",
            "images/123.Henslow_Sparrow/Henslow_Sparrow_0013_149589587.jpg\n",
            "images/123.Henslow_Sparrow/Henslow_Sparrow_0014_274854261.jpg\n",
            "images/123.Henslow_Sparrow/Henslow_Sparrow_0015_149049046.jpg\n",
            "images/123.Henslow_Sparrow/Henslow_Sparrow_0016_149048035.jpg\n",
            "images/123.Henslow_Sparrow/Henslow_Sparrow_0017_2494054832.jpg\n",
            "images/123.Henslow_Sparrow/Henslow_Sparrow_0018_2493234965.jpg\n",
            "images/123.Henslow_Sparrow/Henslow_Sparrow_0019_184444546.jpg\n",
            "images/123.Henslow_Sparrow/Henslow_Sparrow_0020_2600804466.jpg\n",
            "images/123.Henslow_Sparrow/Henslow_Sparrow_0021_274943915.jpg\n",
            "images/123.Henslow_Sparrow/Henslow_Sparrow_0022_2494054324.jpg\n",
            "images/123.Henslow_Sparrow/Henslow_Sparrow_0023_184444547.jpg\n",
            "images/123.Henslow_Sparrow/Henslow_Sparrow_0024_274943912.jpg\n",
            "images/123.Henslow_Sparrow/Henslow_Sparrow_0025_274854259.jpg\n",
            "images/123.Henslow_Sparrow/Henslow_Sparrow_0026_274943914.jpg\n",
            "images/123.Henslow_Sparrow/Henslow_Sparrow_0027_1252494523.jpg\n",
            "images/123.Henslow_Sparrow/Henslow_Sparrow_0028_2621306589.jpg\n",
            "images/123.Henslow_Sparrow/Henslow_Sparrow_0029_530771890.jpg\n",
            "images/123.Henslow_Sparrow/Henslow_Sparrow_0030_2618699676.jpg\n",
            "images/123.Henslow_Sparrow/Henslow_Sparrow_0031_2252114022.jpg\n",
            "images/123.Henslow_Sparrow/Henslow_Sparrow_0032_530749330.jpg\n",
            "images/123.Henslow_Sparrow/Henslow_Sparrow_0033_270634281.jpg\n",
            "images/122.Harris_Sparrow/Harris_Sparrow_0001_1955680577.jpg\n",
            "images/122.Harris_Sparrow/Harris_Sparrow_0002_1955680325.jpg\n",
            "images/122.Harris_Sparrow/Harris_Sparrow_0003_xxx.jpg\n",
            "images/122.Harris_Sparrow/Harris_Sparrow_0004_1956509014.jpg\n",
            "images/122.Harris_Sparrow/Harris_Sparrow_0005_314579198.jpg\n",
            "images/122.Harris_Sparrow/Harris_Sparrow_0006_2152344261.jpg\n",
            "images/122.Harris_Sparrow/Harris_Sparrow_0007_331956418.jpg\n",
            "images/122.Harris_Sparrow/Harris_Sparrow_0008_2329719684.jpg\n",
            "images/122.Harris_Sparrow/Harris_Sparrow_0009_2942211538.jpg\n",
            "images/122.Harris_Sparrow/Harris_Sparrow_0010_410159897.jpg\n",
            "images/122.Harris_Sparrow/Harris_Sparrow_0011_3083221775.jpg\n",
            "images/122.Harris_Sparrow/Harris_Sparrow_0012_399463859.jpg\n",
            "images/122.Harris_Sparrow/Harris_Sparrow_0013_366069489.jpg\n",
            "images/122.Harris_Sparrow/Harris_Sparrow_0014_366071626.jpg\n",
            "images/122.Harris_Sparrow/Harris_Sparrow_0015_2515443666.jpg\n",
            "images/122.Harris_Sparrow/Harris_Sparrow_0016_366065189.jpg\n",
            "images/122.Harris_Sparrow/Harris_Sparrow_0017_2514656459.jpg\n",
            "images/122.Harris_Sparrow/Harris_Sparrow_0018_2941353289.jpg\n",
            "images/122.Harris_Sparrow/Harris_Sparrow_0019_2941352965.jpg\n",
            "images/122.Harris_Sparrow/Harris_Sparrow_0020_2942208666.jpg\n",
            "images/122.Harris_Sparrow/Harris_Sparrow_0021_387448796.jpg\n",
            "images/122.Harris_Sparrow/Harris_Sparrow_0022_361838480.jpg\n",
            "images/122.Harris_Sparrow/Harris_Sparrow_0023_3018131728.jpg\n",
            "images/122.Harris_Sparrow/Harris_Sparrow_0024_361838471.jpg\n",
            "images/122.Harris_Sparrow/Harris_Sparrow_0025_306935439.jpg\n",
            "images/121.Grasshopper_Sparrow/Grasshopper_Sparrow_0001_2616793085.jpg\n",
            "images/121.Grasshopper_Sparrow/Grasshopper_Sparrow_0002_2627445970.jpg\n",
            "images/121.Grasshopper_Sparrow/Grasshopper_Sparrow_0003_534732791.jpg\n",
            "images/121.Grasshopper_Sparrow/Grasshopper_Sparrow_0004_2500466655.jpg\n",
            "images/121.Grasshopper_Sparrow/Grasshopper_Sparrow_0005_17894143.jpg\n",
            "images/121.Grasshopper_Sparrow/Grasshopper_Sparrow_0006_160143191.jpg\n",
            "images/121.Grasshopper_Sparrow/Grasshopper_Sparrow_0007_2661490745.jpg\n",
            "images/121.Grasshopper_Sparrow/Grasshopper_Sparrow_0008_2548302289.jpg\n",
            "images/121.Grasshopper_Sparrow/Grasshopper_Sparrow_0009_2549130708.jpg\n",
            "images/121.Grasshopper_Sparrow/Grasshopper_Sparrow_0010_2490433015.jpg\n",
            "images/121.Grasshopper_Sparrow/Grasshopper_Sparrow_0011_576192873.jpg\n",
            "images/121.Grasshopper_Sparrow/Grasshopper_Sparrow_0012_2549190022.jpg\n",
            "images/121.Grasshopper_Sparrow/Grasshopper_Sparrow_0013_2903856054.jpg\n",
            "images/121.Grasshopper_Sparrow/Grasshopper_Sparrow_0014_2693108701.jpg\n",
            "images/121.Grasshopper_Sparrow/Grasshopper_Sparrow_0015_1268280840.jpg\n",
            "images/121.Grasshopper_Sparrow/Grasshopper_Sparrow_0016_566339861.jpg\n",
            "images/121.Grasshopper_Sparrow/Grasshopper_Sparrow_0017_1268280854.jpg\n",
            "images/121.Grasshopper_Sparrow/Grasshopper_Sparrow_0018_2691901557.jpg\n",
            "images/121.Grasshopper_Sparrow/Grasshopper_Sparrow_0019_457828463.jpg\n",
            "images/121.Grasshopper_Sparrow/Grasshopper_Sparrow_0020_758169484.jpg\n",
            "images/121.Grasshopper_Sparrow/Grasshopper_Sparrow_0021_2520481516.jpg\n",
            "images/121.Grasshopper_Sparrow/Grasshopper_Sparrow_0022_2862896572.jpg\n",
            "images/121.Grasshopper_Sparrow/Grasshopper_Sparrow_0023_2549019821.jpg\n",
            "images/121.Grasshopper_Sparrow/Grasshopper_Sparrow_0024_565943618.jpg\n",
            "images/121.Grasshopper_Sparrow/Grasshopper_Sparrow_0025_716973078.jpg\n",
            "images/121.Grasshopper_Sparrow/Grasshopper_Sparrow_0026_1233911501.jpg\n",
            "images/121.Grasshopper_Sparrow/Grasshopper_Sparrow_0027_xxx.jpg\n",
            "images/121.Grasshopper_Sparrow/Grasshopper_Sparrow_0028_653097717.jpg\n",
            "images/121.Grasshopper_Sparrow/Grasshopper_Sparrow_0029_533476995.jpg\n",
            "images/121.Grasshopper_Sparrow/Grasshopper_Sparrow_0030_3078118550.jpg\n",
            "images/121.Grasshopper_Sparrow/Grasshopper_Sparrow_0031_164865110.jpg\n",
            "images/121.Grasshopper_Sparrow/Grasshopper_Sparrow_0032_523704409.jpg\n",
            "images/121.Grasshopper_Sparrow/Grasshopper_Sparrow_0033_852523582.jpg\n",
            "images/121.Grasshopper_Sparrow/Grasshopper_Sparrow_0034_178042543.jpg\n",
            "images/120.Fox_Sparrow/Fox_Sparrow_0001_2303644282.jpg\n",
            "images/120.Fox_Sparrow/Fox_Sparrow_0002_3059583792.jpg\n",
            "images/120.Fox_Sparrow/Fox_Sparrow_0003_310252550.jpg\n",
            "images/120.Fox_Sparrow/Fox_Sparrow_0004_2949513266.jpg\n",
            "images/120.Fox_Sparrow/Fox_Sparrow_0005_366375109.jpg\n",
            "images/120.Fox_Sparrow/Fox_Sparrow_0006_2386955757.jpg\n",
            "images/120.Fox_Sparrow/Fox_Sparrow_0007_3007411869.jpg\n",
            "images/120.Fox_Sparrow/Fox_Sparrow_0008_3025569869.jpg\n",
            "images/120.Fox_Sparrow/Fox_Sparrow_0009_2077189210.jpg\n",
            "images/120.Fox_Sparrow/Fox_Sparrow_0010_3000045450.jpg\n",
            "images/120.Fox_Sparrow/Fox_Sparrow_0011_2403528216.jpg\n",
            "images/120.Fox_Sparrow/Fox_Sparrow_0012_125155662.jpg\n",
            "images/120.Fox_Sparrow/Fox_Sparrow_0013_2338179790.jpg\n",
            "images/120.Fox_Sparrow/Fox_Sparrow_0014_420168451.jpg\n",
            "images/120.Fox_Sparrow/Fox_Sparrow_0015_125155575.jpg\n",
            "images/120.Fox_Sparrow/Fox_Sparrow_0016_125155506.jpg\n",
            "images/120.Fox_Sparrow/Fox_Sparrow_0017_67178485.jpg\n",
            "images/120.Fox_Sparrow/Fox_Sparrow_0018_2209223206.jpg\n",
            "images/120.Fox_Sparrow/Fox_Sparrow_0019_2047814635.jpg\n",
            "images/120.Fox_Sparrow/Fox_Sparrow_0020_2098248505.jpg\n",
            "images/120.Fox_Sparrow/Fox_Sparrow_0021_175493027.jpg\n",
            "images/120.Fox_Sparrow/Fox_Sparrow_0022_426084198.jpg\n",
            "images/120.Fox_Sparrow/Fox_Sparrow_0023_366147332.jpg\n",
            "images/120.Fox_Sparrow/Fox_Sparrow_0024_441371523.jpg\n",
            "images/120.Fox_Sparrow/Fox_Sparrow_0025_2221531261.jpg\n",
            "images/120.Fox_Sparrow/Fox_Sparrow_0026_2210097193.jpg\n",
            "images/120.Fox_Sparrow/Fox_Sparrow_0027_16473739.jpg\n",
            "images/120.Fox_Sparrow/Fox_Sparrow_0028_2224872844.jpg\n",
            "images/120.Fox_Sparrow/Fox_Sparrow_0029_3044974356.jpg\n",
            "images/120.Fox_Sparrow/Fox_Sparrow_0030_2409160384.jpg\n",
            "images/120.Fox_Sparrow/Fox_Sparrow_0031_465625292.jpg\n",
            "images/120.Fox_Sparrow/Fox_Sparrow_0032_2273979132.jpg\n",
            "images/120.Fox_Sparrow/Fox_Sparrow_0033_2099027420.jpg\n",
            "images/119.Field_Sparrow/Field_Sparrow_0001_3066895391.jpg\n",
            "images/119.Field_Sparrow/Field_Sparrow_0002_409449880.jpg\n",
            "images/119.Field_Sparrow/Field_Sparrow_0003_2437924340.jpg\n",
            "images/119.Field_Sparrow/Field_Sparrow_0004_395428570.jpg\n",
            "images/119.Field_Sparrow/Field_Sparrow_0005_2531428875.jpg\n",
            "images/119.Field_Sparrow/Field_Sparrow_0006_467491782.jpg\n",
            "images/119.Field_Sparrow/Field_Sparrow_0007_137687787.jpg\n",
            "images/119.Field_Sparrow/Field_Sparrow_0008_24833738.jpg\n",
            "images/119.Field_Sparrow/Field_Sparrow_0009_2687291480.jpg\n",
            "images/119.Field_Sparrow/Field_Sparrow_0010_1969513981.jpg\n",
            "images/119.Field_Sparrow/Field_Sparrow_0011_2686477705.jpg\n",
            "images/119.Field_Sparrow/Field_Sparrow_0012_2418479283.jpg\n",
            "images/119.Field_Sparrow/Field_Sparrow_0013_349699736.jpg\n",
            "images/119.Field_Sparrow/Field_Sparrow_0014_2936363397.jpg\n",
            "images/119.Field_Sparrow/Field_Sparrow_0015_3080282051.jpg\n",
            "images/119.Field_Sparrow/Field_Sparrow_0016_1767269217.jpg\n",
            "images/119.Field_Sparrow/Field_Sparrow_0017_132649704.jpg\n",
            "images/119.Field_Sparrow/Field_Sparrow_0018_2691319086.jpg\n",
            "images/119.Field_Sparrow/Field_Sparrow_0019_403673098.jpg\n",
            "images/119.Field_Sparrow/Field_Sparrow_0020_2644235044.jpg\n",
            "images/119.Field_Sparrow/Field_Sparrow_0021_2661619467.jpg\n",
            "images/119.Field_Sparrow/Field_Sparrow_0022_1108269979.jpg\n",
            "images/119.Field_Sparrow/Field_Sparrow_0023_246191614.jpg\n",
            "images/119.Field_Sparrow/Field_Sparrow_0024_3010050453.jpg\n",
            "images/119.Field_Sparrow/Field_Sparrow_0025_16022621.jpg\n",
            "images/119.Field_Sparrow/Field_Sparrow_0026_2541096199.jpg\n",
            "images/119.Field_Sparrow/Field_Sparrow_0027_246218264.jpg\n",
            "images/119.Field_Sparrow/Field_Sparrow_0028_880373690.jpg\n",
            "images/118.House_Sparrow/House_Sparrow_0001_128704753.jpg\n",
            "images/118.House_Sparrow/House_Sparrow_0002_418828242.jpg\n",
            "images/118.House_Sparrow/House_Sparrow_0003_2667576919.jpg\n",
            "images/118.House_Sparrow/House_Sparrow_0004_2054363719.jpg\n",
            "images/118.House_Sparrow/House_Sparrow_0005_128704754.jpg\n",
            "images/118.House_Sparrow/House_Sparrow_0006_113980513.jpg\n",
            "images/118.House_Sparrow/House_Sparrow_0007_116642856.jpg\n",
            "images/118.House_Sparrow/House_Sparrow_0008_356172865.jpg\n",
            "images/118.House_Sparrow/House_Sparrow_0009_3047064526.jpg\n",
            "images/118.House_Sparrow/House_Sparrow_0010_2214776165.jpg\n",
            "images/118.House_Sparrow/House_Sparrow_0011_3048400207.jpg\n",
            "images/118.House_Sparrow/House_Sparrow_0012_2106145138.jpg\n",
            "images/118.House_Sparrow/House_Sparrow_0013_2106144592.jpg\n",
            "images/118.House_Sparrow/House_Sparrow_0014_123716771.jpg\n",
            "images/118.House_Sparrow/House_Sparrow_0015_xxx.jpg\n",
            "images/118.House_Sparrow/House_Sparrow_0016_2234820377.jpg\n",
            "images/118.House_Sparrow/House_Sparrow_0017_471935527.jpg\n",
            "images/118.House_Sparrow/House_Sparrow_0018_2906136112.jpg\n",
            "images/118.House_Sparrow/House_Sparrow_0019_26603689.jpg\n",
            "images/118.House_Sparrow/House_Sparrow_0020_676781731.jpg\n",
            "images/118.House_Sparrow/House_Sparrow_0021_2055413084.jpg\n",
            "images/118.House_Sparrow/House_Sparrow_0022_447895981.jpg\n",
            "images/118.House_Sparrow/House_Sparrow_0023_1729568368.jpg\n",
            "images/118.House_Sparrow/House_Sparrow_0024_2057496095.jpg\n",
            "images/118.House_Sparrow/House_Sparrow_0025_529012129.jpg\n",
            "images/118.House_Sparrow/House_Sparrow_0026_1988969308.jpg\n",
            "images/118.House_Sparrow/House_Sparrow_0027_462383351.jpg\n",
            "images/118.House_Sparrow/House_Sparrow_0028_2945443831.jpg\n",
            "images/118.House_Sparrow/House_Sparrow_0029_81144225.jpg\n",
            "images/118.House_Sparrow/House_Sparrow_0030_319067375.jpg\n",
            "images/118.House_Sparrow/House_Sparrow_0031_2163845438.jpg\n",
            "images/117.Clay_colored_Sparrow/Clay_colored_Sparrow_0001_2096371410.jpg\n",
            "images/117.Clay_colored_Sparrow/Clay_colored_Sparrow_0002_2503843293.jpg\n",
            "images/117.Clay_colored_Sparrow/Clay_colored_Sparrow_0003_2617256522.jpg\n",
            "images/117.Clay_colored_Sparrow/Clay_colored_Sparrow_0004_2793199960.jpg\n",
            "images/117.Clay_colored_Sparrow/Clay_colored_Sparrow_0005_59204376.jpg\n",
            "images/117.Clay_colored_Sparrow/Clay_colored_Sparrow_0006_2454751694.jpg\n",
            "images/117.Clay_colored_Sparrow/Clay_colored_Sparrow_0007_2396404072.jpg\n",
            "images/117.Clay_colored_Sparrow/Clay_colored_Sparrow_0008_3069813284.jpg\n",
            "images/117.Clay_colored_Sparrow/Clay_colored_Sparrow_0009_3069813738.jpg\n",
            "images/117.Clay_colored_Sparrow/Clay_colored_Sparrow_0010_2875339657.jpg\n",
            "images/117.Clay_colored_Sparrow/Clay_colored_Sparrow_0011_2875337911.jpg\n",
            "images/117.Clay_colored_Sparrow/Clay_colored_Sparrow_0012_3038374095.jpg\n",
            "images/117.Clay_colored_Sparrow/Clay_colored_Sparrow_0013_3038374831.jpg\n",
            "images/117.Clay_colored_Sparrow/Clay_colored_Sparrow_0014_3039211578.jpg\n",
            "images/117.Clay_colored_Sparrow/Clay_colored_Sparrow_0015_3038374603.jpg\n",
            "images/117.Clay_colored_Sparrow/Clay_colored_Sparrow_0016_2917328792.jpg\n",
            "images/117.Clay_colored_Sparrow/Clay_colored_Sparrow_0017_2917329002.jpg\n",
            "images/117.Clay_colored_Sparrow/Clay_colored_Sparrow_0018_2916485851.jpg\n",
            "images/117.Clay_colored_Sparrow/Clay_colored_Sparrow_0019_1573506840.jpg\n",
            "images/117.Clay_colored_Sparrow/Clay_colored_Sparrow_0020_3038374285.jpg\n",
            "images/117.Clay_colored_Sparrow/Clay_colored_Sparrow_0021_24833739.jpg\n",
            "images/117.Clay_colored_Sparrow/Clay_colored_Sparrow_0022_2591267879.jpg\n",
            "images/117.Clay_colored_Sparrow/Clay_colored_Sparrow_0023_314419271.jpg\n",
            "images/117.Clay_colored_Sparrow/Clay_colored_Sparrow_0024_2446943539.jpg\n",
            "images/117.Clay_colored_Sparrow/Clay_colored_Sparrow_0025_260178981.jpg\n",
            "images/117.Clay_colored_Sparrow/Clay_colored_Sparrow_0026_1350579085.jpg\n",
            "images/117.Clay_colored_Sparrow/Clay_colored_Sparrow_0027_520732538.jpg\n",
            "images/117.Clay_colored_Sparrow/Clay_colored_Sparrow_0028_252724782.jpg\n",
            "images/117.Clay_colored_Sparrow/Clay_colored_Sparrow_0029_25591061.jpg\n",
            "images/117.Clay_colored_Sparrow/Clay_colored_Sparrow_0030_17932424.jpg\n",
            "images/117.Clay_colored_Sparrow/Clay_colored_Sparrow_0031_2497944187.jpg\n",
            "images/117.Clay_colored_Sparrow/Clay_colored_Sparrow_0032_313250163.jpg\n",
            "images/117.Clay_colored_Sparrow/Clay_colored_Sparrow_0033_2876151454.jpg\n",
            "images/116.Chipping_Sparrow/Chipping_Sparrow_0001_226687764.jpg\n",
            "images/116.Chipping_Sparrow/Chipping_Sparrow_0002_493493236.jpg\n",
            "images/116.Chipping_Sparrow/Chipping_Sparrow_0003_2537948838.jpg\n",
            "images/116.Chipping_Sparrow/Chipping_Sparrow_0004_2408400216.jpg\n",
            "images/116.Chipping_Sparrow/Chipping_Sparrow_0005_448526175.jpg\n",
            "images/116.Chipping_Sparrow/Chipping_Sparrow_0006_3075226789.jpg\n",
            "images/116.Chipping_Sparrow/Chipping_Sparrow_0007_2407562927.jpg\n",
            "images/116.Chipping_Sparrow/Chipping_Sparrow_0008_168939557.jpg\n",
            "images/116.Chipping_Sparrow/Chipping_Sparrow_0009_2687725170.jpg\n",
            "images/116.Chipping_Sparrow/Chipping_Sparrow_0010_2635717038.jpg\n",
            "images/116.Chipping_Sparrow/Chipping_Sparrow_0011_452423696.jpg\n",
            "images/116.Chipping_Sparrow/Chipping_Sparrow_0012_2462909394.jpg\n",
            "images/116.Chipping_Sparrow/Chipping_Sparrow_0013_2457750345.jpg\n",
            "images/116.Chipping_Sparrow/Chipping_Sparrow_0014_537911279.jpg\n",
            "images/116.Chipping_Sparrow/Chipping_Sparrow_0015_444314033.jpg\n",
            "images/116.Chipping_Sparrow/Chipping_Sparrow_0016_2370612889.jpg\n",
            "images/116.Chipping_Sparrow/Chipping_Sparrow_0017_2747497035.jpg\n",
            "images/116.Chipping_Sparrow/Chipping_Sparrow_0018_475061091.jpg\n",
            "images/116.Chipping_Sparrow/Chipping_Sparrow_0019_3000044372.jpg\n",
            "images/116.Chipping_Sparrow/Chipping_Sparrow_0020_2474004537.jpg\n",
            "images/116.Chipping_Sparrow/Chipping_Sparrow_0021_2408396988.jpg\n",
            "images/116.Chipping_Sparrow/Chipping_Sparrow_0022_2430106510.jpg\n",
            "images/116.Chipping_Sparrow/Chipping_Sparrow_0023_2408394396.jpg\n",
            "images/116.Chipping_Sparrow/Chipping_Sparrow_0024_2060864636.jpg\n",
            "images/116.Chipping_Sparrow/Chipping_Sparrow_0025_2407558763.jpg\n",
            "images/116.Chipping_Sparrow/Chipping_Sparrow_0026_59210006.jpg\n",
            "images/116.Chipping_Sparrow/Chipping_Sparrow_0027_2270306345.jpg\n",
            "images/116.Chipping_Sparrow/Chipping_Sparrow_0028_2620275641.jpg\n",
            "images/115.Brewer_Sparrow/Brewer_Sparrow_0001_119076282.jpg\n",
            "images/115.Brewer_Sparrow/Brewer_Sparrow_0002_2300884457.jpg\n",
            "images/115.Brewer_Sparrow/Brewer_Sparrow_0003_849760801.jpg\n",
            "images/115.Brewer_Sparrow/Brewer_Sparrow_0004_3049673982.jpg\n",
            "images/115.Brewer_Sparrow/Brewer_Sparrow_0005_184282377.jpg\n",
            "images/115.Brewer_Sparrow/Brewer_Sparrow_0006_3049673978.jpg\n",
            "images/115.Brewer_Sparrow/Brewer_Sparrow_0007_2141774647.jpg\n",
            "images/115.Brewer_Sparrow/Brewer_Sparrow_0008_2119345581.jpg\n",
            "images/115.Brewer_Sparrow/Brewer_Sparrow_0009_1454866713.jpg\n",
            "images/115.Brewer_Sparrow/Brewer_Sparrow_0010_37600307.jpg\n",
            "images/115.Brewer_Sparrow/Brewer_Sparrow_0011_522411717.jpg\n",
            "images/115.Brewer_Sparrow/Brewer_Sparrow_0012_522411807.jpg\n",
            "images/115.Brewer_Sparrow/Brewer_Sparrow_0013_27848219.jpg\n",
            "images/115.Brewer_Sparrow/Brewer_Sparrow_0014_29237183.jpg\n",
            "images/115.Brewer_Sparrow/Brewer_Sparrow_0015_2617083086.jpg\n",
            "images/115.Brewer_Sparrow/Brewer_Sparrow_0016_16270523.jpg\n",
            "images/115.Brewer_Sparrow/Brewer_Sparrow_0017_2066272084.jpg\n",
            "images/115.Brewer_Sparrow/Brewer_Sparrow_0018_549531868.jpg\n",
            "images/115.Brewer_Sparrow/Brewer_Sparrow_0019_169325823.jpg\n",
            "images/115.Brewer_Sparrow/Brewer_Sparrow_0020_544941785.jpg\n",
            "images/115.Brewer_Sparrow/Brewer_Sparrow_0021_468302232.jpg\n",
            "images/115.Brewer_Sparrow/Brewer_Sparrow_0022_2671358499.jpg\n",
            "images/115.Brewer_Sparrow/Brewer_Sparrow_0023_2671358535.jpg\n",
            "images/115.Brewer_Sparrow/Brewer_Sparrow_0024_418788107.jpg\n",
            "images/115.Brewer_Sparrow/Brewer_Sparrow_0025_59209182.jpg\n",
            "images/115.Brewer_Sparrow/Brewer_Sparrow_0026_148306287.jpg\n",
            "images/115.Brewer_Sparrow/Brewer_Sparrow_0027_59209178.jpg\n",
            "images/115.Brewer_Sparrow/Brewer_Sparrow_0028_418788104.jpg\n",
            "images/115.Brewer_Sparrow/Brewer_Sparrow_0029_2303377478.jpg\n",
            "images/115.Brewer_Sparrow/Brewer_Sparrow_0030_2691563753.jpg\n",
            "images/115.Brewer_Sparrow/Brewer_Sparrow_0031_2716573148.jpg\n",
            "images/115.Brewer_Sparrow/Brewer_Sparrow_0032_2661820475.jpg\n",
            "images/115.Brewer_Sparrow/Brewer_Sparrow_0033_371024131.jpg\n",
            "images/115.Brewer_Sparrow/Brewer_Sparrow_0034_481922205.jpg\n",
            "images/114.Black_throated_Sparrow/Black_throated_Sparrow_0001_2659330667.jpg\n",
            "images/114.Black_throated_Sparrow/Black_throated_Sparrow_0002_2659329579.jpg\n",
            "images/114.Black_throated_Sparrow/Black_throated_Sparrow_0003_98558976.jpg\n",
            "images/114.Black_throated_Sparrow/Black_throated_Sparrow_0004_2674597657.jpg\n",
            "images/114.Black_throated_Sparrow/Black_throated_Sparrow_0005_xxx.jpg\n",
            "images/114.Black_throated_Sparrow/Black_throated_Sparrow_0006_2530597804.jpg\n",
            "images/114.Black_throated_Sparrow/Black_throated_Sparrow_0007_3043178790.jpg\n",
            "images/114.Black_throated_Sparrow/Black_throated_Sparrow_0008_1202804693.jpg\n",
            "images/114.Black_throated_Sparrow/Black_throated_Sparrow_0009_1288150990.jpg\n",
            "images/114.Black_throated_Sparrow/Black_throated_Sparrow_0010_2372105435.jpg\n",
            "images/114.Black_throated_Sparrow/Black_throated_Sparrow_0011_2530603516.jpg\n",
            "images/114.Black_throated_Sparrow/Black_throated_Sparrow_0012_2326857476.jpg\n",
            "images/114.Black_throated_Sparrow/Black_throated_Sparrow_0013_1206204945.jpg\n",
            "images/114.Black_throated_Sparrow/Black_throated_Sparrow_0014_1202804703.jpg\n",
            "images/114.Black_throated_Sparrow/Black_throated_Sparrow_0015_1206204955.jpg\n",
            "images/114.Black_throated_Sparrow/Black_throated_Sparrow_0016_2211995479.jpg\n",
            "images/114.Black_throated_Sparrow/Black_throated_Sparrow_0017_2814966418.jpg\n",
            "images/114.Black_throated_Sparrow/Black_throated_Sparrow_0018_2263626385.jpg\n",
            "images/114.Black_throated_Sparrow/Black_throated_Sparrow_0019_2877472161.jpg\n",
            "images/114.Black_throated_Sparrow/Black_throated_Sparrow_0020_119179042.jpg\n",
            "images/114.Black_throated_Sparrow/Black_throated_Sparrow_0021_778720690.jpg\n",
            "images/114.Black_throated_Sparrow/Black_throated_Sparrow_0022_423074908.jpg\n",
            "images/114.Black_throated_Sparrow/Black_throated_Sparrow_0023_2351299264.jpg\n",
            "images/114.Black_throated_Sparrow/Black_throated_Sparrow_0024_185771375.jpg\n",
            "images/114.Black_throated_Sparrow/Black_throated_Sparrow_0025_503930048.jpg\n",
            "images/114.Black_throated_Sparrow/Black_throated_Sparrow_0026_541597186.jpg\n",
            "images/114.Black_throated_Sparrow/Black_throated_Sparrow_0027_514236054.jpg\n",
            "images/114.Black_throated_Sparrow/Black_throated_Sparrow_0028_2846732474.jpg\n",
            "images/114.Black_throated_Sparrow/Black_throated_Sparrow_0029_2637357409.jpg\n",
            "images/114.Black_throated_Sparrow/Black_throated_Sparrow_0030_182088715.jpg\n",
            "images/114.Black_throated_Sparrow/Black_throated_Sparrow_0031_504916179.jpg\n",
            "images/114.Black_throated_Sparrow/Black_throated_Sparrow_0032_504916165.jpg\n",
            "images/114.Black_throated_Sparrow/Black_throated_Sparrow_0033_16270522.jpg\n",
            "images/114.Black_throated_Sparrow/Black_throated_Sparrow_0034_514236056.jpg\n",
            "images/114.Black_throated_Sparrow/Black_throated_Sparrow_0035_2845898819.jpg\n",
            "images/114.Black_throated_Sparrow/Black_throated_Sparrow_0036_541595788.jpg\n",
            "images/114.Black_throated_Sparrow/Black_throated_Sparrow_0037_514236058.jpg\n",
            "images/113.Baird_Sparrow/Baird_Sparrow_0001_2538811870.jpg\n",
            "images/113.Baird_Sparrow/Baird_Sparrow_0002_2537220789.jpg\n",
            "images/113.Baird_Sparrow/Baird_Sparrow_0003_2540301276.jpg\n",
            "images/113.Baird_Sparrow/Baird_Sparrow_0004_2539483091.jpg\n",
            "images/113.Baird_Sparrow/Baird_Sparrow_0005_2531886903.jpg\n",
            "images/113.Baird_Sparrow/Baird_Sparrow_0006_2531887055.jpg\n",
            "images/113.Baird_Sparrow/Baird_Sparrow_0007_672058133.jpg\n",
            "images/113.Baird_Sparrow/Baird_Sparrow_0008_672058123.jpg\n",
            "images/113.Baird_Sparrow/Baird_Sparrow_0009_388635228.jpg\n",
            "images/113.Baird_Sparrow/Baird_Sparrow_0010_388641170.jpg\n",
            "images/113.Baird_Sparrow/Baird_Sparrow_0011_2807105197.jpg\n",
            "images/113.Baird_Sparrow/Baird_Sparrow_0012_2924586071.jpg\n",
            "images/113.Baird_Sparrow/Baird_Sparrow_0013_2102094672.jpg\n",
            "images/113.Baird_Sparrow/Baird_Sparrow_0014_2102099406.jpg\n",
            "images/113.Baird_Sparrow/Baird_Sparrow_0015_2101317721.jpg\n",
            "images/113.Baird_Sparrow/Baird_Sparrow_0016_2102098568.jpg\n",
            "images/113.Baird_Sparrow/Baird_Sparrow_0017_2101316863.jpg\n",
            "images/113.Baird_Sparrow/Baird_Sparrow_0018_2102096030.jpg\n",
            "images/113.Baird_Sparrow/Baird_Sparrow_0019_2102093870.jpg\n",
            "images/113.Baird_Sparrow/Baird_Sparrow_0020_2101315275.jpg\n",
            "images/113.Baird_Sparrow/Baird_Sparrow_0021_xxx.jpg\n",
            "images/113.Baird_Sparrow/Baird_Sparrow_0022_3047464770.jpg\n",
            "images/113.Baird_Sparrow/Baird_Sparrow_0023_3046631067.jpg\n",
            "images/113.Baird_Sparrow/Baird_Sparrow_0024_2607945365.jpg\n",
            "images/113.Baird_Sparrow/Baird_Sparrow_0025_2779560955.jpg\n",
            "images/113.Baird_Sparrow/Baird_Sparrow_0026_652286801.jpg\n",
            "images/113.Baird_Sparrow/Baird_Sparrow_0027_xxx.jpg\n",
            "images/113.Baird_Sparrow/Baird_Sparrow_0028_2964874171.jpg\n",
            "images/113.Baird_Sparrow/Baird_Sparrow_0029_xxx.jpg\n",
            "images/113.Baird_Sparrow/Baird_Sparrow_0030_696169188.jpg\n",
            "images/113.Baird_Sparrow/Baird_Sparrow_0031_3046632043.jpg\n",
            "images/113.Baird_Sparrow/Baird_Sparrow_0032_xxx.jpg\n",
            "images/113.Baird_Sparrow/Baird_Sparrow_0033_3047466700.jpg\n",
            "images/113.Baird_Sparrow/Baird_Sparrow_0034_3047467612.jpg\n",
            "images/112.Great_Grey_Shrike/Great_Grey_Shrike_0001_2558261048.jpg\n",
            "images/112.Great_Grey_Shrike/Great_Grey_Shrike_0002_2944663197.jpg\n",
            "images/112.Great_Grey_Shrike/Great_Grey_Shrike_0003_282408252.jpg\n",
            "images/112.Great_Grey_Shrike/Great_Grey_Shrike_0004_2240515008.jpg\n",
            "images/112.Great_Grey_Shrike/Great_Grey_Shrike_0005_2582691701.jpg\n",
            "images/112.Great_Grey_Shrike/Great_Grey_Shrike_0006_2301219022.jpg\n",
            "images/112.Great_Grey_Shrike/Great_Grey_Shrike_0007_125027553.jpg\n",
            "images/112.Great_Grey_Shrike/Great_Grey_Shrike_0008_2218794527.jpg\n",
            "images/112.Great_Grey_Shrike/Great_Grey_Shrike_0009_2903347341.jpg\n",
            "images/112.Great_Grey_Shrike/Great_Grey_Shrike_0010_2338907484.jpg\n",
            "images/112.Great_Grey_Shrike/Great_Grey_Shrike_0011_2243020974.jpg\n",
            "images/112.Great_Grey_Shrike/Great_Grey_Shrike_0012_2627954200.jpg\n",
            "images/112.Great_Grey_Shrike/Great_Grey_Shrike_0013_2298393983.jpg\n",
            "images/112.Great_Grey_Shrike/Great_Grey_Shrike_0014_2778853123.jpg\n",
            "images/112.Great_Grey_Shrike/Great_Grey_Shrike_0015_2863495948.jpg\n",
            "images/112.Great_Grey_Shrike/Great_Grey_Shrike_0016_2940650089.jpg\n",
            "images/112.Great_Grey_Shrike/Great_Grey_Shrike_0017_2292856595.jpg\n",
            "images/112.Great_Grey_Shrike/Great_Grey_Shrike_0018_2940650017.jpg\n",
            "images/112.Great_Grey_Shrike/Great_Grey_Shrike_0019_2380179571.jpg\n",
            "images/112.Great_Grey_Shrike/Great_Grey_Shrike_0020_1430483408.jpg\n",
            "images/112.Great_Grey_Shrike/Great_Grey_Shrike_0021_286620781.jpg\n",
            "images/112.Great_Grey_Shrike/Great_Grey_Shrike_0022_1505761693.jpg\n",
            "images/112.Great_Grey_Shrike/Great_Grey_Shrike_0023_2895384313.jpg\n",
            "images/112.Great_Grey_Shrike/Great_Grey_Shrike_0024_2181560046.jpg\n",
            "images/112.Great_Grey_Shrike/Great_Grey_Shrike_0025_271574358.jpg\n",
            "images/112.Great_Grey_Shrike/Great_Grey_Shrike_0026_77797568.jpg\n",
            "images/112.Great_Grey_Shrike/Great_Grey_Shrike_0027_77797569.jpg\n",
            "images/112.Great_Grey_Shrike/Great_Grey_Shrike_0028_46809644.jpg\n",
            "images/111.Loggerhead_Shrike/Loggerhead_Shrike_0001_3000809877.jpg\n",
            "images/111.Loggerhead_Shrike/Loggerhead_Shrike_0002_2702329889.jpg\n",
            "images/111.Loggerhead_Shrike/Loggerhead_Shrike_0003_2866932430.jpg\n",
            "images/111.Loggerhead_Shrike/Loggerhead_Shrike_0004_553533877.jpg\n",
            "images/111.Loggerhead_Shrike/Loggerhead_Shrike_0005_2976028007.jpg\n",
            "images/111.Loggerhead_Shrike/Loggerhead_Shrike_0006_2429080968.jpg\n",
            "images/111.Loggerhead_Shrike/Loggerhead_Shrike_0007_414566432.jpg\n",
            "images/111.Loggerhead_Shrike/Loggerhead_Shrike_0008_1872154509.jpg\n",
            "images/111.Loggerhead_Shrike/Loggerhead_Shrike_0009_2078442893.jpg\n",
            "images/111.Loggerhead_Shrike/Loggerhead_Shrike_0010_132657435.jpg\n",
            "images/111.Loggerhead_Shrike/Loggerhead_Shrike_0011_2665122111.jpg\n",
            "images/111.Loggerhead_Shrike/Loggerhead_Shrike_0012_2077041456.jpg\n",
            "images/111.Loggerhead_Shrike/Loggerhead_Shrike_0013_1721947795.jpg\n",
            "images/111.Loggerhead_Shrike/Loggerhead_Shrike_0014_2960876092.jpg\n",
            "images/111.Loggerhead_Shrike/Loggerhead_Shrike_0015_2413019869.jpg\n",
            "images/111.Loggerhead_Shrike/Loggerhead_Shrike_0016_59872225.jpg\n",
            "images/111.Loggerhead_Shrike/Loggerhead_Shrike_0017_3062048714.jpg\n",
            "images/111.Loggerhead_Shrike/Loggerhead_Shrike_0018_2356156312.jpg\n",
            "images/111.Loggerhead_Shrike/Loggerhead_Shrike_0019_2292208891.jpg\n",
            "images/111.Loggerhead_Shrike/Loggerhead_Shrike_0020_2166111801.jpg\n",
            "images/111.Loggerhead_Shrike/Loggerhead_Shrike_0021_2359765690.jpg\n",
            "images/111.Loggerhead_Shrike/Loggerhead_Shrike_0022_2320577127.jpg\n",
            "images/111.Loggerhead_Shrike/Loggerhead_Shrike_0023_3020106447.jpg\n",
            "images/111.Loggerhead_Shrike/Loggerhead_Shrike_0024_2505214835.jpg\n",
            "images/111.Loggerhead_Shrike/Loggerhead_Shrike_0025_90918308.jpg\n",
            "images/111.Loggerhead_Shrike/Loggerhead_Shrike_0026_2058714884.jpg\n",
            "images/111.Loggerhead_Shrike/Loggerhead_Shrike_0027_2162476873.jpg\n",
            "images/111.Loggerhead_Shrike/Loggerhead_Shrike_0028_2501177339.jpg\n",
            "images/111.Loggerhead_Shrike/Loggerhead_Shrike_0029_2047999766.jpg\n",
            "images/111.Loggerhead_Shrike/Loggerhead_Shrike_0030_2190309040.jpg\n",
            "images/111.Loggerhead_Shrike/Loggerhead_Shrike_0031_2875876818.jpg\n",
            "images/111.Loggerhead_Shrike/Loggerhead_Shrike_0032_2068954016.jpg\n",
            "images/111.Loggerhead_Shrike/Loggerhead_Shrike_0033_2340194761.jpg\n",
            "images/111.Loggerhead_Shrike/Loggerhead_Shrike_0034_2083112207.jpg\n",
            "images/111.Loggerhead_Shrike/Loggerhead_Shrike_0035_2960876098.jpg\n",
            "images/111.Loggerhead_Shrike/Loggerhead_Shrike_0036_342805352.jpg\n",
            "images/110.Geococcyx/Geococcyx_0001_170821958.jpg\n",
            "images/110.Geococcyx/Geococcyx_0002_2205550171.jpg\n",
            "images/110.Geococcyx/Geococcyx_0003_419839374.jpg\n",
            "images/110.Geococcyx/Geococcyx_0004_1543022577.jpg\n",
            "images/110.Geococcyx/Geococcyx_0005_467915683.jpg\n",
            "images/110.Geococcyx/Geococcyx_0006_419858528.jpg\n",
            "images/110.Geococcyx/Geococcyx_0007_389157193.jpg\n",
            "images/110.Geococcyx/Geococcyx_0008_419858531.jpg\n",
            "images/110.Geococcyx/Geococcyx_0009_419858532.jpg\n",
            "images/110.Geococcyx/Geococcyx_0010_419858529.jpg\n",
            "images/110.Geococcyx/Geococcyx_0011_2521624580.jpg\n",
            "images/110.Geococcyx/Geococcyx_0012_148550852.jpg\n",
            "images/110.Geococcyx/Geococcyx_0013_2559913085.jpg\n",
            "images/110.Geococcyx/Geococcyx_0014_170828754.jpg\n",
            "images/110.Geococcyx/Geococcyx_0015_322617428.jpg\n",
            "images/110.Geococcyx/Geococcyx_0016_2095789090.jpg\n",
            "images/110.Geococcyx/Geococcyx_0017_2723523396.jpg\n",
            "images/110.Geococcyx/Geococcyx_0018_126224345.jpg\n",
            "images/110.Geococcyx/Geococcyx_0019_413242635.jpg\n",
            "images/110.Geococcyx/Geococcyx_0020_2404836378.jpg\n",
            "images/110.Geococcyx/Geococcyx_0021_2430290418.jpg\n",
            "images/110.Geococcyx/Geococcyx_0022_413242645.jpg\n",
            "images/110.Geococcyx/Geococcyx_0023_413242621.jpg\n",
            "images/110.Geococcyx/Geococcyx_0024_413242638.jpg\n",
            "images/109.American_Redstart/American_Redstart_0001_3077357840.jpg\n",
            "images/109.American_Redstart/American_Redstart_0002_2507161450.jpg\n",
            "images/109.American_Redstart/American_Redstart_0003_2551180132.jpg\n",
            "images/109.American_Redstart/American_Redstart_0004_534938556.jpg\n",
            "images/109.American_Redstart/American_Redstart_0005_515944470.jpg\n",
            "images/109.American_Redstart/American_Redstart_0006_749700619.jpg\n",
            "images/109.American_Redstart/American_Redstart_0007_491148400.jpg\n",
            "images/109.American_Redstart/American_Redstart_0008_2500979908.jpg\n",
            "images/109.American_Redstart/American_Redstart_0009_2502869853.jpg\n",
            "images/109.American_Redstart/American_Redstart_0010_2227581326.jpg\n",
            "images/109.American_Redstart/American_Redstart_0011_515214271.jpg\n",
            "images/109.American_Redstart/American_Redstart_0012_29497273.jpg\n",
            "images/109.American_Redstart/American_Redstart_0013_2541350319.jpg\n",
            "images/109.American_Redstart/American_Redstart_0014_515236812.jpg\n",
            "images/109.American_Redstart/American_Redstart_0015_2500963505.jpg\n",
            "images/109.American_Redstart/American_Redstart_0016_2951245949.jpg\n",
            "images/109.American_Redstart/American_Redstart_0017_823881881.jpg\n",
            "images/109.American_Redstart/American_Redstart_0018_2502869259.jpg\n",
            "images/109.American_Redstart/American_Redstart_0019_2983863945.jpg\n",
            "images/109.American_Redstart/American_Redstart_0020_2503700478.jpg\n",
            "images/109.American_Redstart/American_Redstart_0021_510357025.jpg\n",
            "images/109.American_Redstart/American_Redstart_0022_168809889.jpg\n",
            "images/109.American_Redstart/American_Redstart_0023_2520401491.jpg\n",
            "images/109.American_Redstart/American_Redstart_0024_496023728.jpg\n",
            "images/109.American_Redstart/American_Redstart_0025_2553644192.jpg\n",
            "images/109.American_Redstart/American_Redstart_0026_541621959.jpg\n",
            "images/109.American_Redstart/American_Redstart_0027_2449398232.jpg\n",
            "images/109.American_Redstart/American_Redstart_0028_2799100119.jpg\n",
            "images/109.American_Redstart/American_Redstart_0029_2532979219.jpg\n",
            "images/108.White_necked_Raven/White_necked_Raven_0001_1552866354.jpg\n",
            "images/108.White_necked_Raven/White_necked_Raven_0002_157304602.jpg\n",
            "images/108.White_necked_Raven/White_necked_Raven_0003_149728866.jpg\n",
            "images/108.White_necked_Raven/White_necked_Raven_0004_207569462.jpg\n",
            "images/108.White_necked_Raven/White_necked_Raven_0005_2743778391.jpg\n",
            "images/108.White_necked_Raven/White_necked_Raven_0006_2694353132.jpg\n",
            "images/108.White_necked_Raven/White_necked_Raven_0007_3004920691.jpg\n",
            "images/108.White_necked_Raven/White_necked_Raven_0008_207568559.jpg\n",
            "images/108.White_necked_Raven/White_necked_Raven_0009_3053469408.jpg\n",
            "images/108.White_necked_Raven/White_necked_Raven_0010_2965499307.jpg\n",
            "images/108.White_necked_Raven/White_necked_Raven_0011_2918730166.jpg\n",
            "images/108.White_necked_Raven/White_necked_Raven_0012_251006191.jpg\n",
            "images/108.White_necked_Raven/White_necked_Raven_0013_251006136.jpg\n",
            "images/108.White_necked_Raven/White_necked_Raven_0014_436046437.jpg\n",
            "images/108.White_necked_Raven/White_necked_Raven_0015_1633384641.jpg\n",
            "images/108.White_necked_Raven/White_necked_Raven_0016_284138080.jpg\n",
            "images/108.White_necked_Raven/White_necked_Raven_0017_387319151.jpg\n",
            "images/108.White_necked_Raven/White_necked_Raven_0018_277747718.jpg\n",
            "images/108.White_necked_Raven/White_necked_Raven_0019_2959087593.jpg\n",
            "images/108.White_necked_Raven/White_necked_Raven_0020_2966523590.jpg\n",
            "images/108.White_necked_Raven/White_necked_Raven_0021_2965675733.jpg\n",
            "images/108.White_necked_Raven/White_necked_Raven_0022_2965677213.jpg\n",
            "images/108.White_necked_Raven/White_necked_Raven_0023_2965605485.jpg\n",
            "images/108.White_necked_Raven/White_necked_Raven_0024_2959879824.jpg\n",
            "images/108.White_necked_Raven/White_necked_Raven_0025_2967055834.jpg\n",
            "images/108.White_necked_Raven/White_necked_Raven_0026_2982809712.jpg\n",
            "images/108.White_necked_Raven/White_necked_Raven_0027_489598498.jpg\n",
            "images/108.White_necked_Raven/White_necked_Raven_0028_244881877.jpg\n",
            "images/108.White_necked_Raven/White_necked_Raven_0029_2024700137.jpg\n",
            "images/108.White_necked_Raven/White_necked_Raven_0030_2316395285.jpg\n",
            "images/108.White_necked_Raven/White_necked_Raven_0031_2384690448.jpg\n",
            "images/107.Common_Raven/Common_Raven_0001_2908483490.jpg\n",
            "images/107.Common_Raven/Common_Raven_0002_2499964794.jpg\n",
            "images/107.Common_Raven/Common_Raven_0003_3086370559.jpg\n",
            "images/107.Common_Raven/Common_Raven_0004_2670320286.jpg\n",
            "images/107.Common_Raven/Common_Raven_0005_2540540882.jpg\n",
            "images/107.Common_Raven/Common_Raven_0006_268818212.jpg\n",
            "images/107.Common_Raven/Common_Raven_0007_174058965.jpg\n",
            "images/107.Common_Raven/Common_Raven_0008_2889036124.jpg\n",
            "images/107.Common_Raven/Common_Raven_0009_1287397141.jpg\n",
            "images/107.Common_Raven/Common_Raven_0010_2543797786.jpg\n",
            "images/107.Common_Raven/Common_Raven_0011_2349153790.jpg\n",
            "images/107.Common_Raven/Common_Raven_0012_2952962495.jpg\n",
            "images/107.Common_Raven/Common_Raven_0013_2583456290.jpg\n",
            "images/107.Common_Raven/Common_Raven_0014_2219746390.jpg\n",
            "images/107.Common_Raven/Common_Raven_0015_2535407958.jpg\n",
            "images/107.Common_Raven/Common_Raven_0016_2384302522.jpg\n",
            "images/107.Common_Raven/Common_Raven_0017_1428576500.jpg\n",
            "images/107.Common_Raven/Common_Raven_0018_2051161450.jpg\n",
            "images/107.Common_Raven/Common_Raven_0019_556394865.jpg\n",
            "images/107.Common_Raven/Common_Raven_0020_2555971432.jpg\n",
            "images/107.Common_Raven/Common_Raven_0021_3065722098.jpg\n",
            "images/107.Common_Raven/Common_Raven_0022_2039887838.jpg\n",
            "images/107.Common_Raven/Common_Raven_0023_275562413.jpg\n",
            "images/107.Common_Raven/Common_Raven_0024_2314102806.jpg\n",
            "images/107.Common_Raven/Common_Raven_0025_2872812106.jpg\n",
            "images/107.Common_Raven/Common_Raven_0026_2756743636.jpg\n",
            "images/107.Common_Raven/Common_Raven_0027_2819369309.jpg\n",
            "images/106.Horned_Puffin/Horned_Puffin_0001_2820693418.jpg\n",
            "images/106.Horned_Puffin/Horned_Puffin_0002_2606779810.jpg\n",
            "images/106.Horned_Puffin/Horned_Puffin_0003_1152556492.jpg\n",
            "images/106.Horned_Puffin/Horned_Puffin_0004_2854197978.jpg\n",
            "images/106.Horned_Puffin/Horned_Puffin_0005_2854198040.jpg\n",
            "images/106.Horned_Puffin/Horned_Puffin_0006_2779074959.jpg\n",
            "images/106.Horned_Puffin/Horned_Puffin_0007_2779075389.jpg\n",
            "images/106.Horned_Puffin/Horned_Puffin_0008_2854198014.jpg\n",
            "images/106.Horned_Puffin/Horned_Puffin_0009_2718017572.jpg\n",
            "images/106.Horned_Puffin/Horned_Puffin_0010_1016707464.jpg\n",
            "images/106.Horned_Puffin/Horned_Puffin_0011_639511192.jpg\n",
            "images/106.Horned_Puffin/Horned_Puffin_0012_973487011.jpg\n",
            "images/106.Horned_Puffin/Horned_Puffin_0013_2816626568.jpg\n",
            "images/106.Horned_Puffin/Horned_Puffin_0014_192345788.jpg\n",
            "images/106.Horned_Puffin/Horned_Puffin_0015_881213009.jpg\n",
            "images/106.Horned_Puffin/Horned_Puffin_0016_973487027.jpg\n",
            "images/106.Horned_Puffin/Horned_Puffin_0017_794299453.jpg\n",
            "images/106.Horned_Puffin/Horned_Puffin_0018_2188053921.jpg\n",
            "images/106.Horned_Puffin/Horned_Puffin_0019_2188053929.jpg\n",
            "images/106.Horned_Puffin/Horned_Puffin_0020_749319474.jpg\n",
            "images/106.Horned_Puffin/Horned_Puffin_0021_1321636822.jpg\n",
            "images/106.Horned_Puffin/Horned_Puffin_0022_441341317.jpg\n",
            "images/106.Horned_Puffin/Horned_Puffin_0023_1320749917.jpg\n",
            "images/106.Horned_Puffin/Horned_Puffin_0024_2568152857.jpg\n",
            "images/106.Horned_Puffin/Horned_Puffin_0025_2364832602.jpg\n",
            "images/106.Horned_Puffin/Horned_Puffin_0026_2571356137.jpg\n",
            "images/106.Horned_Puffin/Horned_Puffin_0027_2579178261.jpg\n",
            "images/106.Horned_Puffin/Horned_Puffin_0028_441341307.jpg\n",
            "images/106.Horned_Puffin/Horned_Puffin_0029_2671196967.jpg\n",
            "images/106.Horned_Puffin/Horned_Puffin_0030_2807030050.jpg\n",
            "images/106.Horned_Puffin/Horned_Puffin_0031_2602719723.jpg\n",
            "images/106.Horned_Puffin/Horned_Puffin_0032_536988395.jpg\n",
            "images/105.Whip_poor_Will/Whip_poor_Will_0001_2497980902.jpg\n",
            "images/105.Whip_poor_Will/Whip_poor_Will_0002_2642965700.jpg\n",
            "images/105.Whip_poor_Will/Whip_poor_Will_0003_487306119.jpg\n",
            "images/105.Whip_poor_Will/Whip_poor_Will_0004_3083435467.jpg\n",
            "images/105.Whip_poor_Will/Whip_poor_Will_0005_2535488085.jpg\n",
            "images/105.Whip_poor_Will/Whip_poor_Will_0006_141932898.jpg\n",
            "images/105.Whip_poor_Will/Whip_poor_Will_0007_288062508.jpg\n",
            "images/105.Whip_poor_Will/Whip_poor_Will_0008_483309652.jpg\n",
            "images/105.Whip_poor_Will/Whip_poor_Will_0009_1250554231.jpg\n",
            "images/105.Whip_poor_Will/Whip_poor_Will_0010_571659404.jpg\n",
            "images/105.Whip_poor_Will/Whip_poor_Will_0011_485797159.jpg\n",
            "images/105.Whip_poor_Will/Whip_poor_Will_0012_2665496210.jpg\n",
            "images/105.Whip_poor_Will/Whip_poor_Will_0013_2495815770.jpg\n",
            "images/105.Whip_poor_Will/Whip_poor_Will_0014_2509410479.jpg\n",
            "images/105.Whip_poor_Will/Whip_poor_Will_0015_2842866197.jpg\n",
            "images/105.Whip_poor_Will/Whip_poor_Will_0016_2474327445.jpg\n",
            "images/105.Whip_poor_Will/Whip_poor_Will_0017_497914254.jpg\n",
            "images/105.Whip_poor_Will/Whip_poor_Will_0018_3042152616.jpg\n",
            "images/105.Whip_poor_Will/Whip_poor_Will_0019_3041308459.jpg\n",
            "images/105.Whip_poor_Will/Whip_poor_Will_0020_3041309277.jpg\n",
            "images/104.American_Pipit/American_Pipit_0001_2425787741.jpg\n",
            "images/104.American_Pipit/American_Pipit_0002_3023649920.jpg\n",
            "images/104.American_Pipit/American_Pipit_0003_2940700032.jpg\n",
            "images/104.American_Pipit/American_Pipit_0004_2982913808.jpg\n",
            "images/104.American_Pipit/American_Pipit_0005_2982062271.jpg\n",
            "images/104.American_Pipit/American_Pipit_0006_2982061939.jpg\n",
            "images/104.American_Pipit/American_Pipit_0007_2982053425.jpg\n",
            "images/104.American_Pipit/American_Pipit_0008_2982913300.jpg\n",
            "images/104.American_Pipit/American_Pipit_0009_2982057159.jpg\n",
            "images/104.American_Pipit/American_Pipit_0010_265331254.jpg\n",
            "images/104.American_Pipit/American_Pipit_0011_2779492979.jpg\n",
            "images/104.American_Pipit/American_Pipit_0012_455945304.jpg\n",
            "images/104.American_Pipit/American_Pipit_0013_1737402722.jpg\n",
            "images/104.American_Pipit/American_Pipit_0014_2826207689.jpg\n",
            "images/104.American_Pipit/American_Pipit_0015_2826207695.jpg\n",
            "images/104.American_Pipit/American_Pipit_0016_2227035199.jpg\n",
            "images/104.American_Pipit/American_Pipit_0017_2384519894.jpg\n",
            "images/104.American_Pipit/American_Pipit_0018_455961405.jpg\n",
            "images/104.American_Pipit/American_Pipit_0019_485674004.jpg\n",
            "images/104.American_Pipit/American_Pipit_0020_485611885.jpg\n",
            "images/104.American_Pipit/American_Pipit_0021_320668864.jpg\n",
            "images/104.American_Pipit/American_Pipit_0022_1347976832.jpg\n",
            "images/104.American_Pipit/American_Pipit_0023_2102280284.jpg\n",
            "images/104.American_Pipit/American_Pipit_0024_2409608440.jpg\n",
            "images/104.American_Pipit/American_Pipit_0025_1661960853.jpg\n",
            "images/104.American_Pipit/American_Pipit_0026_2409608430.jpg\n",
            "images/104.American_Pipit/American_Pipit_0027_459578874.jpg\n",
            "images/104.American_Pipit/American_Pipit_0028_92915955.jpg\n",
            "images/104.American_Pipit/American_Pipit_0029_2931534833.jpg\n",
            "images/104.American_Pipit/American_Pipit_0030_2462158545.jpg\n",
            "images/103.Sayornis/Sayornis_0001_xxx.jpg\n",
            "images/103.Sayornis/Sayornis_0002_2221076030.jpg\n",
            "images/103.Sayornis/Sayornis_0003_2220282009.jpg\n",
            "images/103.Sayornis/Sayornis_0004_16712667.jpg\n",
            "images/103.Sayornis/Sayornis_0005_2881422647.jpg\n",
            "images/103.Sayornis/Sayornis_0006_2404787776.jpg\n",
            "images/103.Sayornis/Sayornis_0007_2938190089.jpg\n",
            "images/103.Sayornis/Sayornis_0008_2912512475.jpg\n",
            "images/103.Sayornis/Sayornis_0009_328692366.jpg\n",
            "images/103.Sayornis/Sayornis_0010_93473442.jpg\n",
            "images/103.Sayornis/Sayornis_0011_2461063448.jpg\n",
            "images/103.Sayornis/Sayornis_0012_2398863391.jpg\n",
            "images/103.Sayornis/Sayornis_0013_2150080862.jpg\n",
            "images/103.Sayornis/Sayornis_0014_2924296106.jpg\n",
            "images/103.Sayornis/Sayornis_0015_2149286741.jpg\n",
            "images/103.Sayornis/Sayornis_0016_3004439198.jpg\n",
            "images/103.Sayornis/Sayornis_0017_3084067249.jpg\n",
            "images/103.Sayornis/Sayornis_0018_2089809922.jpg\n",
            "images/103.Sayornis/Sayornis_0019_2267395901.jpg\n",
            "images/103.Sayornis/Sayornis_0020_2521020630.jpg\n",
            "images/103.Sayornis/Sayornis_0021_259404000.jpg\n",
            "images/103.Sayornis/Sayornis_0022_384793827.jpg\n",
            "images/103.Sayornis/Sayornis_0023_28903210.jpg\n",
            "images/103.Sayornis/Sayornis_0024_1511572508.jpg\n",
            "images/103.Sayornis/Sayornis_0025_2133958078.jpg\n",
            "images/103.Sayornis/Sayornis_0026_2360195314.jpg\n",
            "images/102.Western_Wood_Pewee/Western_Wood_Pewee_0001_2782568513.jpg\n",
            "images/102.Western_Wood_Pewee/Western_Wood_Pewee_0002_2453935647.jpg\n",
            "images/102.Western_Wood_Pewee/Western_Wood_Pewee_0003_2453928775.jpg\n",
            "images/102.Western_Wood_Pewee/Western_Wood_Pewee_0004_171641303.jpg\n",
            "images/102.Western_Wood_Pewee/Western_Wood_Pewee_0005_1455741230.jpg\n",
            "images/102.Western_Wood_Pewee/Western_Wood_Pewee_0006_1031878101.jpg\n",
            "images/102.Western_Wood_Pewee/Western_Wood_Pewee_0007_1032732996.jpg\n",
            "images/102.Western_Wood_Pewee/Western_Wood_Pewee_0008_1338061471.jpg\n",
            "images/102.Western_Wood_Pewee/Western_Wood_Pewee_0009_1492375531.jpg\n",
            "images/102.Western_Wood_Pewee/Western_Wood_Pewee_0010_1590206036.jpg\n",
            "images/102.Western_Wood_Pewee/Western_Wood_Pewee_0011_2238182192.jpg\n",
            "images/102.Western_Wood_Pewee/Western_Wood_Pewee_0012_18266131.jpg\n",
            "images/102.Western_Wood_Pewee/Western_Wood_Pewee_0013_2609889992.jpg\n",
            "images/102.Western_Wood_Pewee/Western_Wood_Pewee_0014_505047673.jpg\n",
            "images/102.Western_Wood_Pewee/Western_Wood_Pewee_0015_2579739142.jpg\n",
            "images/102.Western_Wood_Pewee/Western_Wood_Pewee_0016_2557526332.jpg\n",
            "images/102.Western_Wood_Pewee/Western_Wood_Pewee_0017_505047665.jpg\n",
            "images/102.Western_Wood_Pewee/Western_Wood_Pewee_0018_2543462886.jpg\n",
            "images/102.Western_Wood_Pewee/Western_Wood_Pewee_0019_2516878183.jpg\n",
            "images/102.Western_Wood_Pewee/Western_Wood_Pewee_0020_202369246.jpg\n",
            "images/102.Western_Wood_Pewee/Western_Wood_Pewee_0021_528761044.jpg\n",
            "images/102.Western_Wood_Pewee/Western_Wood_Pewee_0022_2514789970.jpg\n",
            "images/102.Western_Wood_Pewee/Western_Wood_Pewee_0023_160616102.jpg\n",
            "images/102.Western_Wood_Pewee/Western_Wood_Pewee_0024_2589063822.jpg\n",
            "images/102.Western_Wood_Pewee/Western_Wood_Pewee_0025_751523472.jpg\n",
            "images/102.Western_Wood_Pewee/Western_Wood_Pewee_0026_26107942.jpg\n",
            "images/102.Western_Wood_Pewee/Western_Wood_Pewee_0027_1066235118.jpg\n",
            "images/102.Western_Wood_Pewee/Western_Wood_Pewee_0028_16504877.jpg\n",
            "images/102.Western_Wood_Pewee/Western_Wood_Pewee_0029_16504878.jpg\n",
            "images/102.Western_Wood_Pewee/Western_Wood_Pewee_0030_166686425.jpg\n",
            "images/102.Western_Wood_Pewee/Western_Wood_Pewee_0031_2567161871.jpg\n",
            "images/102.Western_Wood_Pewee/Western_Wood_Pewee_0032_2557526334.jpg\n",
            "images/102.Western_Wood_Pewee/Western_Wood_Pewee_0033_653130275.jpg\n",
            "images/101.White_Pelican/White_Pelican_0001_1459177714.jpg\n",
            "images/101.White_Pelican/White_Pelican_0002_1734131838.jpg\n",
            "images/101.White_Pelican/White_Pelican_0003_120874330.jpg\n",
            "images/101.White_Pelican/White_Pelican_0004_190991450.jpg\n",
            "images/101.White_Pelican/White_Pelican_0005_3046955673.jpg\n",
            "images/101.White_Pelican/White_Pelican_0006_479357239.jpg\n",
            "images/101.White_Pelican/White_Pelican_0007_2227973272.jpg\n",
            "images/101.White_Pelican/White_Pelican_0008_326296118.jpg\n",
            "images/101.White_Pelican/White_Pelican_0009_2257843621.jpg\n",
            "images/101.White_Pelican/White_Pelican_0010_278725768.jpg\n",
            "images/101.White_Pelican/White_Pelican_0011_2973346636.jpg\n",
            "images/101.White_Pelican/White_Pelican_0012_2231139785.jpg\n",
            "images/101.White_Pelican/White_Pelican_0013_303544580.jpg\n",
            "images/101.White_Pelican/White_Pelican_0014_142637434.jpg\n",
            "images/101.White_Pelican/White_Pelican_0015_1837028636.jpg\n",
            "images/101.White_Pelican/White_Pelican_0016_1980466198.jpg\n",
            "images/101.White_Pelican/White_Pelican_0017_2243500319.jpg\n",
            "images/101.White_Pelican/White_Pelican_0018_455382509.jpg\n",
            "images/101.White_Pelican/White_Pelican_0019_2726755256.jpg\n",
            "images/101.White_Pelican/White_Pelican_0020_xxx.jpg\n",
            "images/101.White_Pelican/White_Pelican_0021_1836095727.jpg\n",
            "images/101.White_Pelican/White_Pelican_0022_2950837392.jpg\n",
            "images/101.White_Pelican/White_Pelican_0023_226794764.jpg\n",
            "images/101.White_Pelican/White_Pelican_0024_29280953.jpg\n",
            "images/101.White_Pelican/White_Pelican_0025_2103174561.jpg\n",
            "images/101.White_Pelican/White_Pelican_0026_1106206706.jpg\n",
            "images/100.Brown_Pelican/Brown_Pelican_0001_300645975.jpg\n",
            "images/100.Brown_Pelican/Brown_Pelican_0002_1476613361.jpg\n",
            "images/100.Brown_Pelican/Brown_Pelican_0003_2284225481.jpg\n",
            "images/100.Brown_Pelican/Brown_Pelican_0004_300652743.jpg\n",
            "images/100.Brown_Pelican/Brown_Pelican_0005_2749170297.jpg\n",
            "images/100.Brown_Pelican/Brown_Pelican_0006_2229699323.jpg\n",
            "images/100.Brown_Pelican/Brown_Pelican_0007_1314997598.jpg\n",
            "images/100.Brown_Pelican/Brown_Pelican_0008_305209290.jpg\n",
            "images/100.Brown_Pelican/Brown_Pelican_0009_241688582.jpg\n",
            "images/100.Brown_Pelican/Brown_Pelican_0010_2891997397.jpg\n",
            "images/100.Brown_Pelican/Brown_Pelican_0011_2726168437.jpg\n",
            "images/100.Brown_Pelican/Brown_Pelican_0012_302096318.jpg\n",
            "images/100.Brown_Pelican/Brown_Pelican_0013_2176001271.jpg\n",
            "images/100.Brown_Pelican/Brown_Pelican_0014_422965191.jpg\n",
            "images/100.Brown_Pelican/Brown_Pelican_0015_2740113988.jpg\n",
            "images/100.Brown_Pelican/Brown_Pelican_0016_1218808356.jpg\n",
            "images/100.Brown_Pelican/Brown_Pelican_0017_2405773365.jpg\n",
            "images/100.Brown_Pelican/Brown_Pelican_0018_393296370.jpg\n",
            "images/100.Brown_Pelican/Brown_Pelican_0019_1303320463.jpg\n",
            "images/100.Brown_Pelican/Brown_Pelican_0020_2382831861.jpg\n",
            "images/100.Brown_Pelican/Brown_Pelican_0021_528648372.jpg\n",
            "images/100.Brown_Pelican/Brown_Pelican_0022_301939463.jpg\n",
            "images/100.Brown_Pelican/Brown_Pelican_0023_305209299.jpg\n",
            "images/100.Brown_Pelican/Brown_Pelican_0024_2485661490.jpg\n",
            "images/100.Brown_Pelican/Brown_Pelican_0025_305209285.jpg\n",
            "images/100.Brown_Pelican/Brown_Pelican_0026_304315887.jpg\n",
            "images/100.Brown_Pelican/Brown_Pelican_0027_305682209.jpg\n",
            "images/100.Brown_Pelican/Brown_Pelican_0028_2472078287.jpg\n",
            "images/100.Brown_Pelican/Brown_Pelican_0029_2484851073.jpg\n",
            "images/100.Brown_Pelican/Brown_Pelican_0030_2484190075.jpg\n",
            "images/100.Brown_Pelican/Brown_Pelican_0031_2485662146.jpg\n",
            "images/099.Ovenbird/Ovenbird_0001_2693139247.jpg\n",
            "images/099.Ovenbird/Ovenbird_0002_2493769206.jpg\n",
            "images/099.Ovenbird/Ovenbird_0003_157606238.jpg\n",
            "images/099.Ovenbird/Ovenbird_0004_2693949698.jpg\n",
            "images/099.Ovenbird/Ovenbird_0005_2671476715.jpg\n",
            "images/099.Ovenbird/Ovenbird_0006_2671476977.jpg\n",
            "images/099.Ovenbird/Ovenbird_0007_2671477805.jpg\n",
            "images/099.Ovenbird/Ovenbird_0008_176324146.jpg\n",
            "images/099.Ovenbird/Ovenbird_0009_205273283.jpg\n",
            "images/099.Ovenbird/Ovenbird_0010_205264986.jpg\n",
            "images/099.Ovenbird/Ovenbird_0011_2679825178.jpg\n",
            "images/099.Ovenbird/Ovenbird_0012_2800048227.jpg\n",
            "images/099.Ovenbird/Ovenbird_0013_364103924.jpg\n",
            "images/099.Ovenbird/Ovenbird_0014_2916446481.jpg\n",
            "images/099.Ovenbird/Ovenbird_0015_2916446301.jpg\n",
            "images/099.Ovenbird/Ovenbird_0016_205264982.jpg\n",
            "images/099.Ovenbird/Ovenbird_0017_2978580320.jpg\n",
            "images/099.Ovenbird/Ovenbird_0018_623307666.jpg\n",
            "images/099.Ovenbird/Ovenbird_0019_205264987.jpg\n",
            "images/099.Ovenbird/Ovenbird_0020_205264983.jpg\n",
            "images/099.Ovenbird/Ovenbird_0021_205264988.jpg\n",
            "images/099.Ovenbird/Ovenbird_0022_2494914971.jpg\n",
            "images/099.Ovenbird/Ovenbird_0023_205264989.jpg\n",
            "images/099.Ovenbird/Ovenbird_0024_2679825022.jpg\n",
            "images/099.Ovenbird/Ovenbird_0025_2545961787.jpg\n",
            "images/099.Ovenbird/Ovenbird_0026_2811716550.jpg\n",
            "images/099.Ovenbird/Ovenbird_0027_99314935.jpg\n",
            "images/099.Ovenbird/Ovenbird_0028_2963313876.jpg\n",
            "images/099.Ovenbird/Ovenbird_0029_2539295069.jpg\n",
            "images/099.Ovenbird/Ovenbird_0030_2733161918.jpg\n",
            "images/098.Scott_Oriole/Scott_Oriole_0001_2216522733.jpg\n",
            "images/098.Scott_Oriole/Scott_Oriole_0002_2424594614.jpg\n",
            "images/098.Scott_Oriole/Scott_Oriole_0003_2553771103.jpg\n",
            "images/098.Scott_Oriole/Scott_Oriole_0004_2226844587.jpg\n",
            "images/098.Scott_Oriole/Scott_Oriole_0005_2216513627.jpg\n",
            "images/098.Scott_Oriole/Scott_Oriole_0006_125491821.jpg\n",
            "images/098.Scott_Oriole/Scott_Oriole_0007_412139577.jpg\n",
            "images/098.Scott_Oriole/Scott_Oriole_0008_2252907738.jpg\n",
            "images/098.Scott_Oriole/Scott_Oriole_0009_2252909206.jpg\n",
            "images/098.Scott_Oriole/Scott_Oriole_0010_419776738.jpg\n",
            "images/098.Scott_Oriole/Scott_Oriole_0011_2224949640.jpg\n",
            "images/098.Scott_Oriole/Scott_Oriole_0012_2224926616.jpg\n",
            "images/098.Scott_Oriole/Scott_Oriole_0013_2224538165.jpg\n",
            "images/098.Scott_Oriole/Scott_Oriole_0014_2227594834.jpg\n",
            "images/098.Scott_Oriole/Scott_Oriole_0015_2235885212.jpg\n",
            "images/098.Scott_Oriole/Scott_Oriole_0016_2544415073.jpg\n",
            "images/098.Scott_Oriole/Scott_Oriole_0017_2252111083.jpg\n",
            "images/098.Scott_Oriole/Scott_Oriole_0018_2252908728.jpg\n",
            "images/098.Scott_Oriole/Scott_Oriole_0019_2252909342.jpg\n",
            "images/098.Scott_Oriole/Scott_Oriole_0020_2252908844.jpg\n",
            "images/098.Scott_Oriole/Scott_Oriole_0021_2242880565.jpg\n",
            "images/098.Scott_Oriole/Scott_Oriole_0022_2252908588.jpg\n",
            "images/098.Scott_Oriole/Scott_Oriole_0023_412138702.jpg\n",
            "images/098.Scott_Oriole/Scott_Oriole_0024_412139309.jpg\n",
            "images/098.Scott_Oriole/Scott_Oriole_0025_412138399.jpg\n",
            "images/098.Scott_Oriole/Scott_Oriole_0026_419933757.jpg\n",
            "images/098.Scott_Oriole/Scott_Oriole_0027_2499110771.jpg\n",
            "images/098.Scott_Oriole/Scott_Oriole_0028_2499110751.jpg\n",
            "images/098.Scott_Oriole/Scott_Oriole_0029_2499110717.jpg\n",
            "images/097.Orchard_Oriole/Orchard_Oriole_0001_551918774.jpg\n",
            "images/097.Orchard_Oriole/Orchard_Oriole_0002_278592316.jpg\n",
            "images/097.Orchard_Oriole/Orchard_Oriole_0003_167615828.jpg\n",
            "images/097.Orchard_Oriole/Orchard_Oriole_0004_866922334.jpg\n",
            "images/097.Orchard_Oriole/Orchard_Oriole_0005_172369454.jpg\n",
            "images/097.Orchard_Oriole/Orchard_Oriole_0006_2527242917.jpg\n",
            "images/097.Orchard_Oriole/Orchard_Oriole_0007_2450992084.jpg\n",
            "images/097.Orchard_Oriole/Orchard_Oriole_0008_491860362.jpg\n",
            "images/097.Orchard_Oriole/Orchard_Oriole_0009_2448547594.jpg\n",
            "images/097.Orchard_Oriole/Orchard_Oriole_0010_2501839798.jpg\n",
            "images/097.Orchard_Oriole/Orchard_Oriole_0011_2613869334.jpg\n",
            "images/097.Orchard_Oriole/Orchard_Oriole_0012_2613868140.jpg\n",
            "images/097.Orchard_Oriole/Orchard_Oriole_0013_2432176740.jpg\n",
            "images/097.Orchard_Oriole/Orchard_Oriole_0014_2503615614.jpg\n",
            "images/097.Orchard_Oriole/Orchard_Oriole_0015_2545116359.jpg\n",
            "images/097.Orchard_Oriole/Orchard_Oriole_0016_2492495224.jpg\n",
            "images/097.Orchard_Oriole/Orchard_Oriole_0017_2546188729.jpg\n",
            "images/097.Orchard_Oriole/Orchard_Oriole_0018_481448550.jpg\n",
            "images/097.Orchard_Oriole/Orchard_Oriole_0019_2370704573.jpg\n",
            "images/097.Orchard_Oriole/Orchard_Oriole_0020_456987442.jpg\n",
            "images/097.Orchard_Oriole/Orchard_Oriole_0021_2432168643.jpg\n",
            "images/097.Orchard_Oriole/Orchard_Oriole_0022_549995638.jpg\n",
            "images/097.Orchard_Oriole/Orchard_Oriole_0023_176074503.jpg\n",
            "images/097.Orchard_Oriole/Orchard_Oriole_0024_2599230832.jpg\n",
            "images/097.Orchard_Oriole/Orchard_Oriole_0025_450468470.jpg\n",
            "images/097.Orchard_Oriole/Orchard_Oriole_0026_137280806.jpg\n",
            "images/097.Orchard_Oriole/Orchard_Oriole_0027_2678724108.jpg\n",
            "images/097.Orchard_Oriole/Orchard_Oriole_0028_2481603085.jpg\n",
            "images/097.Orchard_Oriole/Orchard_Oriole_0029_338933477.jpg\n",
            "images/097.Orchard_Oriole/Orchard_Oriole_0030_1420273185.jpg\n",
            "images/097.Orchard_Oriole/Orchard_Oriole_0031_2432980950.jpg\n",
            "images/097.Orchard_Oriole/Orchard_Oriole_0032_2561716164.jpg\n",
            "images/097.Orchard_Oriole/Orchard_Oriole_0033_2486541642.jpg\n",
            "images/097.Orchard_Oriole/Orchard_Oriole_0034_2244771004.jpg\n",
            "images/096.Hooded_Oriole/Hooded_Oriole_0001_2610801444.jpg\n",
            "images/096.Hooded_Oriole/Hooded_Oriole_0002_62878613.jpg\n",
            "images/096.Hooded_Oriole/Hooded_Oriole_0003_xxx.jpg\n",
            "images/096.Hooded_Oriole/Hooded_Oriole_0004_99107645.jpg\n",
            "images/096.Hooded_Oriole/Hooded_Oriole_0005_2635103921.jpg\n",
            "images/096.Hooded_Oriole/Hooded_Oriole_0006_452605613.jpg\n",
            "images/096.Hooded_Oriole/Hooded_Oriole_0007_2601585891.jpg\n",
            "images/096.Hooded_Oriole/Hooded_Oriole_0008_2178499495.jpg\n",
            "images/096.Hooded_Oriole/Hooded_Oriole_0009_2890234922.jpg\n",
            "images/096.Hooded_Oriole/Hooded_Oriole_0010_489831212.jpg\n",
            "images/096.Hooded_Oriole/Hooded_Oriole_0011_1350627619.jpg\n",
            "images/096.Hooded_Oriole/Hooded_Oriole_0012_2689178198.jpg\n",
            "images/096.Hooded_Oriole/Hooded_Oriole_0013_2520614476.jpg\n",
            "images/096.Hooded_Oriole/Hooded_Oriole_0014_1023175343.jpg\n",
            "images/096.Hooded_Oriole/Hooded_Oriole_0015_1351515812.jpg\n",
            "images/096.Hooded_Oriole/Hooded_Oriole_0016_2527089136.jpg\n",
            "images/096.Hooded_Oriole/Hooded_Oriole_0017_2739566955.jpg\n",
            "images/096.Hooded_Oriole/Hooded_Oriole_0018_967535064.jpg\n",
            "images/096.Hooded_Oriole/Hooded_Oriole_0019_2581718988.jpg\n",
            "images/096.Hooded_Oriole/Hooded_Oriole_0020_2584958151.jpg\n",
            "images/096.Hooded_Oriole/Hooded_Oriole_0021_2596904052.jpg\n",
            "images/096.Hooded_Oriole/Hooded_Oriole_0022_2347113912.jpg\n",
            "images/096.Hooded_Oriole/Hooded_Oriole_0023_484560832.jpg\n",
            "images/096.Hooded_Oriole/Hooded_Oriole_0024_109368262.jpg\n",
            "images/096.Hooded_Oriole/Hooded_Oriole_0025_381339828.jpg\n",
            "images/096.Hooded_Oriole/Hooded_Oriole_0026_763249491.jpg\n",
            "images/096.Hooded_Oriole/Hooded_Oriole_0027_364092630.jpg\n",
            "images/096.Hooded_Oriole/Hooded_Oriole_0028_212491548.jpg\n",
            "images/096.Hooded_Oriole/Hooded_Oriole_0029_381339699.jpg\n",
            "images/096.Hooded_Oriole/Hooded_Oriole_0030_3040062802.jpg\n",
            "images/096.Hooded_Oriole/Hooded_Oriole_0031_16385512.jpg\n",
            "images/096.Hooded_Oriole/Hooded_Oriole_0032_2642340687.jpg\n",
            "images/096.Hooded_Oriole/Hooded_Oriole_0033_310669024.jpg\n",
            "images/096.Hooded_Oriole/Hooded_Oriole_0034_2490613813.jpg\n",
            "images/096.Hooded_Oriole/Hooded_Oriole_0035_2539065957.jpg\n",
            "images/096.Hooded_Oriole/Hooded_Oriole_0036_2526227919.jpg\n",
            "images/095.Baltimore_Oriole/Baltimore_Oriole_0001_3067581070.jpg\n",
            "images/095.Baltimore_Oriole/Baltimore_Oriole_0002_2476006380.jpg\n",
            "images/095.Baltimore_Oriole/Baltimore_Oriole_0003_2475488613.jpg\n",
            "images/095.Baltimore_Oriole/Baltimore_Oriole_0004_864311617.jpg\n",
            "images/095.Baltimore_Oriole/Baltimore_Oriole_0005_2548855881.jpg\n",
            "images/095.Baltimore_Oriole/Baltimore_Oriole_0006_2526889240.jpg\n",
            "images/095.Baltimore_Oriole/Baltimore_Oriole_0007_2549684342.jpg\n",
            "images/095.Baltimore_Oriole/Baltimore_Oriole_0008_2540283306.jpg\n",
            "images/095.Baltimore_Oriole/Baltimore_Oriole_0009_143092459.jpg\n",
            "images/095.Baltimore_Oriole/Baltimore_Oriole_0010_266392244.jpg\n",
            "images/095.Baltimore_Oriole/Baltimore_Oriole_0011_2517845068.jpg\n",
            "images/095.Baltimore_Oriole/Baltimore_Oriole_0012_2526069321.jpg\n",
            "images/095.Baltimore_Oriole/Baltimore_Oriole_0013_1800220631.jpg\n",
            "images/095.Baltimore_Oriole/Baltimore_Oriole_0014_2127811850.jpg\n",
            "images/095.Baltimore_Oriole/Baltimore_Oriole_0015_2479911431.jpg\n",
            "images/095.Baltimore_Oriole/Baltimore_Oriole_0016_2529807792.jpg\n",
            "images/095.Baltimore_Oriole/Baltimore_Oriole_0017_487309499.jpg\n",
            "images/095.Baltimore_Oriole/Baltimore_Oriole_0018_2511104021.jpg\n",
            "images/095.Baltimore_Oriole/Baltimore_Oriole_0019_2862723861.jpg\n",
            "images/095.Baltimore_Oriole/Baltimore_Oriole_0020_3098459439.jpg\n",
            "images/095.Baltimore_Oriole/Baltimore_Oriole_0021_2526888056.jpg\n",
            "images/095.Baltimore_Oriole/Baltimore_Oriole_0022_2512190327.jpg\n",
            "images/095.Baltimore_Oriole/Baltimore_Oriole_0023_145308049.jpg\n",
            "images/095.Baltimore_Oriole/Baltimore_Oriole_0024_2410609751.jpg\n",
            "images/094.White_breasted_Nuthatch/White_breasted_Nuthatch_0001_2922319182.jpg\n",
            "images/094.White_breasted_Nuthatch/White_breasted_Nuthatch_0002_60246540.jpg\n",
            "images/094.White_breasted_Nuthatch/White_breasted_Nuthatch_0003_2395842591.jpg\n",
            "images/094.White_breasted_Nuthatch/White_breasted_Nuthatch_0004_3017329557.jpg\n",
            "images/094.White_breasted_Nuthatch/White_breasted_Nuthatch_0005_2300658207.jpg\n",
            "images/094.White_breasted_Nuthatch/White_breasted_Nuthatch_0006_144310340.jpg\n",
            "images/094.White_breasted_Nuthatch/White_breasted_Nuthatch_0007_2988186882.jpg\n",
            "images/094.White_breasted_Nuthatch/White_breasted_Nuthatch_0008_60262680.jpg\n",
            "images/094.White_breasted_Nuthatch/White_breasted_Nuthatch_0009_2220839395.jpg\n",
            "images/094.White_breasted_Nuthatch/White_breasted_Nuthatch_0010_231978653.jpg\n",
            "images/094.White_breasted_Nuthatch/White_breasted_Nuthatch_0011_1537796381.jpg\n",
            "images/094.White_breasted_Nuthatch/White_breasted_Nuthatch_0012_92711488.jpg\n",
            "images/094.White_breasted_Nuthatch/White_breasted_Nuthatch_0013_253748267.jpg\n",
            "images/094.White_breasted_Nuthatch/White_breasted_Nuthatch_0014_3003005775.jpg\n",
            "images/094.White_breasted_Nuthatch/White_breasted_Nuthatch_0015_2965905174.jpg\n",
            "images/094.White_breasted_Nuthatch/White_breasted_Nuthatch_0016_1909649033.jpg\n",
            "images/094.White_breasted_Nuthatch/White_breasted_Nuthatch_0017_2214118073.jpg\n",
            "images/094.White_breasted_Nuthatch/White_breasted_Nuthatch_0018_1483165079.jpg\n",
            "images/094.White_breasted_Nuthatch/White_breasted_Nuthatch_0019_2933773443.jpg\n",
            "images/094.White_breasted_Nuthatch/White_breasted_Nuthatch_0020_85856766.jpg\n",
            "images/094.White_breasted_Nuthatch/White_breasted_Nuthatch_0021_2072773154.jpg\n",
            "images/094.White_breasted_Nuthatch/White_breasted_Nuthatch_0022_1679760112.jpg\n",
            "images/094.White_breasted_Nuthatch/White_breasted_Nuthatch_0023_2391498884.jpg\n",
            "images/094.White_breasted_Nuthatch/White_breasted_Nuthatch_0024_2285091720.jpg\n",
            "images/094.White_breasted_Nuthatch/White_breasted_Nuthatch_0025_2270721090.jpg\n",
            "images/094.White_breasted_Nuthatch/White_breasted_Nuthatch_0026_2069673754.jpg\n",
            "images/094.White_breasted_Nuthatch/White_breasted_Nuthatch_0027_2866108873.jpg\n",
            "images/094.White_breasted_Nuthatch/White_breasted_Nuthatch_0028_266988951.jpg\n",
            "images/094.White_breasted_Nuthatch/White_breasted_Nuthatch_0029_2035492906.jpg\n",
            "images/094.White_breasted_Nuthatch/White_breasted_Nuthatch_0030_377915966.jpg\n",
            "images/094.White_breasted_Nuthatch/White_breasted_Nuthatch_0031_2422656153.jpg\n",
            "images/094.White_breasted_Nuthatch/White_breasted_Nuthatch_0032_2358349030.jpg\n",
            "images/094.White_breasted_Nuthatch/White_breasted_Nuthatch_0033_1389808690.jpg\n",
            "images/094.White_breasted_Nuthatch/White_breasted_Nuthatch_0034_2096387688.jpg\n",
            "images/094.White_breasted_Nuthatch/White_breasted_Nuthatch_0035_2296313148.jpg\n",
            "images/093.Clark_Nutcracker/Clark_Nutcracker_0001_306840192.jpg\n",
            "images/093.Clark_Nutcracker/Clark_Nutcracker_0002_269774117.jpg\n",
            "images/093.Clark_Nutcracker/Clark_Nutcracker_0003_2629121311.jpg\n",
            "images/093.Clark_Nutcracker/Clark_Nutcracker_0004_2629935504.jpg\n",
            "images/093.Clark_Nutcracker/Clark_Nutcracker_0005_29398925.jpg\n",
            "images/093.Clark_Nutcracker/Clark_Nutcracker_0006_267875906.jpg\n",
            "images/093.Clark_Nutcracker/Clark_Nutcracker_0007_2874558209.jpg\n",
            "images/093.Clark_Nutcracker/Clark_Nutcracker_0008_393749992.jpg\n",
            "images/093.Clark_Nutcracker/Clark_Nutcracker_0009_1362129115.jpg\n",
            "images/093.Clark_Nutcracker/Clark_Nutcracker_0010_2642190631.jpg\n",
            "images/093.Clark_Nutcracker/Clark_Nutcracker_0011_2643020986.jpg\n",
            "images/093.Clark_Nutcracker/Clark_Nutcracker_0012_2875389722.jpg\n",
            "images/093.Clark_Nutcracker/Clark_Nutcracker_0013_2669762647.jpg\n",
            "images/093.Clark_Nutcracker/Clark_Nutcracker_0014_2749098332.jpg\n",
            "images/093.Clark_Nutcracker/Clark_Nutcracker_0015_151518647.jpg\n",
            "images/093.Clark_Nutcracker/Clark_Nutcracker_0016_1301151782.jpg\n",
            "images/093.Clark_Nutcracker/Clark_Nutcracker_0017_2120124906.jpg\n",
            "images/093.Clark_Nutcracker/Clark_Nutcracker_0018_434162090.jpg\n",
            "images/093.Clark_Nutcracker/Clark_Nutcracker_0019_2733753039.jpg\n",
            "images/093.Clark_Nutcracker/Clark_Nutcracker_0020_1362127241.jpg\n",
            "images/093.Clark_Nutcracker/Clark_Nutcracker_0021_507693457.jpg\n",
            "images/093.Clark_Nutcracker/Clark_Nutcracker_0022_2890332890.jpg\n",
            "images/093.Clark_Nutcracker/Clark_Nutcracker_0023_2733799773.jpg\n",
            "images/093.Clark_Nutcracker/Clark_Nutcracker_0024_1224403936.jpg\n",
            "images/093.Clark_Nutcracker/Clark_Nutcracker_0025_2309903625.jpg\n",
            "images/093.Clark_Nutcracker/Clark_Nutcracker_0026_1471147088.jpg\n",
            "images/093.Clark_Nutcracker/Clark_Nutcracker_0027_2129730580.jpg\n",
            "images/093.Clark_Nutcracker/Clark_Nutcracker_0028_212008241.jpg\n",
            "images/093.Clark_Nutcracker/Clark_Nutcracker_0029_2390169627.jpg\n",
            "images/093.Clark_Nutcracker/Clark_Nutcracker_0030_2235717086.jpg\n",
            "images/093.Clark_Nutcracker/Clark_Nutcracker_0031_2196221698.jpg\n",
            "images/093.Clark_Nutcracker/Clark_Nutcracker_0032_2348031641.jpg\n",
            "images/093.Clark_Nutcracker/Clark_Nutcracker_0033_748163428.jpg\n",
            "images/093.Clark_Nutcracker/Clark_Nutcracker_0034_1731620516.jpg\n",
            "images/093.Clark_Nutcracker/Clark_Nutcracker_0035_217133106.jpg\n",
            "images/093.Clark_Nutcracker/Clark_Nutcracker_0036_297718765.jpg\n",
            "images/092.Nighthawk/Nighthawk_0001_12342896.jpg\n",
            "images/092.Nighthawk/Nighthawk_0002_1317012611.jpg\n",
            "images/092.Nighthawk/Nighthawk_0003_2682269691.jpg\n",
            "images/092.Nighthawk/Nighthawk_0004_2839761413.jpg\n",
            "images/092.Nighthawk/Nighthawk_0005_538379721.jpg\n",
            "images/092.Nighthawk/Nighthawk_0006_631112068.jpg\n",
            "images/092.Nighthawk/Nighthawk_0007_2701321895.jpg\n",
            "images/092.Nighthawk/Nighthawk_0008_2673004788.jpg\n",
            "images/092.Nighthawk/Nighthawk_0009_524335046.jpg\n",
            "images/092.Nighthawk/Nighthawk_0010_2500479154.jpg\n",
            "images/092.Nighthawk/Nighthawk_0011_30160821.jpg\n",
            "images/092.Nighthawk/Nighthawk_0012_2493780406.jpg\n",
            "images/092.Nighthawk/Nighthawk_0013_2813178500.jpg\n",
            "images/092.Nighthawk/Nighthawk_0014_2493469361.jpg\n",
            "images/092.Nighthawk/Nighthawk_0015_2523785515.jpg\n",
            "images/092.Nighthawk/Nighthawk_0016_392418656.jpg\n",
            "images/092.Nighthawk/Nighthawk_0017_2716906110.jpg\n",
            "images/092.Nighthawk/Nighthawk_0018_512788574.jpg\n",
            "images/092.Nighthawk/Nighthawk_0019_2568847022.jpg\n",
            "images/092.Nighthawk/Nighthawk_0020_1797450877.jpg\n",
            "images/092.Nighthawk/Nighthawk_0021_30160820.jpg\n",
            "images/092.Nighthawk/Nighthawk_0022_2620471558.jpg\n",
            "images/092.Nighthawk/Nighthawk_0023_2078257340.jpg\n",
            "images/092.Nighthawk/Nighthawk_0024_392495619.jpg\n",
            "images/092.Nighthawk/Nighthawk_0025_162548021.jpg\n",
            "images/092.Nighthawk/Nighthawk_0026_2620472196.jpg\n",
            "images/092.Nighthawk/Nighthawk_0027_2222159428.jpg\n",
            "images/092.Nighthawk/Nighthawk_0028_2646175420.jpg\n",
            "images/091.Mockingbird/Mockingbird_0001_456069778.jpg\n",
            "images/091.Mockingbird/Mockingbird_0002_2124881194.jpg\n",
            "images/091.Mockingbird/Mockingbird_0003_2550300283.jpg\n",
            "images/091.Mockingbird/Mockingbird_0004_xxx.jpg\n",
            "images/091.Mockingbird/Mockingbird_0005_2551120638.jpg\n",
            "images/091.Mockingbird/Mockingbird_0006_1216950525.jpg\n",
            "images/091.Mockingbird/Mockingbird_0007_3016606862.jpg\n",
            "images/091.Mockingbird/Mockingbird_0008_1216950551.jpg\n",
            "images/091.Mockingbird/Mockingbird_0009_1531358695.jpg\n",
            "images/091.Mockingbird/Mockingbird_0010_1170455869.jpg\n",
            "images/091.Mockingbird/Mockingbird_0011_754613918.jpg\n",
            "images/091.Mockingbird/Mockingbird_0012_348046755.jpg\n",
            "images/091.Mockingbird/Mockingbird_0013_2328867110.jpg\n",
            "images/091.Mockingbird/Mockingbird_0014_951086400.jpg\n",
            "images/091.Mockingbird/Mockingbird_0015_503160113.jpg\n",
            "images/091.Mockingbird/Mockingbird_0016_3016606916.jpg\n",
            "images/091.Mockingbird/Mockingbird_0017_1240378015.jpg\n",
            "images/091.Mockingbird/Mockingbird_0018_90050903.jpg\n",
            "images/091.Mockingbird/Mockingbird_0019_337873228.jpg\n",
            "images/091.Mockingbird/Mockingbird_0020_1153376393.jpg\n",
            "images/091.Mockingbird/Mockingbird_0021_206013247.jpg\n",
            "images/091.Mockingbird/Mockingbird_0022_3016606764.jpg\n",
            "images/091.Mockingbird/Mockingbird_0023_1216950497.jpg\n",
            "images/091.Mockingbird/Mockingbird_0024_479300274.jpg\n",
            "images/091.Mockingbird/Mockingbird_0025_3016606810.jpg\n",
            "images/091.Mockingbird/Mockingbird_0026_1216950573.jpg\n",
            "images/091.Mockingbird/Mockingbird_0027_xxx.jpg\n",
            "images/091.Mockingbird/Mockingbird_0028_420595369.jpg\n",
            "images/091.Mockingbird/Mockingbird_0029_1216950503.jpg\n",
            "images/091.Mockingbird/Mockingbird_0030_xxx.jpg\n",
            "images/090.Red_breasted_Merganser/Red_breasted_Merganser_0001_2145021733.jpg\n",
            "images/090.Red_breasted_Merganser/Red_breasted_Merganser_0002_1623973042.jpg\n",
            "images/090.Red_breasted_Merganser/Red_breasted_Merganser_0003_2237838274.jpg\n",
            "images/090.Red_breasted_Merganser/Red_breasted_Merganser_0004_361781048.jpg\n",
            "images/090.Red_breasted_Merganser/Red_breasted_Merganser_0005_2989018070.jpg\n",
            "images/090.Red_breasted_Merganser/Red_breasted_Merganser_0006_445370759.jpg\n",
            "images/090.Red_breasted_Merganser/Red_breasted_Merganser_0007_536403219.jpg\n",
            "images/090.Red_breasted_Merganser/Red_breasted_Merganser_0008_340411017.jpg\n",
            "images/090.Red_breasted_Merganser/Red_breasted_Merganser_0009_xxx.jpg\n",
            "images/090.Red_breasted_Merganser/Red_breasted_Merganser_0010_2111434891.jpg\n",
            "images/090.Red_breasted_Merganser/Red_breasted_Merganser_0011_2315230279.jpg\n",
            "images/090.Red_breasted_Merganser/Red_breasted_Merganser_0012_2141901085.jpg\n",
            "images/090.Red_breasted_Merganser/Red_breasted_Merganser_0013_2199192992.jpg\n",
            "images/090.Red_breasted_Merganser/Red_breasted_Merganser_0014_2483671772.jpg\n",
            "images/090.Red_breasted_Merganser/Red_breasted_Merganser_0015_2389026444.jpg\n",
            "images/090.Red_breasted_Merganser/Red_breasted_Merganser_0016_2551633444.jpg\n",
            "images/090.Red_breasted_Merganser/Red_breasted_Merganser_0017_xxx.jpg\n",
            "images/090.Red_breasted_Merganser/Red_breasted_Merganser_0018_441232455.jpg\n",
            "images/090.Red_breasted_Merganser/Red_breasted_Merganser_0019_2420368020.jpg\n",
            "images/090.Red_breasted_Merganser/Red_breasted_Merganser_0020_343716969.jpg\n",
            "images/090.Red_breasted_Merganser/Red_breasted_Merganser_0021_2536087195.jpg\n",
            "images/090.Red_breasted_Merganser/Red_breasted_Merganser_0022_2218199406.jpg\n",
            "images/090.Red_breasted_Merganser/Red_breasted_Merganser_0023_2884701005.jpg\n",
            "images/090.Red_breasted_Merganser/Red_breasted_Merganser_0024_300517543.jpg\n",
            "images/090.Red_breasted_Merganser/Red_breasted_Merganser_0025_2910627678.jpg\n",
            "images/090.Red_breasted_Merganser/Red_breasted_Merganser_0026_2347513543.jpg\n",
            "images/090.Red_breasted_Merganser/Red_breasted_Merganser_0027_410866222.jpg\n",
            "images/090.Red_breasted_Merganser/Red_breasted_Merganser_0028_2171825005.jpg\n",
            "images/089.Hooded_Merganser/Hooded_Merganser_0001_2296172592.jpg\n",
            "images/089.Hooded_Merganser/Hooded_Merganser_0002_1181698662.jpg\n",
            "images/089.Hooded_Merganser/Hooded_Merganser_0003_3004584811.jpg\n",
            "images/089.Hooded_Merganser/Hooded_Merganser_0004_3040037858.jpg\n",
            "images/089.Hooded_Merganser/Hooded_Merganser_0005_820418317.jpg\n",
            "images/089.Hooded_Merganser/Hooded_Merganser_0006_2155279651.jpg\n",
            "images/089.Hooded_Merganser/Hooded_Merganser_0007_371335842.jpg\n",
            "images/089.Hooded_Merganser/Hooded_Merganser_0008_2019994695.jpg\n",
            "images/089.Hooded_Merganser/Hooded_Merganser_0009_2316973129.jpg\n",
            "images/089.Hooded_Merganser/Hooded_Merganser_0010_3075646557.jpg\n",
            "images/089.Hooded_Merganser/Hooded_Merganser_0011_2239100012.jpg\n",
            "images/089.Hooded_Merganser/Hooded_Merganser_0012_2224465206.jpg\n",
            "images/089.Hooded_Merganser/Hooded_Merganser_0013_2249169516.jpg\n",
            "images/089.Hooded_Merganser/Hooded_Merganser_0014_3057878875.jpg\n",
            "images/089.Hooded_Merganser/Hooded_Merganser_0015_2155279663.jpg\n",
            "images/089.Hooded_Merganser/Hooded_Merganser_0016_2041243430.jpg\n",
            "images/089.Hooded_Merganser/Hooded_Merganser_0017_374902987.jpg\n",
            "images/089.Hooded_Merganser/Hooded_Merganser_0018_378462457.jpg\n",
            "images/089.Hooded_Merganser/Hooded_Merganser_0019_153897736.jpg\n",
            "images/089.Hooded_Merganser/Hooded_Merganser_0020_432977560.jpg\n",
            "images/089.Hooded_Merganser/Hooded_Merganser_0021_2164478226.jpg\n",
            "images/089.Hooded_Merganser/Hooded_Merganser_0022_2285976120.jpg\n",
            "images/089.Hooded_Merganser/Hooded_Merganser_0023_2968299892.jpg\n",
            "images/089.Hooded_Merganser/Hooded_Merganser_0024_3000037225.jpg\n",
            "images/089.Hooded_Merganser/Hooded_Merganser_0025_2142693462.jpg\n",
            "images/089.Hooded_Merganser/Hooded_Merganser_0026_2316971365.jpg\n",
            "images/089.Hooded_Merganser/Hooded_Merganser_0027_2316970127.jpg\n",
            "images/089.Hooded_Merganser/Hooded_Merganser_0028_2317780608.jpg\n",
            "images/089.Hooded_Merganser/Hooded_Merganser_0029_2062033013.jpg\n",
            "images/089.Hooded_Merganser/Hooded_Merganser_0030_2155279655.jpg\n",
            "images/089.Hooded_Merganser/Hooded_Merganser_0031_2905481359.jpg\n",
            "images/089.Hooded_Merganser/Hooded_Merganser_0032_2155279641.jpg\n",
            "images/089.Hooded_Merganser/Hooded_Merganser_0033_2407058312.jpg\n",
            "images/088.Western_Meadowlark/Western_Meadowlark_0001_2400317972.jpg\n",
            "images/088.Western_Meadowlark/Western_Meadowlark_0002_336786293.jpg\n",
            "images/088.Western_Meadowlark/Western_Meadowlark_0003_491561208.jpg\n",
            "images/088.Western_Meadowlark/Western_Meadowlark_0004_2334307819.jpg\n",
            "images/088.Western_Meadowlark/Western_Meadowlark_0005_267876275.jpg\n",
            "images/088.Western_Meadowlark/Western_Meadowlark_0006_498117247.jpg\n",
            "images/088.Western_Meadowlark/Western_Meadowlark_0007_2536966613.jpg\n",
            "images/088.Western_Meadowlark/Western_Meadowlark_0008_2616073401.jpg\n",
            "images/088.Western_Meadowlark/Western_Meadowlark_0009_2327954530.jpg\n",
            "images/088.Western_Meadowlark/Western_Meadowlark_0010_2360582478.jpg\n",
            "images/088.Western_Meadowlark/Western_Meadowlark_0011_2067707524.jpg\n",
            "images/088.Western_Meadowlark/Western_Meadowlark_0012_783456360.jpg\n",
            "images/088.Western_Meadowlark/Western_Meadowlark_0013_2458712111.jpg\n",
            "images/088.Western_Meadowlark/Western_Meadowlark_0014_1628406989.jpg\n",
            "images/088.Western_Meadowlark/Western_Meadowlark_0015_2520738486.jpg\n",
            "images/088.Western_Meadowlark/Western_Meadowlark_0016_2940699448.jpg\n",
            "images/088.Western_Meadowlark/Western_Meadowlark_0017_2222824015.jpg\n",
            "images/088.Western_Meadowlark/Western_Meadowlark_0018_2960868238.jpg\n",
            "images/088.Western_Meadowlark/Western_Meadowlark_0019_3001893284.jpg\n",
            "images/088.Western_Meadowlark/Western_Meadowlark_0020_2541828180.jpg\n",
            "images/088.Western_Meadowlark/Western_Meadowlark_0021_2541002813.jpg\n",
            "images/088.Western_Meadowlark/Western_Meadowlark_0022_3001025837.jpg\n",
            "images/088.Western_Meadowlark/Western_Meadowlark_0023_3001862164.jpg\n",
            "images/088.Western_Meadowlark/Western_Meadowlark_0024_2131506951.jpg\n",
            "images/088.Western_Meadowlark/Western_Meadowlark_0025_2150260191.jpg\n",
            "images/088.Western_Meadowlark/Western_Meadowlark_0026_2211027176.jpg\n",
            "images/088.Western_Meadowlark/Western_Meadowlark_0027_3054428882.jpg\n",
            "images/088.Western_Meadowlark/Western_Meadowlark_0028_2980525131.jpg\n",
            "images/088.Western_Meadowlark/Western_Meadowlark_0029_3091515936.jpg\n",
            "images/088.Western_Meadowlark/Western_Meadowlark_0030_85052447.jpg\n",
            "images/088.Western_Meadowlark/Western_Meadowlark_0031_126227376.jpg\n",
            "images/088.Western_Meadowlark/Western_Meadowlark_0032_371587162.jpg\n",
            "images/087.Mallard/Mallard_0001_2276113253.jpg\n",
            "images/087.Mallard/Mallard_0002_4779618.jpg\n",
            "images/087.Mallard/Mallard_0003_454966299.jpg\n",
            "images/087.Mallard/Mallard_0004_3057224244.jpg\n",
            "images/087.Mallard/Mallard_0005_4944560.jpg\n",
            "images/087.Mallard/Mallard_0006_142204314.jpg\n",
            "images/087.Mallard/Mallard_0007_1526735337.jpg\n",
            "images/087.Mallard/Mallard_0008_270876259.jpg\n",
            "images/087.Mallard/Mallard_0009_1526736445.jpg\n",
            "images/087.Mallard/Mallard_0010_2333527765.jpg\n",
            "images/087.Mallard/Mallard_0011_2311814131.jpg\n",
            "images/087.Mallard/Mallard_0012_269654809.jpg\n",
            "images/087.Mallard/Mallard_0013_1666073389.jpg\n",
            "images/087.Mallard/Mallard_0014_1473413057.jpg\n",
            "images/087.Mallard/Mallard_0015_461597050.jpg\n",
            "images/087.Mallard/Mallard_0016_267545945.jpg\n",
            "images/087.Mallard/Mallard_0017_3008333750.jpg\n",
            "images/087.Mallard/Mallard_0018_499089461.jpg\n",
            "images/087.Mallard/Mallard_0019_2405145715.jpg\n",
            "images/087.Mallard/Mallard_0020_499034066.jpg\n",
            "images/087.Mallard/Mallard_0021_420369688.jpg\n",
            "images/087.Mallard/Mallard_0022_2112405723.jpg\n",
            "images/087.Mallard/Mallard_0023_499083947.jpg\n",
            "images/086.Pacific_Loon/Pacific_Loon_0001_2663297541.jpg\n",
            "images/086.Pacific_Loon/Pacific_Loon_0002_177336378.jpg\n",
            "images/086.Pacific_Loon/Pacific_Loon_0003_2819895285.jpg\n",
            "images/086.Pacific_Loon/Pacific_Loon_0004_179398407.jpg\n",
            "images/086.Pacific_Loon/Pacific_Loon_0005_2570818279.jpg\n",
            "images/086.Pacific_Loon/Pacific_Loon_0006_177308270.jpg\n",
            "images/086.Pacific_Loon/Pacific_Loon_0007_177308274.jpg\n",
            "images/086.Pacific_Loon/Pacific_Loon_0008_59205003.jpg\n",
            "images/086.Pacific_Loon/Pacific_Loon_0009_3042531412.jpg\n",
            "images/086.Pacific_Loon/Pacific_Loon_0010_507612554.jpg\n",
            "images/086.Pacific_Loon/Pacific_Loon_0011_2671391950.jpg\n",
            "images/086.Pacific_Loon/Pacific_Loon_0012_3092137231.jpg\n",
            "images/086.Pacific_Loon/Pacific_Loon_0013_2819894999.jpg\n",
            "images/086.Pacific_Loon/Pacific_Loon_0014_2709223862.jpg\n",
            "images/086.Pacific_Loon/Pacific_Loon_0015_180115555.jpg\n",
            "images/086.Pacific_Loon/Pacific_Loon_0016_179408777.jpg\n",
            "images/086.Pacific_Loon/Pacific_Loon_0017_180115554.jpg\n",
            "images/086.Pacific_Loon/Pacific_Loon_0018_207213537.jpg\n",
            "images/086.Pacific_Loon/Pacific_Loon_0019_1111653041.jpg\n",
            "images/086.Pacific_Loon/Pacific_Loon_0020_709516077.jpg\n",
            "images/086.Pacific_Loon/Pacific_Loon_0021_180115556.jpg\n",
            "images/086.Pacific_Loon/Pacific_Loon_0022_179411134.jpg\n",
            "images/086.Pacific_Loon/Pacific_Loon_0023_182013756.jpg\n",
            "images/086.Pacific_Loon/Pacific_Loon_0024_709516053.jpg\n",
            "images/086.Pacific_Loon/Pacific_Loon_0025_179436135.jpg\n",
            "images/086.Pacific_Loon/Pacific_Loon_0026_194728445.jpg\n",
            "images/086.Pacific_Loon/Pacific_Loon_0027_175830455.jpg\n",
            "images/086.Pacific_Loon/Pacific_Loon_0028_2582788917.jpg\n",
            "images/086.Pacific_Loon/Pacific_Loon_0029_182013754.jpg\n",
            "images/086.Pacific_Loon/Pacific_Loon_0030_2819895149.jpg\n",
            "images/086.Pacific_Loon/Pacific_Loon_0031_1111653067.jpg\n",
            "images/086.Pacific_Loon/Pacific_Loon_0032_543334932.jpg\n",
            "images/086.Pacific_Loon/Pacific_Loon_0033_2660603118.jpg\n",
            "images/086.Pacific_Loon/Pacific_Loon_0034_702514636.jpg\n",
            "images/086.Pacific_Loon/Pacific_Loon_0035_2582788901.jpg\n",
            "images/086.Pacific_Loon/Pacific_Loon_0036_2535866038.jpg\n",
            "images/085.Horned_Lark/Horned_Lark_0001_2261794849.jpg\n",
            "images/085.Horned_Lark/Horned_Lark_0002_2398211488.jpg\n",
            "images/085.Horned_Lark/Horned_Lark_0003_3023719368.jpg\n",
            "images/085.Horned_Lark/Horned_Lark_0004_2330272437.jpg\n",
            "images/085.Horned_Lark/Horned_Lark_0005_134624134.jpg\n",
            "images/085.Horned_Lark/Horned_Lark_0006_749325136.jpg\n",
            "images/085.Horned_Lark/Horned_Lark_0007_426915026.jpg\n",
            "images/085.Horned_Lark/Horned_Lark_0008_132609058.jpg\n",
            "images/085.Horned_Lark/Horned_Lark_0009_307261985.jpg\n",
            "images/085.Horned_Lark/Horned_Lark_0010_2309536605.jpg\n",
            "images/085.Horned_Lark/Horned_Lark_0011_103943220.jpg\n",
            "images/085.Horned_Lark/Horned_Lark_0012_2317914424.jpg\n",
            "images/085.Horned_Lark/Horned_Lark_0013_2232041474.jpg\n",
            "images/085.Horned_Lark/Horned_Lark_0014_749325242.jpg\n",
            "images/085.Horned_Lark/Horned_Lark_0015_74890609.jpg\n",
            "images/085.Horned_Lark/Horned_Lark_0016_2563126475.jpg\n",
            "images/085.Horned_Lark/Horned_Lark_0017_2305797591.jpg\n",
            "images/085.Horned_Lark/Horned_Lark_0018_2367082555.jpg\n",
            "images/085.Horned_Lark/Horned_Lark_0019_2375083088.jpg\n",
            "images/085.Horned_Lark/Horned_Lark_0020_2284693592.jpg\n",
            "images/085.Horned_Lark/Horned_Lark_0021_2215710466.jpg\n",
            "images/085.Horned_Lark/Horned_Lark_0022_630235825.jpg\n",
            "images/085.Horned_Lark/Horned_Lark_0023_3068865387.jpg\n",
            "images/085.Horned_Lark/Horned_Lark_0024_2616246125.jpg\n",
            "images/085.Horned_Lark/Horned_Lark_0025_2290034299.jpg\n",
            "images/085.Horned_Lark/Horned_Lark_0026_447529302.jpg\n",
            "images/085.Horned_Lark/Horned_Lark_0027_2871921401.jpg\n",
            "images/085.Horned_Lark/Horned_Lark_0028_749325298.jpg\n",
            "images/085.Horned_Lark/Horned_Lark_0029_2283904413.jpg\n",
            "images/085.Horned_Lark/Horned_Lark_0030_390266927.jpg\n",
            "images/085.Horned_Lark/Horned_Lark_0031_2376117616.jpg\n",
            "images/085.Horned_Lark/Horned_Lark_0032_2297336214.jpg\n",
            "images/084.Red_legged_Kittiwake/Red_legged_Kittiwake_0001_2255271983.jpg\n",
            "images/084.Red_legged_Kittiwake/Red_legged_Kittiwake_0002_2598577839.jpg\n",
            "images/084.Red_legged_Kittiwake/Red_legged_Kittiwake_0003_2603553586.jpg\n",
            "images/084.Red_legged_Kittiwake/Red_legged_Kittiwake_0004_2414669338.jpg\n",
            "images/084.Red_legged_Kittiwake/Red_legged_Kittiwake_0005_2779805542.jpg\n",
            "images/084.Red_legged_Kittiwake/Red_legged_Kittiwake_0006_2779805978.jpg\n",
            "images/084.Red_legged_Kittiwake/Red_legged_Kittiwake_0007_2779805294.jpg\n",
            "images/084.Red_legged_Kittiwake/Red_legged_Kittiwake_0008_2778949477.jpg\n",
            "images/084.Red_legged_Kittiwake/Red_legged_Kittiwake_0009_2569029849.jpg\n",
            "images/084.Red_legged_Kittiwake/Red_legged_Kittiwake_0010_2569029539.jpg\n",
            "images/084.Red_legged_Kittiwake/Red_legged_Kittiwake_0011_1281287067.jpg\n",
            "images/084.Red_legged_Kittiwake/Red_legged_Kittiwake_0012_364291287.jpg\n",
            "images/084.Red_legged_Kittiwake/Red_legged_Kittiwake_0013_2676975680.jpg\n",
            "images/084.Red_legged_Kittiwake/Red_legged_Kittiwake_0014_2555338393.jpg\n",
            "images/084.Red_legged_Kittiwake/Red_legged_Kittiwake_0015_2672025832.jpg\n",
            "images/084.Red_legged_Kittiwake/Red_legged_Kittiwake_0016_881213027.jpg\n",
            "images/084.Red_legged_Kittiwake/Red_legged_Kittiwake_0017_992493581.jpg\n",
            "images/084.Red_legged_Kittiwake/Red_legged_Kittiwake_0018_179274613.jpg\n",
            "images/084.Red_legged_Kittiwake/Red_legged_Kittiwake_0019_1313291813.jpg\n",
            "images/084.Red_legged_Kittiwake/Red_legged_Kittiwake_0020_1940664901.jpg\n",
            "images/084.Red_legged_Kittiwake/Red_legged_Kittiwake_0021_1509219073.jpg\n",
            "images/084.Red_legged_Kittiwake/Red_legged_Kittiwake_0022_2743730128.jpg\n",
            "images/083.White_breasted_Kingfisher/White_breasted_Kingfisher_0001_2643108802.jpg\n",
            "images/083.White_breasted_Kingfisher/White_breasted_Kingfisher_0002_3027722396.jpg\n",
            "images/083.White_breasted_Kingfisher/White_breasted_Kingfisher_0003_851272594.jpg\n",
            "images/083.White_breasted_Kingfisher/White_breasted_Kingfisher_0004_59572559.jpg\n",
            "images/083.White_breasted_Kingfisher/White_breasted_Kingfisher_0005_2291308087.jpg\n",
            "images/083.White_breasted_Kingfisher/White_breasted_Kingfisher_0006_2696993149.jpg\n",
            "images/083.White_breasted_Kingfisher/White_breasted_Kingfisher_0007_3044777937.jpg\n",
            "images/083.White_breasted_Kingfisher/White_breasted_Kingfisher_0008_484665332.jpg\n",
            "images/083.White_breasted_Kingfisher/White_breasted_Kingfisher_0009_108786236.jpg\n",
            "images/083.White_breasted_Kingfisher/White_breasted_Kingfisher_0010_2552634628.jpg\n",
            "images/083.White_breasted_Kingfisher/White_breasted_Kingfisher_0011_2331046803.jpg\n",
            "images/083.White_breasted_Kingfisher/White_breasted_Kingfisher_0012_228858947.jpg\n",
            "images/083.White_breasted_Kingfisher/White_breasted_Kingfisher_0013_3001861631.jpg\n",
            "images/083.White_breasted_Kingfisher/White_breasted_Kingfisher_0014_612537376.jpg\n",
            "images/083.White_breasted_Kingfisher/White_breasted_Kingfisher_0015_162410603.jpg\n",
            "images/083.White_breasted_Kingfisher/White_breasted_Kingfisher_0016_2367648769.jpg\n",
            "images/083.White_breasted_Kingfisher/White_breasted_Kingfisher_0017_2920472579.jpg\n",
            "images/083.White_breasted_Kingfisher/White_breasted_Kingfisher_0018_337234107.jpg\n",
            "images/083.White_breasted_Kingfisher/White_breasted_Kingfisher_0019_2835145427.jpg\n",
            "images/083.White_breasted_Kingfisher/White_breasted_Kingfisher_0020_2124884282.jpg\n",
            "images/083.White_breasted_Kingfisher/White_breasted_Kingfisher_0021_728413611.jpg\n",
            "images/083.White_breasted_Kingfisher/White_breasted_Kingfisher_0022_3083780031.jpg\n",
            "images/083.White_breasted_Kingfisher/White_breasted_Kingfisher_0023_2784746606.jpg\n",
            "images/083.White_breasted_Kingfisher/White_breasted_Kingfisher_0024_3047195261.jpg\n",
            "images/083.White_breasted_Kingfisher/White_breasted_Kingfisher_0025_3055159611.jpg\n",
            "images/083.White_breasted_Kingfisher/White_breasted_Kingfisher_0026_337234051.jpg\n",
            "images/083.White_breasted_Kingfisher/White_breasted_Kingfisher_0027_337234149.jpg\n",
            "images/083.White_breasted_Kingfisher/White_breasted_Kingfisher_0028_3178959017.jpg\n",
            "images/083.White_breasted_Kingfisher/White_breasted_Kingfisher_0029_3179795346.jpg\n",
            "images/083.White_breasted_Kingfisher/White_breasted_Kingfisher_0030_3179795264.jpg\n",
            "images/083.White_breasted_Kingfisher/White_breasted_Kingfisher_0031_2580182686.jpg\n",
            "images/083.White_breasted_Kingfisher/White_breasted_Kingfisher_0032_478115054.jpg\n",
            "images/083.White_breasted_Kingfisher/White_breasted_Kingfisher_0033_2453918199.jpg\n",
            "images/083.White_breasted_Kingfisher/White_breasted_Kingfisher_0034_572346502.jpg\n",
            "images/083.White_breasted_Kingfisher/White_breasted_Kingfisher_0035_352582681.jpg\n",
            "images/083.White_breasted_Kingfisher/White_breasted_Kingfisher_0036_265120622.jpg\n",
            "images/082.Ringed_Kingfisher/Ringed_Kingfisher_0001_243883039.jpg\n",
            "images/082.Ringed_Kingfisher/Ringed_Kingfisher_0002_229246161.jpg\n",
            "images/082.Ringed_Kingfisher/Ringed_Kingfisher_0003_229224458.jpg\n",
            "images/082.Ringed_Kingfisher/Ringed_Kingfisher_0004_2645659057.jpg\n",
            "images/082.Ringed_Kingfisher/Ringed_Kingfisher_0005_2646487642.jpg\n",
            "images/082.Ringed_Kingfisher/Ringed_Kingfisher_0006_445049756.jpg\n",
            "images/082.Ringed_Kingfisher/Ringed_Kingfisher_0007_445037832.jpg\n",
            "images/082.Ringed_Kingfisher/Ringed_Kingfisher_0008_2403963715.jpg\n",
            "images/082.Ringed_Kingfisher/Ringed_Kingfisher_0009_2497147800.jpg\n",
            "images/082.Ringed_Kingfisher/Ringed_Kingfisher_0010_277706494.jpg\n",
            "images/082.Ringed_Kingfisher/Ringed_Kingfisher_0011_2629392582.jpg\n",
            "images/082.Ringed_Kingfisher/Ringed_Kingfisher_0012_1349807222.jpg\n",
            "images/082.Ringed_Kingfisher/Ringed_Kingfisher_0013_934207907.jpg\n",
            "images/082.Ringed_Kingfisher/Ringed_Kingfisher_0014_12646894.jpg\n",
            "images/082.Ringed_Kingfisher/Ringed_Kingfisher_0015_860383444.jpg\n",
            "images/082.Ringed_Kingfisher/Ringed_Kingfisher_0016_307976118.jpg\n",
            "images/082.Ringed_Kingfisher/Ringed_Kingfisher_0017_2157630354.jpg\n",
            "images/082.Ringed_Kingfisher/Ringed_Kingfisher_0018_2488224653.jpg\n",
            "images/082.Ringed_Kingfisher/Ringed_Kingfisher_0019_2289718893.jpg\n",
            "images/082.Ringed_Kingfisher/Ringed_Kingfisher_0020_2088379408.jpg\n",
            "images/082.Ringed_Kingfisher/Ringed_Kingfisher_0021_2899100913.jpg\n",
            "images/082.Ringed_Kingfisher/Ringed_Kingfisher_0022_444958123.jpg\n",
            "images/082.Ringed_Kingfisher/Ringed_Kingfisher_0023_945528157.jpg\n",
            "images/082.Ringed_Kingfisher/Ringed_Kingfisher_0024_2260405514.jpg\n",
            "images/082.Ringed_Kingfisher/Ringed_Kingfisher_0025_2896722729.jpg\n",
            "images/082.Ringed_Kingfisher/Ringed_Kingfisher_0026_2902814192.jpg\n",
            "images/082.Ringed_Kingfisher/Ringed_Kingfisher_0027_654611053.jpg\n",
            "images/082.Ringed_Kingfisher/Ringed_Kingfisher_0028_655472198.jpg\n",
            "images/082.Ringed_Kingfisher/Ringed_Kingfisher_0029_2266150709.jpg\n",
            "images/082.Ringed_Kingfisher/Ringed_Kingfisher_0030_2896892535.jpg\n",
            "images/082.Ringed_Kingfisher/Ringed_Kingfisher_0031_2210438641.jpg\n",
            "images/082.Ringed_Kingfisher/Ringed_Kingfisher_0032_2352001413.jpg\n",
            "images/082.Ringed_Kingfisher/Ringed_Kingfisher_0033_2388101639.jpg\n",
            "images/081.Pied_Kingfisher/Pied_Kingfisher_0001_2100377731.jpg\n",
            "images/081.Pied_Kingfisher/Pied_Kingfisher_0002_1020026028.jpg\n",
            "images/081.Pied_Kingfisher/Pied_Kingfisher_0003_1332201388.jpg\n",
            "images/081.Pied_Kingfisher/Pied_Kingfisher_0004_411032570.jpg\n",
            "images/081.Pied_Kingfisher/Pied_Kingfisher_0005_359879785.jpg\n",
            "images/081.Pied_Kingfisher/Pied_Kingfisher_0006_2967227448.jpg\n",
            "images/081.Pied_Kingfisher/Pied_Kingfisher_0007_2496956771.jpg\n",
            "images/081.Pied_Kingfisher/Pied_Kingfisher_0008_99323233.jpg\n",
            "images/081.Pied_Kingfisher/Pied_Kingfisher_0009_407710776.jpg\n",
            "images/081.Pied_Kingfisher/Pied_Kingfisher_0010_440571393.jpg\n",
            "images/081.Pied_Kingfisher/Pied_Kingfisher_0011_1336416582.jpg\n",
            "images/081.Pied_Kingfisher/Pied_Kingfisher_0012_2346771419.jpg\n",
            "images/081.Pied_Kingfisher/Pied_Kingfisher_0013_462076142.jpg\n",
            "images/081.Pied_Kingfisher/Pied_Kingfisher_0014_2237320120.jpg\n",
            "images/081.Pied_Kingfisher/Pied_Kingfisher_0015_2990735907.jpg\n",
            "images/081.Pied_Kingfisher/Pied_Kingfisher_0016_548520466.jpg\n",
            "images/081.Pied_Kingfisher/Pied_Kingfisher_0017_440571447.jpg\n",
            "images/081.Pied_Kingfisher/Pied_Kingfisher_0018_2909316808.jpg\n",
            "images/081.Pied_Kingfisher/Pied_Kingfisher_0019_2109660449.jpg\n",
            "images/081.Pied_Kingfisher/Pied_Kingfisher_0020_2178162730.jpg\n",
            "images/081.Pied_Kingfisher/Pied_Kingfisher_0021_3080449204.jpg\n",
            "images/081.Pied_Kingfisher/Pied_Kingfisher_0022_257153161.jpg\n",
            "images/081.Pied_Kingfisher/Pied_Kingfisher_0023_2050240281.jpg\n",
            "images/081.Pied_Kingfisher/Pied_Kingfisher_0024_2887253470.jpg\n",
            "images/081.Pied_Kingfisher/Pied_Kingfisher_0025_2923147843.jpg\n",
            "images/081.Pied_Kingfisher/Pied_Kingfisher_0026_2431818658.jpg\n",
            "images/081.Pied_Kingfisher/Pied_Kingfisher_0027_2744390557.jpg\n",
            "images/081.Pied_Kingfisher/Pied_Kingfisher_0028_2320712147.jpg\n",
            "images/081.Pied_Kingfisher/Pied_Kingfisher_0029_2744388155.jpg\n",
            "images/081.Pied_Kingfisher/Pied_Kingfisher_0030_2746860827.jpg\n",
            "images/081.Pied_Kingfisher/Pied_Kingfisher_0031_2485378591.jpg\n",
            "images/081.Pied_Kingfisher/Pied_Kingfisher_0032_2050240459.jpg\n",
            "images/081.Pied_Kingfisher/Pied_Kingfisher_0033_2486197230.jpg\n",
            "images/081.Pied_Kingfisher/Pied_Kingfisher_0034_2431818662.jpg\n",
            "images/081.Pied_Kingfisher/Pied_Kingfisher_0035_913016413.jpg\n",
            "images/081.Pied_Kingfisher/Pied_Kingfisher_0036_2731379925.jpg\n",
            "images/081.Pied_Kingfisher/Pied_Kingfisher_0037_853160105.jpg\n",
            "images/080.Green_Kingfisher/Green_Kingfisher_0001_621928207.jpg\n",
            "images/080.Green_Kingfisher/Green_Kingfisher_0002_228927324.jpg\n",
            "images/080.Green_Kingfisher/Green_Kingfisher_0003_228927320.jpg\n",
            "images/080.Green_Kingfisher/Green_Kingfisher_0004_1341682793.jpg\n",
            "images/080.Green_Kingfisher/Green_Kingfisher_0005_2190640279.jpg\n",
            "images/080.Green_Kingfisher/Green_Kingfisher_0006_2996475357.jpg\n",
            "images/080.Green_Kingfisher/Green_Kingfisher_0007_841594298.jpg\n",
            "images/080.Green_Kingfisher/Green_Kingfisher_0008_3053547169.jpg\n",
            "images/080.Green_Kingfisher/Green_Kingfisher_0009_3101124201.jpg\n",
            "images/080.Green_Kingfisher/Green_Kingfisher_0010_435755643.jpg\n",
            "images/080.Green_Kingfisher/Green_Kingfisher_0011_2319684866.jpg\n",
            "images/080.Green_Kingfisher/Green_Kingfisher_0012_1806203676.jpg\n",
            "images/080.Green_Kingfisher/Green_Kingfisher_0013_2191153406.jpg\n",
            "images/080.Green_Kingfisher/Green_Kingfisher_0014_2044782626.jpg\n",
            "images/080.Green_Kingfisher/Green_Kingfisher_0015_468184379.jpg\n",
            "images/080.Green_Kingfisher/Green_Kingfisher_0016_362923716.jpg\n",
            "images/080.Green_Kingfisher/Green_Kingfisher_0017_465524310.jpg\n",
            "images/080.Green_Kingfisher/Green_Kingfisher_0018_2210436315.jpg\n",
            "images/080.Green_Kingfisher/Green_Kingfisher_0019_2211236814.jpg\n",
            "images/080.Green_Kingfisher/Green_Kingfisher_0020_59208880.jpg\n",
            "images/080.Green_Kingfisher/Green_Kingfisher_0021_357256086.jpg\n",
            "images/080.Green_Kingfisher/Green_Kingfisher_0022_356919564.jpg\n",
            "images/080.Green_Kingfisher/Green_Kingfisher_0023_1975074259.jpg\n",
            "images/079.Belted_Kingfisher/Belted_Kingfisher_0001_2831598991.jpg\n",
            "images/079.Belted_Kingfisher/Belted_Kingfisher_0002_117317528.jpg\n",
            "images/079.Belted_Kingfisher/Belted_Kingfisher_0003_2154761080.jpg\n",
            "images/079.Belted_Kingfisher/Belted_Kingfisher_0004_2355427181.jpg\n",
            "images/079.Belted_Kingfisher/Belted_Kingfisher_0005_1563913011.jpg\n",
            "images/079.Belted_Kingfisher/Belted_Kingfisher_0006_330958125.jpg\n",
            "images/079.Belted_Kingfisher/Belted_Kingfisher_0007_307189369.jpg\n",
            "images/079.Belted_Kingfisher/Belted_Kingfisher_0008_461097567.jpg\n",
            "images/079.Belted_Kingfisher/Belted_Kingfisher_0009_2911204326.jpg\n",
            "images/079.Belted_Kingfisher/Belted_Kingfisher_0010_145814702.jpg\n",
            "images/079.Belted_Kingfisher/Belted_Kingfisher_0011_117317529.jpg\n",
            "images/079.Belted_Kingfisher/Belted_Kingfisher_0012_2731776061.jpg\n",
            "images/079.Belted_Kingfisher/Belted_Kingfisher_0013_2348115840.jpg\n",
            "images/079.Belted_Kingfisher/Belted_Kingfisher_0014_xxx.jpg\n",
            "images/079.Belted_Kingfisher/Belted_Kingfisher_0015_xxx.jpg\n",
            "images/079.Belted_Kingfisher/Belted_Kingfisher_0016_2943186142.jpg\n",
            "images/079.Belted_Kingfisher/Belted_Kingfisher_0017_2281805508.jpg\n",
            "images/079.Belted_Kingfisher/Belted_Kingfisher_0018_2731957925.jpg\n",
            "images/079.Belted_Kingfisher/Belted_Kingfisher_0019_2942326245.jpg\n",
            "images/079.Belted_Kingfisher/Belted_Kingfisher_0020_2160044167.jpg\n",
            "images/079.Belted_Kingfisher/Belted_Kingfisher_0021_2831146595.jpg\n",
            "images/079.Belted_Kingfisher/Belted_Kingfisher_0022_299862810.jpg\n",
            "images/079.Belted_Kingfisher/Belted_Kingfisher_0023_2891585918.jpg\n",
            "images/079.Belted_Kingfisher/Belted_Kingfisher_0024_2752189100.jpg\n",
            "images/079.Belted_Kingfisher/Belted_Kingfisher_0025_32125483.jpg\n",
            "images/079.Belted_Kingfisher/Belted_Kingfisher_0026_1803308285.jpg\n",
            "images/079.Belted_Kingfisher/Belted_Kingfisher_0027_2346547374.jpg\n",
            "images/079.Belted_Kingfisher/Belted_Kingfisher_0028_2341941961.jpg\n",
            "images/079.Belted_Kingfisher/Belted_Kingfisher_0029_2238415054.jpg\n",
            "images/079.Belted_Kingfisher/Belted_Kingfisher_0030_2065767461.jpg\n",
            "images/079.Belted_Kingfisher/Belted_Kingfisher_0031_2356158388.jpg\n",
            "images/078.Gray_Kingbird/Gray_Kingbird_0001_2576635514.jpg\n",
            "images/078.Gray_Kingbird/Gray_Kingbird_0002_2482807195.jpg\n",
            "images/078.Gray_Kingbird/Gray_Kingbird_0003_2998613127.jpg\n",
            "images/078.Gray_Kingbird/Gray_Kingbird_0004_454473512.jpg\n",
            "images/078.Gray_Kingbird/Gray_Kingbird_0005_2468885605.jpg\n",
            "images/078.Gray_Kingbird/Gray_Kingbird_0006_455348688.jpg\n",
            "images/078.Gray_Kingbird/Gray_Kingbird_0007_462405740.jpg\n",
            "images/078.Gray_Kingbird/Gray_Kingbird_0008_473725387.jpg\n",
            "images/078.Gray_Kingbird/Gray_Kingbird_0009_136676138.jpg\n",
            "images/078.Gray_Kingbird/Gray_Kingbird_0010_136676142.jpg\n",
            "images/078.Gray_Kingbird/Gray_Kingbird_0011_179376919.jpg\n",
            "images/078.Gray_Kingbird/Gray_Kingbird_0012_179376918.jpg\n",
            "images/078.Gray_Kingbird/Gray_Kingbird_0013_2532532961.jpg\n",
            "images/078.Gray_Kingbird/Gray_Kingbird_0014_346640690.jpg\n",
            "images/078.Gray_Kingbird/Gray_Kingbird_0015_346645103.jpg\n",
            "images/078.Gray_Kingbird/Gray_Kingbird_0016_346643589.jpg\n",
            "images/078.Gray_Kingbird/Gray_Kingbird_0017_2748075436.jpg\n",
            "images/078.Gray_Kingbird/Gray_Kingbird_0018_2701322195.jpg\n",
            "images/078.Gray_Kingbird/Gray_Kingbird_0019_2725432526.jpg\n",
            "images/078.Gray_Kingbird/Gray_Kingbird_0020_59211118.jpg\n",
            "images/078.Gray_Kingbird/Gray_Kingbird_0021_2843996049.jpg\n",
            "images/078.Gray_Kingbird/Gray_Kingbird_0022_59211120.jpg\n",
            "images/078.Gray_Kingbird/Gray_Kingbird_0023_2180016762.jpg\n",
            "images/078.Gray_Kingbird/Gray_Kingbird_0024_349685861.jpg\n",
            "images/078.Gray_Kingbird/Gray_Kingbird_0025_374356037.jpg\n",
            "images/078.Gray_Kingbird/Gray_Kingbird_0026_495510021.jpg\n",
            "images/078.Gray_Kingbird/Gray_Kingbird_0027_440871837.jpg\n",
            "images/078.Gray_Kingbird/Gray_Kingbird_0028_2905281363.jpg\n",
            "images/078.Gray_Kingbird/Gray_Kingbird_0029_1407087867.jpg\n",
            "images/078.Gray_Kingbird/Gray_Kingbird_0030_2332957503.jpg\n",
            "images/078.Gray_Kingbird/Gray_Kingbird_0031_505769005.jpg\n",
            "images/078.Gray_Kingbird/Gray_Kingbird_0032_2172161455.jpg\n",
            "images/078.Gray_Kingbird/Gray_Kingbird_0033_1341384829.jpg\n",
            "images/078.Gray_Kingbird/Gray_Kingbird_0034_505768997.jpg\n",
            "images/078.Gray_Kingbird/Gray_Kingbird_0035_2087483323.jpg\n",
            "images/077.Tropical_Kingbird/Tropical_Kingbird_0001_2252977421.jpg\n",
            "images/077.Tropical_Kingbird/Tropical_Kingbird_0002_2436999301.jpg\n",
            "images/077.Tropical_Kingbird/Tropical_Kingbird_0003_2582285384.jpg\n",
            "images/077.Tropical_Kingbird/Tropical_Kingbird_0004_2751071559.jpg\n",
            "images/077.Tropical_Kingbird/Tropical_Kingbird_0005_2094493412.jpg\n",
            "images/077.Tropical_Kingbird/Tropical_Kingbird_0006_2093719755.jpg\n",
            "images/077.Tropical_Kingbird/Tropical_Kingbird_0007_2252472155.jpg\n",
            "images/077.Tropical_Kingbird/Tropical_Kingbird_0008_2252974071.jpg\n",
            "images/077.Tropical_Kingbird/Tropical_Kingbird_0009_2618800129.jpg\n",
            "images/077.Tropical_Kingbird/Tropical_Kingbird_0010_425870494.jpg\n",
            "images/077.Tropical_Kingbird/Tropical_Kingbird_0011_2032071341.jpg\n",
            "images/077.Tropical_Kingbird/Tropical_Kingbird_0012_425728584.jpg\n",
            "images/077.Tropical_Kingbird/Tropical_Kingbird_0013_2436992101.jpg\n",
            "images/077.Tropical_Kingbird/Tropical_Kingbird_0014_524738465.jpg\n",
            "images/077.Tropical_Kingbird/Tropical_Kingbird_0015_2558432153.jpg\n",
            "images/077.Tropical_Kingbird/Tropical_Kingbird_0016_2583908224.jpg\n",
            "images/077.Tropical_Kingbird/Tropical_Kingbird_0017_2510474703.jpg\n",
            "images/077.Tropical_Kingbird/Tropical_Kingbird_0018_2614745168.jpg\n",
            "images/077.Tropical_Kingbird/Tropical_Kingbird_0019_425728602.jpg\n",
            "images/077.Tropical_Kingbird/Tropical_Kingbird_0020_2145723039.jpg\n",
            "images/077.Tropical_Kingbird/Tropical_Kingbird_0021_2094471482.jpg\n",
            "images/077.Tropical_Kingbird/Tropical_Kingbird_0022_2146515330.jpg\n",
            "images/077.Tropical_Kingbird/Tropical_Kingbird_0023_425870475.jpg\n",
            "images/077.Tropical_Kingbird/Tropical_Kingbird_0024_2032880256.jpg\n",
            "images/077.Tropical_Kingbird/Tropical_Kingbird_0025_2252811531.jpg\n",
            "images/077.Tropical_Kingbird/Tropical_Kingbird_0026_425870438.jpg\n",
            "images/077.Tropical_Kingbird/Tropical_Kingbird_0027_2436995903.jpg\n",
            "images/077.Tropical_Kingbird/Tropical_Kingbird_0028_2146517768.jpg\n",
            "images/077.Tropical_Kingbird/Tropical_Kingbird_0029_2436988587.jpg\n",
            "images/077.Tropical_Kingbird/Tropical_Kingbird_0030_2093697909.jpg\n",
            "images/077.Tropical_Kingbird/Tropical_Kingbird_0031_2146517168.jpg\n",
            "images/077.Tropical_Kingbird/Tropical_Kingbird_0032_2559252364.jpg\n",
            "images/077.Tropical_Kingbird/Tropical_Kingbird_0033_425728568.jpg\n",
            "images/077.Tropical_Kingbird/Tropical_Kingbird_0034_2032874960.jpg\n",
            "images/077.Tropical_Kingbird/Tropical_Kingbird_0035_112289279.jpg\n",
            "images/077.Tropical_Kingbird/Tropical_Kingbird_0036_2093696363.jpg\n",
            "images/076.Dark_eyed_Junco/Dark_eyed_Junco_0001_3044260996.jpg\n",
            "images/076.Dark_eyed_Junco/Dark_eyed_Junco_0002_2101519271.jpg\n",
            "images/076.Dark_eyed_Junco/Dark_eyed_Junco_0003_2929274032.jpg\n",
            "images/076.Dark_eyed_Junco/Dark_eyed_Junco_0004_2293186949.jpg\n",
            "images/076.Dark_eyed_Junco/Dark_eyed_Junco_0005_416878483.jpg\n",
            "images/076.Dark_eyed_Junco/Dark_eyed_Junco_0006_2638228676.jpg\n",
            "images/076.Dark_eyed_Junco/Dark_eyed_Junco_0007_2899132837.jpg\n",
            "images/076.Dark_eyed_Junco/Dark_eyed_Junco_0008_2886107255.jpg\n",
            "images/076.Dark_eyed_Junco/Dark_eyed_Junco_0009_xxx.jpg\n",
            "images/076.Dark_eyed_Junco/Dark_eyed_Junco_0010_92837795.jpg\n",
            "images/076.Dark_eyed_Junco/Dark_eyed_Junco_0011_8675577.jpg\n",
            "images/076.Dark_eyed_Junco/Dark_eyed_Junco_0012_72947561.jpg\n",
            "images/076.Dark_eyed_Junco/Dark_eyed_Junco_0013_3084338398.jpg\n",
            "images/076.Dark_eyed_Junco/Dark_eyed_Junco_0014_307835450.jpg\n",
            "images/076.Dark_eyed_Junco/Dark_eyed_Junco_0015_3663233.jpg\n",
            "images/076.Dark_eyed_Junco/Dark_eyed_Junco_0016_2608273444.jpg\n",
            "images/076.Dark_eyed_Junco/Dark_eyed_Junco_0017_3046984926.jpg\n",
            "images/076.Dark_eyed_Junco/Dark_eyed_Junco_0018_2990388832.jpg\n",
            "images/076.Dark_eyed_Junco/Dark_eyed_Junco_0019_406101925.jpg\n",
            "images/076.Dark_eyed_Junco/Dark_eyed_Junco_0020_2265169918.jpg\n",
            "images/076.Dark_eyed_Junco/Dark_eyed_Junco_0021_369586658.jpg\n",
            "images/076.Dark_eyed_Junco/Dark_eyed_Junco_0022_1614063798.jpg\n",
            "images/076.Dark_eyed_Junco/Dark_eyed_Junco_0023_2232206693.jpg\n",
            "images/076.Dark_eyed_Junco/Dark_eyed_Junco_0024_2293187019.jpg\n",
            "images/076.Dark_eyed_Junco/Dark_eyed_Junco_0025_3008217675.jpg\n",
            "images/075.Green_Jay/Green_Jay_0001_2067893425.jpg\n",
            "images/075.Green_Jay/Green_Jay_0002_1804533131.jpg\n",
            "images/075.Green_Jay/Green_Jay_0003_360514395.jpg\n",
            "images/075.Green_Jay/Green_Jay_0004_1806016442.jpg\n",
            "images/075.Green_Jay/Green_Jay_0005_1805387582.jpg\n",
            "images/075.Green_Jay/Green_Jay_0006_2347756935.jpg\n",
            "images/075.Green_Jay/Green_Jay_0007_2034971972.jpg\n",
            "images/075.Green_Jay/Green_Jay_0008_2034171253.jpg\n",
            "images/075.Green_Jay/Green_Jay_0009_2275212527.jpg\n",
            "images/075.Green_Jay/Green_Jay_0010_435779818.jpg\n",
            "images/075.Green_Jay/Green_Jay_0011_361246576.jpg\n",
            "images/075.Green_Jay/Green_Jay_0012_1351255526.jpg\n",
            "images/075.Green_Jay/Green_Jay_0013_2266239562.jpg\n",
            "images/075.Green_Jay/Green_Jay_0014_287786620.jpg\n",
            "images/075.Green_Jay/Green_Jay_0015_1805161969.jpg\n",
            "images/075.Green_Jay/Green_Jay_0016_3033141729.jpg\n",
            "images/075.Green_Jay/Green_Jay_0017_2310877631.jpg\n",
            "images/075.Green_Jay/Green_Jay_0018_2189441891.jpg\n",
            "images/075.Green_Jay/Green_Jay_0019_2332356584.jpg\n",
            "images/075.Green_Jay/Green_Jay_0020_2190321162.jpg\n",
            "images/075.Green_Jay/Green_Jay_0021_3033141323.jpg\n",
            "images/075.Green_Jay/Green_Jay_0022_2347763099.jpg\n",
            "images/075.Green_Jay/Green_Jay_0023_2371805731.jpg\n",
            "images/075.Green_Jay/Green_Jay_0024_xxx.jpg\n",
            "images/075.Green_Jay/Green_Jay_0025_2087886415.jpg\n",
            "images/075.Green_Jay/Green_Jay_0026_772259577.jpg\n",
            "images/075.Green_Jay/Green_Jay_0027_2934474095.jpg\n",
            "images/075.Green_Jay/Green_Jay_0028_3092617898.jpg\n",
            "images/075.Green_Jay/Green_Jay_0029_2458635659.jpg\n",
            "images/075.Green_Jay/Green_Jay_0030_649594018.jpg\n",
            "images/075.Green_Jay/Green_Jay_0031_477899172.jpg\n",
            "images/075.Green_Jay/Green_Jay_0032_2434280614.jpg\n",
            "images/075.Green_Jay/Green_Jay_0033_390572264.jpg\n",
            "images/075.Green_Jay/Green_Jay_0034_2143966592.jpg\n",
            "images/075.Green_Jay/Green_Jay_0035_2983226963.jpg\n",
            "images/075.Green_Jay/Green_Jay_0036_2892831425.jpg\n",
            "images/075.Green_Jay/Green_Jay_0037_2394662980.jpg\n",
            "images/074.Florida_Jay/Florida_Jay_0001_2599154742.jpg\n",
            "images/074.Florida_Jay/Florida_Jay_0002_2279244393.jpg\n",
            "images/074.Florida_Jay/Florida_Jay_0003_409254398.jpg\n",
            "images/074.Florida_Jay/Florida_Jay_0004_2562114580.jpg\n",
            "images/074.Florida_Jay/Florida_Jay_0005_2334711470.jpg\n",
            "images/074.Florida_Jay/Florida_Jay_0006_2847477101.jpg\n",
            "images/074.Florida_Jay/Florida_Jay_0007_2321631355.jpg\n",
            "images/074.Florida_Jay/Florida_Jay_0008_21506745.jpg\n",
            "images/074.Florida_Jay/Florida_Jay_0009_1519486691.jpg\n",
            "images/074.Florida_Jay/Florida_Jay_0010_2334709876.jpg\n",
            "images/074.Florida_Jay/Florida_Jay_0011_2443833371.jpg\n",
            "images/074.Florida_Jay/Florida_Jay_0012_2333891141.jpg\n",
            "images/074.Florida_Jay/Florida_Jay_0013_2333893193.jpg\n",
            "images/074.Florida_Jay/Florida_Jay_0014_2333886235.jpg\n",
            "images/074.Florida_Jay/Florida_Jay_0015_2334715568.jpg\n",
            "images/074.Florida_Jay/Florida_Jay_0016_2333884847.jpg\n",
            "images/074.Florida_Jay/Florida_Jay_0017_2333894291.jpg\n",
            "images/074.Florida_Jay/Florida_Jay_0018_2334720072.jpg\n",
            "images/074.Florida_Jay/Florida_Jay_0019_2334718020.jpg\n",
            "images/074.Florida_Jay/Florida_Jay_0020_2333888857.jpg\n",
            "images/074.Florida_Jay/Florida_Jay_0021_1806277743.jpg\n",
            "images/074.Florida_Jay/Florida_Jay_0022_429285351.jpg\n",
            "images/074.Florida_Jay/Florida_Jay_0023_739264851.jpg\n",
            "images/074.Florida_Jay/Florida_Jay_0024_2300511239.jpg\n",
            "images/074.Florida_Jay/Florida_Jay_0025_2896321030.jpg\n",
            "images/074.Florida_Jay/Florida_Jay_0026_2267626839.jpg\n",
            "images/074.Florida_Jay/Florida_Jay_0027_2327395056.jpg\n",
            "images/074.Florida_Jay/Florida_Jay_0028_2485111000.jpg\n",
            "images/074.Florida_Jay/Florida_Jay_0029_2721947456.jpg\n",
            "images/074.Florida_Jay/Florida_Jay_0030_458297926.jpg\n",
            "images/074.Florida_Jay/Florida_Jay_0031_266193041.jpg\n",
            "images/074.Florida_Jay/Florida_Jay_0032_2565468217.jpg\n",
            "images/074.Florida_Jay/Florida_Jay_0033_1233902148.jpg\n",
            "images/074.Florida_Jay/Florida_Jay_0034_2565468527.jpg\n",
            "images/074.Florida_Jay/Florida_Jay_0035_171539494.jpg\n",
            "images/073.Blue_Jay/Blue_Jay_0001_500995915.jpg\n",
            "images/073.Blue_Jay/Blue_Jay_0002_2087237697.jpg\n",
            "images/073.Blue_Jay/Blue_Jay_0003_2446450775.jpg\n",
            "images/073.Blue_Jay/Blue_Jay_0004_2593314041.jpg\n",
            "images/073.Blue_Jay/Blue_Jay_0005_284207282.jpg\n",
            "images/073.Blue_Jay/Blue_Jay_0006_2574706714.jpg\n",
            "images/073.Blue_Jay/Blue_Jay_0007_2312755168.jpg\n",
            "images/073.Blue_Jay/Blue_Jay_0008_2172968959.jpg\n",
            "images/073.Blue_Jay/Blue_Jay_0009_497733450.jpg\n",
            "images/073.Blue_Jay/Blue_Jay_0010_139954377.jpg\n",
            "images/073.Blue_Jay/Blue_Jay_0011_2702981729.jpg\n",
            "images/073.Blue_Jay/Blue_Jay_0012_2240062272.jpg\n",
            "images/073.Blue_Jay/Blue_Jay_0013_519755756.jpg\n",
            "images/073.Blue_Jay/Blue_Jay_0014_2093263341.jpg\n",
            "images/073.Blue_Jay/Blue_Jay_0015_2405633704.jpg\n",
            "images/073.Blue_Jay/Blue_Jay_0016_2007028762.jpg\n",
            "images/073.Blue_Jay/Blue_Jay_0017_2156652386.jpg\n",
            "images/073.Blue_Jay/Blue_Jay_0018_797331926.jpg\n",
            "images/073.Blue_Jay/Blue_Jay_0019_377096016.jpg\n",
            "images/073.Blue_Jay/Blue_Jay_0020_2420978382.jpg\n",
            "images/073.Blue_Jay/Blue_Jay_0021_3024537720.jpg\n",
            "images/073.Blue_Jay/Blue_Jay_0022_399009009.jpg\n",
            "images/073.Blue_Jay/Blue_Jay_0023_2577024091.jpg\n",
            "images/073.Blue_Jay/Blue_Jay_0024_3008742747.jpg\n",
            "images/073.Blue_Jay/Blue_Jay_0025_2873392484.jpg\n",
            "images/073.Blue_Jay/Blue_Jay_0026_2424644022.jpg\n",
            "images/073.Blue_Jay/Blue_Jay_0027_502733564.jpg\n",
            "images/073.Blue_Jay/Blue_Jay_0028_173194427.jpg\n",
            "images/073.Blue_Jay/Blue_Jay_0029_2105470125.jpg\n",
            "images/073.Blue_Jay/Blue_Jay_0030_2979521195.jpg\n",
            "images/073.Blue_Jay/Blue_Jay_0031_2087336784.jpg\n",
            "images/073.Blue_Jay/Blue_Jay_0032_388783592.jpg\n",
            "images/073.Blue_Jay/Blue_Jay_0033_485689294.jpg\n",
            "images/073.Blue_Jay/Blue_Jay_0034_2390153534.jpg\n",
            "images/073.Blue_Jay/Blue_Jay_0035_2841578384.jpg\n",
            "images/072.Pomarine_Jaeger/Pomarine_Jaeger_0001_633585761.jpg\n",
            "images/072.Pomarine_Jaeger/Pomarine_Jaeger_0002_395092835.jpg\n",
            "images/072.Pomarine_Jaeger/Pomarine_Jaeger_0003_2909176059.jpg\n",
            "images/072.Pomarine_Jaeger/Pomarine_Jaeger_0004_2909176277.jpg\n",
            "images/072.Pomarine_Jaeger/Pomarine_Jaeger_0005_2300903369.jpg\n",
            "images/072.Pomarine_Jaeger/Pomarine_Jaeger_0006_2271886612.jpg\n",
            "images/072.Pomarine_Jaeger/Pomarine_Jaeger_0007_2448461292.jpg\n",
            "images/072.Pomarine_Jaeger/Pomarine_Jaeger_0008_823597632.jpg\n",
            "images/072.Pomarine_Jaeger/Pomarine_Jaeger_0009_822720631.jpg\n",
            "images/072.Pomarine_Jaeger/Pomarine_Jaeger_0010_2142309116.jpg\n",
            "images/072.Pomarine_Jaeger/Pomarine_Jaeger_0011_1417587003.jpg\n",
            "images/072.Pomarine_Jaeger/Pomarine_Jaeger_0012_1464519559.jpg\n",
            "images/072.Pomarine_Jaeger/Pomarine_Jaeger_0013_2603153004.jpg\n",
            "images/072.Pomarine_Jaeger/Pomarine_Jaeger_0014_2790874642.jpg\n",
            "images/072.Pomarine_Jaeger/Pomarine_Jaeger_0015_2790025017.jpg\n",
            "images/072.Pomarine_Jaeger/Pomarine_Jaeger_0016_2790024409.jpg\n",
            "images/072.Pomarine_Jaeger/Pomarine_Jaeger_0017_533815792.jpg\n",
            "images/072.Pomarine_Jaeger/Pomarine_Jaeger_0018_533812404.jpg\n",
            "images/072.Pomarine_Jaeger/Pomarine_Jaeger_0019_533913729.jpg\n",
            "images/072.Pomarine_Jaeger/Pomarine_Jaeger_0020_533914039.jpg\n",
            "images/072.Pomarine_Jaeger/Pomarine_Jaeger_0021_533812510.jpg\n",
            "images/072.Pomarine_Jaeger/Pomarine_Jaeger_0022_2800988017.jpg\n",
            "images/072.Pomarine_Jaeger/Pomarine_Jaeger_0023_135172589.jpg\n",
            "images/072.Pomarine_Jaeger/Pomarine_Jaeger_0024_135172586.jpg\n",
            "images/072.Pomarine_Jaeger/Pomarine_Jaeger_0025_2803751248.jpg\n",
            "images/072.Pomarine_Jaeger/Pomarine_Jaeger_0026_2803751228.jpg\n",
            "images/072.Pomarine_Jaeger/Pomarine_Jaeger_0027_2803751286.jpg\n",
            "images/072.Pomarine_Jaeger/Pomarine_Jaeger_0028_2141517795.jpg\n",
            "images/072.Pomarine_Jaeger/Pomarine_Jaeger_0029_2803751368.jpg\n",
            "images/071.Long_tailed_Jaeger/Long_tailed_Jaeger_0001_2931557732.jpg\n",
            "images/071.Long_tailed_Jaeger/Long_tailed_Jaeger_0002_2948173936.jpg\n",
            "images/071.Long_tailed_Jaeger/Long_tailed_Jaeger_0003_2181661942.jpg\n",
            "images/071.Long_tailed_Jaeger/Long_tailed_Jaeger_0004_776135429.jpg\n",
            "images/071.Long_tailed_Jaeger/Long_tailed_Jaeger_0005_175114787.jpg\n",
            "images/071.Long_tailed_Jaeger/Long_tailed_Jaeger_0006_189454806.jpg\n",
            "images/071.Long_tailed_Jaeger/Long_tailed_Jaeger_0007_3023820382.jpg\n",
            "images/071.Long_tailed_Jaeger/Long_tailed_Jaeger_0008_3160677.jpg\n",
            "images/071.Long_tailed_Jaeger/Long_tailed_Jaeger_0009_2621285831.jpg\n",
            "images/071.Long_tailed_Jaeger/Long_tailed_Jaeger_0010_190372779.jpg\n",
            "images/071.Long_tailed_Jaeger/Long_tailed_Jaeger_0011_1236522668.jpg\n",
            "images/071.Long_tailed_Jaeger/Long_tailed_Jaeger_0012_1236521310.jpg\n",
            "images/071.Long_tailed_Jaeger/Long_tailed_Jaeger_0013_1235660701.jpg\n",
            "images/071.Long_tailed_Jaeger/Long_tailed_Jaeger_0014_2666246530.jpg\n",
            "images/071.Long_tailed_Jaeger/Long_tailed_Jaeger_0015_2657605150.jpg\n",
            "images/071.Long_tailed_Jaeger/Long_tailed_Jaeger_0016_2203352544.jpg\n",
            "images/071.Long_tailed_Jaeger/Long_tailed_Jaeger_0017_2709008441.jpg\n",
            "images/071.Long_tailed_Jaeger/Long_tailed_Jaeger_0018_2709006867.jpg\n",
            "images/071.Long_tailed_Jaeger/Long_tailed_Jaeger_0019_2398164933.jpg\n",
            "images/071.Long_tailed_Jaeger/Long_tailed_Jaeger_0020_195521844.jpg\n",
            "images/071.Long_tailed_Jaeger/Long_tailed_Jaeger_0021_1289048239.jpg\n",
            "images/071.Long_tailed_Jaeger/Long_tailed_Jaeger_0022_1297030820.jpg\n",
            "images/071.Long_tailed_Jaeger/Long_tailed_Jaeger_0023_2202557923.jpg\n",
            "images/071.Long_tailed_Jaeger/Long_tailed_Jaeger_0024_1289048247.jpg\n",
            "images/071.Long_tailed_Jaeger/Long_tailed_Jaeger_0025_81892960.jpg\n",
            "images/071.Long_tailed_Jaeger/Long_tailed_Jaeger_0026_2130462760.jpg\n",
            "images/071.Long_tailed_Jaeger/Long_tailed_Jaeger_0027_422167455.jpg\n",
            "images/071.Long_tailed_Jaeger/Long_tailed_Jaeger_0028_2814633142.jpg\n",
            "images/070.Green_Violetear/Green_Violetear_0001_1849664882.jpg\n",
            "images/070.Green_Violetear/Green_Violetear_0002_1847413787.jpg\n",
            "images/070.Green_Violetear/Green_Violetear_0003_1847431201.jpg\n",
            "images/070.Green_Violetear/Green_Violetear_0004_1848240130.jpg\n",
            "images/070.Green_Violetear/Green_Violetear_0005_1848230484.jpg\n",
            "images/070.Green_Violetear/Green_Violetear_0006_2846437860.jpg\n",
            "images/070.Green_Violetear/Green_Violetear_0007_2967242862.jpg\n",
            "images/070.Green_Violetear/Green_Violetear_0008_2943313046.jpg\n",
            "images/070.Green_Violetear/Green_Violetear_0009_476355611.jpg\n",
            "images/070.Green_Violetear/Green_Violetear_0010_2992731118.jpg\n",
            "images/070.Green_Violetear/Green_Violetear_0011_224326858.jpg\n",
            "images/070.Green_Violetear/Green_Violetear_0012_2719020654.jpg\n",
            "images/070.Green_Violetear/Green_Violetear_0013_477118589.jpg\n",
            "images/070.Green_Violetear/Green_Violetear_0014_102384250.jpg\n",
            "images/070.Green_Violetear/Green_Violetear_0015_444856806.jpg\n",
            "images/070.Green_Violetear/Green_Violetear_0016_2844428890.jpg\n",
            "images/070.Green_Violetear/Green_Violetear_0017_2843590661.jpg\n",
            "images/070.Green_Violetear/Green_Violetear_0018_476355473.jpg\n",
            "images/070.Green_Violetear/Green_Violetear_0019_3067129360.jpg\n",
            "images/070.Green_Violetear/Green_Violetear_0020_3066287693.jpg\n",
            "images/070.Green_Violetear/Green_Violetear_0021_2718201809.jpg\n",
            "images/070.Green_Violetear/Green_Violetear_0022_2807992527.jpg\n",
            "images/070.Green_Violetear/Green_Violetear_0023_2380950831.jpg\n",
            "images/070.Green_Violetear/Green_Violetear_0024_3041430360.jpg\n",
            "images/070.Green_Violetear/Green_Violetear_0025_2415043182.jpg\n",
            "images/070.Green_Violetear/Green_Violetear_0026_2414219031.jpg\n",
            "images/070.Green_Violetear/Green_Violetear_0027_2844425032.jpg\n",
            "images/070.Green_Violetear/Green_Violetear_0028_2992733182.jpg\n",
            "images/069.Rufous_Hummingbird/Rufous_Hummingbird_0001_1751968367.jpg\n",
            "images/069.Rufous_Hummingbird/Rufous_Hummingbird_0002_528597122.jpg\n",
            "images/069.Rufous_Hummingbird/Rufous_Hummingbird_0003_256026924.jpg\n",
            "images/069.Rufous_Hummingbird/Rufous_Hummingbird_0004_2472798444.jpg\n",
            "images/069.Rufous_Hummingbird/Rufous_Hummingbird_0005_256030789.jpg\n",
            "images/069.Rufous_Hummingbird/Rufous_Hummingbird_0006_256026923.jpg\n",
            "images/069.Rufous_Hummingbird/Rufous_Hummingbird_0007_2444717300.jpg\n",
            "images/069.Rufous_Hummingbird/Rufous_Hummingbird_0008_255045232.jpg\n",
            "images/069.Rufous_Hummingbird/Rufous_Hummingbird_0009_140559926.jpg\n",
            "images/069.Rufous_Hummingbird/Rufous_Hummingbird_0010_2762659158.jpg\n",
            "images/069.Rufous_Hummingbird/Rufous_Hummingbird_0011_15332219.jpg\n",
            "images/069.Rufous_Hummingbird/Rufous_Hummingbird_0012_2069558331.jpg\n",
            "images/069.Rufous_Hummingbird/Rufous_Hummingbird_0013_2823135849.jpg\n",
            "images/069.Rufous_Hummingbird/Rufous_Hummingbird_0014_159648485.jpg\n",
            "images/069.Rufous_Hummingbird/Rufous_Hummingbird_0015_2731191704.jpg\n",
            "images/069.Rufous_Hummingbird/Rufous_Hummingbird_0016_1794383614.jpg\n",
            "images/069.Rufous_Hummingbird/Rufous_Hummingbird_0017_2298565516.jpg\n",
            "images/069.Rufous_Hummingbird/Rufous_Hummingbird_0018_224890838.jpg\n",
            "images/069.Rufous_Hummingbird/Rufous_Hummingbird_0019_317146792.jpg\n",
            "images/069.Rufous_Hummingbird/Rufous_Hummingbird_0020_266087696.jpg\n",
            "images/069.Rufous_Hummingbird/Rufous_Hummingbird_0021_2332117598.jpg\n",
            "images/069.Rufous_Hummingbird/Rufous_Hummingbird_0022_2432568529.jpg\n",
            "images/069.Rufous_Hummingbird/Rufous_Hummingbird_0023_2535857725.jpg\n",
            "images/069.Rufous_Hummingbird/Rufous_Hummingbird_0024_1878503844.jpg\n",
            "images/069.Rufous_Hummingbird/Rufous_Hummingbird_0025_990418457.jpg\n",
            "images/069.Rufous_Hummingbird/Rufous_Hummingbird_0026_2433383376.jpg\n",
            "images/069.Rufous_Hummingbird/Rufous_Hummingbird_0027_169289992.jpg\n",
            "images/069.Rufous_Hummingbird/Rufous_Hummingbird_0028_2432568233.jpg\n",
            "images/069.Rufous_Hummingbird/Rufous_Hummingbird_0029_2432568433.jpg\n",
            "images/069.Rufous_Hummingbird/Rufous_Hummingbird_0030_1794383666.jpg\n",
            "images/069.Rufous_Hummingbird/Rufous_Hummingbird_0031_2432568137.jpg\n",
            "images/069.Rufous_Hummingbird/Rufous_Hummingbird_0032_2546738115.jpg\n",
            "images/069.Rufous_Hummingbird/Rufous_Hummingbird_0033_2523552268.jpg\n",
            "images/069.Rufous_Hummingbird/Rufous_Hummingbird_0034_2687512649.jpg\n",
            "images/068.Ruby_throated_Hummingbird/Ruby_throated_Hummingbird_0001_521294465.jpg\n",
            "images/068.Ruby_throated_Hummingbird/Ruby_throated_Hummingbird_0002_474685182.jpg\n",
            "images/068.Ruby_throated_Hummingbird/Ruby_throated_Hummingbird_0003_695497321.jpg\n",
            "images/068.Ruby_throated_Hummingbird/Ruby_throated_Hummingbird_0004_483395699.jpg\n",
            "images/068.Ruby_throated_Hummingbird/Ruby_throated_Hummingbird_0005_3008561690.jpg\n",
            "images/068.Ruby_throated_Hummingbird/Ruby_throated_Hummingbird_0006_1465575245.jpg\n",
            "images/068.Ruby_throated_Hummingbird/Ruby_throated_Hummingbird_0007_2736737756.jpg\n",
            "images/068.Ruby_throated_Hummingbird/Ruby_throated_Hummingbird_0008_2783409988.jpg\n",
            "images/068.Ruby_throated_Hummingbird/Ruby_throated_Hummingbird_0009_146604945.jpg\n",
            "images/068.Ruby_throated_Hummingbird/Ruby_throated_Hummingbird_0010_2454437675.jpg\n",
            "images/068.Ruby_throated_Hummingbird/Ruby_throated_Hummingbird_0011_2595812723.jpg\n",
            "images/068.Ruby_throated_Hummingbird/Ruby_throated_Hummingbird_0012_1017657924.jpg\n",
            "images/068.Ruby_throated_Hummingbird/Ruby_throated_Hummingbird_0013_569616545.jpg\n",
            "images/068.Ruby_throated_Hummingbird/Ruby_throated_Hummingbird_0014_522303567.jpg\n",
            "images/068.Ruby_throated_Hummingbird/Ruby_throated_Hummingbird_0015_2433069595.jpg\n",
            "images/068.Ruby_throated_Hummingbird/Ruby_throated_Hummingbird_0016_2546812108.jpg\n",
            "images/068.Ruby_throated_Hummingbird/Ruby_throated_Hummingbird_0017_2689969690.jpg\n",
            "images/068.Ruby_throated_Hummingbird/Ruby_throated_Hummingbird_0018_2725343851.jpg\n",
            "images/068.Ruby_throated_Hummingbird/Ruby_throated_Hummingbird_0019_2451323040.jpg\n",
            "images/068.Ruby_throated_Hummingbird/Ruby_throated_Hummingbird_0020_508151822.jpg\n",
            "images/068.Ruby_throated_Hummingbird/Ruby_throated_Hummingbird_0021_198732008.jpg\n",
            "images/068.Ruby_throated_Hummingbird/Ruby_throated_Hummingbird_0022_156185295.jpg\n",
            "images/068.Ruby_throated_Hummingbird/Ruby_throated_Hummingbird_0023_2567786602.jpg\n",
            "images/068.Ruby_throated_Hummingbird/Ruby_throated_Hummingbird_0024_483395551.jpg\n",
            "images/067.Anna_Hummingbird/Anna_Hummingbird_0001_2221475899.jpg\n",
            "images/067.Anna_Hummingbird/Anna_Hummingbird_0002_2220440966.jpg\n",
            "images/067.Anna_Hummingbird/Anna_Hummingbird_0003_80672862.jpg\n",
            "images/067.Anna_Hummingbird/Anna_Hummingbird_0004_313272384.jpg\n",
            "images/067.Anna_Hummingbird/Anna_Hummingbird_0005_312346225.jpg\n",
            "images/067.Anna_Hummingbird/Anna_Hummingbird_0006_447873834.jpg\n",
            "images/067.Anna_Hummingbird/Anna_Hummingbird_0007_262766480.jpg\n",
            "images/067.Anna_Hummingbird/Anna_Hummingbird_0008_2306994898.jpg\n",
            "images/067.Anna_Hummingbird/Anna_Hummingbird_0009_409385231.jpg\n",
            "images/067.Anna_Hummingbird/Anna_Hummingbird_0010_1739309872.jpg\n",
            "images/067.Anna_Hummingbird/Anna_Hummingbird_0011_2189942577.jpg\n",
            "images/067.Anna_Hummingbird/Anna_Hummingbird_0012_312346223.jpg\n",
            "images/067.Anna_Hummingbird/Anna_Hummingbird_0013_2218579032.jpg\n",
            "images/067.Anna_Hummingbird/Anna_Hummingbird_0014_2068108861.jpg\n",
            "images/067.Anna_Hummingbird/Anna_Hummingbird_0015_313265587.jpg\n",
            "images/067.Anna_Hummingbird/Anna_Hummingbird_0016_2068932620.jpg\n",
            "images/067.Anna_Hummingbird/Anna_Hummingbird_0017_1446131078.jpg\n",
            "images/067.Anna_Hummingbird/Anna_Hummingbird_0018_2960372684.jpg\n",
            "images/067.Anna_Hummingbird/Anna_Hummingbird_0019_352279636.jpg\n",
            "images/067.Anna_Hummingbird/Anna_Hummingbird_0020_313265562.jpg\n",
            "images/067.Anna_Hummingbird/Anna_Hummingbird_0021_506747606.jpg\n",
            "images/067.Anna_Hummingbird/Anna_Hummingbird_0022_409275457.jpg\n",
            "images/067.Anna_Hummingbird/Anna_Hummingbird_0023_2645207478.jpg\n",
            "images/067.Anna_Hummingbird/Anna_Hummingbird_0024_2320333696.jpg\n",
            "images/066.Western_Gull/Western_Gull_0001_2655094973.jpg\n",
            "images/066.Western_Gull/Western_Gull_0002_259335622.jpg\n",
            "images/066.Western_Gull/Western_Gull_0003_299142476.jpg\n",
            "images/066.Western_Gull/Western_Gull_0004_2114939911.jpg\n",
            "images/066.Western_Gull/Western_Gull_0005_1073431448.jpg\n",
            "images/066.Western_Gull/Western_Gull_0006_284283384.jpg\n",
            "images/066.Western_Gull/Western_Gull_0007_516664187.jpg\n",
            "images/066.Western_Gull/Western_Gull_0008_317848123.jpg\n",
            "images/066.Western_Gull/Western_Gull_0009_1723980724.jpg\n",
            "images/066.Western_Gull/Western_Gull_0010_1311439744.jpg\n",
            "images/066.Western_Gull/Western_Gull_0011_1297593869.jpg\n",
            "images/066.Western_Gull/Western_Gull_0012_521909625.jpg\n",
            "images/066.Western_Gull/Western_Gull_0013_1659402977.jpg\n",
            "images/066.Western_Gull/Western_Gull_0014_1297593863.jpg\n",
            "images/066.Western_Gull/Western_Gull_0015_2303977234.jpg\n",
            "images/066.Western_Gull/Western_Gull_0016_2579107124.jpg\n",
            "images/066.Western_Gull/Western_Gull_0017_493135420.jpg\n",
            "images/066.Western_Gull/Western_Gull_0018_2335498585.jpg\n",
            "images/066.Western_Gull/Western_Gull_0019_1476825225.jpg\n",
            "images/066.Western_Gull/Western_Gull_0020_2730610944.jpg\n",
            "images/066.Western_Gull/Western_Gull_0021_2729775765.jpg\n",
            "images/066.Western_Gull/Western_Gull_0022_2730613208.jpg\n",
            "images/066.Western_Gull/Western_Gull_0023_2730615374.jpg\n",
            "images/066.Western_Gull/Western_Gull_0024_2145448170.jpg\n",
            "images/066.Western_Gull/Western_Gull_0025_157667905.jpg\n",
            "images/066.Western_Gull/Western_Gull_0026_2814758791.jpg\n",
            "images/066.Western_Gull/Western_Gull_0027_2378589378.jpg\n",
            "images/066.Western_Gull/Western_Gull_0028_2308894537.jpg\n",
            "images/066.Western_Gull/Western_Gull_0029_2309699120.jpg\n",
            "images/066.Western_Gull/Western_Gull_0030_2948243434.jpg\n",
            "images/065.Slaty_backed_Gull/Slaty_backed_Gull_0001_2242433267.jpg\n",
            "images/065.Slaty_backed_Gull/Slaty_backed_Gull_0002_2243225212.jpg\n",
            "images/065.Slaty_backed_Gull/Slaty_backed_Gull_0003_2832495980.jpg\n",
            "images/065.Slaty_backed_Gull/Slaty_backed_Gull_0004_2578749814.jpg\n",
            "images/065.Slaty_backed_Gull/Slaty_backed_Gull_0005_2232422356.jpg\n",
            "images/065.Slaty_backed_Gull/Slaty_backed_Gull_0006_2221639853.jpg\n",
            "images/065.Slaty_backed_Gull/Slaty_backed_Gull_0007_2598534341.jpg\n",
            "images/065.Slaty_backed_Gull/Slaty_backed_Gull_0008_69195763.jpg\n",
            "images/065.Slaty_backed_Gull/Slaty_backed_Gull_0009_2242434273.jpg\n",
            "images/065.Slaty_backed_Gull/Slaty_backed_Gull_0010_2221647225.jpg\n",
            "images/065.Slaty_backed_Gull/Slaty_backed_Gull_0011_76125544.jpg\n",
            "images/065.Slaty_backed_Gull/Slaty_backed_Gull_0012_2255896354.jpg\n",
            "images/065.Slaty_backed_Gull/Slaty_backed_Gull_0013_339282861.jpg\n",
            "images/065.Slaty_backed_Gull/Slaty_backed_Gull_0014_2814827353.jpg\n",
            "images/065.Slaty_backed_Gull/Slaty_backed_Gull_0015_2148179304.jpg\n",
            "images/065.Slaty_backed_Gull/Slaty_backed_Gull_0016_2831575654.jpg\n",
            "images/065.Slaty_backed_Gull/Slaty_backed_Gull_0017_424398962.jpg\n",
            "images/065.Slaty_backed_Gull/Slaty_backed_Gull_0018_2147384863.jpg\n",
            "images/065.Slaty_backed_Gull/Slaty_backed_Gull_0019_2148442136.jpg\n",
            "images/065.Slaty_backed_Gull/Slaty_backed_Gull_0020_2148180292.jpg\n",
            "images/065.Slaty_backed_Gull/Slaty_backed_Gull_0021_424398966.jpg\n",
            "images/065.Slaty_backed_Gull/Slaty_backed_Gull_0022_2148181688.jpg\n",
            "images/065.Slaty_backed_Gull/Slaty_backed_Gull_0023_2249631061.jpg\n",
            "images/065.Slaty_backed_Gull/Slaty_backed_Gull_0024_424398955.jpg\n",
            "images/065.Slaty_backed_Gull/Slaty_backed_Gull_0025_2255271967.jpg\n",
            "images/065.Slaty_backed_Gull/Slaty_backed_Gull_0026_2814704143.jpg\n",
            "images/065.Slaty_backed_Gull/Slaty_backed_Gull_0027_2815554114.jpg\n",
            "images/065.Slaty_backed_Gull/Slaty_backed_Gull_0028_2814827091.jpg\n",
            "images/065.Slaty_backed_Gull/Slaty_backed_Gull_0029_2815637976.jpg\n",
            "images/065.Slaty_backed_Gull/Slaty_backed_Gull_0030_3160685.jpg\n",
            "images/065.Slaty_backed_Gull/Slaty_backed_Gull_0031_2832465990.jpg\n",
            "images/065.Slaty_backed_Gull/Slaty_backed_Gull_0032_2144992963.jpg\n",
            "images/064.Ring_billed_Gull/Ring_billed_Gull_0001_34380737.jpg\n",
            "images/064.Ring_billed_Gull/Ring_billed_Gull_0002_1312121686.jpg\n",
            "images/064.Ring_billed_Gull/Ring_billed_Gull_0003_2352672511.jpg\n",
            "images/064.Ring_billed_Gull/Ring_billed_Gull_0004_788143493.jpg\n",
            "images/064.Ring_billed_Gull/Ring_billed_Gull_0005_2324548098.jpg\n",
            "images/064.Ring_billed_Gull/Ring_billed_Gull_0006_108117867.jpg\n",
            "images/064.Ring_billed_Gull/Ring_billed_Gull_0007_2207632955.jpg\n",
            "images/064.Ring_billed_Gull/Ring_billed_Gull_0008_2523358082.jpg\n",
            "images/064.Ring_billed_Gull/Ring_billed_Gull_0009_65367548.jpg\n",
            "images/064.Ring_billed_Gull/Ring_billed_Gull_0010_2316251298.jpg\n",
            "images/064.Ring_billed_Gull/Ring_billed_Gull_0011_232938337.jpg\n",
            "images/064.Ring_billed_Gull/Ring_billed_Gull_0012_295074026.jpg\n",
            "images/064.Ring_billed_Gull/Ring_billed_Gull_0013_317848120.jpg\n",
            "images/064.Ring_billed_Gull/Ring_billed_Gull_0014_2570380124.jpg\n",
            "images/064.Ring_billed_Gull/Ring_billed_Gull_0015_2156033159.jpg\n",
            "images/064.Ring_billed_Gull/Ring_billed_Gull_0016_268429771.jpg\n",
            "images/064.Ring_billed_Gull/Ring_billed_Gull_0017_92905149.jpg\n",
            "images/064.Ring_billed_Gull/Ring_billed_Gull_0018_311665791.jpg\n",
            "images/064.Ring_billed_Gull/Ring_billed_Gull_0019_509239487.jpg\n",
            "images/064.Ring_billed_Gull/Ring_billed_Gull_0020_920244087.jpg\n",
            "images/064.Ring_billed_Gull/Ring_billed_Gull_0021_2348135802.jpg\n",
            "images/064.Ring_billed_Gull/Ring_billed_Gull_0022_2920736009.jpg\n",
            "images/064.Ring_billed_Gull/Ring_billed_Gull_0023_108116886.jpg\n",
            "images/064.Ring_billed_Gull/Ring_billed_Gull_0024_2173123413.jpg\n",
            "images/064.Ring_billed_Gull/Ring_billed_Gull_0025_108118557.jpg\n",
            "images/064.Ring_billed_Gull/Ring_billed_Gull_0026_355169282.jpg\n",
            "images/063.Ivory_Gull/Ivory_Gull_0001_514437906.jpg\n",
            "images/063.Ivory_Gull/Ivory_Gull_0002_403972484.jpg\n",
            "images/063.Ivory_Gull/Ivory_Gull_0003_219243095.jpg\n",
            "images/063.Ivory_Gull/Ivory_Gull_0004_3085159644.jpg\n",
            "images/063.Ivory_Gull/Ivory_Gull_0005_59208647.jpg\n",
            "images/063.Ivory_Gull/Ivory_Gull_0006_31966244.jpg\n",
            "images/063.Ivory_Gull/Ivory_Gull_0007_2310529445.jpg\n",
            "images/063.Ivory_Gull/Ivory_Gull_0008_2228942019.jpg\n",
            "images/063.Ivory_Gull/Ivory_Gull_0009_2396386862.jpg\n",
            "images/063.Ivory_Gull/Ivory_Gull_0010_403893622.jpg\n",
            "images/063.Ivory_Gull/Ivory_Gull_0011_403657463.jpg\n",
            "images/063.Ivory_Gull/Ivory_Gull_0012_xxx.jpg\n",
            "images/063.Ivory_Gull/Ivory_Gull_0013_xxx.jpg\n",
            "images/063.Ivory_Gull/Ivory_Gull_0014_xxx.jpg\n",
            "images/063.Ivory_Gull/Ivory_Gull_0015_xxx.jpg\n",
            "images/063.Ivory_Gull/Ivory_Gull_0016_xxx.jpg\n",
            "images/063.Ivory_Gull/Ivory_Gull_0017_xxx.jpg\n",
            "images/063.Ivory_Gull/Ivory_Gull_0018_xxx.jpg\n",
            "images/063.Ivory_Gull/Ivory_Gull_0019_xxx.jpg\n",
            "images/063.Ivory_Gull/Ivory_Gull_0020_xxx.jpg\n",
            "images/063.Ivory_Gull/Ivory_Gull_0021_xxx.jpg\n",
            "images/063.Ivory_Gull/Ivory_Gull_0022_xxx.jpg\n",
            "images/062.Herring_Gull/Herring_Gull_0001_163953221.jpg\n",
            "images/062.Herring_Gull/Herring_Gull_0002_368882760.jpg\n",
            "images/062.Herring_Gull/Herring_Gull_0003_2863410697.jpg\n",
            "images/062.Herring_Gull/Herring_Gull_0004_1419860782.jpg\n",
            "images/062.Herring_Gull/Herring_Gull_0005_483743298.jpg\n",
            "images/062.Herring_Gull/Herring_Gull_0006_311655423.jpg\n",
            "images/062.Herring_Gull/Herring_Gull_0007_2989928278.jpg\n",
            "images/062.Herring_Gull/Herring_Gull_0008_2552613807.jpg\n",
            "images/062.Herring_Gull/Herring_Gull_0009_192936363.jpg\n",
            "images/062.Herring_Gull/Herring_Gull_0010_147448185.jpg\n",
            "images/062.Herring_Gull/Herring_Gull_0011_2490154627.jpg\n",
            "images/062.Herring_Gull/Herring_Gull_0012_97662448.jpg\n",
            "images/062.Herring_Gull/Herring_Gull_0013_2865280712.jpg\n",
            "images/062.Herring_Gull/Herring_Gull_0014_2838721106.jpg\n",
            "images/062.Herring_Gull/Herring_Gull_0015_55726724.jpg\n",
            "images/062.Herring_Gull/Herring_Gull_0016_1242790805.jpg\n",
            "images/062.Herring_Gull/Herring_Gull_0017_2262801782.jpg\n",
            "images/062.Herring_Gull/Herring_Gull_0018_3051194604.jpg\n",
            "images/062.Herring_Gull/Herring_Gull_0019_1270877333.jpg\n",
            "images/062.Herring_Gull/Herring_Gull_0020_64375610.jpg\n",
            "images/062.Herring_Gull/Herring_Gull_0021_xxx.jpg\n",
            "images/062.Herring_Gull/Herring_Gull_0022_2327908120.jpg\n",
            "images/062.Herring_Gull/Herring_Gull_0023_2668649231.jpg\n",
            "images/062.Herring_Gull/Herring_Gull_0024_1225952137.jpg\n",
            "images/062.Herring_Gull/Herring_Gull_0025_2701926108.jpg\n",
            "images/062.Herring_Gull/Herring_Gull_0026_2323728601.jpg\n",
            "images/061.Heermann_Gull/Heermann_Gull_0001_745080836.jpg\n",
            "images/061.Heermann_Gull/Heermann_Gull_0002_191127454.jpg\n",
            "images/061.Heermann_Gull/Heermann_Gull_0003_2678382031.jpg\n",
            "images/061.Heermann_Gull/Heermann_Gull_0004_745080820.jpg\n",
            "images/061.Heermann_Gull/Heermann_Gull_0005_2787687738.jpg\n",
            "images/061.Heermann_Gull/Heermann_Gull_0006_2052087892.jpg\n",
            "images/061.Heermann_Gull/Heermann_Gull_0007_2672268735.jpg\n",
            "images/061.Heermann_Gull/Heermann_Gull_0008_82305348.jpg\n",
            "images/061.Heermann_Gull/Heermann_Gull_0009_2981652659.jpg\n",
            "images/061.Heermann_Gull/Heermann_Gull_0010_2354042062.jpg\n",
            "images/061.Heermann_Gull/Heermann_Gull_0011_2096593093.jpg\n",
            "images/061.Heermann_Gull/Heermann_Gull_0012_82305708.jpg\n",
            "images/061.Heermann_Gull/Heermann_Gull_0013_2864575568.jpg\n",
            "images/061.Heermann_Gull/Heermann_Gull_0014_2772359119.jpg\n",
            "images/061.Heermann_Gull/Heermann_Gull_0015_745080796.jpg\n",
            "images/061.Heermann_Gull/Heermann_Gull_0016_2679200040.jpg\n",
            "images/061.Heermann_Gull/Heermann_Gull_0017_2327153009.jpg\n",
            "images/061.Heermann_Gull/Heermann_Gull_0018_2647568625.jpg\n",
            "images/061.Heermann_Gull/Heermann_Gull_0019_169059513.jpg\n",
            "images/061.Heermann_Gull/Heermann_Gull_0020_2112333012.jpg\n",
            "images/061.Heermann_Gull/Heermann_Gull_0021_2613751844.jpg\n",
            "images/061.Heermann_Gull/Heermann_Gull_0022_1306275979.jpg\n",
            "images/061.Heermann_Gull/Heermann_Gull_0023_2673090326.jpg\n",
            "images/061.Heermann_Gull/Heermann_Gull_0024_493849736.jpg\n",
            "images/061.Heermann_Gull/Heermann_Gull_0025_271852057.jpg\n",
            "images/061.Heermann_Gull/Heermann_Gull_0026_1430755204.jpg\n",
            "images/061.Heermann_Gull/Heermann_Gull_0027_2681146971.jpg\n",
            "images/060.Glaucous_winged_Gull/Glaucous_winged_Gull_0001_2809414777.jpg\n",
            "images/060.Glaucous_winged_Gull/Glaucous_winged_Gull_0002_2314583028.jpg\n",
            "images/060.Glaucous_winged_Gull/Glaucous_winged_Gull_0003_2340067250.jpg\n",
            "images/060.Glaucous_winged_Gull/Glaucous_winged_Gull_0004_399738890.jpg\n",
            "images/060.Glaucous_winged_Gull/Glaucous_winged_Gull_0005_2638967283.jpg\n",
            "images/060.Glaucous_winged_Gull/Glaucous_winged_Gull_0006_3016987033.jpg\n",
            "images/060.Glaucous_winged_Gull/Glaucous_winged_Gull_0007_2815843807.jpg\n",
            "images/060.Glaucous_winged_Gull/Glaucous_winged_Gull_0008_2232046139.jpg\n",
            "images/060.Glaucous_winged_Gull/Glaucous_winged_Gull_0009_2472715564.jpg\n",
            "images/060.Glaucous_winged_Gull/Glaucous_winged_Gull_0010_2001398765.jpg\n",
            "images/060.Glaucous_winged_Gull/Glaucous_winged_Gull_0011_368722990.jpg\n",
            "images/060.Glaucous_winged_Gull/Glaucous_winged_Gull_0012_2308455679.jpg\n",
            "images/060.Glaucous_winged_Gull/Glaucous_winged_Gull_0013_2339234829.jpg\n",
            "images/060.Glaucous_winged_Gull/Glaucous_winged_Gull_0014_1524925776.jpg\n",
            "images/060.Glaucous_winged_Gull/Glaucous_winged_Gull_0015_3033311344.jpg\n",
            "images/060.Glaucous_winged_Gull/Glaucous_winged_Gull_0016_3032468957.jpg\n",
            "images/060.Glaucous_winged_Gull/Glaucous_winged_Gull_0017_59209116.jpg\n",
            "images/060.Glaucous_winged_Gull/Glaucous_winged_Gull_0018_412232952.jpg\n",
            "images/060.Glaucous_winged_Gull/Glaucous_winged_Gull_0019_69206529.jpg\n",
            "images/060.Glaucous_winged_Gull/Glaucous_winged_Gull_0020_355948038.jpg\n",
            "images/060.Glaucous_winged_Gull/Glaucous_winged_Gull_0021_2577916185.jpg\n",
            "images/060.Glaucous_winged_Gull/Glaucous_winged_Gull_0022_2175336061.jpg\n",
            "images/060.Glaucous_winged_Gull/Glaucous_winged_Gull_0023_1297593827.jpg\n",
            "images/060.Glaucous_winged_Gull/Glaucous_winged_Gull_0024_308084732.jpg\n",
            "images/060.Glaucous_winged_Gull/Glaucous_winged_Gull_0025_2697482762.jpg\n",
            "images/060.Glaucous_winged_Gull/Glaucous_winged_Gull_0026_47325326.jpg\n",
            "images/060.Glaucous_winged_Gull/Glaucous_winged_Gull_0027_47324876.jpg\n",
            "images/060.Glaucous_winged_Gull/Glaucous_winged_Gull_0028_2198860481.jpg\n",
            "images/060.Glaucous_winged_Gull/Glaucous_winged_Gull_0029_313781084.jpg\n",
            "images/060.Glaucous_winged_Gull/Glaucous_winged_Gull_0030_2903183667.jpg\n",
            "images/060.Glaucous_winged_Gull/Glaucous_winged_Gull_0031_xxx.jpg\n",
            "images/060.Glaucous_winged_Gull/Glaucous_winged_Gull_0032_xxx.jpg\n",
            "images/060.Glaucous_winged_Gull/Glaucous_winged_Gull_0033_2988234532.jpg\n",
            "images/060.Glaucous_winged_Gull/Glaucous_winged_Gull_0034_481804991.jpg\n",
            "images/060.Glaucous_winged_Gull/Glaucous_winged_Gull_0035_409311135.jpg\n",
            "images/059.California_Gull/California_Gull_0001_1507593116.jpg\n",
            "images/059.California_Gull/California_Gull_0002_2627117525.jpg\n",
            "images/059.California_Gull/California_Gull_0003_3033320042.jpg\n",
            "images/059.California_Gull/California_Gull_0004_535816916.jpg\n",
            "images/059.California_Gull/California_Gull_0005_2255891892.jpg\n",
            "images/059.California_Gull/California_Gull_0006_2245452576.jpg\n",
            "images/059.California_Gull/California_Gull_0007_2629417225.jpg\n",
            "images/059.California_Gull/California_Gull_0008_490813465.jpg\n",
            "images/059.California_Gull/California_Gull_0009_3000843538.jpg\n",
            "images/059.California_Gull/California_Gull_0010_74338535.jpg\n",
            "images/059.California_Gull/California_Gull_0011_535816920.jpg\n",
            "images/059.California_Gull/California_Gull_0012_357599904.jpg\n",
            "images/059.California_Gull/California_Gull_0013_1245399138.jpg\n",
            "images/059.California_Gull/California_Gull_0014_2255892736.jpg\n",
            "images/059.California_Gull/California_Gull_0015_2255892302.jpg\n",
            "images/059.California_Gull/California_Gull_0016_2492872310.jpg\n",
            "images/059.California_Gull/California_Gull_0017_772815179.jpg\n",
            "images/059.California_Gull/California_Gull_0018_75521211.jpg\n",
            "images/059.California_Gull/California_Gull_0019_345031999.jpg\n",
            "images/059.California_Gull/California_Gull_0020_2401678158.jpg\n",
            "images/059.California_Gull/California_Gull_0021_107103581.jpg\n",
            "images/059.California_Gull/California_Gull_0022_2165283064.jpg\n",
            "images/059.California_Gull/California_Gull_0023_1189959482.jpg\n",
            "images/059.California_Gull/California_Gull_0024_2414206799.jpg\n",
            "images/058.Pigeon_Guillemot/Pigeon_Guillemot_0001_831886315.jpg\n",
            "images/058.Pigeon_Guillemot/Pigeon_Guillemot_0002_1288661090.jpg\n",
            "images/058.Pigeon_Guillemot/Pigeon_Guillemot_0003_2680482043.jpg\n",
            "images/058.Pigeon_Guillemot/Pigeon_Guillemot_0004_439362649.jpg\n",
            "images/058.Pigeon_Guillemot/Pigeon_Guillemot_0005_101886431.jpg\n",
            "images/058.Pigeon_Guillemot/Pigeon_Guillemot_0006_665301777.jpg\n",
            "images/058.Pigeon_Guillemot/Pigeon_Guillemot_0007_2477632639.jpg\n",
            "images/058.Pigeon_Guillemot/Pigeon_Guillemot_0008_2687291158.jpg\n",
            "images/058.Pigeon_Guillemot/Pigeon_Guillemot_0009_2640874419.jpg\n",
            "images/058.Pigeon_Guillemot/Pigeon_Guillemot_0010_665299089.jpg\n",
            "images/058.Pigeon_Guillemot/Pigeon_Guillemot_0011_2680473063.jpg\n",
            "images/058.Pigeon_Guillemot/Pigeon_Guillemot_0012_2687292024.jpg\n",
            "images/058.Pigeon_Guillemot/Pigeon_Guillemot_0013_2682305883.jpg\n",
            "images/058.Pigeon_Guillemot/Pigeon_Guillemot_0014_2683040346.jpg\n",
            "images/058.Pigeon_Guillemot/Pigeon_Guillemot_0015_2699753946.jpg\n",
            "images/058.Pigeon_Guillemot/Pigeon_Guillemot_0016_2585039246.jpg\n",
            "images/058.Pigeon_Guillemot/Pigeon_Guillemot_0017_2680477469.jpg\n",
            "images/058.Pigeon_Guillemot/Pigeon_Guillemot_0018_2681949178.jpg\n",
            "images/058.Pigeon_Guillemot/Pigeon_Guillemot_0019_1287730317.jpg\n",
            "images/058.Pigeon_Guillemot/Pigeon_Guillemot_0020_885378238.jpg\n",
            "images/058.Pigeon_Guillemot/Pigeon_Guillemot_0021_2675285085.jpg\n",
            "images/058.Pigeon_Guillemot/Pigeon_Guillemot_0022_1085482241.jpg\n",
            "images/058.Pigeon_Guillemot/Pigeon_Guillemot_0023_915489249.jpg\n",
            "images/058.Pigeon_Guillemot/Pigeon_Guillemot_0024_2690148104.jpg\n",
            "images/058.Pigeon_Guillemot/Pigeon_Guillemot_0025_1083369893.jpg\n",
            "images/058.Pigeon_Guillemot/Pigeon_Guillemot_0026_733983910.jpg\n",
            "images/058.Pigeon_Guillemot/Pigeon_Guillemot_0027_956550074.jpg\n",
            "images/057.Rose_breasted_Grosbeak/Rose_breasted_Grosbeak_0001_854760315.jpg\n",
            "images/057.Rose_breasted_Grosbeak/Rose_breasted_Grosbeak_0002_477347252.jpg\n",
            "images/057.Rose_breasted_Grosbeak/Rose_breasted_Grosbeak_0003_477743512.jpg\n",
            "images/057.Rose_breasted_Grosbeak/Rose_breasted_Grosbeak_0004_477762455.jpg\n",
            "images/057.Rose_breasted_Grosbeak/Rose_breasted_Grosbeak_0005_2502549604.jpg\n",
            "images/057.Rose_breasted_Grosbeak/Rose_breasted_Grosbeak_0006_2462086255.jpg\n",
            "images/057.Rose_breasted_Grosbeak/Rose_breasted_Grosbeak_0007_131420062.jpg\n",
            "images/057.Rose_breasted_Grosbeak/Rose_breasted_Grosbeak_0008_2527639123.jpg\n",
            "images/057.Rose_breasted_Grosbeak/Rose_breasted_Grosbeak_0009_2474011851.jpg\n",
            "images/057.Rose_breasted_Grosbeak/Rose_breasted_Grosbeak_0010_2660993939.jpg\n",
            "images/057.Rose_breasted_Grosbeak/Rose_breasted_Grosbeak_0011_2495100097.jpg\n",
            "images/057.Rose_breasted_Grosbeak/Rose_breasted_Grosbeak_0012_492449464.jpg\n",
            "images/057.Rose_breasted_Grosbeak/Rose_breasted_Grosbeak_0013_148131423.jpg\n",
            "images/057.Rose_breasted_Grosbeak/Rose_breasted_Grosbeak_0014_16669618.jpg\n",
            "images/057.Rose_breasted_Grosbeak/Rose_breasted_Grosbeak_0015_478759601.jpg\n",
            "images/057.Rose_breasted_Grosbeak/Rose_breasted_Grosbeak_0016_482007489.jpg\n",
            "images/057.Rose_breasted_Grosbeak/Rose_breasted_Grosbeak_0017_2458834391.jpg\n",
            "images/057.Rose_breasted_Grosbeak/Rose_breasted_Grosbeak_0018_482172380.jpg\n",
            "images/057.Rose_breasted_Grosbeak/Rose_breasted_Grosbeak_0019_2615301576.jpg\n",
            "images/057.Rose_breasted_Grosbeak/Rose_breasted_Grosbeak_0020_482273645.jpg\n",
            "images/057.Rose_breasted_Grosbeak/Rose_breasted_Grosbeak_0021_2488178004.jpg\n",
            "images/056.Pine_Grosbeak/Pine_Grosbeak_0001_2141544739.jpg\n",
            "images/056.Pine_Grosbeak/Pine_Grosbeak_0002_3048354923.jpg\n",
            "images/056.Pine_Grosbeak/Pine_Grosbeak_0003_2169853752.jpg\n",
            "images/056.Pine_Grosbeak/Pine_Grosbeak_0004_2218734106.jpg\n",
            "images/056.Pine_Grosbeak/Pine_Grosbeak_0005_2064080685.jpg\n",
            "images/056.Pine_Grosbeak/Pine_Grosbeak_0006_2036997303.jpg\n",
            "images/056.Pine_Grosbeak/Pine_Grosbeak_0007_197369577.jpg\n",
            "images/056.Pine_Grosbeak/Pine_Grosbeak_0008_2207763864.jpg\n",
            "images/056.Pine_Grosbeak/Pine_Grosbeak_0009_2123512072.jpg\n",
            "images/056.Pine_Grosbeak/Pine_Grosbeak_0010_2237778716.jpg\n",
            "images/056.Pine_Grosbeak/Pine_Grosbeak_0011_2162441116.jpg\n",
            "images/056.Pine_Grosbeak/Pine_Grosbeak_0012_311599485.jpg\n",
            "images/056.Pine_Grosbeak/Pine_Grosbeak_0013_197369575.jpg\n",
            "images/056.Pine_Grosbeak/Pine_Grosbeak_0014_2047883813.jpg\n",
            "images/056.Pine_Grosbeak/Pine_Grosbeak_0015_2312043326.jpg\n",
            "images/056.Pine_Grosbeak/Pine_Grosbeak_0016_2153116032.jpg\n",
            "images/056.Pine_Grosbeak/Pine_Grosbeak_0017_394731873.jpg\n",
            "images/056.Pine_Grosbeak/Pine_Grosbeak_0018_394731872.jpg\n",
            "images/056.Pine_Grosbeak/Pine_Grosbeak_0019_2375156172.jpg\n",
            "images/056.Pine_Grosbeak/Pine_Grosbeak_0020_2169830366.jpg\n",
            "images/056.Pine_Grosbeak/Pine_Grosbeak_0021_2605826060.jpg\n",
            "images/056.Pine_Grosbeak/Pine_Grosbeak_0022_2103897103.jpg\n",
            "images/055.Evening_Grosbeak/Evening_Grosbeak_0001_428705437.jpg\n",
            "images/055.Evening_Grosbeak/Evening_Grosbeak_0002_395000712.jpg\n",
            "images/055.Evening_Grosbeak/Evening_Grosbeak_0003_1781638075.jpg\n",
            "images/055.Evening_Grosbeak/Evening_Grosbeak_0004_2356168595.jpg\n",
            "images/055.Evening_Grosbeak/Evening_Grosbeak_0005_2449927250.jpg\n",
            "images/055.Evening_Grosbeak/Evening_Grosbeak_0006_2391205844.jpg\n",
            "images/055.Evening_Grosbeak/Evening_Grosbeak_0007_65734959.jpg\n",
            "images/055.Evening_Grosbeak/Evening_Grosbeak_0008_2888627271.jpg\n",
            "images/055.Evening_Grosbeak/Evening_Grosbeak_0009_1684437306.jpg\n",
            "images/055.Evening_Grosbeak/Evening_Grosbeak_0010_65339533.jpg\n",
            "images/055.Evening_Grosbeak/Evening_Grosbeak_0011_2214675464.jpg\n",
            "images/055.Evening_Grosbeak/Evening_Grosbeak_0012_503955594.jpg\n",
            "images/055.Evening_Grosbeak/Evening_Grosbeak_0013_2230343005.jpg\n",
            "images/055.Evening_Grosbeak/Evening_Grosbeak_0014_1877683557.jpg\n",
            "images/055.Evening_Grosbeak/Evening_Grosbeak_0015_2571692322.jpg\n",
            "images/055.Evening_Grosbeak/Evening_Grosbeak_0016_684599881.jpg\n",
            "images/055.Evening_Grosbeak/Evening_Grosbeak_0017_2413927428.jpg\n",
            "images/055.Evening_Grosbeak/Evening_Grosbeak_0018_1683583879.jpg\n",
            "images/055.Evening_Grosbeak/Evening_Grosbeak_0019_2540116526.jpg\n",
            "images/055.Evening_Grosbeak/Evening_Grosbeak_0020_685358662.jpg\n",
            "images/055.Evening_Grosbeak/Evening_Grosbeak_0021_2655045152.jpg\n",
            "images/055.Evening_Grosbeak/Evening_Grosbeak_0022_2371850625.jpg\n",
            "images/055.Evening_Grosbeak/Evening_Grosbeak_0023_272616570.jpg\n",
            "images/055.Evening_Grosbeak/Evening_Grosbeak_0024_685358688.jpg\n",
            "images/055.Evening_Grosbeak/Evening_Grosbeak_0025_685358764.jpg\n",
            "images/055.Evening_Grosbeak/Evening_Grosbeak_0026_684599823.jpg\n",
            "images/055.Evening_Grosbeak/Evening_Grosbeak_0027_685358594.jpg\n",
            "images/054.Blue_Grosbeak/Blue_Grosbeak_0001_481963312.jpg\n",
            "images/054.Blue_Grosbeak/Blue_Grosbeak_0002_2452092354.jpg\n",
            "images/054.Blue_Grosbeak/Blue_Grosbeak_0003_2685824206.jpg\n",
            "images/054.Blue_Grosbeak/Blue_Grosbeak_0004_2598077668.jpg\n",
            "images/054.Blue_Grosbeak/Blue_Grosbeak_0005_497891851.jpg\n",
            "images/054.Blue_Grosbeak/Blue_Grosbeak_0006_2453843411.jpg\n",
            "images/054.Blue_Grosbeak/Blue_Grosbeak_0007_xxx.jpg\n",
            "images/054.Blue_Grosbeak/Blue_Grosbeak_0008_2450854752.jpg\n",
            "images/054.Blue_Grosbeak/Blue_Grosbeak_0009_2493779836.jpg\n",
            "images/054.Blue_Grosbeak/Blue_Grosbeak_0010_2463406882.jpg\n",
            "images/054.Blue_Grosbeak/Blue_Grosbeak_0011_543860750.jpg\n",
            "images/054.Blue_Grosbeak/Blue_Grosbeak_0012_156825516.jpg\n",
            "images/054.Blue_Grosbeak/Blue_Grosbeak_0013_2426885014.jpg\n",
            "images/054.Blue_Grosbeak/Blue_Grosbeak_0014_2426884278.jpg\n",
            "images/054.Blue_Grosbeak/Blue_Grosbeak_0015_59210058.jpg\n",
            "images/054.Blue_Grosbeak/Blue_Grosbeak_0016_2752082115.jpg\n",
            "images/054.Blue_Grosbeak/Blue_Grosbeak_0017_2683222164.jpg\n",
            "images/054.Blue_Grosbeak/Blue_Grosbeak_0018_1031870927.jpg\n",
            "images/054.Blue_Grosbeak/Blue_Grosbeak_0019_2487642.jpg\n",
            "images/054.Blue_Grosbeak/Blue_Grosbeak_0020_1213847219.jpg\n",
            "images/054.Blue_Grosbeak/Blue_Grosbeak_0021_2591537942.jpg\n",
            "images/054.Blue_Grosbeak/Blue_Grosbeak_0022_478272498.jpg\n",
            "images/054.Blue_Grosbeak/Blue_Grosbeak_0023_480770563.jpg\n",
            "images/054.Blue_Grosbeak/Blue_Grosbeak_0024_466625556.jpg\n",
            "images/054.Blue_Grosbeak/Blue_Grosbeak_0025_2451453321.jpg\n",
            "images/054.Blue_Grosbeak/Blue_Grosbeak_0026_147218039.jpg\n",
            "images/054.Blue_Grosbeak/Blue_Grosbeak_0027_152633616.jpg\n",
            "images/054.Blue_Grosbeak/Blue_Grosbeak_0028_2450029205.jpg\n",
            "images/054.Blue_Grosbeak/Blue_Grosbeak_0029_3090719376.jpg\n",
            "images/054.Blue_Grosbeak/Blue_Grosbeak_0030_2490159815.jpg\n",
            "images/053.Western_Grebe/Western_Grebe_0001_477238421.jpg\n",
            "images/053.Western_Grebe/Western_Grebe_0002_482019868.jpg\n",
            "images/053.Western_Grebe/Western_Grebe_0003_307189360.jpg\n",
            "images/053.Western_Grebe/Western_Grebe_0004_327625607.jpg\n",
            "images/053.Western_Grebe/Western_Grebe_0005_327612045.jpg\n",
            "images/053.Western_Grebe/Western_Grebe_0006_2855115391.jpg\n",
            "images/053.Western_Grebe/Western_Grebe_0007_525305630.jpg\n",
            "images/053.Western_Grebe/Western_Grebe_0008_509016714.jpg\n",
            "images/053.Western_Grebe/Western_Grebe_0009_450130315.jpg\n",
            "images/053.Western_Grebe/Western_Grebe_0010_1862798752.jpg\n",
            "images/053.Western_Grebe/Western_Grebe_0011_509040451.jpg\n",
            "images/053.Western_Grebe/Western_Grebe_0012_509015938.jpg\n",
            "images/053.Western_Grebe/Western_Grebe_0013_490786715.jpg\n",
            "images/053.Western_Grebe/Western_Grebe_0014_462492742.jpg\n",
            "images/053.Western_Grebe/Western_Grebe_0015_2163250155.jpg\n",
            "images/053.Western_Grebe/Western_Grebe_0016_2844327149.jpg\n",
            "images/053.Western_Grebe/Western_Grebe_0017_2220263308.jpg\n",
            "images/053.Western_Grebe/Western_Grebe_0018_2422479916.jpg\n",
            "images/053.Western_Grebe/Western_Grebe_0019_2200240471.jpg\n",
            "images/053.Western_Grebe/Western_Grebe_0020_509040909.jpg\n",
            "images/053.Western_Grebe/Western_Grebe_0021_1862795440.jpg\n",
            "images/053.Western_Grebe/Western_Grebe_0022_509016402.jpg\n",
            "images/053.Western_Grebe/Western_Grebe_0023_2845035814.jpg\n",
            "images/053.Western_Grebe/Western_Grebe_0024_2459546646.jpg\n",
            "images/053.Western_Grebe/Western_Grebe_0025_2895978849.jpg\n",
            "images/053.Western_Grebe/Western_Grebe_0026_2301474242.jpg\n",
            "images/053.Western_Grebe/Western_Grebe_0027_2498461844.jpg\n",
            "images/053.Western_Grebe/Western_Grebe_0028_2501591463.jpg\n",
            "images/053.Western_Grebe/Western_Grebe_0029_430828334.jpg\n",
            "images/053.Western_Grebe/Western_Grebe_0030_360805063.jpg\n",
            "images/053.Western_Grebe/Western_Grebe_0031_2617010418.jpg\n",
            "images/053.Western_Grebe/Western_Grebe_0032_1014340835.jpg\n",
            "images/053.Western_Grebe/Western_Grebe_0033_2639947297.jpg\n",
            "images/053.Western_Grebe/Western_Grebe_0034_805114294.jpg\n",
            "images/053.Western_Grebe/Western_Grebe_0035_2640771958.jpg\n",
            "images/053.Western_Grebe/Western_Grebe_0036_2517657490.jpg\n",
            "images/053.Western_Grebe/Western_Grebe_0037_323963137.jpg\n",
            "images/052.Pied_billed_Grebe/Pied_billed_Grebe_0001_2530908405.jpg\n",
            "images/052.Pied_billed_Grebe/Pied_billed_Grebe_0002_153897739.jpg\n",
            "images/052.Pied_billed_Grebe/Pied_billed_Grebe_0003_324178211.jpg\n",
            "images/052.Pied_billed_Grebe/Pied_billed_Grebe_0004_2530908223.jpg\n",
            "images/052.Pied_billed_Grebe/Pied_billed_Grebe_0005_2530908141.jpg\n",
            "images/052.Pied_billed_Grebe/Pied_billed_Grebe_0006_2346956928.jpg\n",
            "images/052.Pied_billed_Grebe/Pied_billed_Grebe_0007_2359398581.jpg\n",
            "images/052.Pied_billed_Grebe/Pied_billed_Grebe_0008_397191752.jpg\n",
            "images/052.Pied_billed_Grebe/Pied_billed_Grebe_0009_353287151.jpg\n",
            "images/052.Pied_billed_Grebe/Pied_billed_Grebe_0010_265699237.jpg\n",
            "images/052.Pied_billed_Grebe/Pied_billed_Grebe_0011_2970735357.jpg\n",
            "images/052.Pied_billed_Grebe/Pied_billed_Grebe_0012_2388057959.jpg\n",
            "images/052.Pied_billed_Grebe/Pied_billed_Grebe_0013_2127255009.jpg\n",
            "images/052.Pied_billed_Grebe/Pied_billed_Grebe_0014_2646368350.jpg\n",
            "images/052.Pied_billed_Grebe/Pied_billed_Grebe_0015_2217349790.jpg\n",
            "images/052.Pied_billed_Grebe/Pied_billed_Grebe_0016_269660963.jpg\n",
            "images/052.Pied_billed_Grebe/Pied_billed_Grebe_0017_253054913.jpg\n",
            "images/052.Pied_billed_Grebe/Pied_billed_Grebe_0018_673457429.jpg\n",
            "images/052.Pied_billed_Grebe/Pied_billed_Grebe_0019_397191117.jpg\n",
            "images/052.Pied_billed_Grebe/Pied_billed_Grebe_0020_397191373.jpg\n",
            "images/052.Pied_billed_Grebe/Pied_billed_Grebe_0021_397190735.jpg\n",
            "images/052.Pied_billed_Grebe/Pied_billed_Grebe_0022_397190380.jpg\n",
            "images/052.Pied_billed_Grebe/Pied_billed_Grebe_0023_674336278.jpg\n",
            "images/052.Pied_billed_Grebe/Pied_billed_Grebe_0024_389578482.jpg\n",
            "images/052.Pied_billed_Grebe/Pied_billed_Grebe_0025_673188429.jpg\n",
            "images/052.Pied_billed_Grebe/Pied_billed_Grebe_0026_2159703847.jpg\n",
            "images/052.Pied_billed_Grebe/Pied_billed_Grebe_0027_2531330942.jpg\n",
            "images/052.Pied_billed_Grebe/Pied_billed_Grebe_0028_674298766.jpg\n",
            "images/052.Pied_billed_Grebe/Pied_billed_Grebe_0029_300538392.jpg\n",
            "images/052.Pied_billed_Grebe/Pied_billed_Grebe_0030_2503376738.jpg\n",
            "images/051.Horned_Grebe/Horned_Grebe_0001_126910713.jpg\n",
            "images/051.Horned_Grebe/Horned_Grebe_0002_541151301.jpg\n",
            "images/051.Horned_Grebe/Horned_Grebe_0003_125903368.jpg\n",
            "images/051.Horned_Grebe/Horned_Grebe_0004_2416449145.jpg\n",
            "images/051.Horned_Grebe/Horned_Grebe_0005_433780719.jpg\n",
            "images/051.Horned_Grebe/Horned_Grebe_0006_2406366514.jpg\n",
            "images/051.Horned_Grebe/Horned_Grebe_0007_483366483.jpg\n",
            "images/051.Horned_Grebe/Horned_Grebe_0008_298319847.jpg\n",
            "images/051.Horned_Grebe/Horned_Grebe_0009_2403825611.jpg\n",
            "images/051.Horned_Grebe/Horned_Grebe_0010_2418064372.jpg\n",
            "images/051.Horned_Grebe/Horned_Grebe_0011_2422362921.jpg\n",
            "images/051.Horned_Grebe/Horned_Grebe_0012_2376500154.jpg\n",
            "images/051.Horned_Grebe/Horned_Grebe_0013_2128032556.jpg\n",
            "images/051.Horned_Grebe/Horned_Grebe_0014_2437138531.jpg\n",
            "images/051.Horned_Grebe/Horned_Grebe_0015_489603154.jpg\n",
            "images/051.Horned_Grebe/Horned_Grebe_0016_453576293.jpg\n",
            "images/051.Horned_Grebe/Horned_Grebe_0017_2557685232.jpg\n",
            "images/051.Horned_Grebe/Horned_Grebe_0018_226926678.jpg\n",
            "images/051.Horned_Grebe/Horned_Grebe_0019_2560864345.jpg\n",
            "images/051.Horned_Grebe/Horned_Grebe_0020_2407939885.jpg\n",
            "images/051.Horned_Grebe/Horned_Grebe_0021_1348470102.jpg\n",
            "images/051.Horned_Grebe/Horned_Grebe_0022_2475222460.jpg\n",
            "images/051.Horned_Grebe/Horned_Grebe_0023_2532589196.jpg\n",
            "images/051.Horned_Grebe/Horned_Grebe_0024_2448319793.jpg\n",
            "images/051.Horned_Grebe/Horned_Grebe_0025_2618471390.jpg\n",
            "images/051.Horned_Grebe/Horned_Grebe_0026_2477021833.jpg\n",
            "images/051.Horned_Grebe/Horned_Grebe_0027_2397986492.jpg\n",
            "images/051.Horned_Grebe/Horned_Grebe_0028_461994149.jpg\n",
            "images/051.Horned_Grebe/Horned_Grebe_0029_2657978318.jpg\n",
            "images/051.Horned_Grebe/Horned_Grebe_0030_152339016.jpg\n",
            "images/050.Eared_Grebe/Eared_Grebe_0001_2577734493.jpg\n",
            "images/050.Eared_Grebe/Eared_Grebe_0002_454457310.jpg\n",
            "images/050.Eared_Grebe/Eared_Grebe_0003_2411772459.jpg\n",
            "images/050.Eared_Grebe/Eared_Grebe_0004_124680424.jpg\n",
            "images/050.Eared_Grebe/Eared_Grebe_0005_2554975518.jpg\n",
            "images/050.Eared_Grebe/Eared_Grebe_0006_510224634.jpg\n",
            "images/050.Eared_Grebe/Eared_Grebe_0007_2546851209.jpg\n",
            "images/050.Eared_Grebe/Eared_Grebe_0008_480821766.jpg\n",
            "images/050.Eared_Grebe/Eared_Grebe_0009_2397268512.jpg\n",
            "images/050.Eared_Grebe/Eared_Grebe_0010_182402721.jpg\n",
            "images/050.Eared_Grebe/Eared_Grebe_0011_2395378944.jpg\n",
            "images/050.Eared_Grebe/Eared_Grebe_0012_132157336.jpg\n",
            "images/050.Eared_Grebe/Eared_Grebe_0013_2356767322.jpg\n",
            "images/050.Eared_Grebe/Eared_Grebe_0014_508490859.jpg\n",
            "images/050.Eared_Grebe/Eared_Grebe_0015_182892178.jpg\n",
            "images/050.Eared_Grebe/Eared_Grebe_0016_2453881646.jpg\n",
            "images/050.Eared_Grebe/Eared_Grebe_0017_2856637072.jpg\n",
            "images/050.Eared_Grebe/Eared_Grebe_0018_59207817.jpg\n",
            "images/050.Eared_Grebe/Eared_Grebe_0019_2868039055.jpg\n",
            "images/050.Eared_Grebe/Eared_Grebe_0020_xxx.jpg\n",
            "images/050.Eared_Grebe/Eared_Grebe_0021_407547377.jpg\n",
            "images/050.Eared_Grebe/Eared_Grebe_0022_2568688818.jpg\n",
            "images/050.Eared_Grebe/Eared_Grebe_0023_508490851.jpg\n",
            "images/050.Eared_Grebe/Eared_Grebe_0024_1876616311.jpg\n",
            "images/050.Eared_Grebe/Eared_Grebe_0025_2354244240.jpg\n",
            "images/050.Eared_Grebe/Eared_Grebe_0026_2459277446.jpg\n",
            "images/050.Eared_Grebe/Eared_Grebe_0027_447815343.jpg\n",
            "images/050.Eared_Grebe/Eared_Grebe_0028_474276467.jpg\n",
            "images/050.Eared_Grebe/Eared_Grebe_0029_2545613439.jpg\n",
            "images/050.Eared_Grebe/Eared_Grebe_0030_2378348443.jpg\n",
            "images/050.Eared_Grebe/Eared_Grebe_0031_447811060.jpg\n",
            "images/050.Eared_Grebe/Eared_Grebe_0032_2354244236.jpg\n",
            "images/050.Eared_Grebe/Eared_Grebe_0033_447815840.jpg\n",
            "images/050.Eared_Grebe/Eared_Grebe_0034_2675888191.jpg\n",
            "images/050.Eared_Grebe/Eared_Grebe_0035_2376467576.jpg\n",
            "images/050.Eared_Grebe/Eared_Grebe_0036_424583390.jpg\n",
            "images/050.Eared_Grebe/Eared_Grebe_0037_21571240.jpg\n",
            "images/049.Boat_tailed_Grackle/Boat_tailed_Grackle_0001_2395205186.jpg\n",
            "images/049.Boat_tailed_Grackle/Boat_tailed_Grackle_0002_2047577827.jpg\n",
            "images/049.Boat_tailed_Grackle/Boat_tailed_Grackle_0003_2442700025.jpg\n",
            "images/049.Boat_tailed_Grackle/Boat_tailed_Grackle_0004_259761654.jpg\n",
            "images/049.Boat_tailed_Grackle/Boat_tailed_Grackle_0005_2906173976.jpg\n",
            "images/049.Boat_tailed_Grackle/Boat_tailed_Grackle_0006_2694769811.jpg\n",
            "images/049.Boat_tailed_Grackle/Boat_tailed_Grackle_0007_2694768577.jpg\n",
            "images/049.Boat_tailed_Grackle/Boat_tailed_Grackle_0008_2899059495.jpg\n",
            "images/049.Boat_tailed_Grackle/Boat_tailed_Grackle_0009_2906176564.jpg\n",
            "images/049.Boat_tailed_Grackle/Boat_tailed_Grackle_0010_2047577823.jpg\n",
            "images/049.Boat_tailed_Grackle/Boat_tailed_Grackle_0011_153259121.jpg\n",
            "images/049.Boat_tailed_Grackle/Boat_tailed_Grackle_0012_2047122065.jpg\n",
            "images/049.Boat_tailed_Grackle/Boat_tailed_Grackle_0013_2932480415.jpg\n",
            "images/049.Boat_tailed_Grackle/Boat_tailed_Grackle_0014_308229886.jpg\n",
            "images/049.Boat_tailed_Grackle/Boat_tailed_Grackle_0015_2048325464.jpg\n",
            "images/049.Boat_tailed_Grackle/Boat_tailed_Grackle_0016_2363966547.jpg\n",
            "images/049.Boat_tailed_Grackle/Boat_tailed_Grackle_0017_374026737.jpg\n",
            "images/049.Boat_tailed_Grackle/Boat_tailed_Grackle_0018_2383564413.jpg\n",
            "images/049.Boat_tailed_Grackle/Boat_tailed_Grackle_0019_2950819760.jpg\n",
            "images/049.Boat_tailed_Grackle/Boat_tailed_Grackle_0020_2341546705.jpg\n",
            "images/049.Boat_tailed_Grackle/Boat_tailed_Grackle_0021_2554424997.jpg\n",
            "images/049.Boat_tailed_Grackle/Boat_tailed_Grackle_0022_320795425.jpg\n",
            "images/049.Boat_tailed_Grackle/Boat_tailed_Grackle_0023_2575528475.jpg\n",
            "images/049.Boat_tailed_Grackle/Boat_tailed_Grackle_0024_462834561.jpg\n",
            "images/049.Boat_tailed_Grackle/Boat_tailed_Grackle_0025_3036149256.jpg\n",
            "images/049.Boat_tailed_Grackle/Boat_tailed_Grackle_0026_1920326190.jpg\n",
            "images/049.Boat_tailed_Grackle/Boat_tailed_Grackle_0027_518094231.jpg\n",
            "images/049.Boat_tailed_Grackle/Boat_tailed_Grackle_0028_3006081310.jpg\n",
            "images/049.Boat_tailed_Grackle/Boat_tailed_Grackle_0029_28799626.jpg\n",
            "images/049.Boat_tailed_Grackle/Boat_tailed_Grackle_0030_266258938.jpg\n",
            "images/049.Boat_tailed_Grackle/Boat_tailed_Grackle_0031_2442171676.jpg\n",
            "images/049.Boat_tailed_Grackle/Boat_tailed_Grackle_0032_2917160552.jpg\n",
            "images/049.Boat_tailed_Grackle/Boat_tailed_Grackle_0033_2280396346.jpg\n",
            "images/048.European_Goldfinch/European_Goldfinch_0001_285948206.jpg\n",
            "images/048.European_Goldfinch/European_Goldfinch_0002_285947945.jpg\n",
            "images/048.European_Goldfinch/European_Goldfinch_0003_1813467272.jpg\n",
            "images/048.European_Goldfinch/European_Goldfinch_0004_493360879.jpg\n",
            "images/048.European_Goldfinch/European_Goldfinch_0005_285948052.jpg\n",
            "images/048.European_Goldfinch/European_Goldfinch_0006_1847264842.jpg\n",
            "images/048.European_Goldfinch/European_Goldfinch_0007_2689891155.jpg\n",
            "images/048.European_Goldfinch/European_Goldfinch_0008_72324831.jpg\n",
            "images/048.European_Goldfinch/European_Goldfinch_0009_2305129189.jpg\n",
            "images/048.European_Goldfinch/European_Goldfinch_0010_2616583522.jpg\n",
            "images/048.European_Goldfinch/European_Goldfinch_0011_2615757397.jpg\n",
            "images/048.European_Goldfinch/European_Goldfinch_0012_2615756907.jpg\n",
            "images/048.European_Goldfinch/European_Goldfinch_0013_2382094785.jpg\n",
            "images/048.European_Goldfinch/European_Goldfinch_0014_445354341.jpg\n",
            "images/048.European_Goldfinch/European_Goldfinch_0015_338559596.jpg\n",
            "images/048.European_Goldfinch/European_Goldfinch_0016_2738217640.jpg\n",
            "images/048.European_Goldfinch/European_Goldfinch_0017_1937752730.jpg\n",
            "images/048.European_Goldfinch/European_Goldfinch_0018_125951159.jpg\n",
            "images/048.European_Goldfinch/European_Goldfinch_0019_117629798.jpg\n",
            "images/048.European_Goldfinch/European_Goldfinch_0020_2794836264.jpg\n",
            "images/048.European_Goldfinch/European_Goldfinch_0021_415764705.jpg\n",
            "images/048.European_Goldfinch/European_Goldfinch_0022_1891622914.jpg\n",
            "images/048.European_Goldfinch/European_Goldfinch_0023_2508668954.jpg\n",
            "images/048.European_Goldfinch/European_Goldfinch_0024_542035841.jpg\n",
            "images/048.European_Goldfinch/European_Goldfinch_0025_338327548.jpg\n",
            "images/048.European_Goldfinch/European_Goldfinch_0026_462823646.jpg\n",
            "images/048.European_Goldfinch/European_Goldfinch_0027_2063672839.jpg\n",
            "images/048.European_Goldfinch/European_Goldfinch_0028_2875948039.jpg\n",
            "images/048.European_Goldfinch/European_Goldfinch_0029_2875910845.jpg\n",
            "images/048.European_Goldfinch/European_Goldfinch_0030_279709674.jpg\n",
            "images/048.European_Goldfinch/European_Goldfinch_0031_2274068491.jpg\n",
            "images/048.European_Goldfinch/European_Goldfinch_0032_467335797.jpg\n",
            "images/048.European_Goldfinch/European_Goldfinch_0033_1552872592.jpg\n",
            "images/047.American_Goldfinch/American_Goldfinch_0001_471811768.jpg\n",
            "images/047.American_Goldfinch/American_Goldfinch_0002_15376001.jpg\n",
            "images/047.American_Goldfinch/American_Goldfinch_0003_141640789.jpg\n",
            "images/047.American_Goldfinch/American_Goldfinch_0004_155617438.jpg\n",
            "images/047.American_Goldfinch/American_Goldfinch_0005_191903025.jpg\n",
            "images/047.American_Goldfinch/American_Goldfinch_0006_2674294474.jpg\n",
            "images/047.American_Goldfinch/American_Goldfinch_0007_2653402207.jpg\n",
            "images/047.American_Goldfinch/American_Goldfinch_0008_135699561.jpg\n",
            "images/047.American_Goldfinch/American_Goldfinch_0009_137253571.jpg\n",
            "images/047.American_Goldfinch/American_Goldfinch_0010_677790531.jpg\n",
            "images/047.American_Goldfinch/American_Goldfinch_0011_153588827.jpg\n",
            "images/047.American_Goldfinch/American_Goldfinch_0012_111201279.jpg\n",
            "images/047.American_Goldfinch/American_Goldfinch_0013_146872871.jpg\n",
            "images/047.American_Goldfinch/American_Goldfinch_0014_563733447.jpg\n",
            "images/047.American_Goldfinch/American_Goldfinch_0015_455770809.jpg\n",
            "images/047.American_Goldfinch/American_Goldfinch_0016_317767498.jpg\n",
            "images/047.American_Goldfinch/American_Goldfinch_0017_495390271.jpg\n",
            "images/047.American_Goldfinch/American_Goldfinch_0018_143360018.jpg\n",
            "images/047.American_Goldfinch/American_Goldfinch_0019_2471592845.jpg\n",
            "images/047.American_Goldfinch/American_Goldfinch_0020_468543137.jpg\n",
            "images/047.American_Goldfinch/American_Goldfinch_0021_701242959.jpg\n",
            "images/047.American_Goldfinch/American_Goldfinch_0022_468593407.jpg\n",
            "images/047.American_Goldfinch/American_Goldfinch_0023_2098520281.jpg\n",
            "images/047.American_Goldfinch/American_Goldfinch_0024_2539527307.jpg\n",
            "images/047.American_Goldfinch/American_Goldfinch_0025_2548282174.jpg\n",
            "images/046.Gadwall/Gadwall_0001_2324002694.jpg\n",
            "images/046.Gadwall/Gadwall_0002_3010967492.jpg\n",
            "images/046.Gadwall/Gadwall_0003_2137497975.jpg\n",
            "images/046.Gadwall/Gadwall_0004_1663901720.jpg\n",
            "images/046.Gadwall/Gadwall_0005_2113596709.jpg\n",
            "images/046.Gadwall/Gadwall_0006_2380118190.jpg\n",
            "images/046.Gadwall/Gadwall_0007_2053712883.jpg\n",
            "images/046.Gadwall/Gadwall_0008_433365004.jpg\n",
            "images/046.Gadwall/Gadwall_0009_242983177.jpg\n",
            "images/046.Gadwall/Gadwall_0010_2557057351.jpg\n",
            "images/046.Gadwall/Gadwall_0011_403017853.jpg\n",
            "images/046.Gadwall/Gadwall_0012_2916821777.jpg\n",
            "images/046.Gadwall/Gadwall_0013_403017851.jpg\n",
            "images/046.Gadwall/Gadwall_0014_3022586423.jpg\n",
            "images/046.Gadwall/Gadwall_0015_3070159418.jpg\n",
            "images/046.Gadwall/Gadwall_0016_683941576.jpg\n",
            "images/046.Gadwall/Gadwall_0017_683099897.jpg\n",
            "images/046.Gadwall/Gadwall_0018_2557057347.jpg\n",
            "images/046.Gadwall/Gadwall_0019_433368259.jpg\n",
            "images/046.Gadwall/Gadwall_0020_506673303.jpg\n",
            "images/046.Gadwall/Gadwall_0021_2300228630.jpg\n",
            "images/046.Gadwall/Gadwall_0022_2240713696.jpg\n",
            "images/046.Gadwall/Gadwall_0023_xxx.jpg\n",
            "images/046.Gadwall/Gadwall_0024_1425081844.jpg\n",
            "images/046.Gadwall/Gadwall_0025_2405723524.jpg\n",
            "images/046.Gadwall/Gadwall_0026_323002743.jpg\n",
            "images/046.Gadwall/Gadwall_0027_2123558217.jpg\n",
            "images/046.Gadwall/Gadwall_0028_315658712.jpg\n",
            "images/046.Gadwall/Gadwall_0029_1874471007.jpg\n",
            "images/046.Gadwall/Gadwall_0030_67651014.jpg\n",
            "images/046.Gadwall/Gadwall_0031_231312401.jpg\n",
            "images/046.Gadwall/Gadwall_0032_221178001.jpg\n",
            "images/046.Gadwall/Gadwall_0033_xxx.jpg\n",
            "images/046.Gadwall/Gadwall_0034_71567543.jpg\n",
            "images/046.Gadwall/Gadwall_0035_2272001567.jpg\n",
            "images/045.Northern_Fulmar/Northern_Fulmar_0001_2650683069.jpg\n",
            "images/045.Northern_Fulmar/Northern_Fulmar_0002_2758082365.jpg\n",
            "images/045.Northern_Fulmar/Northern_Fulmar_0003_2521606263.jpg\n",
            "images/045.Northern_Fulmar/Northern_Fulmar_0004_1393774680.jpg\n",
            "images/045.Northern_Fulmar/Northern_Fulmar_0005_2517464477.jpg\n",
            "images/045.Northern_Fulmar/Northern_Fulmar_0006_1392811437.jpg\n",
            "images/045.Northern_Fulmar/Northern_Fulmar_0007_2517464695.jpg\n",
            "images/045.Northern_Fulmar/Northern_Fulmar_0008_2220889524.jpg\n",
            "images/045.Northern_Fulmar/Northern_Fulmar_0009_2220079159.jpg\n",
            "images/045.Northern_Fulmar/Northern_Fulmar_0010_2236891087.jpg\n",
            "images/045.Northern_Fulmar/Northern_Fulmar_0011_2557437857.jpg\n",
            "images/045.Northern_Fulmar/Northern_Fulmar_0012_2531554895.jpg\n",
            "images/045.Northern_Fulmar/Northern_Fulmar_0013_533814410.jpg\n",
            "images/045.Northern_Fulmar/Northern_Fulmar_0014_2657494321.jpg\n",
            "images/045.Northern_Fulmar/Northern_Fulmar_0015_415814058.jpg\n",
            "images/045.Northern_Fulmar/Northern_Fulmar_0016_2787660415.jpg\n",
            "images/045.Northern_Fulmar/Northern_Fulmar_0017_163433610.jpg\n",
            "images/045.Northern_Fulmar/Northern_Fulmar_0018_2707368242.jpg\n",
            "images/045.Northern_Fulmar/Northern_Fulmar_0019_2537234580.jpg\n",
            "images/045.Northern_Fulmar/Northern_Fulmar_0020_409897200.jpg\n",
            "images/045.Northern_Fulmar/Northern_Fulmar_0021_436718602.jpg\n",
            "images/045.Northern_Fulmar/Northern_Fulmar_0022_2596698954.jpg\n",
            "images/045.Northern_Fulmar/Northern_Fulmar_0023_538672323.jpg\n",
            "images/045.Northern_Fulmar/Northern_Fulmar_0024_242103861.jpg\n",
            "images/045.Northern_Fulmar/Northern_Fulmar_0025_2841209829.jpg\n",
            "images/045.Northern_Fulmar/Northern_Fulmar_0026_413770047.jpg\n",
            "images/045.Northern_Fulmar/Northern_Fulmar_0027_429087843.jpg\n",
            "images/045.Northern_Fulmar/Northern_Fulmar_0028_409849707.jpg\n",
            "images/044.Frigatebird/Frigatebird_0001_2846955695.jpg\n",
            "images/044.Frigatebird/Frigatebird_0002_2483363870.jpg\n",
            "images/044.Frigatebird/Frigatebird_0003_1478659470.jpg\n",
            "images/044.Frigatebird/Frigatebird_0004_484372823.jpg\n",
            "images/044.Frigatebird/Frigatebird_0005_271062043.jpg\n",
            "images/044.Frigatebird/Frigatebird_0006_663848739.jpg\n",
            "images/044.Frigatebird/Frigatebird_0007_1478401761.jpg\n",
            "images/044.Frigatebird/Frigatebird_0008_938530666.jpg\n",
            "images/044.Frigatebird/Frigatebird_0009_160029217.jpg\n",
            "images/044.Frigatebird/Frigatebird_0010_2632633868.jpg\n",
            "images/044.Frigatebird/Frigatebird_0011_331410800.jpg\n",
            "images/044.Frigatebird/Frigatebird_0012_331403867.jpg\n",
            "images/044.Frigatebird/Frigatebird_0013_223221931.jpg\n",
            "images/044.Frigatebird/Frigatebird_0014_662444879.jpg\n",
            "images/044.Frigatebird/Frigatebird_0015_2433306379.jpg\n",
            "images/044.Frigatebird/Frigatebird_0016_371389064.jpg\n",
            "images/044.Frigatebird/Frigatebird_0017_160368360.jpg\n",
            "images/044.Frigatebird/Frigatebird_0018_2876055327.jpg\n",
            "images/044.Frigatebird/Frigatebird_0019_2876053837.jpg\n",
            "images/044.Frigatebird/Frigatebird_0020_1479238152.jpg\n",
            "images/044.Frigatebird/Frigatebird_0021_2076137017.jpg\n",
            "images/044.Frigatebird/Frigatebird_0022_596000195.jpg\n",
            "images/043.Yellow_bellied_Flycatcher/Yellow_bellied_Flycatcher_0001_2617371396.jpg\n",
            "images/043.Yellow_bellied_Flycatcher/Yellow_bellied_Flycatcher_0002_2790772384.jpg\n",
            "images/043.Yellow_bellied_Flycatcher/Yellow_bellied_Flycatcher_0003_2616548119.jpg\n",
            "images/043.Yellow_bellied_Flycatcher/Yellow_bellied_Flycatcher_0004_2561168959.jpg\n",
            "images/043.Yellow_bellied_Flycatcher/Yellow_bellied_Flycatcher_0005_2561993442.jpg\n",
            "images/043.Yellow_bellied_Flycatcher/Yellow_bellied_Flycatcher_0006_2565041479.jpg\n",
            "images/043.Yellow_bellied_Flycatcher/Yellow_bellied_Flycatcher_0007_2794568346.jpg\n",
            "images/043.Yellow_bellied_Flycatcher/Yellow_bellied_Flycatcher_0008_2840682263.jpg\n",
            "images/043.Yellow_bellied_Flycatcher/Yellow_bellied_Flycatcher_0009_2838155840.jpg\n",
            "images/043.Yellow_bellied_Flycatcher/Yellow_bellied_Flycatcher_0010_2653810745.jpg\n",
            "images/043.Yellow_bellied_Flycatcher/Yellow_bellied_Flycatcher_0011_2653810591.jpg\n",
            "images/043.Yellow_bellied_Flycatcher/Yellow_bellied_Flycatcher_0012_2838154198.jpg\n",
            "images/043.Yellow_bellied_Flycatcher/Yellow_bellied_Flycatcher_0013_2838154470.jpg\n",
            "images/043.Yellow_bellied_Flycatcher/Yellow_bellied_Flycatcher_0014_2838154672.jpg\n",
            "images/043.Yellow_bellied_Flycatcher/Yellow_bellied_Flycatcher_0015_2837321125.jpg\n",
            "images/043.Yellow_bellied_Flycatcher/Yellow_bellied_Flycatcher_0016_2837321333.jpg\n",
            "images/043.Yellow_bellied_Flycatcher/Yellow_bellied_Flycatcher_0017_2389151790.jpg\n",
            "images/043.Yellow_bellied_Flycatcher/Yellow_bellied_Flycatcher_0018_3087843193.jpg\n",
            "images/043.Yellow_bellied_Flycatcher/Yellow_bellied_Flycatcher_0019_2512005305.jpg\n",
            "images/043.Yellow_bellied_Flycatcher/Yellow_bellied_Flycatcher_0020_500257112.jpg\n",
            "images/043.Yellow_bellied_Flycatcher/Yellow_bellied_Flycatcher_0021_2554737318.jpg\n",
            "images/043.Yellow_bellied_Flycatcher/Yellow_bellied_Flycatcher_0022_1065090290.jpg\n",
            "images/043.Yellow_bellied_Flycatcher/Yellow_bellied_Flycatcher_0023_856099274.jpg\n",
            "images/043.Yellow_bellied_Flycatcher/Yellow_bellied_Flycatcher_0024_527730433.jpg\n",
            "images/043.Yellow_bellied_Flycatcher/Yellow_bellied_Flycatcher_0025_2333594276.jpg\n",
            "images/043.Yellow_bellied_Flycatcher/Yellow_bellied_Flycatcher_0026_312771771.jpg\n",
            "images/043.Yellow_bellied_Flycatcher/Yellow_bellied_Flycatcher_0027_740530154.jpg\n",
            "images/043.Yellow_bellied_Flycatcher/Yellow_bellied_Flycatcher_0028_251905926.jpg\n",
            "images/043.Yellow_bellied_Flycatcher/Yellow_bellied_Flycatcher_0029_251781264.jpg\n",
            "images/043.Yellow_bellied_Flycatcher/Yellow_bellied_Flycatcher_0030_1351834389.jpg\n",
            "images/043.Yellow_bellied_Flycatcher/Yellow_bellied_Flycatcher_0031_2525863160.jpg\n",
            "images/043.Yellow_bellied_Flycatcher/Yellow_bellied_Flycatcher_0032_2807114451.jpg\n",
            "images/043.Yellow_bellied_Flycatcher/Yellow_bellied_Flycatcher_0033_251780942.jpg\n",
            "images/042.Vermilion_Flycatcher/Vermilion_Flycatcher_0001_2899309839.jpg\n",
            "images/042.Vermilion_Flycatcher/Vermilion_Flycatcher_0002_2801919792.jpg\n",
            "images/042.Vermilion_Flycatcher/Vermilion_Flycatcher_0003_415149961.jpg\n",
            "images/042.Vermilion_Flycatcher/Vermilion_Flycatcher_0004_9399119.jpg\n",
            "images/042.Vermilion_Flycatcher/Vermilion_Flycatcher_0005_2066887156.jpg\n",
            "images/042.Vermilion_Flycatcher/Vermilion_Flycatcher_0006_2415600056.jpg\n",
            "images/042.Vermilion_Flycatcher/Vermilion_Flycatcher_0007_2213007308.jpg\n",
            "images/042.Vermilion_Flycatcher/Vermilion_Flycatcher_0008_180072755.jpg\n",
            "images/042.Vermilion_Flycatcher/Vermilion_Flycatcher_0009_2301571107.jpg\n",
            "images/042.Vermilion_Flycatcher/Vermilion_Flycatcher_0010_2159616740.jpg\n",
            "images/042.Vermilion_Flycatcher/Vermilion_Flycatcher_0011_3079161466.jpg\n",
            "images/042.Vermilion_Flycatcher/Vermilion_Flycatcher_0012_2762935633.jpg\n",
            "images/042.Vermilion_Flycatcher/Vermilion_Flycatcher_0013_118680869.jpg\n",
            "images/042.Vermilion_Flycatcher/Vermilion_Flycatcher_0014_2055483802.jpg\n",
            "images/042.Vermilion_Flycatcher/Vermilion_Flycatcher_0015_2391761821.jpg\n",
            "images/042.Vermilion_Flycatcher/Vermilion_Flycatcher_0016_2357262483.jpg\n",
            "images/042.Vermilion_Flycatcher/Vermilion_Flycatcher_0017_2900886674.jpg\n",
            "images/042.Vermilion_Flycatcher/Vermilion_Flycatcher_0018_2766796044.jpg\n",
            "images/042.Vermilion_Flycatcher/Vermilion_Flycatcher_0019_2848875652.jpg\n",
            "images/042.Vermilion_Flycatcher/Vermilion_Flycatcher_0020_471703845.jpg\n",
            "images/042.Vermilion_Flycatcher/Vermilion_Flycatcher_0021_2352580055.jpg\n",
            "images/042.Vermilion_Flycatcher/Vermilion_Flycatcher_0022_99087550.jpg\n",
            "images/042.Vermilion_Flycatcher/Vermilion_Flycatcher_0023_2160150136.jpg\n",
            "images/042.Vermilion_Flycatcher/Vermilion_Flycatcher_0024_2040965016.jpg\n",
            "images/041.Scissor_tailed_Flycatcher/Scissor_tailed_Flycatcher_0001_2950477416.jpg\n",
            "images/041.Scissor_tailed_Flycatcher/Scissor_tailed_Flycatcher_0002_2820701856.jpg\n",
            "images/041.Scissor_tailed_Flycatcher/Scissor_tailed_Flycatcher_0003_2819862001.jpg\n",
            "images/041.Scissor_tailed_Flycatcher/Scissor_tailed_Flycatcher_0004_2820699332.jpg\n",
            "images/041.Scissor_tailed_Flycatcher/Scissor_tailed_Flycatcher_0005_2820697016.jpg\n",
            "images/041.Scissor_tailed_Flycatcher/Scissor_tailed_Flycatcher_0006_2819866645.jpg\n",
            "images/041.Scissor_tailed_Flycatcher/Scissor_tailed_Flycatcher_0007_2820706336.jpg\n",
            "images/041.Scissor_tailed_Flycatcher/Scissor_tailed_Flycatcher_0008_466355443.jpg\n",
            "images/041.Scissor_tailed_Flycatcher/Scissor_tailed_Flycatcher_0009_561077199.jpg\n",
            "images/041.Scissor_tailed_Flycatcher/Scissor_tailed_Flycatcher_0010_2770349556.jpg\n",
            "images/041.Scissor_tailed_Flycatcher/Scissor_tailed_Flycatcher_0011_2770349560.jpg\n",
            "images/041.Scissor_tailed_Flycatcher/Scissor_tailed_Flycatcher_0012_536235427.jpg\n",
            "images/041.Scissor_tailed_Flycatcher/Scissor_tailed_Flycatcher_0013_2113634623.jpg\n",
            "images/041.Scissor_tailed_Flycatcher/Scissor_tailed_Flycatcher_0014_2690221406.jpg\n",
            "images/041.Scissor_tailed_Flycatcher/Scissor_tailed_Flycatcher_0015_2900317069.jpg\n",
            "images/041.Scissor_tailed_Flycatcher/Scissor_tailed_Flycatcher_0016_2900317051.jpg\n",
            "images/041.Scissor_tailed_Flycatcher/Scissor_tailed_Flycatcher_0017_2900317057.jpg\n",
            "images/041.Scissor_tailed_Flycatcher/Scissor_tailed_Flycatcher_0018_2339960024.jpg\n",
            "images/041.Scissor_tailed_Flycatcher/Scissor_tailed_Flycatcher_0019_2435371448.jpg\n",
            "images/041.Scissor_tailed_Flycatcher/Scissor_tailed_Flycatcher_0020_2215796602.jpg\n",
            "images/041.Scissor_tailed_Flycatcher/Scissor_tailed_Flycatcher_0021_214737126.jpg\n",
            "images/041.Scissor_tailed_Flycatcher/Scissor_tailed_Flycatcher_0022_214737191.jpg\n",
            "images/041.Scissor_tailed_Flycatcher/Scissor_tailed_Flycatcher_0023_214192230.jpg\n",
            "images/041.Scissor_tailed_Flycatcher/Scissor_tailed_Flycatcher_0024_214737069.jpg\n",
            "images/041.Scissor_tailed_Flycatcher/Scissor_tailed_Flycatcher_0025_673357826.jpg\n",
            "images/041.Scissor_tailed_Flycatcher/Scissor_tailed_Flycatcher_0026_511599117.jpg\n",
            "images/041.Scissor_tailed_Flycatcher/Scissor_tailed_Flycatcher_0027_483307090.jpg\n",
            "images/041.Scissor_tailed_Flycatcher/Scissor_tailed_Flycatcher_0028_2481341399.jpg\n",
            "images/041.Scissor_tailed_Flycatcher/Scissor_tailed_Flycatcher_0029_2773661334.jpg\n",
            "images/041.Scissor_tailed_Flycatcher/Scissor_tailed_Flycatcher_0030_469570951.jpg\n",
            "images/041.Scissor_tailed_Flycatcher/Scissor_tailed_Flycatcher_0031_536647403.jpg\n",
            "images/041.Scissor_tailed_Flycatcher/Scissor_tailed_Flycatcher_0032_156554700.jpg\n",
            "images/041.Scissor_tailed_Flycatcher/Scissor_tailed_Flycatcher_0033_2182406758.jpg\n",
            "images/041.Scissor_tailed_Flycatcher/Scissor_tailed_Flycatcher_0034_578447004.jpg\n",
            "images/041.Scissor_tailed_Flycatcher/Scissor_tailed_Flycatcher_0035_2299698024.jpg\n",
            "images/041.Scissor_tailed_Flycatcher/Scissor_tailed_Flycatcher_0036_536537756.jpg\n",
            "images/041.Scissor_tailed_Flycatcher/Scissor_tailed_Flycatcher_0037_2519797639.jpg\n",
            "images/040.Olive_sided_Flycatcher/Olive_sided_Flycatcher_0001_2222824199.jpg\n",
            "images/040.Olive_sided_Flycatcher/Olive_sided_Flycatcher_0002_1032735124.jpg\n",
            "images/040.Olive_sided_Flycatcher/Olive_sided_Flycatcher_0003_2497026975.jpg\n",
            "images/040.Olive_sided_Flycatcher/Olive_sided_Flycatcher_0004_2833910957.jpg\n",
            "images/040.Olive_sided_Flycatcher/Olive_sided_Flycatcher_0005_2833910923.jpg\n",
            "images/040.Olive_sided_Flycatcher/Olive_sided_Flycatcher_0006_1031880919.jpg\n",
            "images/040.Olive_sided_Flycatcher/Olive_sided_Flycatcher_0007_1031881143.jpg\n",
            "images/040.Olive_sided_Flycatcher/Olive_sided_Flycatcher_0008_2518686287.jpg\n",
            "images/040.Olive_sided_Flycatcher/Olive_sided_Flycatcher_0009_2518686533.jpg\n",
            "images/040.Olive_sided_Flycatcher/Olive_sided_Flycatcher_0010_59208351.jpg\n",
            "images/040.Olive_sided_Flycatcher/Olive_sided_Flycatcher_0011_520732410.jpg\n",
            "images/040.Olive_sided_Flycatcher/Olive_sided_Flycatcher_0012_2497764730.jpg\n",
            "images/040.Olive_sided_Flycatcher/Olive_sided_Flycatcher_0013_2525862438.jpg\n",
            "images/040.Olive_sided_Flycatcher/Olive_sided_Flycatcher_0014_2793753018.jpg\n",
            "images/040.Olive_sided_Flycatcher/Olive_sided_Flycatcher_0015_2464757872.jpg\n",
            "images/040.Olive_sided_Flycatcher/Olive_sided_Flycatcher_0016_2522450447.jpg\n",
            "images/040.Olive_sided_Flycatcher/Olive_sided_Flycatcher_0017_165053949.jpg\n",
            "images/040.Olive_sided_Flycatcher/Olive_sided_Flycatcher_0018_155805868.jpg\n",
            "images/040.Olive_sided_Flycatcher/Olive_sided_Flycatcher_0019_543389063.jpg\n",
            "images/040.Olive_sided_Flycatcher/Olive_sided_Flycatcher_0020_2534992779.jpg\n",
            "images/040.Olive_sided_Flycatcher/Olive_sided_Flycatcher_0021_16445778.jpg\n",
            "images/040.Olive_sided_Flycatcher/Olive_sided_Flycatcher_0022_2764858421.jpg\n",
            "images/040.Olive_sided_Flycatcher/Olive_sided_Flycatcher_0023_484457203.jpg\n",
            "images/040.Olive_sided_Flycatcher/Olive_sided_Flycatcher_0024_2569945326.jpg\n",
            "images/040.Olive_sided_Flycatcher/Olive_sided_Flycatcher_0025_35929226.jpg\n",
            "images/040.Olive_sided_Flycatcher/Olive_sided_Flycatcher_0026_1344871580.jpg\n",
            "images/040.Olive_sided_Flycatcher/Olive_sided_Flycatcher_0027_2569956722.jpg\n",
            "images/040.Olive_sided_Flycatcher/Olive_sided_Flycatcher_0028_542596929.jpg\n",
            "images/040.Olive_sided_Flycatcher/Olive_sided_Flycatcher_0029_131576131.jpg\n",
            "images/040.Olive_sided_Flycatcher/Olive_sided_Flycatcher_0030_543389059.jpg\n",
            "images/040.Olive_sided_Flycatcher/Olive_sided_Flycatcher_0031_2569131585.jpg\n",
            "images/039.Least_Flycatcher/Least_Flycatcher_0001_2763157112.jpg\n",
            "images/039.Least_Flycatcher/Least_Flycatcher_0002_1429130731.jpg\n",
            "images/039.Least_Flycatcher/Least_Flycatcher_0003_142106181.jpg\n",
            "images/039.Least_Flycatcher/Least_Flycatcher_0004_2763155660.jpg\n",
            "images/039.Least_Flycatcher/Least_Flycatcher_0005_59211310.jpg\n",
            "images/039.Least_Flycatcher/Least_Flycatcher_0006_2561414683.jpg\n",
            "images/039.Least_Flycatcher/Least_Flycatcher_0007_2459314010.jpg\n",
            "images/039.Least_Flycatcher/Least_Flycatcher_0008_2599012887.jpg\n",
            "images/039.Least_Flycatcher/Least_Flycatcher_0009_327368039.jpg\n",
            "images/039.Least_Flycatcher/Least_Flycatcher_0010_2737904500.jpg\n",
            "images/039.Least_Flycatcher/Least_Flycatcher_0011_2490143220.jpg\n",
            "images/039.Least_Flycatcher/Least_Flycatcher_0012_215582812.jpg\n",
            "images/039.Least_Flycatcher/Least_Flycatcher_0013_1234045169.jpg\n",
            "images/039.Least_Flycatcher/Least_Flycatcher_0014_162352909.jpg\n",
            "images/039.Least_Flycatcher/Least_Flycatcher_0015_313315252.jpg\n",
            "images/039.Least_Flycatcher/Least_Flycatcher_0016_258180172.jpg\n",
            "images/039.Least_Flycatcher/Least_Flycatcher_0017_2695978317.jpg\n",
            "images/039.Least_Flycatcher/Least_Flycatcher_0018_144825458.jpg\n",
            "images/039.Least_Flycatcher/Least_Flycatcher_0019_313315144.jpg\n",
            "images/039.Least_Flycatcher/Least_Flycatcher_0020_2503193475.jpg\n",
            "images/039.Least_Flycatcher/Least_Flycatcher_0021_150057562.jpg\n",
            "images/039.Least_Flycatcher/Least_Flycatcher_0022_2494066424.jpg\n",
            "images/039.Least_Flycatcher/Least_Flycatcher_0023_215506155.jpg\n",
            "images/039.Least_Flycatcher/Least_Flycatcher_0024_162865430.jpg\n",
            "images/039.Least_Flycatcher/Least_Flycatcher_0025_2956528039.jpg\n",
            "images/039.Least_Flycatcher/Least_Flycatcher_0026_2895643891.jpg\n",
            "images/039.Least_Flycatcher/Least_Flycatcher_0027_2896627784.jpg\n",
            "images/039.Least_Flycatcher/Least_Flycatcher_0028_2519930816.jpg\n",
            "images/039.Least_Flycatcher/Least_Flycatcher_0029_2487762211.jpg\n",
            "images/039.Least_Flycatcher/Least_Flycatcher_0030_2874252388.jpg\n",
            "images/039.Least_Flycatcher/Least_Flycatcher_0031_499036523.jpg\n",
            "images/039.Least_Flycatcher/Least_Flycatcher_0032_2534587741.jpg\n",
            "images/038.Great_Crested_Flycatcher/Great_Crested_Flycatcher_0001_139721918.jpg\n",
            "images/038.Great_Crested_Flycatcher/Great_Crested_Flycatcher_0002_113948343.jpg\n",
            "images/038.Great_Crested_Flycatcher/Great_Crested_Flycatcher_0003_130771123.jpg\n",
            "images/038.Great_Crested_Flycatcher/Great_Crested_Flycatcher_0004_171950526.jpg\n",
            "images/038.Great_Crested_Flycatcher/Great_Crested_Flycatcher_0005_171739872.jpg\n",
            "images/038.Great_Crested_Flycatcher/Great_Crested_Flycatcher_0006_165034762.jpg\n",
            "images/038.Great_Crested_Flycatcher/Great_Crested_Flycatcher_0007_2623102305.jpg\n",
            "images/038.Great_Crested_Flycatcher/Great_Crested_Flycatcher_0008_2448132402.jpg\n",
            "images/038.Great_Crested_Flycatcher/Great_Crested_Flycatcher_0009_2541273287.jpg\n",
            "images/038.Great_Crested_Flycatcher/Great_Crested_Flycatcher_0010_2611856475.jpg\n",
            "images/038.Great_Crested_Flycatcher/Great_Crested_Flycatcher_0011_1244722528.jpg\n",
            "images/038.Great_Crested_Flycatcher/Great_Crested_Flycatcher_0012_2542508476.jpg\n",
            "images/038.Great_Crested_Flycatcher/Great_Crested_Flycatcher_0013_2327056469.jpg\n",
            "images/038.Great_Crested_Flycatcher/Great_Crested_Flycatcher_0014_2621176627.jpg\n",
            "images/038.Great_Crested_Flycatcher/Great_Crested_Flycatcher_0015_122493513.jpg\n",
            "images/038.Great_Crested_Flycatcher/Great_Crested_Flycatcher_0016_2561412389.jpg\n",
            "images/038.Great_Crested_Flycatcher/Great_Crested_Flycatcher_0017_1573235193.jpg\n",
            "images/038.Great_Crested_Flycatcher/Great_Crested_Flycatcher_0018_2910456471.jpg\n",
            "images/038.Great_Crested_Flycatcher/Great_Crested_Flycatcher_0019_997998827.jpg\n",
            "images/038.Great_Crested_Flycatcher/Great_Crested_Flycatcher_0020_2542490778.jpg\n",
            "images/038.Great_Crested_Flycatcher/Great_Crested_Flycatcher_0021_2674902879.jpg\n",
            "images/038.Great_Crested_Flycatcher/Great_Crested_Flycatcher_0022_2508502346.jpg\n",
            "images/038.Great_Crested_Flycatcher/Great_Crested_Flycatcher_0023_2545251715.jpg\n",
            "images/038.Great_Crested_Flycatcher/Great_Crested_Flycatcher_0024_542841461.jpg\n",
            "images/038.Great_Crested_Flycatcher/Great_Crested_Flycatcher_0025_2710954794.jpg\n",
            "images/038.Great_Crested_Flycatcher/Great_Crested_Flycatcher_0026_447799897.jpg\n",
            "images/038.Great_Crested_Flycatcher/Great_Crested_Flycatcher_0027_2538117932.jpg\n",
            "images/038.Great_Crested_Flycatcher/Great_Crested_Flycatcher_0028_2621750343.jpg\n",
            "images/038.Great_Crested_Flycatcher/Great_Crested_Flycatcher_0029_566075203.jpg\n",
            "images/038.Great_Crested_Flycatcher/Great_Crested_Flycatcher_0030_493167351.jpg\n",
            "images/038.Great_Crested_Flycatcher/Great_Crested_Flycatcher_0031_2666865049.jpg\n",
            "images/038.Great_Crested_Flycatcher/Great_Crested_Flycatcher_0032_1989175128.jpg\n",
            "images/038.Great_Crested_Flycatcher/Great_Crested_Flycatcher_0033_452562985.jpg\n",
            "images/037.Acadian_Flycatcher/Acadian_Flycatcher_0001_526757101.jpg\n",
            "images/037.Acadian_Flycatcher/Acadian_Flycatcher_0002_2879202801.jpg\n",
            "images/037.Acadian_Flycatcher/Acadian_Flycatcher_0003_xxx.jpg\n",
            "images/037.Acadian_Flycatcher/Acadian_Flycatcher_0004_59204923.jpg\n",
            "images/037.Acadian_Flycatcher/Acadian_Flycatcher_0005_156823596.jpg\n",
            "images/037.Acadian_Flycatcher/Acadian_Flycatcher_0006_2520332573.jpg\n",
            "images/037.Acadian_Flycatcher/Acadian_Flycatcher_0007_886797133.jpg\n",
            "images/037.Acadian_Flycatcher/Acadian_Flycatcher_0008_2578910462.jpg\n",
            "images/037.Acadian_Flycatcher/Acadian_Flycatcher_0009_2519016891.jpg\n",
            "images/037.Acadian_Flycatcher/Acadian_Flycatcher_0010_577248301.jpg\n",
            "images/037.Acadian_Flycatcher/Acadian_Flycatcher_0011_887710110.jpg\n",
            "images/037.Acadian_Flycatcher/Acadian_Flycatcher_0012_443003714.jpg\n",
            "images/037.Acadian_Flycatcher/Acadian_Flycatcher_0013_2514365481.jpg\n",
            "images/037.Acadian_Flycatcher/Acadian_Flycatcher_0014_2619413295.jpg\n",
            "images/037.Acadian_Flycatcher/Acadian_Flycatcher_0015_89031577.jpg\n",
            "images/037.Acadian_Flycatcher/Acadian_Flycatcher_0016_887710060.jpg\n",
            "images/037.Acadian_Flycatcher/Acadian_Flycatcher_0017_538182748.jpg\n",
            "images/037.Acadian_Flycatcher/Acadian_Flycatcher_0018_2515191288.jpg\n",
            "images/037.Acadian_Flycatcher/Acadian_Flycatcher_0019_2534991223.jpg\n",
            "images/037.Acadian_Flycatcher/Acadian_Flycatcher_0020_154762693.jpg\n",
            "images/037.Acadian_Flycatcher/Acadian_Flycatcher_0021_2535806918.jpg\n",
            "images/037.Acadian_Flycatcher/Acadian_Flycatcher_0022_114699269.jpg\n",
            "images/037.Acadian_Flycatcher/Acadian_Flycatcher_0023_2526821054.jpg\n",
            "images/037.Acadian_Flycatcher/Acadian_Flycatcher_0024_887710094.jpg\n",
            "images/037.Acadian_Flycatcher/Acadian_Flycatcher_0025_2825988520.jpg\n",
            "images/037.Acadian_Flycatcher/Acadian_Flycatcher_0026_2511706172.jpg\n",
            "images/037.Acadian_Flycatcher/Acadian_Flycatcher_0027_2701321003.jpg\n",
            "images/037.Acadian_Flycatcher/Acadian_Flycatcher_0028_886797107.jpg\n",
            "images/037.Acadian_Flycatcher/Acadian_Flycatcher_0029_xxx.jpg\n",
            "images/037.Acadian_Flycatcher/Acadian_Flycatcher_0030_343500587.jpg\n",
            "images/037.Acadian_Flycatcher/Acadian_Flycatcher_0031_505034909.jpg\n",
            "images/037.Acadian_Flycatcher/Acadian_Flycatcher_0032_2702133694.jpg\n",
            "images/037.Acadian_Flycatcher/Acadian_Flycatcher_0033_886797017.jpg\n",
            "images/037.Acadian_Flycatcher/Acadian_Flycatcher_0034_887558546.jpg\n",
            "images/037.Acadian_Flycatcher/Acadian_Flycatcher_0035_886796969.jpg\n",
            "images/037.Acadian_Flycatcher/Acadian_Flycatcher_0036_887558530.jpg\n",
            "images/036.Northern_Flicker/Northern_Flicker_0001_2441149860.jpg\n",
            "images/036.Northern_Flicker/Northern_Flicker_0002_2886072908.jpg\n",
            "images/036.Northern_Flicker/Northern_Flicker_0003_145344415.jpg\n",
            "images/036.Northern_Flicker/Northern_Flicker_0004_3048325708.jpg\n",
            "images/036.Northern_Flicker/Northern_Flicker_0005_399156536.jpg\n",
            "images/036.Northern_Flicker/Northern_Flicker_0006_399706336.jpg\n",
            "images/036.Northern_Flicker/Northern_Flicker_0007_xxx.jpg\n",
            "images/036.Northern_Flicker/Northern_Flicker_0008_439155047.jpg\n",
            "images/036.Northern_Flicker/Northern_Flicker_0009_2951585869.jpg\n",
            "images/036.Northern_Flicker/Northern_Flicker_0010_439155053.jpg\n",
            "images/036.Northern_Flicker/Northern_Flicker_0011_2275747264.jpg\n",
            "images/036.Northern_Flicker/Northern_Flicker_0012_2966554962.jpg\n",
            "images/036.Northern_Flicker/Northern_Flicker_0013_461039978.jpg\n",
            "images/036.Northern_Flicker/Northern_Flicker_0014_xxx.jpg\n",
            "images/036.Northern_Flicker/Northern_Flicker_0015_128722564.jpg\n",
            "images/036.Northern_Flicker/Northern_Flicker_0016_2353203164.jpg\n",
            "images/036.Northern_Flicker/Northern_Flicker_0017_2458047521.jpg\n",
            "images/036.Northern_Flicker/Northern_Flicker_0018_2665840547.jpg\n",
            "images/036.Northern_Flicker/Northern_Flicker_0019_2431312704.jpg\n",
            "images/036.Northern_Flicker/Northern_Flicker_0020_492100025.jpg\n",
            "images/036.Northern_Flicker/Northern_Flicker_0021_2578490805.jpg\n",
            "images/036.Northern_Flicker/Northern_Flicker_0022_2935346741.jpg\n",
            "images/036.Northern_Flicker/Northern_Flicker_0023_3042845058.jpg\n",
            "images/036.Northern_Flicker/Northern_Flicker_0024_353021573.jpg\n",
            "images/036.Northern_Flicker/Northern_Flicker_0025_2599623219.jpg\n",
            "images/036.Northern_Flicker/Northern_Flicker_0026_2315000931.jpg\n",
            "images/036.Northern_Flicker/Northern_Flicker_0027_xxx.jpg\n",
            "images/036.Northern_Flicker/Northern_Flicker_0028_304994235.jpg\n",
            "images/036.Northern_Flicker/Northern_Flicker_0029_2194958923.jpg\n",
            "images/036.Northern_Flicker/Northern_Flicker_0030_164979376.jpg\n",
            "images/036.Northern_Flicker/Northern_Flicker_0031_399156539.jpg\n",
            "images/036.Northern_Flicker/Northern_Flicker_0032_1643995319.jpg\n",
            "images/036.Northern_Flicker/Northern_Flicker_0033_xxx.jpg\n",
            "images/036.Northern_Flicker/Northern_Flicker_0034_439155057.jpg\n",
            "images/036.Northern_Flicker/Northern_Flicker_0035_2665437795.jpg\n",
            "images/036.Northern_Flicker/Northern_Flicker_0036_1865643545.jpg\n",
            "images/036.Northern_Flicker/Northern_Flicker_0037_2984672383.jpg\n",
            "images/036.Northern_Flicker/Northern_Flicker_0038_145344414.jpg\n",
            "images/035.Purple_Finch/Purple_Finch_0001_2237042103.jpg\n",
            "images/035.Purple_Finch/Purple_Finch_0002_482189394.jpg\n",
            "images/035.Purple_Finch/Purple_Finch_0003_2374852324.jpg\n",
            "images/035.Purple_Finch/Purple_Finch_0004_2356254630.jpg\n",
            "images/035.Purple_Finch/Purple_Finch_0005_2263693341.jpg\n",
            "images/035.Purple_Finch/Purple_Finch_0006_2329434675.jpg\n",
            "images/035.Purple_Finch/Purple_Finch_0007_146872871.jpg\n",
            "images/035.Purple_Finch/Purple_Finch_0008_2400934286.jpg\n",
            "images/035.Purple_Finch/Purple_Finch_0009_2275673758.jpg\n",
            "images/035.Purple_Finch/Purple_Finch_0010_2445872065.jpg\n",
            "images/035.Purple_Finch/Purple_Finch_0011_2421716976.jpg\n",
            "images/035.Purple_Finch/Purple_Finch_0012_2960556842.jpg\n",
            "images/035.Purple_Finch/Purple_Finch_0013_2466061630.jpg\n",
            "images/035.Purple_Finch/Purple_Finch_0014_2436764723.jpg\n",
            "images/035.Purple_Finch/Purple_Finch_0015_2367643402.jpg\n",
            "images/035.Purple_Finch/Purple_Finch_0016_2265549038.jpg\n",
            "images/035.Purple_Finch/Purple_Finch_0017_2254265069.jpg\n",
            "images/035.Purple_Finch/Purple_Finch_0018_2461574339.jpg\n",
            "images/035.Purple_Finch/Purple_Finch_0019_2390716461.jpg\n",
            "images/035.Purple_Finch/Purple_Finch_0020_2401252794.jpg\n",
            "images/035.Purple_Finch/Purple_Finch_0021_2265118384.jpg\n",
            "images/035.Purple_Finch/Purple_Finch_0022_2359851765.jpg\n",
            "images/035.Purple_Finch/Purple_Finch_0023_2345285196.jpg\n",
            "images/035.Purple_Finch/Purple_Finch_0024_15786109.jpg\n",
            "images/035.Purple_Finch/Purple_Finch_0025_500207789.jpg\n",
            "images/035.Purple_Finch/Purple_Finch_0026_437081065.jpg\n",
            "images/035.Purple_Finch/Purple_Finch_0027_2240951910.jpg\n",
            "images/035.Purple_Finch/Purple_Finch_0028_228676926.jpg\n",
            "images/035.Purple_Finch/Purple_Finch_0029_59203398.jpg\n",
            "images/035.Purple_Finch/Purple_Finch_0030_2981259863.jpg\n",
            "images/035.Purple_Finch/Purple_Finch_0031_2414086362.jpg\n",
            "images/035.Purple_Finch/Purple_Finch_0032_2085022322.jpg\n",
            "images/034.Gray_crowned_Rosy_Finch/Gray_crowned_Rosy_Finch_0001_2173103806.jpg\n",
            "images/034.Gray_crowned_Rosy_Finch/Gray_crowned_Rosy_Finch_0002_2721878277.jpg\n",
            "images/034.Gray_crowned_Rosy_Finch/Gray_crowned_Rosy_Finch_0003_3030304639.jpg\n",
            "images/034.Gray_crowned_Rosy_Finch/Gray_crowned_Rosy_Finch_0004_2721877877.jpg\n",
            "images/034.Gray_crowned_Rosy_Finch/Gray_crowned_Rosy_Finch_0005_277542337.jpg\n",
            "images/034.Gray_crowned_Rosy_Finch/Gray_crowned_Rosy_Finch_0006_157699890.jpg\n",
            "images/034.Gray_crowned_Rosy_Finch/Gray_crowned_Rosy_Finch_0007_2196020398.jpg\n",
            "images/034.Gray_crowned_Rosy_Finch/Gray_crowned_Rosy_Finch_0008_2728735820.jpg\n",
            "images/034.Gray_crowned_Rosy_Finch/Gray_crowned_Rosy_Finch_0009_2763899575.jpg\n",
            "images/034.Gray_crowned_Rosy_Finch/Gray_crowned_Rosy_Finch_0010_59209402.jpg\n",
            "images/034.Gray_crowned_Rosy_Finch/Gray_crowned_Rosy_Finch_0011_59209412.jpg\n",
            "images/034.Gray_crowned_Rosy_Finch/Gray_crowned_Rosy_Finch_0012_1987115597.jpg\n",
            "images/034.Gray_crowned_Rosy_Finch/Gray_crowned_Rosy_Finch_0013_101394999.jpg\n",
            "images/034.Gray_crowned_Rosy_Finch/Gray_crowned_Rosy_Finch_0014_3001168789.jpg\n",
            "images/034.Gray_crowned_Rosy_Finch/Gray_crowned_Rosy_Finch_0015_2191676470.jpg\n",
            "images/034.Gray_crowned_Rosy_Finch/Gray_crowned_Rosy_Finch_0016_920030103.jpg\n",
            "images/034.Gray_crowned_Rosy_Finch/Gray_crowned_Rosy_Finch_0017_2191676474.jpg\n",
            "images/034.Gray_crowned_Rosy_Finch/Gray_crowned_Rosy_Finch_0018_2768398174.jpg\n",
            "images/034.Gray_crowned_Rosy_Finch/Gray_crowned_Rosy_Finch_0019_2191676472.jpg\n",
            "images/034.Gray_crowned_Rosy_Finch/Gray_crowned_Rosy_Finch_0020_2849331961.jpg\n",
            "images/034.Gray_crowned_Rosy_Finch/Gray_crowned_Rosy_Finch_0021_2599409960.jpg\n",
            "images/034.Gray_crowned_Rosy_Finch/Gray_crowned_Rosy_Finch_0022_3085613547.jpg\n",
            "images/034.Gray_crowned_Rosy_Finch/Gray_crowned_Rosy_Finch_0023_2675071816.jpg\n",
            "images/034.Gray_crowned_Rosy_Finch/Gray_crowned_Rosy_Finch_0024_2768397870.jpg\n",
            "images/034.Gray_crowned_Rosy_Finch/Gray_crowned_Rosy_Finch_0025_2765944653.jpg\n",
            "images/034.Gray_crowned_Rosy_Finch/Gray_crowned_Rosy_Finch_0026_284114554.jpg\n",
            "images/034.Gray_crowned_Rosy_Finch/Gray_crowned_Rosy_Finch_0027_1987924860.jpg\n",
            "images/033.Yellow_billed_Cuckoo/Yellow_billed_Cuckoo_0001_1131986586.jpg\n",
            "images/033.Yellow_billed_Cuckoo/Yellow_billed_Cuckoo_0002_1506924158.jpg\n",
            "images/033.Yellow_billed_Cuckoo/Yellow_billed_Cuckoo_0003_768416596.jpg\n",
            "images/033.Yellow_billed_Cuckoo/Yellow_billed_Cuckoo_0004_2841871334.jpg\n",
            "images/033.Yellow_billed_Cuckoo/Yellow_billed_Cuckoo_0005_2637551318.jpg\n",
            "images/033.Yellow_billed_Cuckoo/Yellow_billed_Cuckoo_0006_1506064371.jpg\n",
            "images/033.Yellow_billed_Cuckoo/Yellow_billed_Cuckoo_0007_1506923156.jpg\n",
            "images/033.Yellow_billed_Cuckoo/Yellow_billed_Cuckoo_0008_1506922620.jpg\n",
            "images/033.Yellow_billed_Cuckoo/Yellow_billed_Cuckoo_0009_865057088.jpg\n",
            "images/033.Yellow_billed_Cuckoo/Yellow_billed_Cuckoo_0010_266910991.jpg\n",
            "images/033.Yellow_billed_Cuckoo/Yellow_billed_Cuckoo_0011_1602414677.jpg\n",
            "images/033.Yellow_billed_Cuckoo/Yellow_billed_Cuckoo_0012_757735094.jpg\n",
            "images/033.Yellow_billed_Cuckoo/Yellow_billed_Cuckoo_0013_1244195077.jpg\n",
            "images/033.Yellow_billed_Cuckoo/Yellow_billed_Cuckoo_0014_2567771171.jpg\n",
            "images/033.Yellow_billed_Cuckoo/Yellow_billed_Cuckoo_0015_3008775337.jpg\n",
            "images/033.Yellow_billed_Cuckoo/Yellow_billed_Cuckoo_0016_3030176234.jpg\n",
            "images/033.Yellow_billed_Cuckoo/Yellow_billed_Cuckoo_0017_465629407.jpg\n",
            "images/033.Yellow_billed_Cuckoo/Yellow_billed_Cuckoo_0018_582280559.jpg\n",
            "images/033.Yellow_billed_Cuckoo/Yellow_billed_Cuckoo_0019_485765241.jpg\n",
            "images/033.Yellow_billed_Cuckoo/Yellow_billed_Cuckoo_0020_1492610932.jpg\n",
            "images/033.Yellow_billed_Cuckoo/Yellow_billed_Cuckoo_0021_2523228844.jpg\n",
            "images/033.Yellow_billed_Cuckoo/Yellow_billed_Cuckoo_0022_179110600.jpg\n",
            "images/033.Yellow_billed_Cuckoo/Yellow_billed_Cuckoo_0023_249152383.jpg\n",
            "images/033.Yellow_billed_Cuckoo/Yellow_billed_Cuckoo_0024_2834504843.jpg\n",
            "images/033.Yellow_billed_Cuckoo/Yellow_billed_Cuckoo_0025_2680539375.jpg\n",
            "images/033.Yellow_billed_Cuckoo/Yellow_billed_Cuckoo_0026_2899246868.jpg\n",
            "images/033.Yellow_billed_Cuckoo/Yellow_billed_Cuckoo_0027_503886738.jpg\n",
            "images/033.Yellow_billed_Cuckoo/Yellow_billed_Cuckoo_0028_278592313.jpg\n",
            "images/033.Yellow_billed_Cuckoo/Yellow_billed_Cuckoo_0029_686792403.jpg\n",
            "images/033.Yellow_billed_Cuckoo/Yellow_billed_Cuckoo_0030_577164986.jpg\n",
            "images/033.Yellow_billed_Cuckoo/Yellow_billed_Cuckoo_0031_179127547.jpg\n",
            "images/033.Yellow_billed_Cuckoo/Yellow_billed_Cuckoo_0032_2662129040.jpg\n",
            "images/033.Yellow_billed_Cuckoo/Yellow_billed_Cuckoo_0033_179142137.jpg\n",
            "images/033.Yellow_billed_Cuckoo/Yellow_billed_Cuckoo_0034_224807431.jpg\n",
            "images/033.Yellow_billed_Cuckoo/Yellow_billed_Cuckoo_0035_802763392.jpg\n",
            "images/033.Yellow_billed_Cuckoo/Yellow_billed_Cuckoo_0036_143477328.jpg\n",
            "images/032.Mangrove_Cuckoo/Mangrove_Cuckoo_0001_2409239098.jpg\n",
            "images/032.Mangrove_Cuckoo/Mangrove_Cuckoo_0002_2947607841.jpg\n",
            "images/032.Mangrove_Cuckoo/Mangrove_Cuckoo_0003_2196243646.jpg\n",
            "images/032.Mangrove_Cuckoo/Mangrove_Cuckoo_0004_2751400667.jpg\n",
            "images/032.Mangrove_Cuckoo/Mangrove_Cuckoo_0005_392495593.jpg\n",
            "images/032.Mangrove_Cuckoo/Mangrove_Cuckoo_0006_2113811170.jpg\n",
            "images/032.Mangrove_Cuckoo/Mangrove_Cuckoo_0007_2407156313.jpg\n",
            "images/032.Mangrove_Cuckoo/Mangrove_Cuckoo_0008_2298267767.jpg\n",
            "images/032.Mangrove_Cuckoo/Mangrove_Cuckoo_0009_2402618364.jpg\n",
            "images/032.Mangrove_Cuckoo/Mangrove_Cuckoo_0010_295149866.jpg\n",
            "images/032.Mangrove_Cuckoo/Mangrove_Cuckoo_0011_2402617604.jpg\n",
            "images/032.Mangrove_Cuckoo/Mangrove_Cuckoo_0012_2191613879.jpg\n",
            "images/032.Mangrove_Cuckoo/Mangrove_Cuckoo_0013_2192388670.jpg\n",
            "images/032.Mangrove_Cuckoo/Mangrove_Cuckoo_0014_503642381.jpg\n",
            "images/032.Mangrove_Cuckoo/Mangrove_Cuckoo_0015_503642663.jpg\n",
            "images/032.Mangrove_Cuckoo/Mangrove_Cuckoo_0016_503642495.jpg\n",
            "images/032.Mangrove_Cuckoo/Mangrove_Cuckoo_0017_2191601733.jpg\n",
            "images/032.Mangrove_Cuckoo/Mangrove_Cuckoo_0018_2191601669.jpg\n",
            "images/032.Mangrove_Cuckoo/Mangrove_Cuckoo_0019_337535893.jpg\n",
            "images/032.Mangrove_Cuckoo/Mangrove_Cuckoo_0020_2499071203.jpg\n",
            "images/032.Mangrove_Cuckoo/Mangrove_Cuckoo_0021_2593294885.jpg\n",
            "images/032.Mangrove_Cuckoo/Mangrove_Cuckoo_0022_2226598074.jpg\n",
            "images/032.Mangrove_Cuckoo/Mangrove_Cuckoo_0023_2281125414.jpg\n",
            "images/032.Mangrove_Cuckoo/Mangrove_Cuckoo_0024_2198386986.jpg\n",
            "images/032.Mangrove_Cuckoo/Mangrove_Cuckoo_0025_2439925778.jpg\n",
            "images/032.Mangrove_Cuckoo/Mangrove_Cuckoo_0026_444061466.jpg\n",
            "images/032.Mangrove_Cuckoo/Mangrove_Cuckoo_0027_444061476.jpg\n",
            "images/032.Mangrove_Cuckoo/Mangrove_Cuckoo_0028_2502971725.jpg\n",
            "images/032.Mangrove_Cuckoo/Mangrove_Cuckoo_0029_2503810408.jpg\n",
            "images/032.Mangrove_Cuckoo/Mangrove_Cuckoo_0030_2192400688.jpg\n",
            "images/032.Mangrove_Cuckoo/Mangrove_Cuckoo_0031_2191601849.jpg\n",
            "images/032.Mangrove_Cuckoo/Mangrove_Cuckoo_0032_1213199915.jpg\n",
            "images/031.Black_billed_Cuckoo/Black_billed_Cuckoo_0001_2564924763.jpg\n",
            "images/031.Black_billed_Cuckoo/Black_billed_Cuckoo_0002_2497766042.jpg\n",
            "images/031.Black_billed_Cuckoo/Black_billed_Cuckoo_0003_2547137172.jpg\n",
            "images/031.Black_billed_Cuckoo/Black_billed_Cuckoo_0004_2501208218.jpg\n",
            "images/031.Black_billed_Cuckoo/Black_billed_Cuckoo_0005_484566301.jpg\n",
            "images/031.Black_billed_Cuckoo/Black_billed_Cuckoo_0006_2540671864.jpg\n",
            "images/031.Black_billed_Cuckoo/Black_billed_Cuckoo_0007_154384949.jpg\n",
            "images/031.Black_billed_Cuckoo/Black_billed_Cuckoo_0008_154384990.jpg\n",
            "images/031.Black_billed_Cuckoo/Black_billed_Cuckoo_0009_2663004848.jpg\n",
            "images/031.Black_billed_Cuckoo/Black_billed_Cuckoo_0010_59203409.jpg\n",
            "images/031.Black_billed_Cuckoo/Black_billed_Cuckoo_0011_497079348.jpg\n",
            "images/031.Black_billed_Cuckoo/Black_billed_Cuckoo_0012_174241445.jpg\n",
            "images/031.Black_billed_Cuckoo/Black_billed_Cuckoo_0013_53594671.jpg\n",
            "images/031.Black_billed_Cuckoo/Black_billed_Cuckoo_0014_488760633.jpg\n",
            "images/031.Black_billed_Cuckoo/Black_billed_Cuckoo_0015_xxx.jpg\n",
            "images/031.Black_billed_Cuckoo/Black_billed_Cuckoo_0016_2271886616.jpg\n",
            "images/031.Black_billed_Cuckoo/Black_billed_Cuckoo_0017_1368292117.jpg\n",
            "images/031.Black_billed_Cuckoo/Black_billed_Cuckoo_0018_2565746884.jpg\n",
            "images/031.Black_billed_Cuckoo/Black_billed_Cuckoo_0019_2565746706.jpg\n",
            "images/031.Black_billed_Cuckoo/Black_billed_Cuckoo_0020_2564924501.jpg\n",
            "images/031.Black_billed_Cuckoo/Black_billed_Cuckoo_0021_923284376.jpg\n",
            "images/031.Black_billed_Cuckoo/Black_billed_Cuckoo_0022_488730277.jpg\n",
            "images/031.Black_billed_Cuckoo/Black_billed_Cuckoo_0023_59203413.jpg\n",
            "images/031.Black_billed_Cuckoo/Black_billed_Cuckoo_0024_2564924879.jpg\n",
            "images/031.Black_billed_Cuckoo/Black_billed_Cuckoo_0025_2556189031.jpg\n",
            "images/031.Black_billed_Cuckoo/Black_billed_Cuckoo_0026_2518667223.jpg\n",
            "images/031.Black_billed_Cuckoo/Black_billed_Cuckoo_0027_219594238.jpg\n",
            "images/031.Black_billed_Cuckoo/Black_billed_Cuckoo_0028_2687971126.jpg\n",
            "images/031.Black_billed_Cuckoo/Black_billed_Cuckoo_0029_2597837705.jpg\n",
            "images/031.Black_billed_Cuckoo/Black_billed_Cuckoo_0030_2524946853.jpg\n",
            "images/031.Black_billed_Cuckoo/Black_billed_Cuckoo_0031_2524946597.jpg\n",
            "images/031.Black_billed_Cuckoo/Black_billed_Cuckoo_0032_2599663034.jpg\n",
            "images/031.Black_billed_Cuckoo/Black_billed_Cuckoo_0033_2598832589.jpg\n",
            "images/031.Black_billed_Cuckoo/Black_billed_Cuckoo_0034_2598832513.jpg\n",
            "images/031.Black_billed_Cuckoo/Black_billed_Cuckoo_0035_2599662686.jpg\n",
            "images/031.Black_billed_Cuckoo/Black_billed_Cuckoo_0036_2598832719.jpg\n",
            "images/031.Black_billed_Cuckoo/Black_billed_Cuckoo_0037_2599662610.jpg\n",
            "images/030.Fish_Crow/Fish_Crow_0001_485408347.jpg\n",
            "images/030.Fish_Crow/Fish_Crow_0002_2440536265.jpg\n",
            "images/030.Fish_Crow/Fish_Crow_0003_456087576.jpg\n",
            "images/030.Fish_Crow/Fish_Crow_0004_2061063943.jpg\n",
            "images/030.Fish_Crow/Fish_Crow_0005_2197529090.jpg\n",
            "images/030.Fish_Crow/Fish_Crow_0006_2061858596.jpg\n",
            "images/030.Fish_Crow/Fish_Crow_0007_2061070363.jpg\n",
            "images/030.Fish_Crow/Fish_Crow_0008_2061066289.jpg\n",
            "images/030.Fish_Crow/Fish_Crow_0009_2061068185.jpg\n",
            "images/030.Fish_Crow/Fish_Crow_0010_2061068951.jpg\n",
            "images/030.Fish_Crow/Fish_Crow_0011_2061061503.jpg\n",
            "images/030.Fish_Crow/Fish_Crow_0012_2061062503.jpg\n",
            "images/030.Fish_Crow/Fish_Crow_0013_2061065583.jpg\n",
            "images/030.Fish_Crow/Fish_Crow_0014_2061067193.jpg\n",
            "images/030.Fish_Crow/Fish_Crow_0015_2061849366.jpg\n",
            "images/030.Fish_Crow/Fish_Crow_0016_2061064881.jpg\n",
            "images/030.Fish_Crow/Fish_Crow_0017_2061852002.jpg\n",
            "images/030.Fish_Crow/Fish_Crow_0018_2061071243.jpg\n",
            "images/030.Fish_Crow/Fish_Crow_0019_1418886459.jpg\n",
            "images/030.Fish_Crow/Fish_Crow_0020_180610323.jpg\n",
            "images/030.Fish_Crow/Fish_Crow_0021_463190163.jpg\n",
            "images/030.Fish_Crow/Fish_Crow_0022_71833387.jpg\n",
            "images/030.Fish_Crow/Fish_Crow_0023_28793093.jpg\n",
            "images/030.Fish_Crow/Fish_Crow_0024_2493905904.jpg\n",
            "images/030.Fish_Crow/Fish_Crow_0025_2473090722.jpg\n",
            "images/030.Fish_Crow/Fish_Crow_0026_2519567390.jpg\n",
            "images/030.Fish_Crow/Fish_Crow_0027_469745433.jpg\n",
            "images/030.Fish_Crow/Fish_Crow_0028_469745419.jpg\n",
            "images/030.Fish_Crow/Fish_Crow_0029_1408014205.jpg\n",
            "images/030.Fish_Crow/Fish_Crow_0030_2490809232.jpg\n",
            "images/030.Fish_Crow/Fish_Crow_0031_2708684876.jpg\n",
            "images/029.American_Crow/American_Crow_0001_4183257.jpg\n",
            "images/029.American_Crow/American_Crow_0002_165448164.jpg\n",
            "images/029.American_Crow/American_Crow_0003_1507991326.jpg\n",
            "images/029.American_Crow/American_Crow_0004_2989461804.jpg\n",
            "images/029.American_Crow/American_Crow_0005_1095409.jpg\n",
            "images/029.American_Crow/American_Crow_0006_2179902676.jpg\n",
            "images/029.American_Crow/American_Crow_0007_2358962421.jpg\n",
            "images/029.American_Crow/American_Crow_0008_2150236048.jpg\n",
            "images/029.American_Crow/American_Crow_0009_2365084910.jpg\n",
            "images/029.American_Crow/American_Crow_0010_2498554080.jpg\n",
            "images/029.American_Crow/American_Crow_0011_2470003522.jpg\n",
            "images/029.American_Crow/American_Crow_0012_1003355.jpg\n",
            "images/029.American_Crow/American_Crow_0013_3051549869.jpg\n",
            "images/029.American_Crow/American_Crow_0014_2769157461.jpg\n",
            "images/029.American_Crow/American_Crow_0015_2365091282.jpg\n",
            "images/029.American_Crow/American_Crow_0016_2753381796.jpg\n",
            "images/029.American_Crow/American_Crow_0017_2359869348.jpg\n",
            "images/029.American_Crow/American_Crow_0018_1877680209.jpg\n",
            "images/029.American_Crow/American_Crow_0019_2863695170.jpg\n",
            "images/029.American_Crow/American_Crow_0020_2934449411.jpg\n",
            "images/029.American_Crow/American_Crow_0021_2626777569.jpg\n",
            "images/029.American_Crow/American_Crow_0022_2975254436.jpg\n",
            "images/029.American_Crow/American_Crow_0023_xxx.jpg\n",
            "images/029.American_Crow/American_Crow_0024_2618947526.jpg\n",
            "images/029.American_Crow/American_Crow_0025_359551851.jpg\n",
            "images/029.American_Crow/American_Crow_0026_2566376318.jpg\n",
            "images/029.American_Crow/American_Crow_0027_2324865969.jpg\n",
            "images/028.Brown_Creeper/Brown_Creeper_0001_2345844695.jpg\n",
            "images/028.Brown_Creeper/Brown_Creeper_0002_2410487281.jpg\n",
            "images/028.Brown_Creeper/Brown_Creeper_0003_2121238751.jpg\n",
            "images/028.Brown_Creeper/Brown_Creeper_0004_2116151621.jpg\n",
            "images/028.Brown_Creeper/Brown_Creeper_0005_2944141013.jpg\n",
            "images/028.Brown_Creeper/Brown_Creeper_0006_2410485405.jpg\n",
            "images/028.Brown_Creeper/Brown_Creeper_0007_2403872606.jpg\n",
            "images/028.Brown_Creeper/Brown_Creeper_0008_3059117386.jpg\n",
            "images/028.Brown_Creeper/Brown_Creeper_0009_2125321569.jpg\n",
            "images/028.Brown_Creeper/Brown_Creeper_0010_38011241.jpg\n",
            "images/028.Brown_Creeper/Brown_Creeper_0011_114863052.jpg\n",
            "images/028.Brown_Creeper/Brown_Creeper_0012_2292466686.jpg\n",
            "images/028.Brown_Creeper/Brown_Creeper_0013_78728773.jpg\n",
            "images/028.Brown_Creeper/Brown_Creeper_0014_2411309892.jpg\n",
            "images/028.Brown_Creeper/Brown_Creeper_0015_54657146.jpg\n",
            "images/028.Brown_Creeper/Brown_Creeper_0016_2272314019.jpg\n",
            "images/028.Brown_Creeper/Brown_Creeper_0017_452765456.jpg\n",
            "images/028.Brown_Creeper/Brown_Creeper_0018_2970163676.jpg\n",
            "images/028.Brown_Creeper/Brown_Creeper_0019_2410481067.jpg\n",
            "images/028.Brown_Creeper/Brown_Creeper_0020_1423170614.jpg\n",
            "images/028.Brown_Creeper/Brown_Creeper_0021_105122744.jpg\n",
            "images/028.Brown_Creeper/Brown_Creeper_0022_2178549648.jpg\n",
            "images/028.Brown_Creeper/Brown_Creeper_0023_86232851.jpg\n",
            "images/028.Brown_Creeper/Brown_Creeper_0024_2344375414.jpg\n",
            "images/028.Brown_Creeper/Brown_Creeper_0025_845328381.jpg\n",
            "images/028.Brown_Creeper/Brown_Creeper_0026_2411300046.jpg\n",
            "images/028.Brown_Creeper/Brown_Creeper_0027_2504631596.jpg\n",
            "images/028.Brown_Creeper/Brown_Creeper_0028_2411313096.jpg\n",
            "images/028.Brown_Creeper/Brown_Creeper_0029_2202868648.jpg\n",
            "images/028.Brown_Creeper/Brown_Creeper_0030_2396737027.jpg\n",
            "images/028.Brown_Creeper/Brown_Creeper_0031_2411305524.jpg\n",
            "images/028.Brown_Creeper/Brown_Creeper_0032_2410476265.jpg\n",
            "images/028.Brown_Creeper/Brown_Creeper_0033_1322780630.jpg\n",
            "images/028.Brown_Creeper/Brown_Creeper_0034_1917752363.jpg\n",
            "images/028.Brown_Creeper/Brown_Creeper_0035_581000120.jpg\n",
            "images/027.Shiny_Cowbird/Shiny_Cowbird_0001_480522861.jpg\n",
            "images/027.Shiny_Cowbird/Shiny_Cowbird_0002_1033870934.jpg\n",
            "images/027.Shiny_Cowbird/Shiny_Cowbird_0003_447185403.jpg\n",
            "images/027.Shiny_Cowbird/Shiny_Cowbird_0004_184941012.jpg\n",
            "images/027.Shiny_Cowbird/Shiny_Cowbird_0005_447185497.jpg\n",
            "images/027.Shiny_Cowbird/Shiny_Cowbird_0006_1393453044.jpg\n",
            "images/027.Shiny_Cowbird/Shiny_Cowbird_0007_533020160.jpg\n",
            "images/027.Shiny_Cowbird/Shiny_Cowbird_0008_180158418.jpg\n",
            "images/027.Shiny_Cowbird/Shiny_Cowbird_0009_527350205.jpg\n",
            "images/027.Shiny_Cowbird/Shiny_Cowbird_0010_426558057.jpg\n",
            "images/027.Shiny_Cowbird/Shiny_Cowbird_0011_426558254.jpg\n",
            "images/027.Shiny_Cowbird/Shiny_Cowbird_0012_2214184421.jpg\n",
            "images/027.Shiny_Cowbird/Shiny_Cowbird_0013_418467737.jpg\n",
            "images/027.Shiny_Cowbird/Shiny_Cowbird_0014_418467517.jpg\n",
            "images/027.Shiny_Cowbird/Shiny_Cowbird_0015_2059876044.jpg\n",
            "images/027.Shiny_Cowbird/Shiny_Cowbird_0016_426558149.jpg\n",
            "images/027.Shiny_Cowbird/Shiny_Cowbird_0017_1409860067.jpg\n",
            "images/027.Shiny_Cowbird/Shiny_Cowbird_0018_2558033695.jpg\n",
            "images/027.Shiny_Cowbird/Shiny_Cowbird_0019_2901038899.jpg\n",
            "images/027.Shiny_Cowbird/Shiny_Cowbird_0020_540549738.jpg\n",
            "images/027.Shiny_Cowbird/Shiny_Cowbird_0021_2901037325.jpg\n",
            "images/027.Shiny_Cowbird/Shiny_Cowbird_0022_2766996178.jpg\n",
            "images/027.Shiny_Cowbird/Shiny_Cowbird_0023_2964272122.jpg\n",
            "images/027.Shiny_Cowbird/Shiny_Cowbird_0024_2901033945.jpg\n",
            "images/027.Shiny_Cowbird/Shiny_Cowbird_0025_1806109198.jpg\n",
            "images/027.Shiny_Cowbird/Shiny_Cowbird_0026_136317850.jpg\n",
            "images/027.Shiny_Cowbird/Shiny_Cowbird_0027_495853469.jpg\n",
            "images/027.Shiny_Cowbird/Shiny_Cowbird_0028_107439646.jpg\n",
            "images/026.Bronzed_Cowbird/Bronzed_Cowbird_0001_2660673621.jpg\n",
            "images/026.Bronzed_Cowbird/Bronzed_Cowbird_0002_2660673463.jpg\n",
            "images/026.Bronzed_Cowbird/Bronzed_Cowbird_0003_446682575.jpg\n",
            "images/026.Bronzed_Cowbird/Bronzed_Cowbird_0004_2407136000.jpg\n",
            "images/026.Bronzed_Cowbird/Bronzed_Cowbird_0005_816113586.jpg\n",
            "images/026.Bronzed_Cowbird/Bronzed_Cowbird_0006_483532429.jpg\n",
            "images/026.Bronzed_Cowbird/Bronzed_Cowbird_0007_424570095.jpg\n",
            "images/026.Bronzed_Cowbird/Bronzed_Cowbird_0008_815138925.jpg\n",
            "images/026.Bronzed_Cowbird/Bronzed_Cowbird_0009_815138425.jpg\n",
            "images/026.Bronzed_Cowbird/Bronzed_Cowbird_0010_816113556.jpg\n",
            "images/026.Bronzed_Cowbird/Bronzed_Cowbird_0011_815138541.jpg\n",
            "images/026.Bronzed_Cowbird/Bronzed_Cowbird_0012_815138567.jpg\n",
            "images/026.Bronzed_Cowbird/Bronzed_Cowbird_0013_2417085161.jpg\n",
            "images/026.Bronzed_Cowbird/Bronzed_Cowbird_0014_2256262769.jpg\n",
            "images/026.Bronzed_Cowbird/Bronzed_Cowbird_0015_59207957.jpg\n",
            "images/026.Bronzed_Cowbird/Bronzed_Cowbird_0016_815138575.jpg\n",
            "images/026.Bronzed_Cowbird/Bronzed_Cowbird_0017_2417906344.jpg\n",
            "images/026.Bronzed_Cowbird/Bronzed_Cowbird_0018_59205913.jpg\n",
            "images/026.Bronzed_Cowbird/Bronzed_Cowbird_0019_3092637207.jpg\n",
            "images/026.Bronzed_Cowbird/Bronzed_Cowbird_0020_3092637605.jpg\n",
            "images/026.Bronzed_Cowbird/Bronzed_Cowbird_0021_3056098406.jpg\n",
            "images/026.Bronzed_Cowbird/Bronzed_Cowbird_0022_3055262329.jpg\n",
            "images/026.Bronzed_Cowbird/Bronzed_Cowbird_0023_2740056869.jpg\n",
            "images/026.Bronzed_Cowbird/Bronzed_Cowbird_0024_446633377.jpg\n",
            "images/026.Bronzed_Cowbird/Bronzed_Cowbird_0025_446633937.jpg\n",
            "images/025.Pelagic_Cormorant/Pelagic_Cormorant_0001_426002425.jpg\n",
            "images/025.Pelagic_Cormorant/Pelagic_Cormorant_0002_426002164.jpg\n",
            "images/025.Pelagic_Cormorant/Pelagic_Cormorant_0003_2119008278.jpg\n",
            "images/025.Pelagic_Cormorant/Pelagic_Cormorant_0004_1480317543.jpg\n",
            "images/025.Pelagic_Cormorant/Pelagic_Cormorant_0005_1641875784.jpg\n",
            "images/025.Pelagic_Cormorant/Pelagic_Cormorant_0006_2957118294.jpg\n",
            "images/025.Pelagic_Cormorant/Pelagic_Cormorant_0007_2957117420.jpg\n",
            "images/025.Pelagic_Cormorant/Pelagic_Cormorant_0008_508071225.jpg\n",
            "images/025.Pelagic_Cormorant/Pelagic_Cormorant_0009_377018305.jpg\n",
            "images/025.Pelagic_Cormorant/Pelagic_Cormorant_0010_333168960.jpg\n",
            "images/025.Pelagic_Cormorant/Pelagic_Cormorant_0011_2553973641.jpg\n",
            "images/025.Pelagic_Cormorant/Pelagic_Cormorant_0012_2301694441.jpg\n",
            "images/025.Pelagic_Cormorant/Pelagic_Cormorant_0013_2554801490.jpg\n",
            "images/025.Pelagic_Cormorant/Pelagic_Cormorant_0014_2956269375.jpg\n",
            "images/025.Pelagic_Cormorant/Pelagic_Cormorant_0015_2956274893.jpg\n",
            "images/025.Pelagic_Cormorant/Pelagic_Cormorant_0016_1509187473.jpg\n",
            "images/025.Pelagic_Cormorant/Pelagic_Cormorant_0017_3062984908.jpg\n",
            "images/025.Pelagic_Cormorant/Pelagic_Cormorant_0018_426001939.jpg\n",
            "images/025.Pelagic_Cormorant/Pelagic_Cormorant_0019_2730617996.jpg\n",
            "images/025.Pelagic_Cormorant/Pelagic_Cormorant_0020_2554806772.jpg\n",
            "images/025.Pelagic_Cormorant/Pelagic_Cormorant_0021_2956270721.jpg\n",
            "images/025.Pelagic_Cormorant/Pelagic_Cormorant_0022_2554803250.jpg\n",
            "images/025.Pelagic_Cormorant/Pelagic_Cormorant_0023_2297926620.jpg\n",
            "images/025.Pelagic_Cormorant/Pelagic_Cormorant_0024_2221986118.jpg\n",
            "images/025.Pelagic_Cormorant/Pelagic_Cormorant_0025_327884306.jpg\n",
            "images/025.Pelagic_Cormorant/Pelagic_Cormorant_0026_2758161752.jpg\n",
            "images/025.Pelagic_Cormorant/Pelagic_Cormorant_0027_327884524.jpg\n",
            "images/025.Pelagic_Cormorant/Pelagic_Cormorant_0028_327884826.jpg\n",
            "images/024.Red_faced_Cormorant/Red_faced_Cormorant_0001_2221540205.jpg\n",
            "images/024.Red_faced_Cormorant/Red_faced_Cormorant_0002_56199272.jpg\n",
            "images/024.Red_faced_Cormorant/Red_faced_Cormorant_0003_212248530.jpg\n",
            "images/024.Red_faced_Cormorant/Red_faced_Cormorant_0004_965934424.jpg\n",
            "images/024.Red_faced_Cormorant/Red_faced_Cormorant_0005_392294332.jpg\n",
            "images/024.Red_faced_Cormorant/Red_faced_Cormorant_0006_2414670336.jpg\n",
            "images/024.Red_faced_Cormorant/Red_faced_Cormorant_0007_290186291.jpg\n",
            "images/024.Red_faced_Cormorant/Red_faced_Cormorant_0008_707313905.jpg\n",
            "images/024.Red_faced_Cormorant/Red_faced_Cormorant_0009_2782350115.jpg\n",
            "images/024.Red_faced_Cormorant/Red_faced_Cormorant_0010_2673081452.jpg\n",
            "images/024.Red_faced_Cormorant/Red_faced_Cormorant_0011_402353446.jpg\n",
            "images/024.Red_faced_Cormorant/Red_faced_Cormorant_0012_497178769.jpg\n",
            "images/024.Red_faced_Cormorant/Red_faced_Cormorant_0013_2288210035.jpg\n",
            "images/024.Red_faced_Cormorant/Red_faced_Cormorant_0014_846089391.jpg\n",
            "images/024.Red_faced_Cormorant/Red_faced_Cormorant_0015_858186405.jpg\n",
            "images/024.Red_faced_Cormorant/Red_faced_Cormorant_0016_2570526530.jpg\n",
            "images/024.Red_faced_Cormorant/Red_faced_Cormorant_0017_2939331170.jpg\n",
            "images/024.Red_faced_Cormorant/Red_faced_Cormorant_0018_941582069.jpg\n",
            "images/024.Red_faced_Cormorant/Red_faced_Cormorant_0019_935092571.jpg\n",
            "images/024.Red_faced_Cormorant/Red_faced_Cormorant_0020_290250302.jpg\n",
            "images/024.Red_faced_Cormorant/Red_faced_Cormorant_0021_992493481.jpg\n",
            "images/024.Red_faced_Cormorant/Red_faced_Cormorant_0022_2570526392.jpg\n",
            "images/023.Brandt_Cormorant/Brandt_Cormorant_0001_426006321.jpg\n",
            "images/023.Brandt_Cormorant/Brandt_Cormorant_0002_426004050.jpg\n",
            "images/023.Brandt_Cormorant/Brandt_Cormorant_0003_426005033.jpg\n",
            "images/023.Brandt_Cormorant/Brandt_Cormorant_0004_376009772.jpg\n",
            "images/023.Brandt_Cormorant/Brandt_Cormorant_0005_2619840999.jpg\n",
            "images/023.Brandt_Cormorant/Brandt_Cormorant_0006_426002886.jpg\n",
            "images/023.Brandt_Cormorant/Brandt_Cormorant_0007_426001648.jpg\n",
            "images/023.Brandt_Cormorant/Brandt_Cormorant_0008_426003441.jpg\n",
            "images/023.Brandt_Cormorant/Brandt_Cormorant_0009_426236586.jpg\n",
            "images/023.Brandt_Cormorant/Brandt_Cormorant_0010_173310459.jpg\n",
            "images/023.Brandt_Cormorant/Brandt_Cormorant_0011_2205747286.jpg\n",
            "images/023.Brandt_Cormorant/Brandt_Cormorant_0012_xxx.jpg\n",
            "images/023.Brandt_Cormorant/Brandt_Cormorant_0013_1368929336.jpg\n",
            "images/023.Brandt_Cormorant/Brandt_Cormorant_0014_2506711291.jpg\n",
            "images/023.Brandt_Cormorant/Brandt_Cormorant_0015_444861364.jpg\n",
            "images/023.Brandt_Cormorant/Brandt_Cormorant_0016_2621591971.jpg\n",
            "images/023.Brandt_Cormorant/Brandt_Cormorant_0017_493153789.jpg\n",
            "images/023.Brandt_Cormorant/Brandt_Cormorant_0018_439839683.jpg\n",
            "images/023.Brandt_Cormorant/Brandt_Cormorant_0019_424721750.jpg\n",
            "images/023.Brandt_Cormorant/Brandt_Cormorant_0020_475428382.jpg\n",
            "images/023.Brandt_Cormorant/Brandt_Cormorant_0021_2783544051.jpg\n",
            "images/023.Brandt_Cormorant/Brandt_Cormorant_0022_143260613.jpg\n",
            "images/023.Brandt_Cormorant/Brandt_Cormorant_0023_2610416910.jpg\n",
            "images/023.Brandt_Cormorant/Brandt_Cormorant_0024_2613464506.jpg\n",
            "images/023.Brandt_Cormorant/Brandt_Cormorant_0025_459901258.jpg\n",
            "images/023.Brandt_Cormorant/Brandt_Cormorant_0026_474479554.jpg\n",
            "images/022.Chuck_will_Widow/Chuck_will_Widow_0001_1680979963.jpg\n",
            "images/022.Chuck_will_Widow/Chuck_will_Widow_0002_763527766.jpg\n",
            "images/022.Chuck_will_Widow/Chuck_will_Widow_0003_158888549.jpg\n",
            "images/022.Chuck_will_Widow/Chuck_will_Widow_0004_3030323153.jpg\n",
            "images/022.Chuck_will_Widow/Chuck_will_Widow_0005_496041785.jpg\n",
            "images/022.Chuck_will_Widow/Chuck_will_Widow_0006_473856623.jpg\n",
            "images/022.Chuck_will_Widow/Chuck_will_Widow_0007_2446453295.jpg\n",
            "images/022.Chuck_will_Widow/Chuck_will_Widow_0008_2087529575.jpg\n",
            "images/022.Chuck_will_Widow/Chuck_will_Widow_0009_271598196.jpg\n",
            "images/022.Chuck_will_Widow/Chuck_will_Widow_0010_498707215.jpg\n",
            "images/022.Chuck_will_Widow/Chuck_will_Widow_0011_498661298.jpg\n",
            "images/022.Chuck_will_Widow/Chuck_will_Widow_0012_2665449776.jpg\n",
            "images/022.Chuck_will_Widow/Chuck_will_Widow_0013_486474156.jpg\n",
            "images/022.Chuck_will_Widow/Chuck_will_Widow_0014_486474160.jpg\n",
            "images/022.Chuck_will_Widow/Chuck_will_Widow_0015_205762941.jpg\n",
            "images/022.Chuck_will_Widow/Chuck_will_Widow_0016_1423623147.jpg\n",
            "images/022.Chuck_will_Widow/Chuck_will_Widow_0017_xxx.jpg\n",
            "images/022.Chuck_will_Widow/Chuck_will_Widow_0018_1424508326.jpg\n",
            "images/022.Chuck_will_Widow/Chuck_will_Widow_0019_2845293070.jpg\n",
            "images/022.Chuck_will_Widow/Chuck_will_Widow_0020_535565130.jpg\n",
            "images/022.Chuck_will_Widow/Chuck_will_Widow_0021_3220730798.jpg\n",
            "images/021.Eastern_Towhee/Eastern_Towhee_0001_3030801645.jpg\n",
            "images/021.Eastern_Towhee/Eastern_Towhee_0002_2051204533.jpg\n",
            "images/021.Eastern_Towhee/Eastern_Towhee_0003_419369636.jpg\n",
            "images/021.Eastern_Towhee/Eastern_Towhee_0004_2510292984.jpg\n",
            "images/021.Eastern_Towhee/Eastern_Towhee_0005_2509456875.jpg\n",
            "images/021.Eastern_Towhee/Eastern_Towhee_0006_2482856289.jpg\n",
            "images/021.Eastern_Towhee/Eastern_Towhee_0007_2510288234.jpg\n",
            "images/021.Eastern_Towhee/Eastern_Towhee_0008_2509458021.jpg\n",
            "images/021.Eastern_Towhee/Eastern_Towhee_0009_2509457459.jpg\n",
            "images/021.Eastern_Towhee/Eastern_Towhee_0010_2509455869.jpg\n",
            "images/021.Eastern_Towhee/Eastern_Towhee_0011_2509458597.jpg\n",
            "images/021.Eastern_Towhee/Eastern_Towhee_0012_2510289770.jpg\n",
            "images/021.Eastern_Towhee/Eastern_Towhee_0013_2510292416.jpg\n",
            "images/021.Eastern_Towhee/Eastern_Towhee_0014_2509455409.jpg\n",
            "images/021.Eastern_Towhee/Eastern_Towhee_0015_2509454417.jpg\n",
            "images/021.Eastern_Towhee/Eastern_Towhee_0016_2398947381.jpg\n",
            "images/021.Eastern_Towhee/Eastern_Towhee_0017_2187908406.jpg\n",
            "images/021.Eastern_Towhee/Eastern_Towhee_0018_120628317.jpg\n",
            "images/021.Eastern_Towhee/Eastern_Towhee_0019_2601828200.jpg\n",
            "images/021.Eastern_Towhee/Eastern_Towhee_0020_2599674379.jpg\n",
            "images/021.Eastern_Towhee/Eastern_Towhee_0021_2923789659.jpg\n",
            "images/021.Eastern_Towhee/Eastern_Towhee_0022_451267358.jpg\n",
            "images/021.Eastern_Towhee/Eastern_Towhee_0023_2386066089.jpg\n",
            "images/021.Eastern_Towhee/Eastern_Towhee_0024_2545961689.jpg\n",
            "images/021.Eastern_Towhee/Eastern_Towhee_0025_2616290973.jpg\n",
            "images/021.Eastern_Towhee/Eastern_Towhee_0026_100173679.jpg\n",
            "images/021.Eastern_Towhee/Eastern_Towhee_0027_457837690.jpg\n",
            "images/021.Eastern_Towhee/Eastern_Towhee_0028_402268751.jpg\n",
            "images/021.Eastern_Towhee/Eastern_Towhee_0029_2465368346.jpg\n",
            "images/021.Eastern_Towhee/Eastern_Towhee_0030_59209663.jpg\n",
            "images/021.Eastern_Towhee/Eastern_Towhee_0031_100173680.jpg\n",
            "images/020.Yellow_breasted_Chat/Yellow_breasted_Chat_0001_2641273343.jpg\n",
            "images/020.Yellow_breasted_Chat/Yellow_breasted_Chat_0002_2532259156.jpg\n",
            "images/020.Yellow_breasted_Chat/Yellow_breasted_Chat_0003_2588818033.jpg\n",
            "images/020.Yellow_breasted_Chat/Yellow_breasted_Chat_0004_2529829945.jpg\n",
            "images/020.Yellow_breasted_Chat/Yellow_breasted_Chat_0005_2531445329.jpg\n",
            "images/020.Yellow_breasted_Chat/Yellow_breasted_Chat_0006_2532258030.jpg\n",
            "images/020.Yellow_breasted_Chat/Yellow_breasted_Chat_0007_2530647638.jpg\n",
            "images/020.Yellow_breasted_Chat/Yellow_breasted_Chat_0008_2529831947.jpg\n",
            "images/020.Yellow_breasted_Chat/Yellow_breasted_Chat_0009_2425531137.jpg\n",
            "images/020.Yellow_breasted_Chat/Yellow_breasted_Chat_0010_1223505725.jpg\n",
            "images/020.Yellow_breasted_Chat/Yellow_breasted_Chat_0011_2575223365.jpg\n",
            "images/020.Yellow_breasted_Chat/Yellow_breasted_Chat_0012_1213847227.jpg\n",
            "images/020.Yellow_breasted_Chat/Yellow_breasted_Chat_0013_2644450064.jpg\n",
            "images/020.Yellow_breasted_Chat/Yellow_breasted_Chat_0014_2643623645.jpg\n",
            "images/020.Yellow_breasted_Chat/Yellow_breasted_Chat_0015_2644449620.jpg\n",
            "images/020.Yellow_breasted_Chat/Yellow_breasted_Chat_0016_2447000227.jpg\n",
            "images/020.Yellow_breasted_Chat/Yellow_breasted_Chat_0017_2560897471.jpg\n",
            "images/020.Yellow_breasted_Chat/Yellow_breasted_Chat_0018_2628715270.jpg\n",
            "images/020.Yellow_breasted_Chat/Yellow_breasted_Chat_0019_154166143.jpg\n",
            "images/020.Yellow_breasted_Chat/Yellow_breasted_Chat_0020_2247104865.jpg\n",
            "images/020.Yellow_breasted_Chat/Yellow_breasted_Chat_0021_2470118400.jpg\n",
            "images/020.Yellow_breasted_Chat/Yellow_breasted_Chat_0022_751590756.jpg\n",
            "images/020.Yellow_breasted_Chat/Yellow_breasted_Chat_0023_750737455.jpg\n",
            "images/020.Yellow_breasted_Chat/Yellow_breasted_Chat_0024_750738423.jpg\n",
            "images/020.Yellow_breasted_Chat/Yellow_breasted_Chat_0025_165229988.jpg\n",
            "images/020.Yellow_breasted_Chat/Yellow_breasted_Chat_0026_165229984.jpg\n",
            "images/020.Yellow_breasted_Chat/Yellow_breasted_Chat_0027_165229990.jpg\n",
            "images/020.Yellow_breasted_Chat/Yellow_breasted_Chat_0028_2981987425.jpg\n",
            "images/020.Yellow_breasted_Chat/Yellow_breasted_Chat_0029_2410955975.jpg\n",
            "images/020.Yellow_breasted_Chat/Yellow_breasted_Chat_0030_2625129257.jpg\n",
            "images/020.Yellow_breasted_Chat/Yellow_breasted_Chat_0031_2468155872.jpg\n",
            "images/020.Yellow_breasted_Chat/Yellow_breasted_Chat_0032_2426345242.jpg\n",
            "images/020.Yellow_breasted_Chat/Yellow_breasted_Chat_0033_489971812.jpg\n",
            "images/020.Yellow_breasted_Chat/Yellow_breasted_Chat_0034_2747911937.jpg\n",
            "images/020.Yellow_breasted_Chat/Yellow_breasted_Chat_0035_2481783830.jpg\n",
            "images/019.Gray_Catbird/Gray_Catbird_0001_518850070.jpg\n",
            "images/019.Gray_Catbird/Gray_Catbird_0002_2489608811.jpg\n",
            "images/019.Gray_Catbird/Gray_Catbird_0003_2054239616.jpg\n",
            "images/019.Gray_Catbird/Gray_Catbird_0004_2370707897.jpg\n",
            "images/019.Gray_Catbird/Gray_Catbird_0005_174010311.jpg\n",
            "images/019.Gray_Catbird/Gray_Catbird_0006_428648267.jpg\n",
            "images/019.Gray_Catbird/Gray_Catbird_0007_530833749.jpg\n",
            "images/019.Gray_Catbird/Gray_Catbird_0008_131192755.jpg\n",
            "images/019.Gray_Catbird/Gray_Catbird_0009_142707960.jpg\n",
            "images/019.Gray_Catbird/Gray_Catbird_0010_29499503.jpg\n",
            "images/019.Gray_Catbird/Gray_Catbird_0011_2588235457.jpg\n",
            "images/019.Gray_Catbird/Gray_Catbird_0012_2614953271.jpg\n",
            "images/019.Gray_Catbird/Gray_Catbird_0013_428645825.jpg\n",
            "images/019.Gray_Catbird/Gray_Catbird_0014_2779818082.jpg\n",
            "images/019.Gray_Catbird/Gray_Catbird_0015_485094901.jpg\n",
            "images/019.Gray_Catbird/Gray_Catbird_0016_2526173920.jpg\n",
            "images/019.Gray_Catbird/Gray_Catbird_0017_197654779.jpg\n",
            "images/019.Gray_Catbird/Gray_Catbird_0018_2539643175.jpg\n",
            "images/019.Gray_Catbird/Gray_Catbird_0019_2518487719.jpg\n",
            "images/019.Gray_Catbird/Gray_Catbird_0020_2983864355.jpg\n",
            "images/019.Gray_Catbird/Gray_Catbird_0021_496523234.jpg\n",
            "images/019.Gray_Catbird/Gray_Catbird_0022_2865795805.jpg\n",
            "images/019.Gray_Catbird/Gray_Catbird_0023_2899733192.jpg\n",
            "images/019.Gray_Catbird/Gray_Catbird_0024_2673994493.jpg\n",
            "images/019.Gray_Catbird/Gray_Catbird_0025_146593626.jpg\n",
            "images/019.Gray_Catbird/Gray_Catbird_0026_545523779.jpg\n",
            "images/019.Gray_Catbird/Gray_Catbird_0027_2441274483.jpg\n",
            "images/019.Gray_Catbird/Gray_Catbird_0028_2725793879.jpg\n",
            "images/019.Gray_Catbird/Gray_Catbird_0029_2488996840.jpg\n",
            "images/019.Gray_Catbird/Gray_Catbird_0030_3008566886.jpg\n",
            "images/019.Gray_Catbird/Gray_Catbird_0031_148467783.jpg\n",
            "images/019.Gray_Catbird/Gray_Catbird_0032_148467784.jpg\n",
            "images/019.Gray_Catbird/Gray_Catbird_0033_524809187.jpg\n",
            "images/018.Spotted_Catbird/Spotted_Catbird_0001_2609850087.jpg\n",
            "images/018.Spotted_Catbird/Spotted_Catbird_0002_2609850097.jpg\n",
            "images/018.Spotted_Catbird/Spotted_Catbird_0003_1429851736.jpg\n",
            "images/018.Spotted_Catbird/Spotted_Catbird_0004_2928420799.jpg\n",
            "images/018.Spotted_Catbird/Spotted_Catbird_0005_1996697500.jpg\n",
            "images/018.Spotted_Catbird/Spotted_Catbird_0006_2132520881.jpg\n",
            "images/018.Spotted_Catbird/Spotted_Catbird_0007_2035474443.jpg\n",
            "images/018.Spotted_Catbird/Spotted_Catbird_0008_2036273422.jpg\n",
            "images/018.Spotted_Catbird/Spotted_Catbird_0009_426800838.jpg\n",
            "images/018.Spotted_Catbird/Spotted_Catbird_0010_1429851916.jpg\n",
            "images/018.Spotted_Catbird/Spotted_Catbird_0011_1429854950.jpg\n",
            "images/018.Spotted_Catbird/Spotted_Catbird_0012_2132521001.jpg\n",
            "images/018.Spotted_Catbird/Spotted_Catbird_0013_2493043199.jpg\n",
            "images/018.Spotted_Catbird/Spotted_Catbird_0014_3025400207.jpg\n",
            "images/018.Spotted_Catbird/Spotted_Catbird_0015_3026208002.jpg\n",
            "images/018.Spotted_Catbird/Spotted_Catbird_0016_2174639099.jpg\n",
            "images/018.Spotted_Catbird/Spotted_Catbird_0017_2438854023.jpg\n",
            "images/018.Spotted_Catbird/Spotted_Catbird_0018_1268458495.jpg\n",
            "images/018.Spotted_Catbird/Spotted_Catbird_0019_2983503896.jpg\n",
            "images/018.Spotted_Catbird/Spotted_Catbird_0020_530075891.jpg\n",
            "images/017.Cardinal/Cardinal_0001_2981915906.jpg\n",
            "images/017.Cardinal/Cardinal_0002_2981916350.jpg\n",
            "images/017.Cardinal/Cardinal_0003_2318696113.jpg\n",
            "images/017.Cardinal/Cardinal_0004_425957113.jpg\n",
            "images/017.Cardinal/Cardinal_0005_477677060.jpg\n",
            "images/017.Cardinal/Cardinal_0006_267787440.jpg\n",
            "images/017.Cardinal/Cardinal_0007_3025810472.jpg\n",
            "images/017.Cardinal/Cardinal_0008_642777871.jpg\n",
            "images/017.Cardinal/Cardinal_0009_2388459297.jpg\n",
            "images/017.Cardinal/Cardinal_0010_2326044214.jpg\n",
            "images/017.Cardinal/Cardinal_0011_2282713024.jpg\n",
            "images/017.Cardinal/Cardinal_0012_313207623.jpg\n",
            "images/017.Cardinal/Cardinal_0013_272048629.jpg\n",
            "images/017.Cardinal/Cardinal_0014_2363631519.jpg\n",
            "images/017.Cardinal/Cardinal_0015_3027668574.jpg\n",
            "images/017.Cardinal/Cardinal_0016_391588260.jpg\n",
            "images/017.Cardinal/Cardinal_0017_3061385076.jpg\n",
            "images/017.Cardinal/Cardinal_0018_163213497.jpg\n",
            "images/017.Cardinal/Cardinal_0019_16166253.jpg\n",
            "images/017.Cardinal/Cardinal_0020_2535141036.jpg\n",
            "images/017.Cardinal/Cardinal_0021_2106304649.jpg\n",
            "images/017.Cardinal/Cardinal_0022_xxx.jpg\n",
            "images/017.Cardinal/Cardinal_0023_2699617717.jpg\n",
            "images/017.Cardinal/Cardinal_0024_2700434514.jpg\n",
            "images/017.Cardinal/Cardinal_0025_364754395.jpg\n",
            "images/016.Painted_Bunting/Painted_Bunting_0001_480106659.jpg\n",
            "images/016.Painted_Bunting/Painted_Bunting_0002_2554766256.jpg\n",
            "images/016.Painted_Bunting/Painted_Bunting_0003_2588863185.jpg\n",
            "images/016.Painted_Bunting/Painted_Bunting_0004_2322681294.jpg\n",
            "images/016.Painted_Bunting/Painted_Bunting_0005_xxx.jpg\n",
            "images/016.Painted_Bunting/Painted_Bunting_0006_2862481106.jpg\n",
            "images/016.Painted_Bunting/Painted_Bunting_0007_xxx.jpg\n",
            "images/016.Painted_Bunting/Painted_Bunting_0008_xxx.jpg\n",
            "images/016.Painted_Bunting/Painted_Bunting_0009_2531445953.jpg\n",
            "images/016.Painted_Bunting/Painted_Bunting_0010_483809784.jpg\n",
            "images/016.Painted_Bunting/Painted_Bunting_0011_2531430087.jpg\n",
            "images/016.Painted_Bunting/Painted_Bunting_0012_2190548733.jpg\n",
            "images/016.Painted_Bunting/Painted_Bunting_0013_2484693562.jpg\n",
            "images/016.Painted_Bunting/Painted_Bunting_0014_2203261923.jpg\n",
            "images/016.Painted_Bunting/Painted_Bunting_0015_2385492252.jpg\n",
            "images/016.Painted_Bunting/Painted_Bunting_0016_2917293156.jpg\n",
            "images/016.Painted_Bunting/Painted_Bunting_0017_2621594373.jpg\n",
            "images/016.Painted_Bunting/Painted_Bunting_0018_2621595895.jpg\n",
            "images/016.Painted_Bunting/Painted_Bunting_0019_27705708.jpg\n",
            "images/016.Painted_Bunting/Painted_Bunting_0020_2532262342.jpg\n",
            "images/016.Painted_Bunting/Painted_Bunting_0021_2529840081.jpg\n",
            "images/016.Painted_Bunting/Painted_Bunting_0022_2531431349.jpg\n",
            "images/016.Painted_Bunting/Painted_Bunting_0023_2190568461.jpg\n",
            "images/016.Painted_Bunting/Painted_Bunting_0024_23500819.jpg\n",
            "images/016.Painted_Bunting/Painted_Bunting_0025_559058157.jpg\n",
            "images/016.Painted_Bunting/Painted_Bunting_0026_xxx.jpg\n",
            "images/016.Painted_Bunting/Painted_Bunting_0027_xxx.jpg\n",
            "images/016.Painted_Bunting/Painted_Bunting_0028_xxx.jpg\n",
            "images/015.Lazuli_Bunting/Lazuli_Bunting_0001_483696767.jpg\n",
            "images/015.Lazuli_Bunting/Lazuli_Bunting_0002_2587159269.jpg\n",
            "images/015.Lazuli_Bunting/Lazuli_Bunting_0003_2498669472.jpg\n",
            "images/015.Lazuli_Bunting/Lazuli_Bunting_0004_488982485.jpg\n",
            "images/015.Lazuli_Bunting/Lazuli_Bunting_0005_2491054962.jpg\n",
            "images/015.Lazuli_Bunting/Lazuli_Bunting_0006_483195184.jpg\n",
            "images/015.Lazuli_Bunting/Lazuli_Bunting_0007_483196851.jpg\n",
            "images/015.Lazuli_Bunting/Lazuli_Bunting_0008_2453066940.jpg\n",
            "images/015.Lazuli_Bunting/Lazuli_Bunting_0009_2516620927.jpg\n",
            "images/015.Lazuli_Bunting/Lazuli_Bunting_0010_522399154.jpg\n",
            "images/015.Lazuli_Bunting/Lazuli_Bunting_0011_506149906.jpg\n",
            "images/015.Lazuli_Bunting/Lazuli_Bunting_0012_xxx.jpg\n",
            "images/015.Lazuli_Bunting/Lazuli_Bunting_0013_2535893440.jpg\n",
            "images/015.Lazuli_Bunting/Lazuli_Bunting_0014_685415537.jpg\n",
            "images/015.Lazuli_Bunting/Lazuli_Bunting_0015_750064649.jpg\n",
            "images/015.Lazuli_Bunting/Lazuli_Bunting_0016_750064695.jpg\n",
            "images/015.Lazuli_Bunting/Lazuli_Bunting_0017_495520503.jpg\n",
            "images/015.Lazuli_Bunting/Lazuli_Bunting_0018_772550497.jpg\n",
            "images/015.Lazuli_Bunting/Lazuli_Bunting_0019_2785250577.jpg\n",
            "images/015.Lazuli_Bunting/Lazuli_Bunting_0020_2582678163.jpg\n",
            "images/015.Lazuli_Bunting/Lazuli_Bunting_0021_2541398591.jpg\n",
            "images/015.Lazuli_Bunting/Lazuli_Bunting_0022_20258144.jpg\n",
            "images/015.Lazuli_Bunting/Lazuli_Bunting_0023_174692012.jpg\n",
            "images/015.Lazuli_Bunting/Lazuli_Bunting_0024_2703815407.jpg\n",
            "images/015.Lazuli_Bunting/Lazuli_Bunting_0025_513649458.jpg\n",
            "images/015.Lazuli_Bunting/Lazuli_Bunting_0026_2582013592.jpg\n",
            "images/015.Lazuli_Bunting/Lazuli_Bunting_0027_2576093998.jpg\n",
            "images/015.Lazuli_Bunting/Lazuli_Bunting_0028_485950498.jpg\n",
            "images/015.Lazuli_Bunting/Lazuli_Bunting_0029_2500422243.jpg\n",
            "images/015.Lazuli_Bunting/Lazuli_Bunting_0030_20258145.jpg\n",
            "images/015.Lazuli_Bunting/Lazuli_Bunting_0031_177482118.jpg\n",
            "images/015.Lazuli_Bunting/Lazuli_Bunting_0032_2542221058.jpg\n",
            "images/014.Indigo_Bunting/Indigo_Bunting_0001_500706000.jpg\n",
            "images/014.Indigo_Bunting/Indigo_Bunting_0002_126374974.jpg\n",
            "images/014.Indigo_Bunting/Indigo_Bunting_0003_1049923706.jpg\n",
            "images/014.Indigo_Bunting/Indigo_Bunting_0004_488151769.jpg\n",
            "images/014.Indigo_Bunting/Indigo_Bunting_0005_293364849.jpg\n",
            "images/014.Indigo_Bunting/Indigo_Bunting_0006_15376001.jpg\n",
            "images/014.Indigo_Bunting/Indigo_Bunting_0007_2534066607.jpg\n",
            "images/014.Indigo_Bunting/Indigo_Bunting_0008_2461977180.jpg\n",
            "images/014.Indigo_Bunting/Indigo_Bunting_0009_863095341.jpg\n",
            "images/014.Indigo_Bunting/Indigo_Bunting_0010_2572506763.jpg\n",
            "images/014.Indigo_Bunting/Indigo_Bunting_0011_2502713073.jpg\n",
            "images/014.Indigo_Bunting/Indigo_Bunting_0012_2507591931.jpg\n",
            "images/014.Indigo_Bunting/Indigo_Bunting_0013_462981702.jpg\n",
            "images/014.Indigo_Bunting/Indigo_Bunting_0014_2414309591.jpg\n",
            "images/014.Indigo_Bunting/Indigo_Bunting_0015_2443236987.jpg\n",
            "images/014.Indigo_Bunting/Indigo_Bunting_0016_2610166459.jpg\n",
            "images/014.Indigo_Bunting/Indigo_Bunting_0017_505078769.jpg\n",
            "images/014.Indigo_Bunting/Indigo_Bunting_0018_12981558.jpg\n",
            "images/014.Indigo_Bunting/Indigo_Bunting_0019_484055487.jpg\n",
            "images/014.Indigo_Bunting/Indigo_Bunting_0020_2919210094.jpg\n",
            "images/014.Indigo_Bunting/Indigo_Bunting_0021_2702097629.jpg\n",
            "images/014.Indigo_Bunting/Indigo_Bunting_0022_2487189188.jpg\n",
            "images/014.Indigo_Bunting/Indigo_Bunting_0023_869199823.jpg\n",
            "images/014.Indigo_Bunting/Indigo_Bunting_0024_2539293425.jpg\n",
            "images/014.Indigo_Bunting/Indigo_Bunting_0025_2447047009.jpg\n",
            "images/014.Indigo_Bunting/Indigo_Bunting_0026_2535204236.jpg\n",
            "images/014.Indigo_Bunting/Indigo_Bunting_0027_497208595.jpg\n",
            "images/014.Indigo_Bunting/Indigo_Bunting_0028_2503150638.jpg\n",
            "images/014.Indigo_Bunting/Indigo_Bunting_0029_531831549.jpg\n",
            "images/014.Indigo_Bunting/Indigo_Bunting_0030_2632895054.jpg\n",
            "images/014.Indigo_Bunting/Indigo_Bunting_0031_223617945.jpg\n",
            "images/014.Indigo_Bunting/Indigo_Bunting_0032_473414524.jpg\n",
            "images/014.Indigo_Bunting/Indigo_Bunting_0033_2494583025.jpg\n",
            "images/013.Bobolink/Bobolink_0001_145827142.jpg\n",
            "images/013.Bobolink/Bobolink_0002_525430387.jpg\n",
            "images/013.Bobolink/Bobolink_0003_433654869.jpg\n",
            "images/013.Bobolink/Bobolink_0004_2563658093.jpg\n",
            "images/013.Bobolink/Bobolink_0005_496052159.jpg\n",
            "images/013.Bobolink/Bobolink_0006_323626208.jpg\n",
            "images/013.Bobolink/Bobolink_0007_2617557626.jpg\n",
            "images/013.Bobolink/Bobolink_0008_2578264625.jpg\n",
            "images/013.Bobolink/Bobolink_0009_2497220773.jpg\n",
            "images/013.Bobolink/Bobolink_0010_510123359.jpg\n",
            "images/013.Bobolink/Bobolink_0011_2578725502.jpg\n",
            "images/013.Bobolink/Bobolink_0012_2577892497.jpg\n",
            "images/013.Bobolink/Bobolink_0013_2665369567.jpg\n",
            "images/013.Bobolink/Bobolink_0014_2545596115.jpg\n",
            "images/013.Bobolink/Bobolink_0015_2690957827.jpg\n",
            "images/013.Bobolink/Bobolink_0016_2497219569.jpg\n",
            "images/013.Bobolink/Bobolink_0017_2254397578.jpg\n",
            "images/013.Bobolink/Bobolink_0018_2616868506.jpg\n",
            "images/013.Bobolink/Bobolink_0019_2509438067.jpg\n",
            "images/013.Bobolink/Bobolink_0020_2665731300.jpg\n",
            "images/013.Bobolink/Bobolink_0021_2563472456.jpg\n",
            "images/013.Bobolink/Bobolink_0022_2576769628.jpg\n",
            "images/013.Bobolink/Bobolink_0023_2486988341.jpg\n",
            "images/013.Bobolink/Bobolink_0024_2526087426.jpg\n",
            "images/013.Bobolink/Bobolink_0025_2502658999.jpg\n",
            "images/012.Yellow_headed_Blackbird/Yellow_headed_Blackbird_0001_12606138.jpg\n",
            "images/012.Yellow_headed_Blackbird/Yellow_headed_Blackbird_0002_2905911432.jpg\n",
            "images/012.Yellow_headed_Blackbird/Yellow_headed_Blackbird_0003_483201693.jpg\n",
            "images/012.Yellow_headed_Blackbird/Yellow_headed_Blackbird_0004_2589472693.jpg\n",
            "images/012.Yellow_headed_Blackbird/Yellow_headed_Blackbird_0005_2540361886.jpg\n",
            "images/012.Yellow_headed_Blackbird/Yellow_headed_Blackbird_0006_483176306.jpg\n",
            "images/012.Yellow_headed_Blackbird/Yellow_headed_Blackbird_0007_541900043.jpg\n",
            "images/012.Yellow_headed_Blackbird/Yellow_headed_Blackbird_0008_2427282848.jpg\n",
            "images/012.Yellow_headed_Blackbird/Yellow_headed_Blackbird_0009_483173184.jpg\n",
            "images/012.Yellow_headed_Blackbird/Yellow_headed_Blackbird_0010_494049593.jpg\n",
            "images/012.Yellow_headed_Blackbird/Yellow_headed_Blackbird_0011_247670652.jpg\n",
            "images/012.Yellow_headed_Blackbird/Yellow_headed_Blackbird_0012_506431660.jpg\n",
            "images/012.Yellow_headed_Blackbird/Yellow_headed_Blackbird_0013_11809200.jpg\n",
            "images/012.Yellow_headed_Blackbird/Yellow_headed_Blackbird_0014_170849372.jpg\n",
            "images/012.Yellow_headed_Blackbird/Yellow_headed_Blackbird_0015_510224638.jpg\n",
            "images/012.Yellow_headed_Blackbird/Yellow_headed_Blackbird_0016_170790094.jpg\n",
            "images/012.Yellow_headed_Blackbird/Yellow_headed_Blackbird_0017_170789785.jpg\n",
            "images/012.Yellow_headed_Blackbird/Yellow_headed_Blackbird_0018_2266330893.jpg\n",
            "images/012.Yellow_headed_Blackbird/Yellow_headed_Blackbird_0019_507200281.jpg\n",
            "images/012.Yellow_headed_Blackbird/Yellow_headed_Blackbird_0020_506737368.jpg\n",
            "images/012.Yellow_headed_Blackbird/Yellow_headed_Blackbird_0021_2532597595.jpg\n",
            "images/012.Yellow_headed_Blackbird/Yellow_headed_Blackbird_0022_2505085580.jpg\n",
            "images/012.Yellow_headed_Blackbird/Yellow_headed_Blackbird_0023_2641421064.jpg\n",
            "images/012.Yellow_headed_Blackbird/Yellow_headed_Blackbird_0024_2520731712.jpg\n",
            "images/012.Yellow_headed_Blackbird/Yellow_headed_Blackbird_0025_133117117.jpg\n",
            "images/012.Yellow_headed_Blackbird/Yellow_headed_Blackbird_0026_1024477052.jpg\n",
            "images/012.Yellow_headed_Blackbird/Yellow_headed_Blackbird_0027_2052282414.jpg\n",
            "images/012.Yellow_headed_Blackbird/Yellow_headed_Blackbird_0028_2339126231.jpg\n",
            "images/011.Rusty_Blackbird/Rusty_Blackbird_0001_2997059133.jpg\n",
            "images/011.Rusty_Blackbird/Rusty_Blackbird_0002_2170471346.jpg\n",
            "images/011.Rusty_Blackbird/Rusty_Blackbird_0003_1837259916.jpg\n",
            "images/011.Rusty_Blackbird/Rusty_Blackbird_0004_1848793704.jpg\n",
            "images/011.Rusty_Blackbird/Rusty_Blackbird_0005_2993973180.jpg\n",
            "images/011.Rusty_Blackbird/Rusty_Blackbird_0006_1847962479.jpg\n",
            "images/011.Rusty_Blackbird/Rusty_Blackbird_0007_2393337841.jpg\n",
            "images/011.Rusty_Blackbird/Rusty_Blackbird_0008_105553567.jpg\n",
            "images/011.Rusty_Blackbird/Rusty_Blackbird_0009_62306686.jpg\n",
            "images/011.Rusty_Blackbird/Rusty_Blackbird_0010_3077782792.jpg\n",
            "images/011.Rusty_Blackbird/Rusty_Blackbird_0011_1847956717.jpg\n",
            "images/011.Rusty_Blackbird/Rusty_Blackbird_0012_501238584.jpg\n",
            "images/011.Rusty_Blackbird/Rusty_Blackbird_0013_62306687.jpg\n",
            "images/011.Rusty_Blackbird/Rusty_Blackbird_0014_501239850.jpg\n",
            "images/011.Rusty_Blackbird/Rusty_Blackbird_0015_2302384820.jpg\n",
            "images/011.Rusty_Blackbird/Rusty_Blackbird_0016_344778530.jpg\n",
            "images/011.Rusty_Blackbird/Rusty_Blackbird_0017_2961421713.jpg\n",
            "images/011.Rusty_Blackbird/Rusty_Blackbird_0018_3070162963.jpg\n",
            "images/011.Rusty_Blackbird/Rusty_Blackbird_0019_2281281703.jpg\n",
            "images/011.Rusty_Blackbird/Rusty_Blackbird_0020_2505459830.jpg\n",
            "images/011.Rusty_Blackbird/Rusty_Blackbird_0021_1922903657.jpg\n",
            "images/011.Rusty_Blackbird/Rusty_Blackbird_0022_968932549.jpg\n",
            "images/011.Rusty_Blackbird/Rusty_Blackbird_0023_2202235567.jpg\n",
            "images/011.Rusty_Blackbird/Rusty_Blackbird_0024_2152893106.jpg\n",
            "images/011.Rusty_Blackbird/Rusty_Blackbird_0025_1922906301.jpg\n",
            "images/011.Rusty_Blackbird/Rusty_Blackbird_0026_2393065469.jpg\n",
            "images/011.Rusty_Blackbird/Rusty_Blackbird_0027_2230061718.jpg\n",
            "images/010.Red_winged_Blackbird/Red_winged_Blackbird_0001_2370065784.jpg\n",
            "images/010.Red_winged_Blackbird/Red_winged_Blackbird_0002_138027313.jpg\n",
            "images/010.Red_winged_Blackbird/Red_winged_Blackbird_0003_2435737741.jpg\n",
            "images/010.Red_winged_Blackbird/Red_winged_Blackbird_0004_2209034288.jpg\n",
            "images/010.Red_winged_Blackbird/Red_winged_Blackbird_0005_865242258.jpg\n",
            "images/010.Red_winged_Blackbird/Red_winged_Blackbird_0006_2376861574.jpg\n",
            "images/010.Red_winged_Blackbird/Red_winged_Blackbird_0007_495139194.jpg\n",
            "images/010.Red_winged_Blackbird/Red_winged_Blackbird_0008_469101650.jpg\n",
            "images/010.Red_winged_Blackbird/Red_winged_Blackbird_0009_2472004320.jpg\n",
            "images/010.Red_winged_Blackbird/Red_winged_Blackbird_0010_465415726.jpg\n",
            "images/010.Red_winged_Blackbird/Red_winged_Blackbird_0011_495139158.jpg\n",
            "images/010.Red_winged_Blackbird/Red_winged_Blackbird_0012_2472606189.jpg\n",
            "images/010.Red_winged_Blackbird/Red_winged_Blackbird_0013_139596958.jpg\n",
            "images/010.Red_winged_Blackbird/Red_winged_Blackbird_0014_144916612.jpg\n",
            "images/010.Red_winged_Blackbird/Red_winged_Blackbird_0015_469101656.jpg\n",
            "images/010.Red_winged_Blackbird/Red_winged_Blackbird_0016_102414646.jpg\n",
            "images/010.Red_winged_Blackbird/Red_winged_Blackbird_0017_583846699.jpg\n",
            "images/010.Red_winged_Blackbird/Red_winged_Blackbird_0018_2477592974.jpg\n",
            "images/010.Red_winged_Blackbird/Red_winged_Blackbird_0019_398266170.jpg\n",
            "images/010.Red_winged_Blackbird/Red_winged_Blackbird_0020_474690970.jpg\n",
            "images/010.Red_winged_Blackbird/Red_winged_Blackbird_0021_2529270051.jpg\n",
            "images/010.Red_winged_Blackbird/Red_winged_Blackbird_0022_2179939448.jpg\n",
            "images/010.Red_winged_Blackbird/Red_winged_Blackbird_0023_519203903.jpg\n",
            "images/010.Red_winged_Blackbird/Red_winged_Blackbird_0024_16024607.jpg\n",
            "images/010.Red_winged_Blackbird/Red_winged_Blackbird_0025_2460801057.jpg\n",
            "images/010.Red_winged_Blackbird/Red_winged_Blackbird_0026_2201165026.jpg\n",
            "images/010.Red_winged_Blackbird/Red_winged_Blackbird_0027_2419463190.jpg\n",
            "images/009.Brewer_Blackbird/Brewer_Blackbird_0001_13030268.jpg\n",
            "images/009.Brewer_Blackbird/Brewer_Blackbird_0002_2999630226.jpg\n",
            "images/009.Brewer_Blackbird/Brewer_Blackbird_0003_327559139.jpg\n",
            "images/009.Brewer_Blackbird/Brewer_Blackbird_0004_13489955.jpg\n",
            "images/009.Brewer_Blackbird/Brewer_Blackbird_0005_2600344465.jpg\n",
            "images/009.Brewer_Blackbird/Brewer_Blackbird_0006_409296172.jpg\n",
            "images/009.Brewer_Blackbird/Brewer_Blackbird_0007_2467073350.jpg\n",
            "images/009.Brewer_Blackbird/Brewer_Blackbird_0008_2916336305.jpg\n",
            "images/009.Brewer_Blackbird/Brewer_Blackbird_0009_327560725.jpg\n",
            "images/009.Brewer_Blackbird/Brewer_Blackbird_0010_2487470293.jpg\n",
            "images/009.Brewer_Blackbird/Brewer_Blackbird_0011_2586016547.jpg\n",
            "images/009.Brewer_Blackbird/Brewer_Blackbird_0012_743374198.jpg\n",
            "images/009.Brewer_Blackbird/Brewer_Blackbird_0013_1947920591.jpg\n",
            "images/009.Brewer_Blackbird/Brewer_Blackbird_0014_2560745108.jpg\n",
            "images/009.Brewer_Blackbird/Brewer_Blackbird_0015_469388537.jpg\n",
            "images/009.Brewer_Blackbird/Brewer_Blackbird_0016_162093642.jpg\n",
            "images/009.Brewer_Blackbird/Brewer_Blackbird_0017_192822407.jpg\n",
            "images/009.Brewer_Blackbird/Brewer_Blackbird_0018_253049825.jpg\n",
            "images/009.Brewer_Blackbird/Brewer_Blackbird_0019_2423872869.jpg\n",
            "images/009.Brewer_Blackbird/Brewer_Blackbird_0020_2521712243.jpg\n",
            "images/009.Brewer_Blackbird/Brewer_Blackbird_0021_2600945880.jpg\n",
            "images/009.Brewer_Blackbird/Brewer_Blackbird_0022_2498669546.jpg\n",
            "images/009.Brewer_Blackbird/Brewer_Blackbird_0023_2405792169.jpg\n",
            "images/009.Brewer_Blackbird/Brewer_Blackbird_0024_3031249630.jpg\n",
            "images/009.Brewer_Blackbird/Brewer_Blackbird_0025_2873028499.jpg\n",
            "images/009.Brewer_Blackbird/Brewer_Blackbird_0026_223907458.jpg\n",
            "images/008.Rhinoceros_Auklet/Rhinoceros_Auklet_0001_2673620250.jpg\n",
            "images/008.Rhinoceros_Auklet/Rhinoceros_Auklet_0002_2444500018.jpg\n",
            "images/008.Rhinoceros_Auklet/Rhinoceros_Auklet_0003_804374223.jpg\n",
            "images/008.Rhinoceros_Auklet/Rhinoceros_Auklet_0004_2978994669.jpg\n",
            "images/008.Rhinoceros_Auklet/Rhinoceros_Auklet_0005_2558782887.jpg\n",
            "images/008.Rhinoceros_Auklet/Rhinoceros_Auklet_0006_2555181966.jpg\n",
            "images/008.Rhinoceros_Auklet/Rhinoceros_Auklet_0007_2928370434.jpg\n",
            "images/008.Rhinoceros_Auklet/Rhinoceros_Auklet_0008_804374231.jpg\n",
            "images/008.Rhinoceros_Auklet/Rhinoceros_Auklet_0009_739605990.jpg\n",
            "images/008.Rhinoceros_Auklet/Rhinoceros_Auklet_0010_739605948.jpg\n",
            "images/008.Rhinoceros_Auklet/Rhinoceros_Auklet_0011_458012208.jpg\n",
            "images/008.Rhinoceros_Auklet/Rhinoceros_Auklet_0012_2281384724.jpg\n",
            "images/008.Rhinoceros_Auklet/Rhinoceros_Auklet_0013_2916749261.jpg\n",
            "images/008.Rhinoceros_Auklet/Rhinoceros_Auklet_0014_2718152489.jpg\n",
            "images/008.Rhinoceros_Auklet/Rhinoceros_Auklet_0015_2718971766.jpg\n",
            "images/008.Rhinoceros_Auklet/Rhinoceros_Auklet_0016_646789676.jpg\n",
            "images/008.Rhinoceros_Auklet/Rhinoceros_Auklet_0017_765922003.jpg\n",
            "images/008.Rhinoceros_Auklet/Rhinoceros_Auklet_0018_459515769.jpg\n",
            "images/008.Rhinoceros_Auklet/Rhinoceros_Auklet_0019_1232573433.jpg\n",
            "images/008.Rhinoceros_Auklet/Rhinoceros_Auklet_0020_172412571.jpg\n",
            "images/008.Rhinoceros_Auklet/Rhinoceros_Auklet_0021_2568978736.jpg\n",
            "images/008.Rhinoceros_Auklet/Rhinoceros_Auklet_0022_2421989415.jpg\n",
            "images/008.Rhinoceros_Auklet/Rhinoceros_Auklet_0023_3073852636.jpg\n",
            "images/008.Rhinoceros_Auklet/Rhinoceros_Auklet_0024_2718152733.jpg\n",
            "images/008.Rhinoceros_Auklet/Rhinoceros_Auklet_0025_1133842516.jpg\n",
            "images/008.Rhinoceros_Auklet/Rhinoceros_Auklet_0026_2211152978.jpg\n",
            "images/008.Rhinoceros_Auklet/Rhinoceros_Auklet_0027_2671199517.jpg\n",
            "images/008.Rhinoceros_Auklet/Rhinoceros_Auklet_0028_1109884434.jpg\n",
            "images/008.Rhinoceros_Auklet/Rhinoceros_Auklet_0029_2664097401.jpg\n",
            "images/008.Rhinoceros_Auklet/Rhinoceros_Auklet_0030_2744259331.jpg\n",
            "images/008.Rhinoceros_Auklet/Rhinoceros_Auklet_0031_7658455.jpg\n",
            "images/008.Rhinoceros_Auklet/Rhinoceros_Auklet_0032_2895204221.jpg\n",
            "images/007.Parakeet_Auklet/Parakeet_Auklet_0001_2689246847.jpg\n",
            "images/007.Parakeet_Auklet/Parakeet_Auklet_0002_2550202686.jpg\n",
            "images/007.Parakeet_Auklet/Parakeet_Auklet_0003_470903939.jpg\n",
            "images/007.Parakeet_Auklet/Parakeet_Auklet_0004_290186264.jpg\n",
            "images/007.Parakeet_Auklet/Parakeet_Auklet_0005_470903937.jpg\n",
            "images/007.Parakeet_Auklet/Parakeet_Auklet_0006_643030433.jpg\n",
            "images/007.Parakeet_Auklet/Parakeet_Auklet_0007_160418219.jpg\n",
            "images/007.Parakeet_Auklet/Parakeet_Auklet_0008_2687387319.jpg\n",
            "images/007.Parakeet_Auklet/Parakeet_Auklet_0009_2598577739.jpg\n",
            "images/007.Parakeet_Auklet/Parakeet_Auklet_0010_749608746.jpg\n",
            "images/007.Parakeet_Auklet/Parakeet_Auklet_0011_749748674.jpg\n",
            "images/007.Parakeet_Auklet/Parakeet_Auklet_0012_2688257292.jpg\n",
            "images/007.Parakeet_Auklet/Parakeet_Auklet_0013_2676978248.jpg\n",
            "images/007.Parakeet_Auklet/Parakeet_Auklet_0014_2599408720.jpg\n",
            "images/007.Parakeet_Auklet/Parakeet_Auklet_0015_2690119694.jpg\n",
            "images/007.Parakeet_Auklet/Parakeet_Auklet_0016_794983732.jpg\n",
            "images/007.Parakeet_Auklet/Parakeet_Auklet_0017_2413402495.jpg\n",
            "images/007.Parakeet_Auklet/Parakeet_Auklet_0018_2598577557.jpg\n",
            "images/007.Parakeet_Auklet/Parakeet_Auklet_0019_2598577413.jpg\n",
            "images/007.Parakeet_Auklet/Parakeet_Auklet_0020_993007317.jpg\n",
            "images/007.Parakeet_Auklet/Parakeet_Auklet_0021_422552650.jpg\n",
            "images/007.Parakeet_Auklet/Parakeet_Auklet_0022_2737107606.jpg\n",
            "images/007.Parakeet_Auklet/Parakeet_Auklet_0023_1296247471.jpg\n",
            "images/007.Parakeet_Auklet/Parakeet_Auklet_0024_846242681.jpg\n",
            "images/007.Parakeet_Auklet/Parakeet_Auklet_0025_1316312479.jpg\n",
            "images/007.Parakeet_Auklet/Parakeet_Auklet_0026_1415636114.jpg\n",
            "images/007.Parakeet_Auklet/Parakeet_Auklet_0027_2676149281.jpg\n",
            "images/007.Parakeet_Auklet/Parakeet_Auklet_0028_1296247465.jpg\n",
            "images/007.Parakeet_Auklet/Parakeet_Auklet_0029_1297120844.jpg\n",
            "images/007.Parakeet_Auklet/Parakeet_Auklet_0030_422552648.jpg\n",
            "images/007.Parakeet_Auklet/Parakeet_Auklet_0031_422552637.jpg\n",
            "images/007.Parakeet_Auklet/Parakeet_Auklet_0032_2737030666.jpg\n",
            "images/007.Parakeet_Auklet/Parakeet_Auklet_0033_2536662714.jpg\n",
            "images/006.Least_Auklet/Least_Auklet_0001_2947317867.jpg\n",
            "images/006.Least_Auklet/Least_Auklet_0002_1838200775.jpg\n",
            "images/006.Least_Auklet/Least_Auklet_0003_2770917363.jpg\n",
            "images/006.Least_Auklet/Least_Auklet_0004_2685272855.jpg\n",
            "images/006.Least_Auklet/Least_Auklet_0005_1838200739.jpg\n",
            "images/006.Least_Auklet/Least_Auklet_0006_1838200797.jpg\n",
            "images/006.Least_Auklet/Least_Auklet_0007_2684023247.jpg\n",
            "images/006.Least_Auklet/Least_Auklet_0008_2686064694.jpg\n",
            "images/006.Least_Auklet/Least_Auklet_0009_827522395.jpg\n",
            "images/006.Least_Auklet/Least_Auklet_0010_2686642139.jpg\n",
            "images/006.Least_Auklet/Least_Auklet_0011_2687886164.jpg\n",
            "images/006.Least_Auklet/Least_Auklet_0012_2599408122.jpg\n",
            "images/006.Least_Auklet/Least_Auklet_0013_748747449.jpg\n",
            "images/006.Least_Auklet/Least_Auklet_0014_2599407996.jpg\n",
            "images/006.Least_Auklet/Least_Auklet_0015_748747197.jpg\n",
            "images/006.Least_Auklet/Least_Auklet_0016_2903461589.jpg\n",
            "images/006.Least_Auklet/Least_Auklet_0017_422162709.jpg\n",
            "images/006.Least_Auklet/Least_Auklet_0018_422162686.jpg\n",
            "images/006.Least_Auklet/Least_Auklet_0019_422162681.jpg\n",
            "images/006.Least_Auklet/Least_Auklet_0020_1296242193.jpg\n",
            "images/006.Least_Auklet/Least_Auklet_0021_1296242183.jpg\n",
            "images/006.Least_Auklet/Least_Auklet_0022_993007225.jpg\n",
            "images/006.Least_Auklet/Least_Auklet_0023_2408307183.jpg\n",
            "images/006.Least_Auklet/Least_Auklet_0024_1405107390.jpg\n",
            "images/006.Least_Auklet/Least_Auklet_0025_1296242169.jpg\n",
            "images/006.Least_Auklet/Least_Auklet_0026_422162690.jpg\n",
            "images/006.Least_Auklet/Least_Auklet_0027_422162693.jpg\n",
            "images/006.Least_Auklet/Least_Auklet_0028_1296242177.jpg\n",
            "images/005.Crested_Auklet/Crested_Auklet_0001_202650605.jpg\n",
            "images/005.Crested_Auklet/Crested_Auklet_0002_1648992739.jpg\n",
            "images/005.Crested_Auklet/Crested_Auklet_0003_1648992793.jpg\n",
            "images/005.Crested_Auklet/Crested_Auklet_0004_1648992773.jpg\n",
            "images/005.Crested_Auklet/Crested_Auklet_0005_1648992827.jpg\n",
            "images/005.Crested_Auklet/Crested_Auklet_0006_2826660365.jpg\n",
            "images/005.Crested_Auklet/Crested_Auklet_0007_2771760890.jpg\n",
            "images/005.Crested_Auklet/Crested_Auklet_0008_2771761648.jpg\n",
            "images/005.Crested_Auklet/Crested_Auklet_0009_2598577217.jpg\n",
            "images/005.Crested_Auklet/Crested_Auklet_0010_750898202.jpg\n",
            "images/005.Crested_Auklet/Crested_Auklet_0011_749608288.jpg\n",
            "images/005.Crested_Auklet/Crested_Auklet_0012_751253546.jpg\n",
            "images/005.Crested_Auklet/Crested_Auklet_0013_2599408208.jpg\n",
            "images/005.Crested_Auklet/Crested_Auklet_0014_103482387.jpg\n",
            "images/005.Crested_Auklet/Crested_Auklet_0015_2484284075.jpg\n",
            "images/005.Crested_Auklet/Crested_Auklet_0016_1415357086.jpg\n",
            "images/005.Crested_Auklet/Crested_Auklet_0017_1297094692.jpg\n",
            "images/005.Crested_Auklet/Crested_Auklet_0018_1297094698.jpg\n",
            "images/005.Crested_Auklet/Crested_Auklet_0019_2576628433.jpg\n",
            "images/005.Crested_Auklet/Crested_Auklet_0020_422144544.jpg\n",
            "images/005.Crested_Auklet/Crested_Auklet_0021_1297094684.jpg\n",
            "images/005.Crested_Auklet/Crested_Auklet_0022_422144545.jpg\n",
            "images/005.Crested_Auklet/Crested_Auklet_0023_422144547.jpg\n",
            "images/005.Crested_Auklet/Crested_Auklet_0024_2676149281.jpg\n",
            "images/005.Crested_Auklet/Crested_Auklet_0025_2736445702.jpg\n",
            "images/004.Groove_billed_Ani/Groove_billed_Ani_0001_2380886537.jpg\n",
            "images/004.Groove_billed_Ani/Groove_billed_Ani_0002_3019980203.jpg\n",
            "images/004.Groove_billed_Ani/Groove_billed_Ani_0003_2153264926.jpg\n",
            "images/004.Groove_billed_Ani/Groove_billed_Ani_0004_408214560.jpg\n",
            "images/004.Groove_billed_Ani/Groove_billed_Ani_0005_2089136702.jpg\n",
            "images/004.Groove_billed_Ani/Groove_billed_Ani_0006_438867839.jpg\n",
            "images/004.Groove_billed_Ani/Groove_billed_Ani_0007_xxx.jpg\n",
            "images/004.Groove_billed_Ani/Groove_billed_Ani_0008_402320965.jpg\n",
            "images/004.Groove_billed_Ani/Groove_billed_Ani_0009_2244771762.jpg\n",
            "images/004.Groove_billed_Ani/Groove_billed_Ani_0010_396495151.jpg\n",
            "images/004.Groove_billed_Ani/Groove_billed_Ani_0011_2405873446.jpg\n",
            "images/004.Groove_billed_Ani/Groove_billed_Ani_0012_2410652192.jpg\n",
            "images/004.Groove_billed_Ani/Groove_billed_Ani_0013_3020033079.jpg\n",
            "images/004.Groove_billed_Ani/Groove_billed_Ani_0014_414112726.jpg\n",
            "images/004.Groove_billed_Ani/Groove_billed_Ani_0015_2292516990.jpg\n",
            "images/004.Groove_billed_Ani/Groove_billed_Ani_0016_59214488.jpg\n",
            "images/004.Groove_billed_Ani/Groove_billed_Ani_0017_2407127570.jpg\n",
            "images/004.Groove_billed_Ani/Groove_billed_Ani_0018_1231743571.jpg\n",
            "images/004.Groove_billed_Ani/Groove_billed_Ani_0019_2946094044.jpg\n",
            "images/004.Groove_billed_Ani/Groove_billed_Ani_0020_2751385203.jpg\n",
            "images/004.Groove_billed_Ani/Groove_billed_Ani_0021_483532445.jpg\n",
            "images/004.Groove_billed_Ani/Groove_billed_Ani_0022_335235776.jpg\n",
            "images/004.Groove_billed_Ani/Groove_billed_Ani_0023_2734926572.jpg\n",
            "images/004.Groove_billed_Ani/Groove_billed_Ani_0024_3001839411.jpg\n",
            "images/004.Groove_billed_Ani/Groove_billed_Ani_0025_1974827705.jpg\n",
            "images/004.Groove_billed_Ani/Groove_billed_Ani_0026_1343988315.jpg\n",
            "images/004.Groove_billed_Ani/Groove_billed_Ani_0027_1344877998.jpg\n",
            "images/004.Groove_billed_Ani/Groove_billed_Ani_0028_2744130539.jpg\n",
            "images/004.Groove_billed_Ani/Groove_billed_Ani_0029_2581745991.jpg\n",
            "images/004.Groove_billed_Ani/Groove_billed_Ani_0030_934123127.jpg\n",
            "images/004.Groove_billed_Ani/Groove_billed_Ani_0031_1974827729.jpg\n",
            "images/004.Groove_billed_Ani/Groove_billed_Ani_0032_2124354048.jpg\n",
            "images/004.Groove_billed_Ani/Groove_billed_Ani_0033_2267259581.jpg\n",
            "images/004.Groove_billed_Ani/Groove_billed_Ani_0034_1977446722.jpg\n",
            "images/004.Groove_billed_Ani/Groove_billed_Ani_0035_2950092492.jpg\n",
            "images/003.Sooty_Albatross/Sooty_Albatross_0001_389284737.jpg\n",
            "images/003.Sooty_Albatross/Sooty_Albatross_0002_1252238219.jpg\n",
            "images/003.Sooty_Albatross/Sooty_Albatross_0003_108955162.jpg\n",
            "images/003.Sooty_Albatross/Sooty_Albatross_0004_2470953514.jpg\n",
            "images/003.Sooty_Albatross/Sooty_Albatross_0005_340127050.jpg\n",
            "images/003.Sooty_Albatross/Sooty_Albatross_0006_1603871508.jpg\n",
            "images/003.Sooty_Albatross/Sooty_Albatross_0007_259334033.jpg\n",
            "images/003.Sooty_Albatross/Sooty_Albatross_0008_160778084.jpg\n",
            "images/003.Sooty_Albatross/Sooty_Albatross_0009_2162719616.jpg\n",
            "images/003.Sooty_Albatross/Sooty_Albatross_0010_496156144.jpg\n",
            "images/003.Sooty_Albatross/Sooty_Albatross_0011_686820175.jpg\n",
            "images/003.Sooty_Albatross/Sooty_Albatross_0012_687681084.jpg\n",
            "images/003.Sooty_Albatross/Sooty_Albatross_0013_496156286.jpg\n",
            "images/003.Sooty_Albatross/Sooty_Albatross_0014_496189445.jpg\n",
            "images/003.Sooty_Albatross/Sooty_Albatross_0015_496189203.jpg\n",
            "images/003.Sooty_Albatross/Sooty_Albatross_0016_391297429.jpg\n",
            "images/003.Sooty_Albatross/Sooty_Albatross_0017_391297426.jpg\n",
            "images/003.Sooty_Albatross/Sooty_Albatross_0018_25628557.jpg\n",
            "images/003.Sooty_Albatross/Sooty_Albatross_0019_xxx.jpg\n",
            "images/003.Sooty_Albatross/Sooty_Albatross_0020_2180373314.jpg\n",
            "images/003.Sooty_Albatross/Sooty_Albatross_0021_2753624466.jpg\n",
            "images/003.Sooty_Albatross/Sooty_Albatross_0022_2752780433.jpg\n",
            "images/003.Sooty_Albatross/Sooty_Albatross_0023_2752787561.jpg\n",
            "images/003.Sooty_Albatross/Sooty_Albatross_0024_626410517.jpg\n",
            "images/003.Sooty_Albatross/Sooty_Albatross_0025_2212587920.jpg\n",
            "images/003.Sooty_Albatross/Sooty_Albatross_0026_2204677331.jpg\n",
            "images/002.Laysan_Albatross/Laysan_Albatross_0001_2425112005.jpg\n",
            "images/002.Laysan_Albatross/Laysan_Albatross_0002_2761419017.jpg\n",
            "images/002.Laysan_Albatross/Laysan_Albatross_0003_2761419021.jpg\n",
            "images/002.Laysan_Albatross/Laysan_Albatross_0004_2433292776.jpg\n",
            "images/002.Laysan_Albatross/Laysan_Albatross_0005_2761419001.jpg\n",
            "images/002.Laysan_Albatross/Laysan_Albatross_0006_2761419007.jpg\n",
            "images/002.Laysan_Albatross/Laysan_Albatross_0007_2761419013.jpg\n",
            "images/002.Laysan_Albatross/Laysan_Albatross_0008_2425914750.jpg\n",
            "images/002.Laysan_Albatross/Laysan_Albatross_0009_2425096243.jpg\n",
            "images/002.Laysan_Albatross/Laysan_Albatross_0010_2303935067.jpg\n",
            "images/002.Laysan_Albatross/Laysan_Albatross_0011_2783435831.jpg\n",
            "images/002.Laysan_Albatross/Laysan_Albatross_0012_23046782.jpg\n",
            "images/002.Laysan_Albatross/Laysan_Albatross_0013_23046783.jpg\n",
            "images/002.Laysan_Albatross/Laysan_Albatross_0014_174432783.jpg\n",
            "images/002.Laysan_Albatross/Laysan_Albatross_0015_313326964.jpg\n",
            "images/002.Laysan_Albatross/Laysan_Albatross_0016_64734298.jpg\n",
            "images/002.Laysan_Albatross/Laysan_Albatross_0017_444229386.jpg\n",
            "images/002.Laysan_Albatross/Laysan_Albatross_0018_2755886291.jpg\n",
            "images/002.Laysan_Albatross/Laysan_Albatross_0019_2432472951.jpg\n",
            "images/002.Laysan_Albatross/Laysan_Albatross_0020_2797723167.jpg\n",
            "images/002.Laysan_Albatross/Laysan_Albatross_0021_2478333779.jpg\n",
            "images/002.Laysan_Albatross/Laysan_Albatross_0022_2447933734.jpg\n",
            "images/002.Laysan_Albatross/Laysan_Albatross_0023_2546398227.jpg\n",
            "images/002.Laysan_Albatross/Laysan_Albatross_0024_2547221176.jpg\n",
            "images/002.Laysan_Albatross/Laysan_Albatross_0025_2452556393.jpg\n",
            "images/002.Laysan_Albatross/Laysan_Albatross_0026_2443209541.jpg\n",
            "images/001.Black_footed_Albatross/Black_footed_Albatross_0001_2950163169.jpg\n",
            "images/001.Black_footed_Albatross/Black_footed_Albatross_0002_2293084168.jpg\n",
            "images/001.Black_footed_Albatross/Black_footed_Albatross_0003_2981373810.jpg\n",
            "images/001.Black_footed_Albatross/Black_footed_Albatross_0004_2731401028.jpg\n",
            "images/001.Black_footed_Albatross/Black_footed_Albatross_0005_2755588934.jpg\n",
            "images/001.Black_footed_Albatross/Black_footed_Albatross_0006_2928372528.jpg\n",
            "images/001.Black_footed_Albatross/Black_footed_Albatross_0007_2675126617.jpg\n",
            "images/001.Black_footed_Albatross/Black_footed_Albatross_0008_1384283201.jpg\n",
            "images/001.Black_footed_Albatross/Black_footed_Albatross_0009_2408326989.jpg\n",
            "images/001.Black_footed_Albatross/Black_footed_Albatross_0010_819241733.jpg\n",
            "images/001.Black_footed_Albatross/Black_footed_Albatross_0011_820118444.jpg\n",
            "images/001.Black_footed_Albatross/Black_footed_Albatross_0012_46852255.jpg\n",
            "images/001.Black_footed_Albatross/Black_footed_Albatross_0013_2445550421.jpg\n",
            "images/001.Black_footed_Albatross/Black_footed_Albatross_0014_2446379278.jpg\n",
            "images/001.Black_footed_Albatross/Black_footed_Albatross_0015_2446377484.jpg\n",
            "images/001.Black_footed_Albatross/Black_footed_Albatross_0016_2756723036.jpg\n",
            "images/001.Black_footed_Albatross/Black_footed_Albatross_0017_1256111444.jpg\n",
            "images/001.Black_footed_Albatross/Black_footed_Albatross_0018_2443206789.jpg\n",
            "images/001.Black_footed_Albatross/Black_footed_Albatross_0019_416160254.jpg\n",
            "images/001.Black_footed_Albatross/Black_footed_Albatross_0020_2790664591.jpg\n",
            "images/001.Black_footed_Albatross/Black_footed_Albatross_0021_2443213385.jpg\n",
            "images/001.Black_footed_Albatross/Black_footed_Albatross_0022_2790657121.jpg\n",
            "images/001.Black_footed_Albatross/Black_footed_Albatross_0023_2444044326.jpg\n",
            "images/001.Black_footed_Albatross/Black_footed_Albatross_0024_2444047518.jpg\n",
            "images/001.Black_footed_Albatross/Black_footed_Albatross_0025_2446371730.jpg\n",
            "images/001.Black_footed_Albatross/Black_footed_Albatross_0026_2445548469.jpg\n",
            "images/001.Black_footed_Albatross/Black_footed_Albatross_0027_2134388676.jpg\n",
            "images/001.Black_footed_Albatross/Black_footed_Albatross_0028_2801836036.jpg\n",
            "images/001.Black_footed_Albatross/Black_footed_Albatross_0029_2133609753.jpg\n",
            "images/001.Black_footed_Albatross/Black_footed_Albatross_0030_2444057668.jpg\n",
            "images/001.Black_footed_Albatross/Black_footed_Albatross_0031_2445546631.jpg\n",
            "images/001.Black_footed_Albatross/Black_footed_Albatross_0032_1465369016.jpg\n",
            "images/001.Black_footed_Albatross/Black_footed_Albatross_0033_2472109427.jpg\n",
            "images/001.Black_footed_Albatross/Black_footed_Albatross_0034_2134386992.jpg\n",
            "images/001.Black_footed_Albatross/Black_footed_Albatross_0035_1357619035.jpg\n",
            "images/001.Black_footed_Albatross/Black_footed_Albatross_0036_2444863345.jpg\n"
          ]
        }
      ],
      "source": [
        "# Download the CUB dataset\n",
        "!bash scripts/download_CUB.sh"
      ]
    },
    {
      "cell_type": "code",
      "execution_count": 6,
      "metadata": {
        "colab": {
          "base_uri": "https://localhost:8080/"
        },
        "id": "3kYxNc4tqno7",
        "outputId": "535b61ec-af98-4bb8-b8dc-b28b9f90c247",
        "pycharm": {
          "name": "#%%\n"
        }
      },
      "outputs": [
        {
          "name": "stderr",
          "output_type": "stream",
          "text": [
            "/usr/local/lib/python3.7/dist-packages/torch/utils/data/dataloader.py:566: UserWarning: This DataLoader will create 12 worker processes in total. Our suggested max number of worker in current system is 2, which is smaller than what this DataLoader is going to create. Please be aware that excessive worker creation might get DataLoader running slow or even freeze, lower the worker number to avoid potential slowness/freeze if necessary.\n",
            "  cpuset_checked))\n"
          ]
        }
      ],
      "source": [
        "from easyfsl.datasets import CUB\n",
        "from torch.utils.data import DataLoader\n",
        "\n",
        "batch_size = 128\n",
        "n_workers = 12\n",
        "\n",
        "train_set = CUB(split=\"train\", training=True)\n",
        "train_loader = DataLoader(\n",
        "    train_set,\n",
        "    batch_size=batch_size,\n",
        "    num_workers=n_workers,\n",
        "    pin_memory=True,\n",
        "    shuffle=True,\n",
        ")"
      ]
    },
    {
      "cell_type": "markdown",
      "metadata": {
        "id": "G09f8Rkiqno8"
      },
      "source": [
        "Now, we are going to create the model that we want to train. Here we choose the ResNet12 that is very often used in Few-Shot Learning research. Note that the default setting of these networks in EasyFSL is to not have a last fully connected layer (as it is usual for most Few-Shot Learning methods), but for classical training we need this layer! We also force it to output a vector which size is the number of different classes in the training set."
      ]
    },
    {
      "cell_type": "code",
      "execution_count": 7,
      "metadata": {
        "id": "-zNE9ffbqnpA",
        "pycharm": {
          "name": "#%%\n"
        }
      },
      "outputs": [],
      "source": [
        "from easyfsl.modules import resnet12\n",
        "\n",
        "DEVICE = \"cuda\"\n",
        "\n",
        "model = resnet12(\n",
        "    use_fc=True,\n",
        "    num_classes=len(set(train_set.get_labels())),\n",
        ").to(DEVICE)"
      ]
    },
    {
      "cell_type": "markdown",
      "metadata": {
        "id": "5uP_qztRqnpB"
      },
      "source": [
        "Now, we still need validation ! Since we're training a model to perform few-shot classification, we will validate on few-shot tasks, so now we'll use the `TaskSampler`. We arbitrarily set the shape of the validation tasks. Ideally, you'd like to perform validation on various shapes of tasks, but we didn't implement this yet (feel free to contribute!).\n",
        "\n",
        "We also need to define the few-shot classification method that we will use during validation of the neural network we're training.\n",
        "Here we choose Prototypical Networks, because it's simple and efficient, but this is still an arbitrary choice."
      ]
    },
    {
      "cell_type": "code",
      "execution_count": 8,
      "metadata": {
        "id": "DrUD75fEqnpC",
        "pycharm": {
          "name": "#%%\n"
        }
      },
      "outputs": [],
      "source": [
        "from easyfsl.methods import PrototypicalNetworks\n",
        "from easyfsl.samplers import TaskSampler\n",
        "\n",
        "n_way = 5\n",
        "n_shot = 5\n",
        "n_query = 10\n",
        "n_validation_tasks = 500\n",
        "\n",
        "val_set = CUB(split=\"val\", training=False)\n",
        "val_sampler = TaskSampler(\n",
        "    val_set, n_way=n_way, n_shot=n_shot, n_query=n_query, n_tasks=n_validation_tasks\n",
        ")\n",
        "val_loader = DataLoader(\n",
        "    val_set,\n",
        "    batch_sampler=val_sampler,\n",
        "    num_workers=n_workers,\n",
        "    pin_memory=True,\n",
        "    collate_fn=val_sampler.episodic_collate_fn,\n",
        ")\n",
        "\n",
        "few_shot_classifier = PrototypicalNetworks(model).to(DEVICE)"
      ]
    },
    {
      "cell_type": "markdown",
      "metadata": {
        "id": "8DSkTh4zqnpD"
      },
      "source": [
        "## Training\n",
        "\n",
        "Now let's define our training helpers ! I chose to use Stochastic Gradient Descent on 200 epochs with a scheduler that divides the learning rate by 10 after 120 and 160 epochs. The strategy is derived from [this repo](https://github.com/fiveai/on-episodes-fsl).\n",
        "\n",
        "We're also gonna use a TensorBoard because it's always good to see what your training curves look like.\n",
        "\n",
        "An other thing: we're doing 200 epochs like in [the episodic training notebook](notebooks/episodic_training.ipynb), but keep in mind that an epoch in classical training means one pass through the 6000 images of the dataset, while in episodic training it's an arbitrary number of episodes. In the episodic training notebook an epoch is 500 episodes of 5-way, 5-shot, 10-query tasks, so 37500 images. TL;DR you may want to monitor your training and increase the number of epochs if necessary."
      ]
    },
    {
      "cell_type": "code",
      "execution_count": 9,
      "metadata": {
        "id": "59DHe5LBqnpE",
        "pycharm": {
          "name": "#%%\n"
        }
      },
      "outputs": [],
      "source": [
        "from torch.optim import SGD, Optimizer\n",
        "from torch.optim.lr_scheduler import MultiStepLR\n",
        "from torch.utils.tensorboard import SummaryWriter\n",
        "\n",
        "\n",
        "LOSS_FUNCTION = nn.CrossEntropyLoss()\n",
        "\n",
        "n_epochs = 200\n",
        "scheduler_milestones = [150, 180]\n",
        "scheduler_gamma = 0.1\n",
        "learning_rate = 1e-01\n",
        "tb_logs_dir = Path(\".\")\n",
        "\n",
        "train_optimizer = SGD(\n",
        "    model.parameters(), lr=learning_rate, momentum=0.9, weight_decay=5e-4\n",
        ")\n",
        "train_scheduler = MultiStepLR(\n",
        "    train_optimizer,\n",
        "    milestones=scheduler_milestones,\n",
        "    gamma=scheduler_gamma,\n",
        ")\n",
        "\n",
        "tb_writer = SummaryWriter(log_dir=str(tb_logs_dir))"
      ]
    },
    {
      "cell_type": "markdown",
      "metadata": {
        "id": "3RgyjdOUqnpF"
      },
      "source": [
        "And now let's get to it! Here we define the function that performs a training epoch.\n",
        "\n",
        "We use tqdm to monitor the training in real time in our logs."
      ]
    },
    {
      "cell_type": "code",
      "execution_count": 10,
      "metadata": {
        "id": "NxMeTTCwqnpF",
        "pycharm": {
          "name": "#%%\n"
        }
      },
      "outputs": [],
      "source": [
        "def training_epoch(model_: nn.Module, data_loader: DataLoader, optimizer: Optimizer):\n",
        "    all_loss = []\n",
        "    model_.train()\n",
        "    with tqdm(data_loader, total=len(data_loader), desc=\"Training\") as tqdm_train:\n",
        "        for images, labels in tqdm_train:\n",
        "            optimizer.zero_grad()\n",
        "\n",
        "            loss = LOSS_FUNCTION(model_(images.to(DEVICE)), labels.to(DEVICE))\n",
        "            loss.backward()\n",
        "            optimizer.step()\n",
        "\n",
        "            all_loss.append(loss.item())\n",
        "\n",
        "            tqdm_train.set_postfix(loss=mean(all_loss))\n",
        "\n",
        "    return mean(all_loss)"
      ]
    },
    {
      "cell_type": "markdown",
      "metadata": {
        "id": "y1P6GlRAqnpG"
      },
      "source": [
        "And we have everything we need! This is now the time to **start training**.\n",
        "\n",
        "A few notes:\n",
        "\n",
        "- We only validate every 10 epochs (you may set an even less frequent validation) because a training epoch is much faster than 500 few-shot tasks, and we don't want validation to be the bottleneck of our training process.\n",
        "\n",
        "- I also added something to log the state of the model that gave the best performance on the validation set."
      ]
    },
    {
      "cell_type": "code",
      "execution_count": 11,
      "metadata": {
        "colab": {
          "base_uri": "https://localhost:8080/"
        },
        "id": "QEm3sKqPqnpG",
        "outputId": "19cf14de-d076-46fb-cd60-4b2e722bff24",
        "pycharm": {
          "name": "#%%\n"
        }
      },
      "outputs": [
        {
          "name": "stdout",
          "output_type": "stream",
          "text": [
            "Epoch 0\n"
          ]
        },
        {
          "name": "stderr",
          "output_type": "stream",
          "text": [
            "\rTraining:   0%|          | 0/34 [00:00<?, ?it/s]/usr/local/lib/python3.7/dist-packages/torch/utils/data/dataloader.py:566: UserWarning: This DataLoader will create 12 worker processes in total. Our suggested max number of worker in current system is 2, which is smaller than what this DataLoader is going to create. Please be aware that excessive worker creation might get DataLoader running slow or even freeze, lower the worker number to avoid potential slowness/freeze if necessary.\n",
            "  cpuset_checked))\n",
            "Training: 100%|██████████| 34/34 [00:52<00:00,  1.53s/it, loss=5.06]\n"
          ]
        },
        {
          "name": "stdout",
          "output_type": "stream",
          "text": [
            "Epoch 1\n"
          ]
        },
        {
          "name": "stderr",
          "output_type": "stream",
          "text": [
            "Training: 100%|██████████| 34/34 [00:37<00:00,  1.11s/it, loss=4.79]\n"
          ]
        },
        {
          "name": "stdout",
          "output_type": "stream",
          "text": [
            "Epoch 2\n"
          ]
        },
        {
          "name": "stderr",
          "output_type": "stream",
          "text": [
            "Training: 100%|██████████| 34/34 [00:38<00:00,  1.14s/it, loss=4.66]\n"
          ]
        },
        {
          "name": "stdout",
          "output_type": "stream",
          "text": [
            "Epoch 3\n"
          ]
        },
        {
          "name": "stderr",
          "output_type": "stream",
          "text": [
            "Training: 100%|██████████| 34/34 [00:38<00:00,  1.13s/it, loss=4.62]\n"
          ]
        },
        {
          "name": "stdout",
          "output_type": "stream",
          "text": [
            "Epoch 4\n"
          ]
        },
        {
          "name": "stderr",
          "output_type": "stream",
          "text": [
            "Training: 100%|██████████| 34/34 [00:38<00:00,  1.13s/it, loss=4.57]\n"
          ]
        },
        {
          "name": "stdout",
          "output_type": "stream",
          "text": [
            "Epoch 5\n"
          ]
        },
        {
          "name": "stderr",
          "output_type": "stream",
          "text": [
            "Training: 100%|██████████| 34/34 [00:38<00:00,  1.13s/it, loss=4.53]\n"
          ]
        },
        {
          "name": "stdout",
          "output_type": "stream",
          "text": [
            "Epoch 6\n"
          ]
        },
        {
          "name": "stderr",
          "output_type": "stream",
          "text": [
            "Training: 100%|██████████| 34/34 [00:38<00:00,  1.14s/it, loss=4.51]\n"
          ]
        },
        {
          "name": "stdout",
          "output_type": "stream",
          "text": [
            "Epoch 7\n"
          ]
        },
        {
          "name": "stderr",
          "output_type": "stream",
          "text": [
            "Training: 100%|██████████| 34/34 [00:38<00:00,  1.14s/it, loss=4.48]\n"
          ]
        },
        {
          "name": "stdout",
          "output_type": "stream",
          "text": [
            "Epoch 8\n"
          ]
        },
        {
          "name": "stderr",
          "output_type": "stream",
          "text": [
            "Training: 100%|██████████| 34/34 [00:38<00:00,  1.14s/it, loss=4.45]\n"
          ]
        },
        {
          "name": "stdout",
          "output_type": "stream",
          "text": [
            "Epoch 9\n"
          ]
        },
        {
          "name": "stderr",
          "output_type": "stream",
          "text": [
            "Training: 100%|██████████| 34/34 [00:38<00:00,  1.14s/it, loss=4.4]\n",
            "Validation: 100%|██████████| 500/500 [02:59<00:00,  2.78it/s, accuracy=0.408]\n"
          ]
        },
        {
          "name": "stdout",
          "output_type": "stream",
          "text": [
            "Ding ding ding! We found a new best model!\n",
            "Epoch 10\n"
          ]
        },
        {
          "name": "stderr",
          "output_type": "stream",
          "text": [
            "Training: 100%|██████████| 34/34 [00:38<00:00,  1.13s/it, loss=4.38]\n"
          ]
        },
        {
          "name": "stdout",
          "output_type": "stream",
          "text": [
            "Epoch 11\n"
          ]
        },
        {
          "name": "stderr",
          "output_type": "stream",
          "text": [
            "Training: 100%|██████████| 34/34 [00:37<00:00,  1.12s/it, loss=4.32]\n"
          ]
        },
        {
          "name": "stdout",
          "output_type": "stream",
          "text": [
            "Epoch 12\n"
          ]
        },
        {
          "name": "stderr",
          "output_type": "stream",
          "text": [
            "Training: 100%|██████████| 34/34 [00:38<00:00,  1.13s/it, loss=4.32]\n"
          ]
        },
        {
          "name": "stdout",
          "output_type": "stream",
          "text": [
            "Epoch 13\n"
          ]
        },
        {
          "name": "stderr",
          "output_type": "stream",
          "text": [
            "Training: 100%|██████████| 34/34 [00:38<00:00,  1.13s/it, loss=4.29]\n"
          ]
        },
        {
          "name": "stdout",
          "output_type": "stream",
          "text": [
            "Epoch 14\n"
          ]
        },
        {
          "name": "stderr",
          "output_type": "stream",
          "text": [
            "Training: 100%|██████████| 34/34 [00:38<00:00,  1.14s/it, loss=4.23]\n"
          ]
        },
        {
          "name": "stdout",
          "output_type": "stream",
          "text": [
            "Epoch 15\n"
          ]
        },
        {
          "name": "stderr",
          "output_type": "stream",
          "text": [
            "Training: 100%|██████████| 34/34 [00:38<00:00,  1.14s/it, loss=4.19]\n"
          ]
        },
        {
          "name": "stdout",
          "output_type": "stream",
          "text": [
            "Epoch 16\n"
          ]
        },
        {
          "name": "stderr",
          "output_type": "stream",
          "text": [
            "Training: 100%|██████████| 34/34 [00:38<00:00,  1.13s/it, loss=4.15]\n"
          ]
        },
        {
          "name": "stdout",
          "output_type": "stream",
          "text": [
            "Epoch 17\n"
          ]
        },
        {
          "name": "stderr",
          "output_type": "stream",
          "text": [
            "Training: 100%|██████████| 34/34 [00:38<00:00,  1.14s/it, loss=4.13]\n"
          ]
        },
        {
          "name": "stdout",
          "output_type": "stream",
          "text": [
            "Epoch 18\n"
          ]
        },
        {
          "name": "stderr",
          "output_type": "stream",
          "text": [
            "Training: 100%|██████████| 34/34 [00:38<00:00,  1.14s/it, loss=4.1]\n"
          ]
        },
        {
          "name": "stdout",
          "output_type": "stream",
          "text": [
            "Epoch 19\n"
          ]
        },
        {
          "name": "stderr",
          "output_type": "stream",
          "text": [
            "Training: 100%|██████████| 34/34 [00:38<00:00,  1.13s/it, loss=4.06]\n",
            "Validation: 100%|██████████| 500/500 [02:59<00:00,  2.79it/s, accuracy=0.492]\n"
          ]
        },
        {
          "name": "stdout",
          "output_type": "stream",
          "text": [
            "Ding ding ding! We found a new best model!\n",
            "Epoch 20\n"
          ]
        },
        {
          "name": "stderr",
          "output_type": "stream",
          "text": [
            "Training: 100%|██████████| 34/34 [00:38<00:00,  1.14s/it, loss=3.98]\n"
          ]
        },
        {
          "name": "stdout",
          "output_type": "stream",
          "text": [
            "Epoch 21\n"
          ]
        },
        {
          "name": "stderr",
          "output_type": "stream",
          "text": [
            "Training: 100%|██████████| 34/34 [00:38<00:00,  1.12s/it, loss=3.95]\n"
          ]
        },
        {
          "name": "stdout",
          "output_type": "stream",
          "text": [
            "Epoch 22\n"
          ]
        },
        {
          "name": "stderr",
          "output_type": "stream",
          "text": [
            "Training: 100%|██████████| 34/34 [00:38<00:00,  1.13s/it, loss=3.9]\n"
          ]
        },
        {
          "name": "stdout",
          "output_type": "stream",
          "text": [
            "Epoch 23\n"
          ]
        },
        {
          "name": "stderr",
          "output_type": "stream",
          "text": [
            "Training: 100%|██████████| 34/34 [00:38<00:00,  1.14s/it, loss=3.84]\n"
          ]
        },
        {
          "name": "stdout",
          "output_type": "stream",
          "text": [
            "Epoch 24\n"
          ]
        },
        {
          "name": "stderr",
          "output_type": "stream",
          "text": [
            "Training: 100%|██████████| 34/34 [00:38<00:00,  1.14s/it, loss=3.81]\n"
          ]
        },
        {
          "name": "stdout",
          "output_type": "stream",
          "text": [
            "Epoch 25\n"
          ]
        },
        {
          "name": "stderr",
          "output_type": "stream",
          "text": [
            "Training: 100%|██████████| 34/34 [00:40<00:00,  1.19s/it, loss=3.74]\n"
          ]
        },
        {
          "name": "stdout",
          "output_type": "stream",
          "text": [
            "Epoch 26\n"
          ]
        },
        {
          "name": "stderr",
          "output_type": "stream",
          "text": [
            "Training: 100%|██████████| 34/34 [00:40<00:00,  1.19s/it, loss=3.74]\n"
          ]
        },
        {
          "name": "stdout",
          "output_type": "stream",
          "text": [
            "Epoch 27\n"
          ]
        },
        {
          "name": "stderr",
          "output_type": "stream",
          "text": [
            "Training: 100%|██████████| 34/34 [00:40<00:00,  1.19s/it, loss=3.7]\n"
          ]
        },
        {
          "name": "stdout",
          "output_type": "stream",
          "text": [
            "Epoch 28\n"
          ]
        },
        {
          "name": "stderr",
          "output_type": "stream",
          "text": [
            "Training: 100%|██████████| 34/34 [00:38<00:00,  1.14s/it, loss=3.61]\n"
          ]
        },
        {
          "name": "stdout",
          "output_type": "stream",
          "text": [
            "Epoch 29\n"
          ]
        },
        {
          "name": "stderr",
          "output_type": "stream",
          "text": [
            "Training: 100%|██████████| 34/34 [00:38<00:00,  1.14s/it, loss=3.58]\n",
            "Validation: 100%|██████████| 500/500 [02:58<00:00,  2.80it/s, accuracy=0.565]\n"
          ]
        },
        {
          "name": "stdout",
          "output_type": "stream",
          "text": [
            "Ding ding ding! We found a new best model!\n",
            "Epoch 30\n"
          ]
        },
        {
          "name": "stderr",
          "output_type": "stream",
          "text": [
            "Training: 100%|██████████| 34/34 [00:38<00:00,  1.14s/it, loss=3.51]\n"
          ]
        },
        {
          "name": "stdout",
          "output_type": "stream",
          "text": [
            "Epoch 31\n"
          ]
        },
        {
          "name": "stderr",
          "output_type": "stream",
          "text": [
            "Training: 100%|██████████| 34/34 [00:38<00:00,  1.13s/it, loss=3.47]\n"
          ]
        },
        {
          "name": "stdout",
          "output_type": "stream",
          "text": [
            "Epoch 32\n"
          ]
        },
        {
          "name": "stderr",
          "output_type": "stream",
          "text": [
            "Training: 100%|██████████| 34/34 [00:38<00:00,  1.13s/it, loss=3.39]\n"
          ]
        },
        {
          "name": "stdout",
          "output_type": "stream",
          "text": [
            "Epoch 33\n"
          ]
        },
        {
          "name": "stderr",
          "output_type": "stream",
          "text": [
            "Training: 100%|██████████| 34/34 [00:38<00:00,  1.13s/it, loss=3.38]\n"
          ]
        },
        {
          "name": "stdout",
          "output_type": "stream",
          "text": [
            "Epoch 34\n"
          ]
        },
        {
          "name": "stderr",
          "output_type": "stream",
          "text": [
            "Training: 100%|██████████| 34/34 [00:38<00:00,  1.14s/it, loss=3.32]\n"
          ]
        },
        {
          "name": "stdout",
          "output_type": "stream",
          "text": [
            "Epoch 35\n"
          ]
        },
        {
          "name": "stderr",
          "output_type": "stream",
          "text": [
            "Training: 100%|██████████| 34/34 [00:38<00:00,  1.13s/it, loss=3.29]\n"
          ]
        },
        {
          "name": "stdout",
          "output_type": "stream",
          "text": [
            "Epoch 36\n"
          ]
        },
        {
          "name": "stderr",
          "output_type": "stream",
          "text": [
            "Training: 100%|██████████| 34/34 [00:38<00:00,  1.12s/it, loss=3.23]\n"
          ]
        },
        {
          "name": "stdout",
          "output_type": "stream",
          "text": [
            "Epoch 37\n"
          ]
        },
        {
          "name": "stderr",
          "output_type": "stream",
          "text": [
            "Training: 100%|██████████| 34/34 [00:38<00:00,  1.13s/it, loss=3.22]\n"
          ]
        },
        {
          "name": "stdout",
          "output_type": "stream",
          "text": [
            "Epoch 38\n"
          ]
        },
        {
          "name": "stderr",
          "output_type": "stream",
          "text": [
            "Training: 100%|██████████| 34/34 [00:38<00:00,  1.15s/it, loss=3.13]\n"
          ]
        },
        {
          "name": "stdout",
          "output_type": "stream",
          "text": [
            "Epoch 39\n"
          ]
        },
        {
          "name": "stderr",
          "output_type": "stream",
          "text": [
            "Training: 100%|██████████| 34/34 [00:38<00:00,  1.12s/it, loss=3.12]\n",
            "Validation: 100%|██████████| 500/500 [02:57<00:00,  2.81it/s, accuracy=0.646]\n"
          ]
        },
        {
          "name": "stdout",
          "output_type": "stream",
          "text": [
            "Ding ding ding! We found a new best model!\n",
            "Epoch 40\n"
          ]
        },
        {
          "name": "stderr",
          "output_type": "stream",
          "text": [
            "Training: 100%|██████████| 34/34 [00:38<00:00,  1.14s/it, loss=3]\n"
          ]
        },
        {
          "name": "stdout",
          "output_type": "stream",
          "text": [
            "Epoch 41\n"
          ]
        },
        {
          "name": "stderr",
          "output_type": "stream",
          "text": [
            "Training: 100%|██████████| 34/34 [00:38<00:00,  1.14s/it, loss=3.02]\n"
          ]
        },
        {
          "name": "stdout",
          "output_type": "stream",
          "text": [
            "Epoch 42\n"
          ]
        },
        {
          "name": "stderr",
          "output_type": "stream",
          "text": [
            "Training: 100%|██████████| 34/34 [00:38<00:00,  1.13s/it, loss=2.97]\n"
          ]
        },
        {
          "name": "stdout",
          "output_type": "stream",
          "text": [
            "Epoch 43\n"
          ]
        },
        {
          "name": "stderr",
          "output_type": "stream",
          "text": [
            "Training: 100%|██████████| 34/34 [00:37<00:00,  1.11s/it, loss=2.87]\n"
          ]
        },
        {
          "name": "stdout",
          "output_type": "stream",
          "text": [
            "Epoch 44\n"
          ]
        },
        {
          "name": "stderr",
          "output_type": "stream",
          "text": [
            "Training: 100%|██████████| 34/34 [00:38<00:00,  1.12s/it, loss=2.82]\n"
          ]
        },
        {
          "name": "stdout",
          "output_type": "stream",
          "text": [
            "Epoch 45\n"
          ]
        },
        {
          "name": "stderr",
          "output_type": "stream",
          "text": [
            "Training: 100%|██████████| 34/34 [00:38<00:00,  1.13s/it, loss=2.83]\n"
          ]
        },
        {
          "name": "stdout",
          "output_type": "stream",
          "text": [
            "Epoch 46\n"
          ]
        },
        {
          "name": "stderr",
          "output_type": "stream",
          "text": [
            "Training: 100%|██████████| 34/34 [00:38<00:00,  1.13s/it, loss=2.76]\n"
          ]
        },
        {
          "name": "stdout",
          "output_type": "stream",
          "text": [
            "Epoch 47\n"
          ]
        },
        {
          "name": "stderr",
          "output_type": "stream",
          "text": [
            "Training: 100%|██████████| 34/34 [00:38<00:00,  1.14s/it, loss=2.7]\n"
          ]
        },
        {
          "name": "stdout",
          "output_type": "stream",
          "text": [
            "Epoch 48\n"
          ]
        },
        {
          "name": "stderr",
          "output_type": "stream",
          "text": [
            "Training: 100%|██████████| 34/34 [00:38<00:00,  1.13s/it, loss=2.64]\n"
          ]
        },
        {
          "name": "stdout",
          "output_type": "stream",
          "text": [
            "Epoch 49\n"
          ]
        },
        {
          "name": "stderr",
          "output_type": "stream",
          "text": [
            "Training: 100%|██████████| 34/34 [00:38<00:00,  1.13s/it, loss=2.57]\n",
            "Validation: 100%|██████████| 500/500 [02:58<00:00,  2.80it/s, accuracy=0.658]\n"
          ]
        },
        {
          "name": "stdout",
          "output_type": "stream",
          "text": [
            "Ding ding ding! We found a new best model!\n",
            "Epoch 50\n"
          ]
        },
        {
          "name": "stderr",
          "output_type": "stream",
          "text": [
            "Training: 100%|██████████| 34/34 [00:38<00:00,  1.13s/it, loss=2.58]\n"
          ]
        },
        {
          "name": "stdout",
          "output_type": "stream",
          "text": [
            "Epoch 51\n"
          ]
        },
        {
          "name": "stderr",
          "output_type": "stream",
          "text": [
            "Training: 100%|██████████| 34/34 [00:37<00:00,  1.10s/it, loss=2.5]\n"
          ]
        },
        {
          "name": "stdout",
          "output_type": "stream",
          "text": [
            "Epoch 52\n"
          ]
        },
        {
          "name": "stderr",
          "output_type": "stream",
          "text": [
            "Training: 100%|██████████| 34/34 [00:37<00:00,  1.11s/it, loss=2.5]\n"
          ]
        },
        {
          "name": "stdout",
          "output_type": "stream",
          "text": [
            "Epoch 53\n"
          ]
        },
        {
          "name": "stderr",
          "output_type": "stream",
          "text": [
            "Training: 100%|██████████| 34/34 [00:37<00:00,  1.10s/it, loss=2.49]\n"
          ]
        },
        {
          "name": "stdout",
          "output_type": "stream",
          "text": [
            "Epoch 54\n"
          ]
        },
        {
          "name": "stderr",
          "output_type": "stream",
          "text": [
            "Training: 100%|██████████| 34/34 [00:37<00:00,  1.10s/it, loss=2.41]\n"
          ]
        },
        {
          "name": "stdout",
          "output_type": "stream",
          "text": [
            "Epoch 55\n"
          ]
        },
        {
          "name": "stderr",
          "output_type": "stream",
          "text": [
            "Training: 100%|██████████| 34/34 [00:37<00:00,  1.09s/it, loss=2.38]\n"
          ]
        },
        {
          "name": "stdout",
          "output_type": "stream",
          "text": [
            "Epoch 56\n"
          ]
        },
        {
          "name": "stderr",
          "output_type": "stream",
          "text": [
            "Training: 100%|██████████| 34/34 [00:37<00:00,  1.09s/it, loss=2.29]\n"
          ]
        },
        {
          "name": "stdout",
          "output_type": "stream",
          "text": [
            "Epoch 57\n"
          ]
        },
        {
          "name": "stderr",
          "output_type": "stream",
          "text": [
            "Training: 100%|██████████| 34/34 [00:37<00:00,  1.10s/it, loss=2.25]\n"
          ]
        },
        {
          "name": "stdout",
          "output_type": "stream",
          "text": [
            "Epoch 58\n"
          ]
        },
        {
          "name": "stderr",
          "output_type": "stream",
          "text": [
            "Training: 100%|██████████| 34/34 [00:36<00:00,  1.09s/it, loss=2.22]\n"
          ]
        },
        {
          "name": "stdout",
          "output_type": "stream",
          "text": [
            "Epoch 59\n"
          ]
        },
        {
          "name": "stderr",
          "output_type": "stream",
          "text": [
            "Training: 100%|██████████| 34/34 [00:37<00:00,  1.10s/it, loss=2.22]\n",
            "Validation: 100%|██████████| 500/500 [02:56<00:00,  2.84it/s, accuracy=0.671]\n"
          ]
        },
        {
          "name": "stdout",
          "output_type": "stream",
          "text": [
            "Ding ding ding! We found a new best model!\n",
            "Epoch 60\n"
          ]
        },
        {
          "name": "stderr",
          "output_type": "stream",
          "text": [
            "Training: 100%|██████████| 34/34 [00:36<00:00,  1.07s/it, loss=2.18]\n"
          ]
        },
        {
          "name": "stdout",
          "output_type": "stream",
          "text": [
            "Epoch 61\n"
          ]
        },
        {
          "name": "stderr",
          "output_type": "stream",
          "text": [
            "Training: 100%|██████████| 34/34 [00:36<00:00,  1.08s/it, loss=2.12]\n"
          ]
        },
        {
          "name": "stdout",
          "output_type": "stream",
          "text": [
            "Epoch 62\n"
          ]
        },
        {
          "name": "stderr",
          "output_type": "stream",
          "text": [
            "Training: 100%|██████████| 34/34 [00:36<00:00,  1.08s/it, loss=2.15]\n"
          ]
        },
        {
          "name": "stdout",
          "output_type": "stream",
          "text": [
            "Epoch 63\n"
          ]
        },
        {
          "name": "stderr",
          "output_type": "stream",
          "text": [
            "Training: 100%|██████████| 34/34 [00:37<00:00,  1.09s/it, loss=2.1]\n"
          ]
        },
        {
          "name": "stdout",
          "output_type": "stream",
          "text": [
            "Epoch 64\n"
          ]
        },
        {
          "name": "stderr",
          "output_type": "stream",
          "text": [
            "Training: 100%|██████████| 34/34 [00:36<00:00,  1.09s/it, loss=2.09]\n"
          ]
        },
        {
          "name": "stdout",
          "output_type": "stream",
          "text": [
            "Epoch 65\n"
          ]
        },
        {
          "name": "stderr",
          "output_type": "stream",
          "text": [
            "Training: 100%|██████████| 34/34 [00:36<00:00,  1.09s/it, loss=2.01]\n"
          ]
        },
        {
          "name": "stdout",
          "output_type": "stream",
          "text": [
            "Epoch 66\n"
          ]
        },
        {
          "name": "stderr",
          "output_type": "stream",
          "text": [
            "Training: 100%|██████████| 34/34 [00:36<00:00,  1.08s/it, loss=2.02]\n"
          ]
        },
        {
          "name": "stdout",
          "output_type": "stream",
          "text": [
            "Epoch 67\n"
          ]
        },
        {
          "name": "stderr",
          "output_type": "stream",
          "text": [
            "Training: 100%|██████████| 34/34 [00:37<00:00,  1.09s/it, loss=1.96]\n"
          ]
        },
        {
          "name": "stdout",
          "output_type": "stream",
          "text": [
            "Epoch 68\n"
          ]
        },
        {
          "name": "stderr",
          "output_type": "stream",
          "text": [
            "Training: 100%|██████████| 34/34 [00:37<00:00,  1.09s/it, loss=1.93]\n"
          ]
        },
        {
          "name": "stdout",
          "output_type": "stream",
          "text": [
            "Epoch 69\n"
          ]
        },
        {
          "name": "stderr",
          "output_type": "stream",
          "text": [
            "Training: 100%|██████████| 34/34 [00:37<00:00,  1.10s/it, loss=1.91]\n",
            "Validation: 100%|██████████| 500/500 [02:57<00:00,  2.81it/s, accuracy=0.7]\n"
          ]
        },
        {
          "name": "stdout",
          "output_type": "stream",
          "text": [
            "Ding ding ding! We found a new best model!\n",
            "Epoch 70\n"
          ]
        },
        {
          "name": "stderr",
          "output_type": "stream",
          "text": [
            "Training: 100%|██████████| 34/34 [00:36<00:00,  1.07s/it, loss=1.88]\n"
          ]
        },
        {
          "name": "stdout",
          "output_type": "stream",
          "text": [
            "Epoch 71\n"
          ]
        },
        {
          "name": "stderr",
          "output_type": "stream",
          "text": [
            "Training: 100%|██████████| 34/34 [00:36<00:00,  1.07s/it, loss=1.78]\n"
          ]
        },
        {
          "name": "stdout",
          "output_type": "stream",
          "text": [
            "Epoch 72\n"
          ]
        },
        {
          "name": "stderr",
          "output_type": "stream",
          "text": [
            "Training: 100%|██████████| 34/34 [00:36<00:00,  1.07s/it, loss=1.8]\n"
          ]
        },
        {
          "name": "stdout",
          "output_type": "stream",
          "text": [
            "Epoch 73\n"
          ]
        },
        {
          "name": "stderr",
          "output_type": "stream",
          "text": [
            "Training: 100%|██████████| 34/34 [00:36<00:00,  1.08s/it, loss=1.74]\n"
          ]
        },
        {
          "name": "stdout",
          "output_type": "stream",
          "text": [
            "Epoch 74\n"
          ]
        },
        {
          "name": "stderr",
          "output_type": "stream",
          "text": [
            "Training: 100%|██████████| 34/34 [00:37<00:00,  1.09s/it, loss=1.78]\n"
          ]
        },
        {
          "name": "stdout",
          "output_type": "stream",
          "text": [
            "Epoch 75\n"
          ]
        },
        {
          "name": "stderr",
          "output_type": "stream",
          "text": [
            "Training: 100%|██████████| 34/34 [00:36<00:00,  1.08s/it, loss=1.71]\n"
          ]
        },
        {
          "name": "stdout",
          "output_type": "stream",
          "text": [
            "Epoch 76\n"
          ]
        },
        {
          "name": "stderr",
          "output_type": "stream",
          "text": [
            "Training: 100%|██████████| 34/34 [00:37<00:00,  1.10s/it, loss=1.76]\n"
          ]
        },
        {
          "name": "stdout",
          "output_type": "stream",
          "text": [
            "Epoch 77\n"
          ]
        },
        {
          "name": "stderr",
          "output_type": "stream",
          "text": [
            "Training: 100%|██████████| 34/34 [00:37<00:00,  1.09s/it, loss=1.63]\n"
          ]
        },
        {
          "name": "stdout",
          "output_type": "stream",
          "text": [
            "Epoch 78\n"
          ]
        },
        {
          "name": "stderr",
          "output_type": "stream",
          "text": [
            "Training: 100%|██████████| 34/34 [00:37<00:00,  1.10s/it, loss=1.62]\n"
          ]
        },
        {
          "name": "stdout",
          "output_type": "stream",
          "text": [
            "Epoch 79\n"
          ]
        },
        {
          "name": "stderr",
          "output_type": "stream",
          "text": [
            "Training: 100%|██████████| 34/34 [00:36<00:00,  1.09s/it, loss=1.64]\n",
            "Validation: 100%|██████████| 500/500 [02:56<00:00,  2.83it/s, accuracy=0.694]\n"
          ]
        },
        {
          "name": "stdout",
          "output_type": "stream",
          "text": [
            "Epoch 80\n"
          ]
        },
        {
          "name": "stderr",
          "output_type": "stream",
          "text": [
            "Training: 100%|██████████| 34/34 [00:36<00:00,  1.06s/it, loss=1.65]\n"
          ]
        },
        {
          "name": "stdout",
          "output_type": "stream",
          "text": [
            "Epoch 81\n"
          ]
        },
        {
          "name": "stderr",
          "output_type": "stream",
          "text": [
            "Training: 100%|██████████| 34/34 [00:36<00:00,  1.07s/it, loss=1.54]\n"
          ]
        },
        {
          "name": "stdout",
          "output_type": "stream",
          "text": [
            "Epoch 82\n"
          ]
        },
        {
          "name": "stderr",
          "output_type": "stream",
          "text": [
            "Training: 100%|██████████| 34/34 [00:36<00:00,  1.09s/it, loss=1.52]\n"
          ]
        },
        {
          "name": "stdout",
          "output_type": "stream",
          "text": [
            "Epoch 83\n"
          ]
        },
        {
          "name": "stderr",
          "output_type": "stream",
          "text": [
            "Training: 100%|██████████| 34/34 [00:36<00:00,  1.08s/it, loss=1.46]\n"
          ]
        },
        {
          "name": "stdout",
          "output_type": "stream",
          "text": [
            "Epoch 84\n"
          ]
        },
        {
          "name": "stderr",
          "output_type": "stream",
          "text": [
            "Training: 100%|██████████| 34/34 [00:36<00:00,  1.08s/it, loss=1.45]\n"
          ]
        },
        {
          "name": "stdout",
          "output_type": "stream",
          "text": [
            "Epoch 85\n"
          ]
        },
        {
          "name": "stderr",
          "output_type": "stream",
          "text": [
            "Training: 100%|██████████| 34/34 [00:36<00:00,  1.08s/it, loss=1.45]\n"
          ]
        },
        {
          "name": "stdout",
          "output_type": "stream",
          "text": [
            "Epoch 86\n"
          ]
        },
        {
          "name": "stderr",
          "output_type": "stream",
          "text": [
            "Training: 100%|██████████| 34/34 [00:36<00:00,  1.08s/it, loss=1.45]\n"
          ]
        },
        {
          "name": "stdout",
          "output_type": "stream",
          "text": [
            "Epoch 87\n"
          ]
        },
        {
          "name": "stderr",
          "output_type": "stream",
          "text": [
            "Training: 100%|██████████| 34/34 [00:37<00:00,  1.09s/it, loss=1.43]\n"
          ]
        },
        {
          "name": "stdout",
          "output_type": "stream",
          "text": [
            "Epoch 88\n"
          ]
        },
        {
          "name": "stderr",
          "output_type": "stream",
          "text": [
            "Training: 100%|██████████| 34/34 [00:36<00:00,  1.09s/it, loss=1.46]\n"
          ]
        },
        {
          "name": "stdout",
          "output_type": "stream",
          "text": [
            "Epoch 89\n"
          ]
        },
        {
          "name": "stderr",
          "output_type": "stream",
          "text": [
            "Training: 100%|██████████| 34/34 [00:37<00:00,  1.10s/it, loss=1.44]\n",
            "Validation: 100%|██████████| 500/500 [02:57<00:00,  2.81it/s, accuracy=0.728]\n"
          ]
        },
        {
          "name": "stdout",
          "output_type": "stream",
          "text": [
            "Ding ding ding! We found a new best model!\n",
            "Epoch 90\n"
          ]
        },
        {
          "name": "stderr",
          "output_type": "stream",
          "text": [
            "Training: 100%|██████████| 34/34 [00:36<00:00,  1.07s/it, loss=1.49]\n"
          ]
        },
        {
          "name": "stdout",
          "output_type": "stream",
          "text": [
            "Epoch 91\n"
          ]
        },
        {
          "name": "stderr",
          "output_type": "stream",
          "text": [
            "Training: 100%|██████████| 34/34 [00:36<00:00,  1.09s/it, loss=1.47]\n"
          ]
        },
        {
          "name": "stdout",
          "output_type": "stream",
          "text": [
            "Epoch 92\n"
          ]
        },
        {
          "name": "stderr",
          "output_type": "stream",
          "text": [
            "Training: 100%|██████████| 34/34 [00:36<00:00,  1.08s/it, loss=1.38]\n"
          ]
        },
        {
          "name": "stdout",
          "output_type": "stream",
          "text": [
            "Epoch 93\n"
          ]
        },
        {
          "name": "stderr",
          "output_type": "stream",
          "text": [
            "Training: 100%|██████████| 34/34 [00:37<00:00,  1.09s/it, loss=1.35]\n"
          ]
        },
        {
          "name": "stdout",
          "output_type": "stream",
          "text": [
            "Epoch 94\n"
          ]
        },
        {
          "name": "stderr",
          "output_type": "stream",
          "text": [
            "Training: 100%|██████████| 34/34 [00:36<00:00,  1.08s/it, loss=1.3]\n"
          ]
        },
        {
          "name": "stdout",
          "output_type": "stream",
          "text": [
            "Epoch 95\n"
          ]
        },
        {
          "name": "stderr",
          "output_type": "stream",
          "text": [
            "Training: 100%|██████████| 34/34 [00:36<00:00,  1.08s/it, loss=1.33]\n"
          ]
        },
        {
          "name": "stdout",
          "output_type": "stream",
          "text": [
            "Epoch 96\n"
          ]
        },
        {
          "name": "stderr",
          "output_type": "stream",
          "text": [
            "Training: 100%|██████████| 34/34 [00:36<00:00,  1.09s/it, loss=1.34]\n"
          ]
        },
        {
          "name": "stdout",
          "output_type": "stream",
          "text": [
            "Epoch 97\n"
          ]
        },
        {
          "name": "stderr",
          "output_type": "stream",
          "text": [
            "Training: 100%|██████████| 34/34 [00:37<00:00,  1.10s/it, loss=1.27]\n"
          ]
        },
        {
          "name": "stdout",
          "output_type": "stream",
          "text": [
            "Epoch 98\n"
          ]
        },
        {
          "name": "stderr",
          "output_type": "stream",
          "text": [
            "Training: 100%|██████████| 34/34 [00:37<00:00,  1.11s/it, loss=1.22]\n"
          ]
        },
        {
          "name": "stdout",
          "output_type": "stream",
          "text": [
            "Epoch 99\n"
          ]
        },
        {
          "name": "stderr",
          "output_type": "stream",
          "text": [
            "Training: 100%|██████████| 34/34 [00:38<00:00,  1.13s/it, loss=1.3]\n",
            "Validation: 100%|██████████| 500/500 [02:58<00:00,  2.80it/s, accuracy=0.723]\n"
          ]
        },
        {
          "name": "stdout",
          "output_type": "stream",
          "text": [
            "Epoch 100\n"
          ]
        },
        {
          "name": "stderr",
          "output_type": "stream",
          "text": [
            "Training: 100%|██████████| 34/34 [00:38<00:00,  1.14s/it, loss=1.29]\n"
          ]
        },
        {
          "name": "stdout",
          "output_type": "stream",
          "text": [
            "Epoch 101\n"
          ]
        },
        {
          "name": "stderr",
          "output_type": "stream",
          "text": [
            "Training: 100%|██████████| 34/34 [00:37<00:00,  1.11s/it, loss=1.22]\n"
          ]
        },
        {
          "name": "stdout",
          "output_type": "stream",
          "text": [
            "Epoch 102\n"
          ]
        },
        {
          "name": "stderr",
          "output_type": "stream",
          "text": [
            "Training: 100%|██████████| 34/34 [00:38<00:00,  1.13s/it, loss=1.19]\n"
          ]
        },
        {
          "name": "stdout",
          "output_type": "stream",
          "text": [
            "Epoch 103\n"
          ]
        },
        {
          "name": "stderr",
          "output_type": "stream",
          "text": [
            "Training: 100%|██████████| 34/34 [00:38<00:00,  1.13s/it, loss=1.15]\n"
          ]
        },
        {
          "name": "stdout",
          "output_type": "stream",
          "text": [
            "Epoch 104\n"
          ]
        },
        {
          "name": "stderr",
          "output_type": "stream",
          "text": [
            "Training: 100%|██████████| 34/34 [00:38<00:00,  1.13s/it, loss=1.2]\n"
          ]
        },
        {
          "name": "stdout",
          "output_type": "stream",
          "text": [
            "Epoch 105\n"
          ]
        },
        {
          "name": "stderr",
          "output_type": "stream",
          "text": [
            "Training: 100%|██████████| 34/34 [00:38<00:00,  1.12s/it, loss=1.15]\n"
          ]
        },
        {
          "name": "stdout",
          "output_type": "stream",
          "text": [
            "Epoch 106\n"
          ]
        },
        {
          "name": "stderr",
          "output_type": "stream",
          "text": [
            "Training: 100%|██████████| 34/34 [00:38<00:00,  1.13s/it, loss=1.16]\n"
          ]
        },
        {
          "name": "stdout",
          "output_type": "stream",
          "text": [
            "Epoch 107\n"
          ]
        },
        {
          "name": "stderr",
          "output_type": "stream",
          "text": [
            "Training: 100%|██████████| 34/34 [00:38<00:00,  1.12s/it, loss=1.16]\n"
          ]
        },
        {
          "name": "stdout",
          "output_type": "stream",
          "text": [
            "Epoch 108\n"
          ]
        },
        {
          "name": "stderr",
          "output_type": "stream",
          "text": [
            "Training: 100%|██████████| 34/34 [00:37<00:00,  1.11s/it, loss=1.13]\n"
          ]
        },
        {
          "name": "stdout",
          "output_type": "stream",
          "text": [
            "Epoch 109\n"
          ]
        },
        {
          "name": "stderr",
          "output_type": "stream",
          "text": [
            "Training: 100%|██████████| 34/34 [00:37<00:00,  1.11s/it, loss=1.12]\n",
            "Validation: 100%|██████████| 500/500 [02:58<00:00,  2.81it/s, accuracy=0.739]\n"
          ]
        },
        {
          "name": "stdout",
          "output_type": "stream",
          "text": [
            "Ding ding ding! We found a new best model!\n",
            "Epoch 110\n"
          ]
        },
        {
          "name": "stderr",
          "output_type": "stream",
          "text": [
            "Training: 100%|██████████| 34/34 [00:36<00:00,  1.07s/it, loss=1.12]\n"
          ]
        },
        {
          "name": "stdout",
          "output_type": "stream",
          "text": [
            "Epoch 111\n"
          ]
        },
        {
          "name": "stderr",
          "output_type": "stream",
          "text": [
            "Training: 100%|██████████| 34/34 [00:36<00:00,  1.08s/it, loss=1.12]\n"
          ]
        },
        {
          "name": "stdout",
          "output_type": "stream",
          "text": [
            "Epoch 112\n"
          ]
        },
        {
          "name": "stderr",
          "output_type": "stream",
          "text": [
            "Training: 100%|██████████| 34/34 [00:37<00:00,  1.09s/it, loss=1.07]\n"
          ]
        },
        {
          "name": "stdout",
          "output_type": "stream",
          "text": [
            "Epoch 113\n"
          ]
        },
        {
          "name": "stderr",
          "output_type": "stream",
          "text": [
            "Training: 100%|██████████| 34/34 [00:37<00:00,  1.09s/it, loss=1.06]\n"
          ]
        },
        {
          "name": "stdout",
          "output_type": "stream",
          "text": [
            "Epoch 114\n"
          ]
        },
        {
          "name": "stderr",
          "output_type": "stream",
          "text": [
            "Training: 100%|██████████| 34/34 [00:37<00:00,  1.09s/it, loss=1.05]\n"
          ]
        },
        {
          "name": "stdout",
          "output_type": "stream",
          "text": [
            "Epoch 115\n"
          ]
        },
        {
          "name": "stderr",
          "output_type": "stream",
          "text": [
            "Training: 100%|██████████| 34/34 [00:37<00:00,  1.09s/it, loss=1.05]\n"
          ]
        },
        {
          "name": "stdout",
          "output_type": "stream",
          "text": [
            "Epoch 116\n"
          ]
        },
        {
          "name": "stderr",
          "output_type": "stream",
          "text": [
            "Training: 100%|██████████| 34/34 [00:36<00:00,  1.09s/it, loss=1.05]\n"
          ]
        },
        {
          "name": "stdout",
          "output_type": "stream",
          "text": [
            "Epoch 117\n"
          ]
        },
        {
          "name": "stderr",
          "output_type": "stream",
          "text": [
            "Training: 100%|██████████| 34/34 [00:37<00:00,  1.09s/it, loss=1.05]\n"
          ]
        },
        {
          "name": "stdout",
          "output_type": "stream",
          "text": [
            "Epoch 118\n"
          ]
        },
        {
          "name": "stderr",
          "output_type": "stream",
          "text": [
            "Training: 100%|██████████| 34/34 [00:37<00:00,  1.10s/it, loss=1.08]\n"
          ]
        },
        {
          "name": "stdout",
          "output_type": "stream",
          "text": [
            "Epoch 119\n"
          ]
        },
        {
          "name": "stderr",
          "output_type": "stream",
          "text": [
            "Training: 100%|██████████| 34/34 [00:37<00:00,  1.09s/it, loss=1.07]\n",
            "Validation: 100%|██████████| 500/500 [02:57<00:00,  2.82it/s, accuracy=0.697]\n"
          ]
        },
        {
          "name": "stdout",
          "output_type": "stream",
          "text": [
            "Epoch 120\n"
          ]
        },
        {
          "name": "stderr",
          "output_type": "stream",
          "text": [
            "Training: 100%|██████████| 34/34 [00:36<00:00,  1.07s/it, loss=1.04]\n"
          ]
        },
        {
          "name": "stdout",
          "output_type": "stream",
          "text": [
            "Epoch 121\n"
          ]
        },
        {
          "name": "stderr",
          "output_type": "stream",
          "text": [
            "Training: 100%|██████████| 34/34 [00:36<00:00,  1.08s/it, loss=1.06]\n"
          ]
        },
        {
          "name": "stdout",
          "output_type": "stream",
          "text": [
            "Epoch 122\n"
          ]
        },
        {
          "name": "stderr",
          "output_type": "stream",
          "text": [
            "Training: 100%|██████████| 34/34 [00:36<00:00,  1.07s/it, loss=1.05]\n"
          ]
        },
        {
          "name": "stdout",
          "output_type": "stream",
          "text": [
            "Epoch 123\n"
          ]
        },
        {
          "name": "stderr",
          "output_type": "stream",
          "text": [
            "Training: 100%|██████████| 34/34 [00:37<00:00,  1.10s/it, loss=1.01]\n"
          ]
        },
        {
          "name": "stdout",
          "output_type": "stream",
          "text": [
            "Epoch 124\n"
          ]
        },
        {
          "name": "stderr",
          "output_type": "stream",
          "text": [
            "Training: 100%|██████████| 34/34 [00:37<00:00,  1.10s/it, loss=0.983]\n"
          ]
        },
        {
          "name": "stdout",
          "output_type": "stream",
          "text": [
            "Epoch 125\n"
          ]
        },
        {
          "name": "stderr",
          "output_type": "stream",
          "text": [
            "Training: 100%|██████████| 34/34 [00:36<00:00,  1.08s/it, loss=0.955]\n"
          ]
        },
        {
          "name": "stdout",
          "output_type": "stream",
          "text": [
            "Epoch 126\n"
          ]
        },
        {
          "name": "stderr",
          "output_type": "stream",
          "text": [
            "Training: 100%|██████████| 34/34 [00:37<00:00,  1.09s/it, loss=0.974]\n"
          ]
        },
        {
          "name": "stdout",
          "output_type": "stream",
          "text": [
            "Epoch 127\n"
          ]
        },
        {
          "name": "stderr",
          "output_type": "stream",
          "text": [
            "Training: 100%|██████████| 34/34 [00:36<00:00,  1.09s/it, loss=1.01]\n"
          ]
        },
        {
          "name": "stdout",
          "output_type": "stream",
          "text": [
            "Epoch 128\n"
          ]
        },
        {
          "name": "stderr",
          "output_type": "stream",
          "text": [
            "Training: 100%|██████████| 34/34 [00:37<00:00,  1.10s/it, loss=0.908]\n"
          ]
        },
        {
          "name": "stdout",
          "output_type": "stream",
          "text": [
            "Epoch 129\n"
          ]
        },
        {
          "name": "stderr",
          "output_type": "stream",
          "text": [
            "Training: 100%|██████████| 34/34 [00:36<00:00,  1.09s/it, loss=0.908]\n",
            "Validation: 100%|██████████| 500/500 [02:57<00:00,  2.82it/s, accuracy=0.725]\n"
          ]
        },
        {
          "name": "stdout",
          "output_type": "stream",
          "text": [
            "Epoch 130\n"
          ]
        },
        {
          "name": "stderr",
          "output_type": "stream",
          "text": [
            "Training: 100%|██████████| 34/34 [00:36<00:00,  1.07s/it, loss=0.926]\n"
          ]
        },
        {
          "name": "stdout",
          "output_type": "stream",
          "text": [
            "Epoch 131\n"
          ]
        },
        {
          "name": "stderr",
          "output_type": "stream",
          "text": [
            "Training: 100%|██████████| 34/34 [00:36<00:00,  1.08s/it, loss=0.945]\n"
          ]
        },
        {
          "name": "stdout",
          "output_type": "stream",
          "text": [
            "Epoch 132\n"
          ]
        },
        {
          "name": "stderr",
          "output_type": "stream",
          "text": [
            "Training: 100%|██████████| 34/34 [00:36<00:00,  1.08s/it, loss=0.979]\n"
          ]
        },
        {
          "name": "stdout",
          "output_type": "stream",
          "text": [
            "Epoch 133\n"
          ]
        },
        {
          "name": "stderr",
          "output_type": "stream",
          "text": [
            "Training: 100%|██████████| 34/34 [00:37<00:00,  1.09s/it, loss=0.972]\n"
          ]
        },
        {
          "name": "stdout",
          "output_type": "stream",
          "text": [
            "Epoch 134\n"
          ]
        },
        {
          "name": "stderr",
          "output_type": "stream",
          "text": [
            "Training: 100%|██████████| 34/34 [00:37<00:00,  1.09s/it, loss=0.981]\n"
          ]
        },
        {
          "name": "stdout",
          "output_type": "stream",
          "text": [
            "Epoch 135\n"
          ]
        },
        {
          "name": "stderr",
          "output_type": "stream",
          "text": [
            "Training: 100%|██████████| 34/34 [00:36<00:00,  1.08s/it, loss=0.98]\n"
          ]
        },
        {
          "name": "stdout",
          "output_type": "stream",
          "text": [
            "Epoch 136\n"
          ]
        },
        {
          "name": "stderr",
          "output_type": "stream",
          "text": [
            "Training: 100%|██████████| 34/34 [00:36<00:00,  1.09s/it, loss=0.94]\n"
          ]
        },
        {
          "name": "stdout",
          "output_type": "stream",
          "text": [
            "Epoch 137\n"
          ]
        },
        {
          "name": "stderr",
          "output_type": "stream",
          "text": [
            "Training: 100%|██████████| 34/34 [00:36<00:00,  1.08s/it, loss=0.894]\n"
          ]
        },
        {
          "name": "stdout",
          "output_type": "stream",
          "text": [
            "Epoch 138\n"
          ]
        },
        {
          "name": "stderr",
          "output_type": "stream",
          "text": [
            "Training: 100%|██████████| 34/34 [00:37<00:00,  1.09s/it, loss=0.924]\n"
          ]
        },
        {
          "name": "stdout",
          "output_type": "stream",
          "text": [
            "Epoch 139\n"
          ]
        },
        {
          "name": "stderr",
          "output_type": "stream",
          "text": [
            "Training: 100%|██████████| 34/34 [00:36<00:00,  1.08s/it, loss=0.859]\n",
            "Validation: 100%|██████████| 500/500 [02:57<00:00,  2.81it/s, accuracy=0.715]\n"
          ]
        },
        {
          "name": "stdout",
          "output_type": "stream",
          "text": [
            "Epoch 140\n"
          ]
        },
        {
          "name": "stderr",
          "output_type": "stream",
          "text": [
            "Training: 100%|██████████| 34/34 [00:36<00:00,  1.08s/it, loss=0.867]\n"
          ]
        },
        {
          "name": "stdout",
          "output_type": "stream",
          "text": [
            "Epoch 141\n"
          ]
        },
        {
          "name": "stderr",
          "output_type": "stream",
          "text": [
            "Training: 100%|██████████| 34/34 [00:36<00:00,  1.08s/it, loss=0.974]\n"
          ]
        },
        {
          "name": "stdout",
          "output_type": "stream",
          "text": [
            "Epoch 142\n"
          ]
        },
        {
          "name": "stderr",
          "output_type": "stream",
          "text": [
            "Training: 100%|██████████| 34/34 [00:36<00:00,  1.09s/it, loss=0.973]\n"
          ]
        },
        {
          "name": "stdout",
          "output_type": "stream",
          "text": [
            "Epoch 143\n"
          ]
        },
        {
          "name": "stderr",
          "output_type": "stream",
          "text": [
            "Training: 100%|██████████| 34/34 [00:36<00:00,  1.09s/it, loss=0.858]\n"
          ]
        },
        {
          "name": "stdout",
          "output_type": "stream",
          "text": [
            "Epoch 144\n"
          ]
        },
        {
          "name": "stderr",
          "output_type": "stream",
          "text": [
            "Training: 100%|██████████| 34/34 [00:36<00:00,  1.09s/it, loss=0.872]\n"
          ]
        },
        {
          "name": "stdout",
          "output_type": "stream",
          "text": [
            "Epoch 145\n"
          ]
        },
        {
          "name": "stderr",
          "output_type": "stream",
          "text": [
            "Training: 100%|██████████| 34/34 [00:36<00:00,  1.09s/it, loss=0.865]\n"
          ]
        },
        {
          "name": "stdout",
          "output_type": "stream",
          "text": [
            "Epoch 146\n"
          ]
        },
        {
          "name": "stderr",
          "output_type": "stream",
          "text": [
            "Training: 100%|██████████| 34/34 [00:38<00:00,  1.12s/it, loss=0.853]\n"
          ]
        },
        {
          "name": "stdout",
          "output_type": "stream",
          "text": [
            "Epoch 147\n"
          ]
        },
        {
          "name": "stderr",
          "output_type": "stream",
          "text": [
            "Training: 100%|██████████| 34/34 [00:38<00:00,  1.13s/it, loss=0.879]\n"
          ]
        },
        {
          "name": "stdout",
          "output_type": "stream",
          "text": [
            "Epoch 148\n"
          ]
        },
        {
          "name": "stderr",
          "output_type": "stream",
          "text": [
            "Training: 100%|██████████| 34/34 [00:38<00:00,  1.12s/it, loss=0.921]\n"
          ]
        },
        {
          "name": "stdout",
          "output_type": "stream",
          "text": [
            "Epoch 149\n"
          ]
        },
        {
          "name": "stderr",
          "output_type": "stream",
          "text": [
            "Training: 100%|██████████| 34/34 [00:38<00:00,  1.13s/it, loss=0.881]\n",
            "Validation: 100%|██████████| 500/500 [02:57<00:00,  2.82it/s, accuracy=0.729]\n"
          ]
        },
        {
          "name": "stdout",
          "output_type": "stream",
          "text": [
            "Epoch 150\n"
          ]
        },
        {
          "name": "stderr",
          "output_type": "stream",
          "text": [
            "Training: 100%|██████████| 34/34 [00:38<00:00,  1.14s/it, loss=0.679]\n"
          ]
        },
        {
          "name": "stdout",
          "output_type": "stream",
          "text": [
            "Epoch 151\n"
          ]
        },
        {
          "name": "stderr",
          "output_type": "stream",
          "text": [
            "Training: 100%|██████████| 34/34 [00:38<00:00,  1.13s/it, loss=0.506]\n"
          ]
        },
        {
          "name": "stdout",
          "output_type": "stream",
          "text": [
            "Epoch 152\n"
          ]
        },
        {
          "name": "stderr",
          "output_type": "stream",
          "text": [
            "Training: 100%|██████████| 34/34 [00:38<00:00,  1.13s/it, loss=0.504]\n"
          ]
        },
        {
          "name": "stdout",
          "output_type": "stream",
          "text": [
            "Epoch 153\n"
          ]
        },
        {
          "name": "stderr",
          "output_type": "stream",
          "text": [
            "Training: 100%|██████████| 34/34 [00:38<00:00,  1.12s/it, loss=0.473]\n"
          ]
        },
        {
          "name": "stdout",
          "output_type": "stream",
          "text": [
            "Epoch 154\n"
          ]
        },
        {
          "name": "stderr",
          "output_type": "stream",
          "text": [
            "Training: 100%|██████████| 34/34 [00:38<00:00,  1.13s/it, loss=0.415]\n"
          ]
        },
        {
          "name": "stdout",
          "output_type": "stream",
          "text": [
            "Epoch 155\n"
          ]
        },
        {
          "name": "stderr",
          "output_type": "stream",
          "text": [
            "Training: 100%|██████████| 34/34 [00:38<00:00,  1.12s/it, loss=0.407]\n"
          ]
        },
        {
          "name": "stdout",
          "output_type": "stream",
          "text": [
            "Epoch 156\n"
          ]
        },
        {
          "name": "stderr",
          "output_type": "stream",
          "text": [
            "Training: 100%|██████████| 34/34 [00:38<00:00,  1.12s/it, loss=0.429]\n"
          ]
        },
        {
          "name": "stdout",
          "output_type": "stream",
          "text": [
            "Epoch 157\n"
          ]
        },
        {
          "name": "stderr",
          "output_type": "stream",
          "text": [
            "Training: 100%|██████████| 34/34 [00:38<00:00,  1.12s/it, loss=0.413]\n"
          ]
        },
        {
          "name": "stdout",
          "output_type": "stream",
          "text": [
            "Epoch 158\n"
          ]
        },
        {
          "name": "stderr",
          "output_type": "stream",
          "text": [
            "Training: 100%|██████████| 34/34 [00:38<00:00,  1.13s/it, loss=0.4]\n"
          ]
        },
        {
          "name": "stdout",
          "output_type": "stream",
          "text": [
            "Epoch 159\n"
          ]
        },
        {
          "name": "stderr",
          "output_type": "stream",
          "text": [
            "Training: 100%|██████████| 34/34 [00:37<00:00,  1.11s/it, loss=0.421]\n",
            "Validation: 100%|██████████| 500/500 [02:57<00:00,  2.82it/s, accuracy=0.751]\n"
          ]
        },
        {
          "name": "stdout",
          "output_type": "stream",
          "text": [
            "Ding ding ding! We found a new best model!\n",
            "Epoch 160\n"
          ]
        },
        {
          "name": "stderr",
          "output_type": "stream",
          "text": [
            "Training: 100%|██████████| 34/34 [00:38<00:00,  1.13s/it, loss=0.368]\n"
          ]
        },
        {
          "name": "stdout",
          "output_type": "stream",
          "text": [
            "Epoch 161\n"
          ]
        },
        {
          "name": "stderr",
          "output_type": "stream",
          "text": [
            "Training: 100%|██████████| 34/34 [00:37<00:00,  1.12s/it, loss=0.381]\n"
          ]
        },
        {
          "name": "stdout",
          "output_type": "stream",
          "text": [
            "Epoch 162\n"
          ]
        },
        {
          "name": "stderr",
          "output_type": "stream",
          "text": [
            "Training: 100%|██████████| 34/34 [00:38<00:00,  1.12s/it, loss=0.39]\n"
          ]
        },
        {
          "name": "stdout",
          "output_type": "stream",
          "text": [
            "Epoch 163\n"
          ]
        },
        {
          "name": "stderr",
          "output_type": "stream",
          "text": [
            "Training: 100%|██████████| 34/34 [00:38<00:00,  1.12s/it, loss=0.351]\n"
          ]
        },
        {
          "name": "stdout",
          "output_type": "stream",
          "text": [
            "Epoch 164\n"
          ]
        },
        {
          "name": "stderr",
          "output_type": "stream",
          "text": [
            "Training: 100%|██████████| 34/34 [00:37<00:00,  1.12s/it, loss=0.392]\n"
          ]
        },
        {
          "name": "stdout",
          "output_type": "stream",
          "text": [
            "Epoch 165\n"
          ]
        },
        {
          "name": "stderr",
          "output_type": "stream",
          "text": [
            "Training: 100%|██████████| 34/34 [00:38<00:00,  1.13s/it, loss=0.371]\n"
          ]
        },
        {
          "name": "stdout",
          "output_type": "stream",
          "text": [
            "Epoch 166\n"
          ]
        },
        {
          "name": "stderr",
          "output_type": "stream",
          "text": [
            "Training: 100%|██████████| 34/34 [00:38<00:00,  1.13s/it, loss=0.349]\n"
          ]
        },
        {
          "name": "stdout",
          "output_type": "stream",
          "text": [
            "Epoch 167\n"
          ]
        },
        {
          "name": "stderr",
          "output_type": "stream",
          "text": [
            "Training: 100%|██████████| 34/34 [00:38<00:00,  1.12s/it, loss=0.371]\n"
          ]
        },
        {
          "name": "stdout",
          "output_type": "stream",
          "text": [
            "Epoch 168\n"
          ]
        },
        {
          "name": "stderr",
          "output_type": "stream",
          "text": [
            "Training: 100%|██████████| 34/34 [00:38<00:00,  1.12s/it, loss=0.346]\n"
          ]
        },
        {
          "name": "stdout",
          "output_type": "stream",
          "text": [
            "Epoch 169\n"
          ]
        },
        {
          "name": "stderr",
          "output_type": "stream",
          "text": [
            "Training: 100%|██████████| 34/34 [00:38<00:00,  1.13s/it, loss=0.34]\n",
            "Validation: 100%|██████████| 500/500 [02:57<00:00,  2.82it/s, accuracy=0.736]\n"
          ]
        },
        {
          "name": "stdout",
          "output_type": "stream",
          "text": [
            "Epoch 170\n"
          ]
        },
        {
          "name": "stderr",
          "output_type": "stream",
          "text": [
            "Training: 100%|██████████| 34/34 [00:38<00:00,  1.13s/it, loss=0.348]\n"
          ]
        },
        {
          "name": "stdout",
          "output_type": "stream",
          "text": [
            "Epoch 171\n"
          ]
        },
        {
          "name": "stderr",
          "output_type": "stream",
          "text": [
            "Training: 100%|██████████| 34/34 [00:38<00:00,  1.12s/it, loss=0.367]\n"
          ]
        },
        {
          "name": "stdout",
          "output_type": "stream",
          "text": [
            "Epoch 172\n"
          ]
        },
        {
          "name": "stderr",
          "output_type": "stream",
          "text": [
            "Training: 100%|██████████| 34/34 [00:38<00:00,  1.13s/it, loss=0.338]\n"
          ]
        },
        {
          "name": "stdout",
          "output_type": "stream",
          "text": [
            "Epoch 173\n"
          ]
        },
        {
          "name": "stderr",
          "output_type": "stream",
          "text": [
            "Training: 100%|██████████| 34/34 [00:38<00:00,  1.14s/it, loss=0.335]\n"
          ]
        },
        {
          "name": "stdout",
          "output_type": "stream",
          "text": [
            "Epoch 174\n"
          ]
        },
        {
          "name": "stderr",
          "output_type": "stream",
          "text": [
            "Training: 100%|██████████| 34/34 [00:37<00:00,  1.11s/it, loss=0.362]\n"
          ]
        },
        {
          "name": "stdout",
          "output_type": "stream",
          "text": [
            "Epoch 175\n"
          ]
        },
        {
          "name": "stderr",
          "output_type": "stream",
          "text": [
            "Training: 100%|██████████| 34/34 [00:38<00:00,  1.12s/it, loss=0.328]\n"
          ]
        },
        {
          "name": "stdout",
          "output_type": "stream",
          "text": [
            "Epoch 176\n"
          ]
        },
        {
          "name": "stderr",
          "output_type": "stream",
          "text": [
            "Training: 100%|██████████| 34/34 [00:38<00:00,  1.12s/it, loss=0.334]\n"
          ]
        },
        {
          "name": "stdout",
          "output_type": "stream",
          "text": [
            "Epoch 177\n"
          ]
        },
        {
          "name": "stderr",
          "output_type": "stream",
          "text": [
            "Training: 100%|██████████| 34/34 [00:37<00:00,  1.11s/it, loss=0.308]\n"
          ]
        },
        {
          "name": "stdout",
          "output_type": "stream",
          "text": [
            "Epoch 178\n"
          ]
        },
        {
          "name": "stderr",
          "output_type": "stream",
          "text": [
            "Training: 100%|██████████| 34/34 [00:38<00:00,  1.12s/it, loss=0.329]\n"
          ]
        },
        {
          "name": "stdout",
          "output_type": "stream",
          "text": [
            "Epoch 179\n"
          ]
        },
        {
          "name": "stderr",
          "output_type": "stream",
          "text": [
            "Training: 100%|██████████| 34/34 [00:38<00:00,  1.13s/it, loss=0.304]\n",
            "Validation: 100%|██████████| 500/500 [02:57<00:00,  2.82it/s, accuracy=0.748]\n"
          ]
        },
        {
          "name": "stdout",
          "output_type": "stream",
          "text": [
            "Epoch 180\n"
          ]
        },
        {
          "name": "stderr",
          "output_type": "stream",
          "text": [
            "Training: 100%|██████████| 34/34 [00:38<00:00,  1.13s/it, loss=0.334]\n"
          ]
        },
        {
          "name": "stdout",
          "output_type": "stream",
          "text": [
            "Epoch 181\n"
          ]
        },
        {
          "name": "stderr",
          "output_type": "stream",
          "text": [
            "Training: 100%|██████████| 34/34 [00:38<00:00,  1.12s/it, loss=0.288]\n"
          ]
        },
        {
          "name": "stdout",
          "output_type": "stream",
          "text": [
            "Epoch 182\n"
          ]
        },
        {
          "name": "stderr",
          "output_type": "stream",
          "text": [
            "Training: 100%|██████████| 34/34 [00:37<00:00,  1.12s/it, loss=0.317]\n"
          ]
        },
        {
          "name": "stdout",
          "output_type": "stream",
          "text": [
            "Epoch 183\n"
          ]
        },
        {
          "name": "stderr",
          "output_type": "stream",
          "text": [
            "Training: 100%|██████████| 34/34 [00:38<00:00,  1.12s/it, loss=0.295]\n"
          ]
        },
        {
          "name": "stdout",
          "output_type": "stream",
          "text": [
            "Epoch 184\n"
          ]
        },
        {
          "name": "stderr",
          "output_type": "stream",
          "text": [
            "Training: 100%|██████████| 34/34 [00:38<00:00,  1.13s/it, loss=0.325]\n"
          ]
        },
        {
          "name": "stdout",
          "output_type": "stream",
          "text": [
            "Epoch 185\n"
          ]
        },
        {
          "name": "stderr",
          "output_type": "stream",
          "text": [
            "Training: 100%|██████████| 34/34 [00:38<00:00,  1.13s/it, loss=0.291]\n"
          ]
        },
        {
          "name": "stdout",
          "output_type": "stream",
          "text": [
            "Epoch 186\n"
          ]
        },
        {
          "name": "stderr",
          "output_type": "stream",
          "text": [
            "Training: 100%|██████████| 34/34 [00:38<00:00,  1.12s/it, loss=0.311]\n"
          ]
        },
        {
          "name": "stdout",
          "output_type": "stream",
          "text": [
            "Epoch 187\n"
          ]
        },
        {
          "name": "stderr",
          "output_type": "stream",
          "text": [
            "Training: 100%|██████████| 34/34 [00:38<00:00,  1.12s/it, loss=0.315]\n"
          ]
        },
        {
          "name": "stdout",
          "output_type": "stream",
          "text": [
            "Epoch 188\n"
          ]
        },
        {
          "name": "stderr",
          "output_type": "stream",
          "text": [
            "Training: 100%|██████████| 34/34 [00:38<00:00,  1.12s/it, loss=0.289]\n"
          ]
        },
        {
          "name": "stdout",
          "output_type": "stream",
          "text": [
            "Epoch 189\n"
          ]
        },
        {
          "name": "stderr",
          "output_type": "stream",
          "text": [
            "Training: 100%|██████████| 34/34 [00:38<00:00,  1.12s/it, loss=0.316]\n",
            "Validation: 100%|██████████| 500/500 [02:57<00:00,  2.81it/s, accuracy=0.748]\n"
          ]
        },
        {
          "name": "stdout",
          "output_type": "stream",
          "text": [
            "Epoch 190\n"
          ]
        },
        {
          "name": "stderr",
          "output_type": "stream",
          "text": [
            "Training: 100%|██████████| 34/34 [00:38<00:00,  1.13s/it, loss=0.323]\n"
          ]
        },
        {
          "name": "stdout",
          "output_type": "stream",
          "text": [
            "Epoch 191\n"
          ]
        },
        {
          "name": "stderr",
          "output_type": "stream",
          "text": [
            "Training: 100%|██████████| 34/34 [00:37<00:00,  1.12s/it, loss=0.296]\n"
          ]
        },
        {
          "name": "stdout",
          "output_type": "stream",
          "text": [
            "Epoch 192\n"
          ]
        },
        {
          "name": "stderr",
          "output_type": "stream",
          "text": [
            "Training: 100%|██████████| 34/34 [00:38<00:00,  1.12s/it, loss=0.308]\n"
          ]
        },
        {
          "name": "stdout",
          "output_type": "stream",
          "text": [
            "Epoch 193\n"
          ]
        },
        {
          "name": "stderr",
          "output_type": "stream",
          "text": [
            "Training: 100%|██████████| 34/34 [00:38<00:00,  1.13s/it, loss=0.302]\n"
          ]
        },
        {
          "name": "stdout",
          "output_type": "stream",
          "text": [
            "Epoch 194\n"
          ]
        },
        {
          "name": "stderr",
          "output_type": "stream",
          "text": [
            "Training: 100%|██████████| 34/34 [00:38<00:00,  1.12s/it, loss=0.283]\n"
          ]
        },
        {
          "name": "stdout",
          "output_type": "stream",
          "text": [
            "Epoch 195\n"
          ]
        },
        {
          "name": "stderr",
          "output_type": "stream",
          "text": [
            "Training: 100%|██████████| 34/34 [00:38<00:00,  1.13s/it, loss=0.306]\n"
          ]
        },
        {
          "name": "stdout",
          "output_type": "stream",
          "text": [
            "Epoch 196\n"
          ]
        },
        {
          "name": "stderr",
          "output_type": "stream",
          "text": [
            "Training: 100%|██████████| 34/34 [00:38<00:00,  1.12s/it, loss=0.308]\n"
          ]
        },
        {
          "name": "stdout",
          "output_type": "stream",
          "text": [
            "Epoch 197\n"
          ]
        },
        {
          "name": "stderr",
          "output_type": "stream",
          "text": [
            "Training: 100%|██████████| 34/34 [00:37<00:00,  1.12s/it, loss=0.304]\n"
          ]
        },
        {
          "name": "stdout",
          "output_type": "stream",
          "text": [
            "Epoch 198\n"
          ]
        },
        {
          "name": "stderr",
          "output_type": "stream",
          "text": [
            "Training: 100%|██████████| 34/34 [00:38<00:00,  1.12s/it, loss=0.305]\n"
          ]
        },
        {
          "name": "stdout",
          "output_type": "stream",
          "text": [
            "Epoch 199\n"
          ]
        },
        {
          "name": "stderr",
          "output_type": "stream",
          "text": [
            "Training: 100%|██████████| 34/34 [00:38<00:00,  1.13s/it, loss=0.301]\n",
            "Validation: 100%|██████████| 500/500 [02:59<00:00,  2.79it/s, accuracy=0.747]\n"
          ]
        }
      ],
      "source": [
        "from easyfsl.methods.utils import evaluate\n",
        "\n",
        "\n",
        "best_state = model.state_dict()\n",
        "best_validation_accuracy = 0.0\n",
        "validation_frequency = 10\n",
        "for epoch in range(n_epochs):\n",
        "    print(f\"Epoch {epoch}\")\n",
        "    average_loss = training_epoch(model, train_loader, train_optimizer)\n",
        "\n",
        "    if epoch % validation_frequency == validation_frequency - 1:\n",
        "\n",
        "        # We use this very convenient method from EasyFSL's ResNet to specify\n",
        "        # that the model shouldn't use its last fully connected layer during validation.\n",
        "        model.set_use_fc(False)\n",
        "        validation_accuracy = evaluate(\n",
        "            few_shot_classifier, val_loader, device=DEVICE, tqdm_prefix=\"Validation\"\n",
        "        )\n",
        "        model.set_use_fc(True)\n",
        "\n",
        "        if validation_accuracy > best_validation_accuracy:\n",
        "            best_validation_accuracy = validation_accuracy\n",
        "            best_state = model.state_dict()\n",
        "            print(\"Ding ding ding! We found a new best model!\")\n",
        "\n",
        "        tb_writer.add_scalar(\"Val/acc\", validation_accuracy, epoch)\n",
        "\n",
        "    tb_writer.add_scalar(\"Train/loss\", average_loss, epoch)\n",
        "\n",
        "    # Warn the scheduler that we did an epoch\n",
        "    # so it knows when to decrease the learning rate\n",
        "    train_scheduler.step()"
      ]
    },
    {
      "cell_type": "markdown",
      "metadata": {
        "id": "cHWLcJ99qnpH"
      },
      "source": [
        "Yay we successfully performed Classical Training! Now if you want to you can retrieve the best model's state."
      ]
    },
    {
      "cell_type": "code",
      "execution_count": 12,
      "metadata": {
        "colab": {
          "base_uri": "https://localhost:8080/"
        },
        "id": "EG9bBTz4qnpH",
        "outputId": "2a6142a3-499d-4576-93fc-996e55a392a8",
        "pycharm": {
          "name": "#%%\n"
        }
      },
      "outputs": [
        {
          "data": {
            "text/plain": [
              "<All keys matched successfully>"
            ]
          },
          "execution_count": 12,
          "metadata": {},
          "output_type": "execute_result"
        }
      ],
      "source": [
        "model.load_state_dict(best_state)"
      ]
    },
    {
      "cell_type": "markdown",
      "metadata": {
        "id": "l0iEJFIiqnpI"
      },
      "source": [
        "## Evaluation\n",
        "\n",
        "Now that our model is trained, we want to test it.\n",
        "\n",
        "First step: we fetch the test data. Note that we'll evaluate on the same shape of tasks as in validation. This is malicious practice, because it means that we used *a priori* information about the evaluation tasks during training. This is still less malicious than episodic training, though."
      ]
    },
    {
      "cell_type": "code",
      "execution_count": 17,
      "metadata": {
        "id": "eveON7-wqnpI",
        "pycharm": {
          "name": "#%%\n"
        }
      },
      "outputs": [],
      "source": [
        "n_test_tasks = 1000\n",
        "\n",
        "test_set = CUB(split=\"test\", training=False)\n",
        "test_sampler = TaskSampler(\n",
        "    test_set, n_way=n_way, n_shot=n_shot, n_query=n_query, n_tasks=n_test_tasks\n",
        ")\n",
        "test_loader = DataLoader(\n",
        "    test_set,\n",
        "    batch_sampler=test_sampler,\n",
        "    num_workers=n_workers,\n",
        "    pin_memory=True,\n",
        "    collate_fn=test_sampler.episodic_collate_fn,\n",
        ")"
      ]
    },
    {
      "cell_type": "markdown",
      "metadata": {
        "id": "Pr5aDnD-qnpJ"
      },
      "source": [
        "Second step: we instantiate a few-shot classifier using our trained ResNet as backbone, and run it on the test data. We keep using Prototypical Networks for consistence, but at this point you could basically use any few-shot classifier that takes no additional trainable parameters.\n",
        "\n",
        "Like we did during validation, we need to tell our ResNet to not use its last fully connected layer."
      ]
    },
    {
      "cell_type": "code",
      "execution_count": 18,
      "metadata": {
        "colab": {
          "base_uri": "https://localhost:8080/"
        },
        "id": "lK6WOtpwqnpJ",
        "outputId": "3bb7913f-d82c-460a-f1d0-76a4466c65f3",
        "pycharm": {
          "name": "#%%\n"
        }
      },
      "outputs": [
        {
          "name": "stderr",
          "output_type": "stream",
          "text": [
            "100%|██████████| 1000/1000 [06:01<00:00,  2.77it/s, accuracy=0.706]"
          ]
        },
        {
          "name": "stdout",
          "output_type": "stream",
          "text": [
            "Average accuracy : 70.57 %\n"
          ]
        },
        {
          "name": "stderr",
          "output_type": "stream",
          "text": [
            "\n"
          ]
        }
      ],
      "source": [
        "model.set_use_fc(False)\n",
        "\n",
        "accuracy = evaluate(few_shot_classifier, test_loader, device=DEVICE)\n",
        "print(f\"Average accuracy : {(100 * accuracy):.2f} %\")"
      ]
    },
    {
      "cell_type": "raw",
      "metadata": {
        "id": "qe5fBbm4qnpJ",
        "pycharm": {
          "name": "#%% raw\n"
        }
      },
      "source": [
        "Congrats! You trained a network with cross entropy and used it with a few-shot learning method at test time."
      ]
    }
  ],
  "metadata": {
    "accelerator": "GPU",
    "colab": {
      "collapsed_sections": [],
      "name": "classical_training.ipynb",
      "provenance": []
    },
    "gpuClass": "standard",
    "kernelspec": {
      "display_name": "Python 3.8.10 64-bit",
      "language": "python",
      "name": "python3"
    },
    "language_info": {
      "codemirror_mode": {
        "name": "ipython",
        "version": 3
      },
      "file_extension": ".py",
      "mimetype": "text/x-python",
      "name": "python",
      "nbconvert_exporter": "python",
      "pygments_lexer": "ipython3",
      "version": "3.8.10"
    },
    "vscode": {
      "interpreter": {
        "hash": "006d5deb8e6cdcd4312641bdf15f3bc20f0769a7305d81173599a7b40f33b4a2"
      }
    }
  },
  "nbformat": 4,
  "nbformat_minor": 0
}
